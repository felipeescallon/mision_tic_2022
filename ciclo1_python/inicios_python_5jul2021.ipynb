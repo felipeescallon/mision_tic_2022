{
  "nbformat": 4,
  "nbformat_minor": 0,
  "metadata": {
    "colab": {
      "name": "inicios-python.ipynb",
      "provenance": []
    },
    "kernelspec": {
      "name": "python3",
      "display_name": "Python 3"
    },
    "language_info": {
      "name": "python"
    }
  },
  "cells": [
    {
      "cell_type": "markdown",
      "metadata": {
        "id": "W5CiarKSz61P"
      },
      "source": [
        "# Fundamentos de Programación (Python)\n",
        "\n",
        "**MISION TIC 2022**\n",
        "\n",
        "*Por: Ing. Andrés Felipe Escallón Portilla*\n",
        " \n",
        " Última actualización: 5 de Julio de 2021\n",
        "\n",
        "\n"
      ]
    },
    {
      "cell_type": "markdown",
      "metadata": {
        "id": "ujOn66Wj0lUW"
      },
      "source": [
        "##### Inicios de Fund. de Prog. con Python:\n",
        "\n",
        "**\"Hola Mundo\"**\n",
        "\n"
      ]
    },
    {
      "cell_type": "code",
      "metadata": {
        "colab": {
          "base_uri": "https://localhost:8080/"
        },
        "id": "O8jtfRQFzxcA",
        "outputId": "af1b4cc7-b64e-4546-89cc-092409ab7d25"
      },
      "source": [
        "print(\"Hola mundo\")"
      ],
      "execution_count": null,
      "outputs": [
        {
          "output_type": "stream",
          "text": [
            "Hola mundo\n"
          ],
          "name": "stdout"
        }
      ]
    },
    {
      "cell_type": "code",
      "metadata": {
        "colab": {
          "base_uri": "https://localhost:8080/"
        },
        "id": "Mnys15aUzzMt",
        "outputId": "795a8be5-9a4c-4708-d9b0-b0df4fb566c9"
      },
      "source": [
        "5**3"
      ],
      "execution_count": null,
      "outputs": [
        {
          "output_type": "execute_result",
          "data": {
            "text/plain": [
              "125"
            ]
          },
          "metadata": {
            "tags": []
          },
          "execution_count": 3
        }
      ]
    },
    {
      "cell_type": "code",
      "metadata": {
        "colab": {
          "base_uri": "https://localhost:8080/"
        },
        "id": "skSXQbqTeNnM",
        "outputId": "f5fc6c0d-bcba-42d4-ba8c-e4cabaf22dd5"
      },
      "source": [
        "2**10"
      ],
      "execution_count": null,
      "outputs": [
        {
          "output_type": "execute_result",
          "data": {
            "text/plain": [
              "1024"
            ]
          },
          "metadata": {
            "tags": []
          },
          "execution_count": 22
        }
      ]
    },
    {
      "cell_type": "code",
      "metadata": {
        "colab": {
          "base_uri": "https://localhost:8080/"
        },
        "id": "nMl1KalDeN86",
        "outputId": "3ebe9f85-c2c4-4c2f-ab53-230234cd27a6"
      },
      "source": [
        "2**100"
      ],
      "execution_count": null,
      "outputs": [
        {
          "output_type": "execute_result",
          "data": {
            "text/plain": [
              "1267650600228229401496703205376"
            ]
          },
          "metadata": {
            "tags": []
          },
          "execution_count": 23
        }
      ]
    },
    {
      "cell_type": "markdown",
      "metadata": {
        "id": "Ki9DnBfn1CHz"
      },
      "source": [
        "# Ingresando datos por teclado:"
      ]
    },
    {
      "cell_type": "code",
      "metadata": {
        "colab": {
          "base_uri": "https://localhost:8080/"
        },
        "id": "5QKUb9js3WXc",
        "outputId": "1aaf5f13-3958-4ff7-bf9b-60de670e729a"
      },
      "source": [
        "nombre=input(\"Ingrese el primer nombre: \")"
      ],
      "execution_count": null,
      "outputs": [
        {
          "output_type": "stream",
          "text": [
            "Ingrese el primer nombre: andrew\n"
          ],
          "name": "stdout"
        }
      ]
    },
    {
      "cell_type": "code",
      "metadata": {
        "colab": {
          "base_uri": "https://localhost:8080/",
          "height": 35
        },
        "id": "K2TtmnHO3mlZ",
        "outputId": "e85945ea-d6f8-4dee-f61e-a314df39ddad"
      },
      "source": [
        "nombre"
      ],
      "execution_count": null,
      "outputs": [
        {
          "output_type": "execute_result",
          "data": {
            "application/vnd.google.colaboratory.intrinsic+json": {
              "type": "string"
            },
            "text/plain": [
              "'andrew'"
            ]
          },
          "metadata": {
            "tags": []
          },
          "execution_count": 2
        }
      ]
    },
    {
      "cell_type": "code",
      "metadata": {
        "colab": {
          "base_uri": "https://localhost:8080/"
        },
        "id": "-5ayU-BU3sIo",
        "outputId": "986b0882-110a-48af-9784-c27e1dce9c40"
      },
      "source": [
        "print(nombre)"
      ],
      "execution_count": null,
      "outputs": [
        {
          "output_type": "stream",
          "text": [
            "andrew\n"
          ],
          "name": "stdout"
        }
      ]
    },
    {
      "cell_type": "code",
      "metadata": {
        "colab": {
          "base_uri": "https://localhost:8080/"
        },
        "id": "vhCcoZyU3KsH",
        "outputId": "40adf4e1-ab8b-47ee-da7f-c4bcdf24ad9f"
      },
      "source": [
        "numero=input(\"Ingrese un numero: \")"
      ],
      "execution_count": null,
      "outputs": [
        {
          "output_type": "stream",
          "text": [
            "Ingrese un numero: 55\n"
          ],
          "name": "stdout"
        }
      ]
    },
    {
      "cell_type": "code",
      "metadata": {
        "colab": {
          "base_uri": "https://localhost:8080/",
          "height": 35
        },
        "id": "fWOfecp93TAu",
        "outputId": "648aa941-bd1e-47ef-ce44-9bc2687cef16"
      },
      "source": [
        "numero"
      ],
      "execution_count": null,
      "outputs": [
        {
          "output_type": "execute_result",
          "data": {
            "application/vnd.google.colaboratory.intrinsic+json": {
              "type": "string"
            },
            "text/plain": [
              "'55'"
            ]
          },
          "metadata": {
            "tags": []
          },
          "execution_count": 5
        }
      ]
    },
    {
      "cell_type": "code",
      "metadata": {
        "colab": {
          "base_uri": "https://localhost:8080/"
        },
        "id": "PBJk6H103UsZ",
        "outputId": "9cc8fb3f-9f59-45b5-c03c-04e17dbf7c37"
      },
      "source": [
        "print(numero)"
      ],
      "execution_count": null,
      "outputs": [
        {
          "output_type": "stream",
          "text": [
            "55\n"
          ],
          "name": "stdout"
        }
      ]
    },
    {
      "cell_type": "code",
      "metadata": {
        "colab": {
          "base_uri": "https://localhost:8080/"
        },
        "id": "nUtLRAor6E6P",
        "outputId": "cf11e6c8-c75a-4b04-dbe0-cd110d222671"
      },
      "source": [
        "numero=int(input(\"Ingrese un numero entero: \"))"
      ],
      "execution_count": null,
      "outputs": [
        {
          "output_type": "stream",
          "text": [
            "Ingrese un numero entero: -256\n"
          ],
          "name": "stdout"
        }
      ]
    },
    {
      "cell_type": "code",
      "metadata": {
        "colab": {
          "base_uri": "https://localhost:8080/"
        },
        "id": "hxFnZHU76LFc",
        "outputId": "4f1ccea7-fd8d-4b29-df46-c0d4c1d5b522"
      },
      "source": [
        "numero"
      ],
      "execution_count": null,
      "outputs": [
        {
          "output_type": "execute_result",
          "data": {
            "text/plain": [
              "-256"
            ]
          },
          "metadata": {
            "tags": []
          },
          "execution_count": 8
        }
      ]
    },
    {
      "cell_type": "code",
      "metadata": {
        "colab": {
          "base_uri": "https://localhost:8080/"
        },
        "id": "kBuh31hd0v5q",
        "outputId": "41981cfb-b6a9-47db-df45-655bc88fe959"
      },
      "source": [
        "print(numero)"
      ],
      "execution_count": null,
      "outputs": [
        {
          "output_type": "stream",
          "text": [
            "-256\n"
          ],
          "name": "stdout"
        }
      ]
    },
    {
      "cell_type": "code",
      "metadata": {
        "colab": {
          "base_uri": "https://localhost:8080/"
        },
        "id": "dYqGab9O03C3",
        "outputId": "2892adf3-f788-42a8-935b-3628cf9dd65d"
      },
      "source": [
        "numero=float(input(\"Ingrese un numero: \"))"
      ],
      "execution_count": null,
      "outputs": [
        {
          "output_type": "stream",
          "text": [
            "Ingrese un numero: -78.93456\n"
          ],
          "name": "stdout"
        }
      ]
    },
    {
      "cell_type": "code",
      "metadata": {
        "colab": {
          "base_uri": "https://localhost:8080/"
        },
        "id": "wJn_uBbd09-o",
        "outputId": "f41e5165-237c-49f1-f4b0-895b0a0cbe1c"
      },
      "source": [
        "numero"
      ],
      "execution_count": null,
      "outputs": [
        {
          "output_type": "execute_result",
          "data": {
            "text/plain": [
              "-78.93456"
            ]
          },
          "metadata": {
            "tags": []
          },
          "execution_count": 11
        }
      ]
    },
    {
      "cell_type": "code",
      "metadata": {
        "colab": {
          "base_uri": "https://localhost:8080/",
          "height": 185
        },
        "id": "RB9cd_wD1Eki",
        "outputId": "d5409528-5893-44f3-f5e7-dddaf1652124"
      },
      "source": [
        "numero=int(input(\"Ingrese un numero:\")) # error de conversión"
      ],
      "execution_count": null,
      "outputs": [
        {
          "output_type": "stream",
          "text": [
            "Ingrese un numero:9.8\n"
          ],
          "name": "stdout"
        },
        {
          "output_type": "error",
          "ename": "ValueError",
          "evalue": "ignored",
          "traceback": [
            "\u001b[0;31m---------------------------------------------------------------------------\u001b[0m",
            "\u001b[0;31mValueError\u001b[0m                                Traceback (most recent call last)",
            "\u001b[0;32m<ipython-input-19-a5efbc25bc4a>\u001b[0m in \u001b[0;36m<module>\u001b[0;34m()\u001b[0m\n\u001b[0;32m----> 1\u001b[0;31m \u001b[0mnumero\u001b[0m\u001b[0;34m=\u001b[0m\u001b[0mint\u001b[0m\u001b[0;34m(\u001b[0m\u001b[0minput\u001b[0m\u001b[0;34m(\u001b[0m\u001b[0;34m\"Ingrese un numero:\"\u001b[0m\u001b[0;34m)\u001b[0m\u001b[0;34m)\u001b[0m\u001b[0;34m\u001b[0m\u001b[0;34m\u001b[0m\u001b[0m\n\u001b[0m",
            "\u001b[0;31mValueError\u001b[0m: invalid literal for int() with base 10: '9.8'"
          ]
        }
      ]
    },
    {
      "cell_type": "code",
      "metadata": {
        "colab": {
          "base_uri": "https://localhost:8080/"
        },
        "id": "PrN9Dq1P1Zkm",
        "outputId": "47938749-1fc7-482a-8ccb-5aa7505781ba"
      },
      "source": [
        "numero=float(input(\"Ingrese un numero:\")) "
      ],
      "execution_count": null,
      "outputs": [
        {
          "output_type": "stream",
          "text": [
            "Ingrese un numero:3.33333333333\n"
          ],
          "name": "stdout"
        }
      ]
    },
    {
      "cell_type": "code",
      "metadata": {
        "colab": {
          "base_uri": "https://localhost:8080/"
        },
        "id": "3CNRnCAr1kLp",
        "outputId": "b8447c4d-8613-4570-b9dd-67dc3740bb0c"
      },
      "source": [
        "numero"
      ],
      "execution_count": null,
      "outputs": [
        {
          "output_type": "execute_result",
          "data": {
            "text/plain": [
              "3.33333333333"
            ]
          },
          "metadata": {
            "tags": []
          },
          "execution_count": 21
        }
      ]
    },
    {
      "cell_type": "code",
      "metadata": {
        "id": "O2KmKFVu1nZx"
      },
      "source": [
        "numero_redondeado=round(numero,4)\n"
      ],
      "execution_count": null,
      "outputs": []
    },
    {
      "cell_type": "code",
      "metadata": {
        "colab": {
          "base_uri": "https://localhost:8080/"
        },
        "id": "Ww2MNGE91zrf",
        "outputId": "071e241b-8a5a-46ac-b951-ae37956c8a14"
      },
      "source": [
        "numero_redondeado"
      ],
      "execution_count": null,
      "outputs": [
        {
          "output_type": "execute_result",
          "data": {
            "text/plain": [
              "3.3333"
            ]
          },
          "metadata": {
            "tags": []
          },
          "execution_count": 23
        }
      ]
    },
    {
      "cell_type": "code",
      "metadata": {
        "colab": {
          "base_uri": "https://localhost:8080/"
        },
        "id": "PmbGRWy716oZ",
        "outputId": "2fa753c6-01f7-4ccd-802c-ba0aa85c7ae6"
      },
      "source": [
        "numero=round(float(input(\"Ingrese un numero:\")),2) \n",
        "print(numero)"
      ],
      "execution_count": null,
      "outputs": [
        {
          "output_type": "stream",
          "text": [
            "Ingrese un numero:-90.123456\n",
            "-90.12\n"
          ],
          "name": "stdout"
        }
      ]
    },
    {
      "cell_type": "markdown",
      "metadata": {
        "id": "GNEJn2Wct7-u"
      },
      "source": [
        "# Ejemplo Calculadora Sencilla si el uso de funciones (+,-,*,/) por Felipe Escallón:"
      ]
    },
    {
      "cell_type": "code",
      "metadata": {
        "colab": {
          "base_uri": "https://localhost:8080/"
        },
        "id": "LM6SMQpRt7NO",
        "outputId": "79dff165-dfa0-496d-f175-7a7050b36699"
      },
      "source": [
        "print('Ejemplo Calculadora Sencilla (+,-,*,/) por Felipe Escallón:')\n",
        "'''\n",
        "ESTO ES UN COMENTARIO MULTILINEA\n",
        "print('Ejemplo Calculadora Sencilla (+,-,*,/) por Felipe Escallón:\\n')\n",
        "PODEMOS DESCOMENTAR Y PROBAR EL print ANTERIOR\n",
        "'''\n",
        "print()\n",
        "#MENU:\n",
        "print(\"MENU:\")\n",
        "print(\"1: Sumar\")\n",
        "#print(\"1: +\")\n",
        "print(\"2: -\")\n",
        "print(\"3: *\")\n",
        "print(\"4: Dividir (/)\")\n",
        "print()\n",
        "#Ingreso de datos:\n",
        "opcion=input(\"Ingrese la opción deseada del menú: \") # la opción se guarda como cadena\n",
        "#opcion=int(input(\"Ingrese la opción deseada del menú: \")) # la opción se guarda como cadena\n",
        "numero_uno=float(input('Ingrese el primer número de la operación:'))# guarda como flotante (número real)\n",
        "numero_dos=float(input('Ingrese el segundo número de la operación:'))# guarda como flotante (número real)\n",
        "#Posibilidades para ejecutar la calculadora:\n",
        "#if opcion=='1':\n",
        "#if opcion=='+':\n",
        "#if opcion=='Sumar':\n",
        "if opcion==1:\n",
        "  print(\"Vamos a sumar(+) los dos valores ingresados:\")\n",
        "  print('La suma es:',numero_uno+numero_dos)\n",
        "if opcion=='2':\n",
        "  print(\"Vamos a restar(-) los dos valores ingresados:\\n\")\n",
        "  resta=numero_uno-numero_dos\n",
        "  #print(\"Resultado=\"+str(resta)) # voy a concatenar dos cadenas(str1+str2: no suma sino que junta, str1str2)\n",
        "  print(\"Resultado=\",resta) # voy a concatenar dos cadenas(str1+str2: no suma sino que junta, str1str2)\n",
        "if opcion=='3':\n",
        "  print(\"Vamos a multiplicar(*) los dos valores ingresados:\\n\")\n",
        "  #print(f'{numero_uno}*{numero_dos}={numero_uno*numero_dos}')\n",
        "  mult=numero_uno*numero_dos\n",
        "  print(f'{numero_uno}*{numero_dos}={mult}')\n",
        "  #print('{}*{}'.format(numero_uno,numero_dos),\"=\",'{}'.format(mult))\n",
        "if opcion=='4'or opcion=='/' or opcion=='Dividir':\n",
        "  print(\"Vamos a dividir(/) los dos valores ingresados:\\n\")\n",
        "  #VALIDANDO EL DENOMINADOR (debe ser diferente de cero)\n",
        "  if numero_dos!=0:\n",
        "    print(numero_uno/numero_dos)\n",
        "  else:\n",
        "    print(\"¡No es posible dividir entre cero!\")"
      ],
      "execution_count": null,
      "outputs": [
        {
          "output_type": "stream",
          "text": [
            "Ejemplo Calculadora Sencilla (+,-,*,/) por Felipe Escallón:\n",
            "\n",
            "MENU:\n",
            "1: Sumar\n",
            "2: -\n",
            "3: *\n",
            "4: Dividir (/)\n",
            "\n",
            "Ingrese la opción deseada del menú: /\n",
            "Ingrese el primer número de la operación:100\n",
            "Ingrese el segundo número de la operación:2\n",
            "Vamos a dividir(/) los dos valores ingresados:\n",
            "\n",
            "50.0\n"
          ],
          "name": "stdout"
        }
      ]
    },
    {
      "cell_type": "markdown",
      "metadata": {
        "id": "DyVT7LpfsqmZ"
      },
      "source": [
        "# Ejemplo Calculadora Sencilla \"plus\" (+,-,*,/,log10,cos) usando FUNCIONES por Felipe Escallón:"
      ]
    },
    {
      "cell_type": "code",
      "metadata": {
        "colab": {
          "base_uri": "https://localhost:8080/"
        },
        "id": "RHjvIwXGsum2",
        "outputId": "e82da84f-a0e8-406a-f25c-51a43dbff5e1"
      },
      "source": [
        "#Importando la libreria/biblioteca de matemáticas de Python:\n",
        "import math\n",
        "\n",
        "#DEFINICION DE LAS FUNCIONES:\n",
        "def mostrar_titulo():\n",
        "  '''\n",
        "  input: no hay entradas\n",
        "  process: mostrar titulo (está implícito en el nombre de la función, se sugiere que sea un verbo) \n",
        "  output: no hay salidas\n",
        "  '''\n",
        "  print('Ejemplo Calculadora Sencilla (+,-,*,/) por Felipe Escallón:')\n",
        "\n",
        "\n",
        "def mostrar_menu():\n",
        "  '''input: no recibe nada (0 entradas)\n",
        "  process:mostrar menu \n",
        "  output: no retorna nada (0 salidas)'''   \n",
        "  print()\n",
        "  print(\"MENU:\")\n",
        "  print(\"1: Sumar (+)\")  \n",
        "  print(\"2: Restar (-)\")\n",
        "  print(\"3: Multiplicar (*)\")\n",
        "  print(\"4: Dividir (/)\")\n",
        "  print(\"5: Logaritmo (log10)\")\n",
        "  print(\"6: Coseno (cos)\")\n",
        "  print()\n",
        "\n",
        "def ingresar_datos():\n",
        "  '''input: no hay entradas\n",
        "  process:ingresar datos (recibir/leer del usuario) \n",
        "  output: tres variables que contienen localmente las decisiones del usuario (opcion,numero_uno,numero_dos)'''\n",
        "  opcion=input(\"Ingrese la opción deseada del menú: \") # la opción se guarda como cadena\n",
        "  numero_uno=float(input('Ingrese el primer número de la operación:'))# guarda como flotante (número real)\n",
        "  numero_dos=float(input('Ingrese el segundo número de la operación:'))# guarda como flotante (número real)\n",
        "  return opcion,numero_uno,numero_dos\n",
        "\n",
        "\n",
        "#POR FACILIDAD, LAS 7 FUNCIONES SIGUIENTES TIENEN ENTRADAS Y SALIDAS\n",
        "def calcular_suma(numero_uno,numero_dos):\n",
        "  '''input: 2 numeros\n",
        "  process:calcular suma (sumar)\n",
        "  output: suma'''\n",
        "  suma=numero_uno+numero_dos\n",
        "  return suma\n",
        "  \n",
        "def calcular_resta(numero_uno,numero_dos):\n",
        "  return numero_uno-numero_dos\n",
        "\n",
        "def calcular_multiplicacion(numero_uno,numero_dos):\n",
        "  return numero_uno*numero_dos\n",
        "\n",
        "def calcular_division(numero_uno,numero_dos):\n",
        "  return numero_uno/numero_dos\n",
        "\n",
        "def calcular_logaritmo_base10(numero):#x=numero (uno,dos)\n",
        "  #aquí uso la función logaritmo que está dentro de math\n",
        "  logaritmo=math.log10(numero)#x=numero\n",
        "  return logaritmo\n",
        "\n",
        "def calcular_coseno(angulo_radianes):#x=numero (uno,dos): se debe asociar con un angulo que se toma por defecto en radianes (Si está en grados, debe convertirse a radianes=angulo*3.1416/180)\n",
        "  #aquí uso la función coseno que está dentro de math\n",
        "  coseno=math.cos(angulo_radianes)#x=numero (angulo_radianes)\n",
        "  return coseno\n",
        "\n",
        "def procesar_y_mostrar_operacion(opcion,numero_uno,numero_dos):  \n",
        "  '''input: opcion, numero_uno, numero_dos\n",
        "  process:procesar y mostrar operacion (analizar las posibilidades para ejecutar la calculadora)\n",
        "  output: no retorna valor porque por dentro imprime por pantalla todo'''\n",
        "  if opcion=='1' or opcion=='+' or opcion=='Sumar':\n",
        "    print(\"Vamos a sumar(+) los dos valores ingresados:\")\n",
        "    resultado=calcular_suma(numero_uno,numero_dos)\n",
        "    print('La suma es:',resultado)\n",
        "  if opcion=='2'or opcion=='-' or opcion=='Restar':\n",
        "    print(\"Vamos a restar(-) los dos valores ingresados:\\n\")\n",
        "    resultado=calcular_resta(numero_uno,numero_dos)    \n",
        "    print(\"Resultado=\",resultado) \n",
        "  if opcion=='3'or opcion=='*' or opcion=='Multiplicar':\n",
        "    print(\"Vamos a multiplicar(*) los dos valores ingresados:\\n\")\n",
        "    resultado=calcular_multiplicacion(numero_uno,numero_dos)    \n",
        "    print(\"Resultado=\",resultado)\n",
        "  if opcion=='4'or opcion=='/' or opcion=='Dividir':\n",
        "    print(\"Vamos a dividir(/) los dos valores ingresados:\\n\")\n",
        "    #VALIDANDO EL DENOMINADOR (debe ser diferente de cero)\n",
        "    if numero_dos!=0:\n",
        "      resultado=calcular_division(numero_uno,numero_dos)    \n",
        "      print(\"Resultado=\",resultado)      \n",
        "    else:\n",
        "      print(\"¡No es posible dividir entre cero!\")\n",
        "  if opcion=='5'or opcion=='log10' or opcion=='Logaritmo':\n",
        "    print(\"Vamos a calcular el logaritmo (log10) de los dos valores ingresados:\\n\")\n",
        "    resultado1=calcular_logaritmo_base10(numero_uno)\n",
        "    resultado2=calcular_logaritmo_base10(numero_dos)    \n",
        "    print(\"Resultado1=\",resultado1)\n",
        "    print(\"Resultado2=\",resultado2)\n",
        "\n",
        "  if opcion=='6'or opcion=='cos' or opcion=='Coseno':\n",
        "    print(\"Vamos a calcular el coseno (cos) de los dos valores ingresados:\\n\")\n",
        "    resultado1=calcular_coseno(numero_uno)\n",
        "    resultado2=calcular_coseno(numero_dos)    \n",
        "    print(\"Resultado1=\",resultado1)\n",
        "    print(\"Resultado2=\",resultado2)\n",
        "\n",
        "def llamar_funciones():\n",
        "  '''input: no hay entradas\n",
        "  process:llamar funciones (en orden: mostrar_titulo,mostrar_menu, ingresar_datos, procesar_y_mostrar_operacion)\n",
        "  output: no hay salidas'''\n",
        "  mostrar_titulo()\n",
        "  mostrar_menu()\n",
        "  opcion,numero_uno,numero_dos=ingresar_datos()\n",
        "  procesar_y_mostrar_operacion(opcion,numero_uno,numero_dos) \n",
        "\n",
        "\n",
        "#EJECUCION DEL PROGRAMA:\n",
        "llamar_funciones()"
      ],
      "execution_count": null,
      "outputs": [
        {
          "output_type": "stream",
          "text": [
            "Ejemplo Calculadora Sencilla (+,-,*,/) por Felipe Escallón:\n",
            "\n",
            "MENU:\n",
            "1: Sumar (+)\n",
            "2: Restar (-)\n",
            "3: Multiplicar (*)\n",
            "4: Dividir (/)\n",
            "5: Logaritmo (log10)\n",
            "6: Coseno (cos)\n",
            "\n",
            "Ingrese la opción deseada del menú: Logaritmo\n",
            "Ingrese el primer número de la operación:1000\n",
            "Ingrese el segundo número de la operación:10000\n",
            "Vamos a calcular el logaritmo (log10) de los dos valores ingresados:\n",
            "\n",
            "Resultado1= 3.0\n",
            "Resultado2= 4.0\n"
          ],
          "name": "stdout"
        }
      ]
    },
    {
      "cell_type": "markdown",
      "metadata": {
        "id": "F6UdRCFlEPyW"
      },
      "source": [
        "# Ejemplo Calculadora Sencilla \"plus\" (+,-,*,/,log10,cos) usando FUNCIONES y \"SWITCH\" (con diccionarios tomado de la presentación de la UPB) por Felipe Escallón:\n",
        "\n",
        "Mas sobre diccionarios: https://uniwebsidad.com/libros/python/capitulo-8/metodos-de-retorno"
      ]
    },
    {
      "cell_type": "code",
      "metadata": {
        "colab": {
          "base_uri": "https://localhost:8080/"
        },
        "id": "8OKXtfWDEcdf",
        "outputId": "f4b0dad1-cd9d-4b2e-fe35-7c8f4ffb8166"
      },
      "source": [
        "#Importando la libreria/biblioteca de matemáticas de Python:\n",
        "import math\n",
        "\n",
        "#DEFINICION DE LAS FUNCIONES:\n",
        "def mostrar_titulo():\n",
        "  '''\n",
        "  input: no hay entradas\n",
        "  process: mostrar titulo (está implícito en el nombre de la función, se sugiere que sea un verbo) \n",
        "  output: no hay salidas\n",
        "  '''\n",
        "  print('Ejemplo Calculadora Sencilla (+,-,*,/,log10,cos) por Felipe Escallón:')\n",
        "\n",
        "\n",
        "def mostrar_menu():\n",
        "  '''input: no recibe nada (0 entradas)\n",
        "  process:mostrar menu \n",
        "  output: no retorna nada (0 salidas)'''   \n",
        "  print()\n",
        "  print(\"MENU:\")\n",
        "  print(\"1: Sumar (+)\")  \n",
        "  print(\"2: Restar (-)\")\n",
        "  print(\"3: Multiplicar (*)\")\n",
        "  print(\"4: Dividir (/)\")\n",
        "  print(\"5: Logaritmo (log10)\")\n",
        "  print(\"6: Coseno (cos)\")\n",
        "  print()\n",
        "\n",
        "def ingresar_datos():\n",
        "  '''input: no hay entradas\n",
        "  process:ingresar datos (recibir/leer del usuario) \n",
        "  output: tres variables que contienen localmente las decisiones del usuario (opcion,numero_uno,numero_dos)'''\n",
        "  opcion=int(input(\"Ingrese la opción deseada del menú: \")) # la opción se guarda como cadena\n",
        "  numero_uno=float(input('Ingrese el primer número de la operación:'))# guarda como flotante (número real)\n",
        "  numero_dos=float(input('Ingrese el segundo número de la operación:'))# guarda como flotante (número real)\n",
        "  return opcion,numero_uno,numero_dos\n",
        "\n",
        "\n",
        "#POR FACILIDAD, LAS 7 FUNCIONES SIGUIENTES TIENEN ENTRADAS Y SALIDAS\n",
        "def calcular_suma(numero_uno,numero_dos):\n",
        "  '''input: 2 numeros\n",
        "  process:calcular suma (sumar)\n",
        "  output: suma'''\n",
        "  suma=numero_uno+numero_dos\n",
        "  return suma\n",
        "  \n",
        "def calcular_resta(numero_uno,numero_dos):\n",
        "  return numero_uno-numero_dos\n",
        "\n",
        "def calcular_multiplicacion(numero_uno,numero_dos):\n",
        "  return numero_uno*numero_dos\n",
        "\n",
        "def calcular_division(numero_uno,numero_dos):\n",
        "  return numero_uno/numero_dos\n",
        "\n",
        "def calcular_logaritmo_base10(numero):#x=numero (uno,dos)\n",
        "  #aquí uso la función logaritmo que está dentro de math\n",
        "  logaritmo=math.log10(numero)#x=numero\n",
        "  return logaritmo\n",
        "\n",
        "def calcular_coseno(angulo_radianes):#x=numero (uno,dos): se debe asociar con un angulo que se toma por defecto en radianes (Si está en grados, debe convertirse a radianes=angulo*3.1416/180)\n",
        "  #aquí uso la función coseno que está dentro de math\n",
        "  coseno=math.cos(angulo_radianes)#x=numero (angulo_radianes)\n",
        "  return coseno\n",
        "\n",
        "def opcion1(numero_uno,numero_dos):\n",
        "  print(\"Vamos a sumar(+) los dos valores ingresados:\")\n",
        "  resultado=calcular_suma(numero_uno,numero_dos)\n",
        "  print('La suma es:',resultado)\n",
        "\n",
        "def opcion2(numero_uno,numero_dos):\n",
        "  print(\"Vamos a restar(+) los dos valores ingresados:\")\n",
        "  resultado=calcular_resta(numero_uno,numero_dos)\n",
        "  print('La resta es:',resultado)\n",
        "\n",
        "def opcion3(numero_uno,numero_dos):\n",
        "  print(\"Vamos a multiplicar(*) los dos valores ingresados:\")\n",
        "  resultado=calcular_multiplicacion(numero_uno,numero_dos)\n",
        "  print('La multiplicacion es:',resultado)\n",
        "\n",
        "def opcion4(numero_uno,numero_dos):\n",
        "  print(\"Vamos a dividir(/) los dos valores ingresados:\\n\")\n",
        "  #VALIDANDO EL DENOMINADOR (debe ser diferente de cero)\n",
        "  if numero_dos!=0:\n",
        "    resultado=calcular_division(numero_uno,numero_dos)    \n",
        "    print(\"Resultado=\",resultado)      \n",
        "  else:\n",
        "    print(\"¡No es posible dividir entre cero!\")\n",
        "\n",
        "def opcion5(numero_uno,numero_dos):  \n",
        "  print(\"Vamos a calcular el logaritmo (log10) de los dos valores ingresados:\\n\")\n",
        "  if numero_uno>0:#validando el dominio de la función logaritmo\n",
        "    resultado1=calcular_logaritmo_base10(numero_uno)\n",
        "    print(\"Resultado1=\",resultado1)\n",
        "  else:\n",
        "    print(\"La función log(x)solo está definido para x>0\")  \n",
        "  \n",
        "  if numero_dos>0:#validando el dominio de la función logaritmo\n",
        "    resultado2=calcular_logaritmo_base10(numero_dos)\n",
        "    print(\"Resultado2=\",resultado2)\n",
        "  else:\n",
        "    print(\"La función log(x)solo está definido para x>0\")     \n",
        "  \n",
        "  \n",
        "def opcion6(numero_uno,numero_dos):\n",
        "  print(\"Vamos a calcular el coseno (cos) de los dos valores ingresados:\\n\")\n",
        "  resultado1=calcular_coseno(numero_uno)\n",
        "  resultado2=calcular_coseno(numero_dos)    \n",
        "  print(\"Resultado1=\",resultado1)\n",
        "  print(\"Resultado2=\",resultado2)\n",
        "\n",
        "def default():\n",
        "  return \"Opción no válida\"\n",
        "\n",
        "\n",
        "def procesar_y_mostrar_operacion_switch_dict(opcion,numero_uno,numero_dos):#IMPLEMENTADA CON \"SWITCH\" ((con diccionarios tomado de la presentación de la UPB)  \n",
        "  '''input: opcion, numero_uno, numero_dos\n",
        "  process:procesar y mostrar operacion (analizar las posibilidades para ejecutar la calculadora)\n",
        "  output: no retorna valor porque por dentro imprime por pantalla todo'''\n",
        "  print(\"opcion:\",opcion)\n",
        "  dict_matcher={1:opcion1(numero_uno,numero_dos),2:opcion2(numero_uno,numero_dos),3:opcion3(numero_uno,numero_dos),4:opcion4(numero_uno,numero_dos),5:opcion5(numero_uno,numero_dos),6:opcion6(numero_uno,numero_dos)}  \n",
        "  print(\"dict_matcher:\",dict_matcher)\n",
        "  #dict_matcher[opcion]\n",
        "  #print(\"dict_matcher[opcion]:\",dict_matcher[opcion])\n",
        "  #dict_matcher.get(opcion)\n",
        "  #dict_matcher.get(opcion,\"Opción no válida\")\n",
        "  return dict_matcher.get(opcion, default()) #APARENTEMENTE DEBERÍA FUNCIONAR PERO SE ESTÁN EJECUTANDO TODAS LAS FUNCIONES (pendiente revisar...)\n",
        "\n",
        "\n",
        "def llamar_funciones():\n",
        "  '''input: no hay entradas\n",
        "  process:llamar funciones (en orden: mostrar_titulo,mostrar_menu, ingresar_datos, procesar_y_mostrar_operacion)\n",
        "  output: no hay salidas'''\n",
        "  mostrar_titulo()\n",
        "  mostrar_menu()\n",
        "  opcion,numero_uno,numero_dos=ingresar_datos()\n",
        "  proceso=procesar_y_mostrar_operacion_switch_dict(opcion,numero_uno,numero_dos)\n",
        "  print(proceso) \n",
        "\n",
        "\n",
        "#EJECUCION DEL PROGRAMA:\n",
        "llamar_funciones()"
      ],
      "execution_count": null,
      "outputs": [
        {
          "output_type": "stream",
          "text": [
            "Ejemplo Calculadora Sencilla (+,-,*,/,log10,cos) por Felipe Escallón:\n",
            "\n",
            "MENU:\n",
            "1: Sumar (+)\n",
            "2: Restar (-)\n",
            "3: Multiplicar (*)\n",
            "4: Dividir (/)\n",
            "5: Logaritmo (log10)\n",
            "6: Coseno (cos)\n",
            "\n",
            "Ingrese la opción deseada del menú: 3\n",
            "Ingrese el primer número de la operación:5\n",
            "Ingrese el segundo número de la operación:6\n",
            "opcion: 3\n",
            "Vamos a sumar(+) los dos valores ingresados:\n",
            "La suma es: 11.0\n",
            "Vamos a restar(+) los dos valores ingresados:\n",
            "La resta es: -1.0\n",
            "Vamos a multiplicar(*) los dos valores ingresados:\n",
            "La multiplicacion es: 30.0\n",
            "Vamos a dividir(/) los dos valores ingresados:\n",
            "\n",
            "Resultado= 0.8333333333333334\n",
            "Vamos a calcular el logaritmo (log10) de los dos valores ingresados:\n",
            "\n",
            "Resultado1= 0.6989700043360189\n",
            "Resultado2= 0.7781512503836436\n",
            "Vamos a calcular el coseno (cos) de los dos valores ingresados:\n",
            "\n",
            "Resultado1= 0.28366218546322625\n",
            "Resultado2= 0.960170286650366\n",
            "dict_matcher: {1: None, 2: None, 3: None, 4: None, 5: None, 6: None}\n",
            "None\n"
          ],
          "name": "stdout"
        }
      ]
    },
    {
      "cell_type": "markdown",
      "metadata": {
        "id": "h3QYTRbDBnzB"
      },
      "source": [
        "# Ejemplo Calculadora Sencilla \"plus\" (+,-,*,/,log10,cos) usando FUNCIONES y \"SWITCH-CASE\" (Python v3.10) por Felipe Escallón: PENDIENTE POR ACTUALIZAR\n",
        "\n",
        "URL: https://docs.python.org/es/3.10/whatsnew/3.10.html\n"
      ]
    },
    {
      "cell_type": "code",
      "metadata": {
        "colab": {
          "base_uri": "https://localhost:8080/"
        },
        "id": "fPYHbnYWCqF-",
        "outputId": "47440aff-77a2-49d4-8341-8350830f0d8b"
      },
      "source": [
        "!python --version"
      ],
      "execution_count": null,
      "outputs": [
        {
          "output_type": "stream",
          "text": [
            "Python 3.7.10\n"
          ],
          "name": "stdout"
        }
      ]
    },
    {
      "cell_type": "code",
      "metadata": {
        "id": "1YpTuTX6B0hk"
      },
      "source": [
        "#Importando la libreria/biblioteca de matemáticas de Python:\n",
        "import math\n",
        "\n",
        "#DEFINICION DE LAS FUNCIONES:\n",
        "def mostrar_titulo():\n",
        "  '''\n",
        "  input: no hay entradas\n",
        "  process: mostrar titulo (está implícito en el nombre de la función, se sugiere que sea un verbo) \n",
        "  output: no hay salidas\n",
        "  '''\n",
        "  print('Ejemplo Calculadora Sencilla (+,-,*,/) por Felipe Escallón:')\n",
        "\n",
        "\n",
        "def mostrar_menu():\n",
        "  '''input: no recibe nada (0 entradas)\n",
        "  process:mostrar menu \n",
        "  output: no retorna nada (0 salidas)'''   \n",
        "  print()\n",
        "  print(\"MENU:\")\n",
        "  print(\"1: Sumar (+)\")  \n",
        "  print(\"2: Restar (-)\")\n",
        "  print(\"3: Multiplicar (*)\")\n",
        "  print(\"4: Dividir (/)\")\n",
        "  print(\"5: Logaritmo (log10)\")\n",
        "  print(\"6: Coseno (cos)\")\n",
        "  print()\n",
        "\n",
        "def ingresar_datos():\n",
        "  '''input: no hay entradas\n",
        "  process:ingresar datos (recibir/leer del usuario) \n",
        "  output: tres variables que contienen localmente las decisiones del usuario (opcion,numero_uno,numero_dos)'''\n",
        "  opcion=input(\"Ingrese la opción deseada del menú: \") # la opción se guarda como cadena\n",
        "  numero_uno=float(input('Ingrese el primer número de la operación:'))# guarda como flotante (número real)\n",
        "  numero_dos=float(input('Ingrese el segundo número de la operación:'))# guarda como flotante (número real)\n",
        "  return opcion,numero_uno,numero_dos\n",
        "\n",
        "\n",
        "#POR FACILIDAD, LAS 7 FUNCIONES SIGUIENTES TIENEN ENTRADAS Y SALIDAS\n",
        "def calcular_suma(numero_uno,numero_dos):\n",
        "  '''input: 2 numeros\n",
        "  process:calcular suma (sumar)\n",
        "  output: suma'''\n",
        "  suma=numero_uno+numero_dos\n",
        "  return suma\n",
        "  \n",
        "def calcular_resta(numero_uno,numero_dos):\n",
        "  return numero_uno-numero_dos\n",
        "\n",
        "def calcular_multiplicacion(numero_uno,numero_dos):\n",
        "  return numero_uno*numero_dos\n",
        "\n",
        "def calcular_division(numero_uno,numero_dos):\n",
        "  return numero_uno/numero_dos\n",
        "\n",
        "def calcular_logaritmo_base10(numero):#x=numero (uno,dos)\n",
        "  #aquí uso la función logaritmo que está dentro de math\n",
        "  logaritmo=math.log10(numero)#x=numero\n",
        "  return logaritmo\n",
        "\n",
        "def calcular_coseno(angulo_radianes):#x=numero (uno,dos): se debe asociar con un angulo que se toma por defecto en radianes (Si está en grados, debe convertirse a radianes=angulo*3.1416/180)\n",
        "  #aquí uso la función coseno que está dentro de math\n",
        "  coseno=math.cos(angulo_radianes)#x=numero (angulo_radianes)\n",
        "  return coseno\n",
        "\n",
        "def procesar_y_mostrar_operacion_switch_case(opcion,numero_uno,numero_dos):#IMPLEMENTADA CON SWITCH-CASE (Python v.310)  \n",
        "  '''input: opcion, numero_uno, numero_dos\n",
        "  process:procesar y mostrar operacion (analizar las posibilidades para ejecutar la calculadora)\n",
        "  output: no retorna valor porque por dentro imprime por pantalla todo'''\n",
        "  \n",
        "  match opcion:\n",
        "    case '1':\n",
        "      print(\"Vamos a sumar(+) los dos valores ingresados:\")\n",
        "      resultado=calcular_suma(numero_uno,numero_dos)\n",
        "      print('La suma es:',resultado)\n",
        "\n",
        " '''\n",
        "  if opcion=='1' or opcion=='+' or opcion=='Sumar':\n",
        "    print(\"Vamos a sumar(+) los dos valores ingresados:\")\n",
        "    resultado=calcular_suma(numero_uno,numero_dos)\n",
        "    print('La suma es:',resultado)\n",
        "  if opcion=='2'or opcion=='-' or opcion=='Restar':\n",
        "    print(\"Vamos a restar(-) los dos valores ingresados:\\n\")\n",
        "    resultado=calcular_resta(numero_uno,numero_dos)    \n",
        "    print(\"Resultado=\",resultado) \n",
        "  if opcion=='3'or opcion=='*' or opcion=='Multiplicar':\n",
        "    print(\"Vamos a multiplicar(*) los dos valores ingresados:\\n\")\n",
        "    resultado=calcular_multiplicacion(numero_uno,numero_dos)    \n",
        "    print(\"Resultado=\",resultado)\n",
        "  if opcion=='4'or opcion=='/' or opcion=='Dividir':\n",
        "    print(\"Vamos a dividir(/) los dos valores ingresados:\\n\")\n",
        "    #VALIDANDO EL DENOMINADOR (debe ser diferente de cero)\n",
        "    if numero_dos!=0:\n",
        "      resultado=calcular_division(numero_uno,numero_dos)    \n",
        "      print(\"Resultado=\",resultado)      \n",
        "    else:\n",
        "      print(\"¡No es posible dividir entre cero!\")\n",
        "  if opcion=='5'or opcion=='log10' or opcion=='Logaritmo':\n",
        "    print(\"Vamos a calcular el logaritmo (log10) de los dos valores ingresados:\\n\")\n",
        "    resultado1=calcular_logaritmo_base10(numero_uno)\n",
        "    resultado2=calcular_logaritmo_base10(numero_dos)    \n",
        "    print(\"Resultado1=\",resultado1)\n",
        "    print(\"Resultado2=\",resultado2)\n",
        "\n",
        "  if opcion=='6'or opcion=='cos' or opcion=='Coseno':\n",
        "    print(\"Vamos a calcular el coseno (cos) de los dos valores ingresados:\\n\")\n",
        "    resultado1=calcular_coseno(numero_uno)\n",
        "    resultado2=calcular_coseno(numero_dos)    \n",
        "    print(\"Resultado1=\",resultado1)\n",
        "    print(\"Resultado2=\",resultado2)\n",
        "'''\n",
        "\n",
        "def llamar_funciones():\n",
        "  '''input: no hay entradas\n",
        "  process:llamar funciones (en orden: mostrar_titulo,mostrar_menu, ingresar_datos, procesar_y_mostrar_operacion)\n",
        "  output: no hay salidas'''\n",
        "  mostrar_titulo()\n",
        "  mostrar_menu()\n",
        "  opcion,numero_uno,numero_dos=ingresar_datos()\n",
        "  procesar_y_mostrar_operacion_switch_case(opcion,numero_uno,numero_dos) \n",
        "\n",
        "\n",
        "#EJECUCION DEL PROGRAMA:\n",
        "llamar_funciones()"
      ],
      "execution_count": null,
      "outputs": []
    },
    {
      "cell_type": "markdown",
      "metadata": {
        "id": "M5eWxSh2mwF9"
      },
      "source": [
        "# Ejemplo promedio:"
      ]
    },
    {
      "cell_type": "code",
      "metadata": {
        "colab": {
          "base_uri": "https://localhost:8080/"
        },
        "id": "sp5yrEqLm1TL",
        "outputId": "9fb4f4e8-ce46-4f3a-9c28-003b6194c788"
      },
      "source": [
        "# Programa hecho por: Orfilia Garcia\n",
        "A= int(input(\"Ingrese el primer numero: \"))\n",
        "B= int(input(\"Ingrese el segundo numero: \"))\n",
        "C= int(input(\"Ingrese el tercer numero: \"))\n",
        "D= int(input(\"Ingrese el cuarto numero: \"))\n",
        "E= int(input(\"Ingrese el quinto numero: \"))\n",
        "\n",
        "from statistics import mean\n",
        "mean([A,B,C,D,E])"
      ],
      "execution_count": null,
      "outputs": [
        {
          "output_type": "stream",
          "text": [
            "Ingrese el primer numero: 1\n",
            "Ingrese el segundo numero: 2\n",
            "Ingrese el tercer numero: 3\n",
            "Ingrese el cuarto numero: 4\n",
            "Ingrese el quinto numero: 5\n"
          ],
          "name": "stdout"
        },
        {
          "output_type": "execute_result",
          "data": {
            "text/plain": [
              "3"
            ]
          },
          "metadata": {
            "tags": []
          },
          "execution_count": 12
        }
      ]
    },
    {
      "cell_type": "code",
      "metadata": {
        "colab": {
          "base_uri": "https://localhost:8080/"
        },
        "id": "c5G_q_lCnIY9",
        "outputId": "3eda450c-36da-4303-9206-cd2c48d8747d"
      },
      "source": [
        "# Version Formador:\n",
        "A= float(input(\"Ingrese el primer numero: \"))\n",
        "B= float(input(\"Ingrese el segundo numero: \"))\n",
        "C= float(input(\"Ingrese el tercer numero: \"))\n",
        "D= float(input(\"Ingrese el cuarto numero: \"))\n",
        "E= float(input(\"Ingrese el quinto numero: \"))\n",
        "promedio=mean([A,B,C,D,E])\n",
        "print(\"El promedio de los numeros ingresados es: \", promedio)\n",
        "#print(\"El promedio de los numeros ingresados es: \"+str(promedio))"
      ],
      "execution_count": null,
      "outputs": [
        {
          "output_type": "stream",
          "text": [
            "Ingrese el primer numero: 1\n",
            "Ingrese el segundo numero: 2\n",
            "Ingrese el tercer numero: 3\n",
            "Ingrese el cuarto numero: 4\n",
            "Ingrese el quinto numero: 5\n",
            "El promedio de los numeros ingresados es:  3.0\n"
          ],
          "name": "stdout"
        }
      ]
    },
    {
      "cell_type": "markdown",
      "metadata": {
        "id": "uDq9j4yNlrSt"
      },
      "source": [
        "# Ejemplo calculadora:"
      ]
    },
    {
      "cell_type": "code",
      "metadata": {
        "colab": {
          "base_uri": "https://localhost:8080/"
        },
        "id": "xb0iUORjlxod",
        "outputId": "82113de0-c740-423d-b126-3a62ab3ebeaf"
      },
      "source": [
        "\n",
        "a = input (\"ingrese numero  \")\n",
        "a = int(a)\n",
        "\n",
        "b = input (\"ingrese numero  \")\n",
        "b = int(b)\n",
        "\n",
        "c = input (\"ingrese numero  \")\n",
        "c = int(c)\n",
        "\n",
        "d = input (\"ingrese numero  \")\n",
        "d = int(d)\n",
        "\n",
        "e = input (\"ingrese numero  \")\n",
        "e = int(e)\n",
        " \n",
        "f   =  (a+b)\n",
        "f =   int(f)\n",
        "print(\"la suma de a+b es:\")\n",
        "print (f)\n",
        "\n",
        "g = (f-e)\n",
        "g = int(g)\n",
        "print(\"la resta de f  y e es:\")\n",
        "print(g)\n",
        "\n",
        "h   =   (g/e)\n",
        "h   =  int(h)\n",
        "print(\"la division de f ye es:\")\n",
        "print(h)\n",
        "\n",
        "i   = (h*a)\n",
        "i   = int(i)\n",
        "print(\"la multiplicacion de h por a es\")\n",
        "print(i)\n",
        "\n",
        "j   = (i^2)\n",
        "j   =   int(j)\n",
        "print(\"el resultado de j al cuadrado es:\")\n",
        "print(j)"
      ],
      "execution_count": null,
      "outputs": [
        {
          "output_type": "stream",
          "text": [
            "ingrese numero  1\n",
            "ingrese numero  2\n",
            "ingrese numero  3\n",
            "ingrese numero  4\n",
            "ingrese numero  5\n",
            "la suma de a+b es:\n",
            "3\n",
            "la resta de f  y e es:\n",
            "-2\n",
            "la division de f ye es:\n",
            "0\n",
            "la multiplicacion de h por a es\n",
            "0\n",
            "el resultado de j al cuadrado es:\n",
            "2\n"
          ],
          "name": "stdout"
        }
      ]
    },
    {
      "cell_type": "markdown",
      "metadata": {
        "id": "4SwyznUUmLr7"
      },
      "source": [
        "# Verificando los tipos de datos en Python:"
      ]
    },
    {
      "cell_type": "code",
      "metadata": {
        "id": "n8bBfA3H37Jj"
      },
      "source": [
        "# LOS PRIMEROS CUATRO YA SE HAN TRABAJO DESDE EL PRINCIPIO:\n",
        "\n",
        "e=9 # entero (int)\n",
        "f=4.5 # flotante o decimal o numero real (float)\n",
        "cadena='ana'# cadena (str)\n",
        "b=True # boolena (bool)\n",
        "\n",
        "#ESTA PENDIENTE EXPLICAR MEJOR Y HACER MAS EJEMPLOS DE LOS ÚLTIMOS CUATRO:\n",
        "\n",
        "l=[0,1,2,3,4,5,6,7,8,9] # lista (list)\n",
        "t=(0,1,2,3,4,5,6,7,8,9) # tupla (tuple)\n",
        "c={0,1,2,3,4,5,6,7,8,9} # conjunto (set)\n",
        "d1={\"zero\":0,\"one\":1,\"two\":2,\"three\":3,\"four\":4, \"five\":5,\"six\":6,\"seven\":7,\"eight\":8,\"nine\":9} # diccionario (dict)\n",
        "d2={0:\"cero\",1:\"uno\",2:\"dos\",3:\"tres\",4:\"cuatro\",5:\"cinco\",6:\"seis\",7:\"siete\",8:\"ocho\",9:\"nueve\"} # diccionario (dict)"
      ],
      "execution_count": null,
      "outputs": []
    },
    {
      "cell_type": "code",
      "metadata": {
        "colab": {
          "base_uri": "https://localhost:8080/"
        },
        "id": "fQEhtX_c4LAp",
        "outputId": "2a9ee0d6-b11f-4a00-bbd3-d0e3bac03168"
      },
      "source": [
        "type(e)"
      ],
      "execution_count": null,
      "outputs": [
        {
          "output_type": "execute_result",
          "data": {
            "text/plain": [
              "int"
            ]
          },
          "metadata": {
            "tags": []
          },
          "execution_count": 6
        }
      ]
    },
    {
      "cell_type": "code",
      "metadata": {
        "colab": {
          "base_uri": "https://localhost:8080/"
        },
        "id": "5fUwhrjrqa6O",
        "outputId": "011ef783-2155-4e43-add7-56b30f43c486"
      },
      "source": [
        "type(f)"
      ],
      "execution_count": null,
      "outputs": [
        {
          "output_type": "execute_result",
          "data": {
            "text/plain": [
              "float"
            ]
          },
          "metadata": {
            "tags": []
          },
          "execution_count": 7
        }
      ]
    },
    {
      "cell_type": "code",
      "metadata": {
        "colab": {
          "base_uri": "https://localhost:8080/"
        },
        "id": "dSidc-PK4OL6",
        "outputId": "8bde1fc6-f3d1-4075-e67c-10ba6ac79a8e"
      },
      "source": [
        "type(cadena)"
      ],
      "execution_count": null,
      "outputs": [
        {
          "output_type": "execute_result",
          "data": {
            "text/plain": [
              "str"
            ]
          },
          "metadata": {
            "tags": []
          },
          "execution_count": 8
        }
      ]
    },
    {
      "cell_type": "code",
      "metadata": {
        "colab": {
          "base_uri": "https://localhost:8080/"
        },
        "id": "xeYMSQtg4RNE",
        "outputId": "e9da47b9-0afe-4a97-d7d5-1a759d4ba3a2"
      },
      "source": [
        "type(b)"
      ],
      "execution_count": null,
      "outputs": [
        {
          "output_type": "execute_result",
          "data": {
            "text/plain": [
              "bool"
            ]
          },
          "metadata": {
            "tags": []
          },
          "execution_count": 9
        }
      ]
    },
    {
      "cell_type": "code",
      "metadata": {
        "colab": {
          "base_uri": "https://localhost:8080/"
        },
        "id": "ztXo5ma14Zli",
        "outputId": "f072745c-0962-4676-a63e-2d166c202dda"
      },
      "source": [
        "type(l)"
      ],
      "execution_count": null,
      "outputs": [
        {
          "output_type": "execute_result",
          "data": {
            "text/plain": [
              "list"
            ]
          },
          "metadata": {
            "tags": []
          },
          "execution_count": 10
        }
      ]
    },
    {
      "cell_type": "code",
      "metadata": {
        "colab": {
          "base_uri": "https://localhost:8080/"
        },
        "id": "d6ZCdrMutE1n",
        "outputId": "cb2fd7e0-8396-40d0-ee43-d1ca36010ce5"
      },
      "source": [
        "type(t)"
      ],
      "execution_count": null,
      "outputs": [
        {
          "output_type": "execute_result",
          "data": {
            "text/plain": [
              "tuple"
            ]
          },
          "metadata": {
            "tags": []
          },
          "execution_count": 11
        }
      ]
    },
    {
      "cell_type": "code",
      "metadata": {
        "colab": {
          "base_uri": "https://localhost:8080/"
        },
        "id": "CI_C2dpgtGiY",
        "outputId": "01e70c63-25e4-4a3f-c6c5-2d8b9234eee4"
      },
      "source": [
        "type(c)"
      ],
      "execution_count": null,
      "outputs": [
        {
          "output_type": "execute_result",
          "data": {
            "text/plain": [
              "set"
            ]
          },
          "metadata": {
            "tags": []
          },
          "execution_count": 12
        }
      ]
    },
    {
      "cell_type": "code",
      "metadata": {
        "colab": {
          "base_uri": "https://localhost:8080/"
        },
        "id": "An0LsvMitJce",
        "outputId": "a272d995-1d1a-4fda-cfe7-d0a26e5e64e5"
      },
      "source": [
        "type(d1)"
      ],
      "execution_count": null,
      "outputs": [
        {
          "output_type": "execute_result",
          "data": {
            "text/plain": [
              "dict"
            ]
          },
          "metadata": {
            "tags": []
          },
          "execution_count": 13
        }
      ]
    },
    {
      "cell_type": "code",
      "metadata": {
        "colab": {
          "base_uri": "https://localhost:8080/"
        },
        "id": "yevtN0DJtOLk",
        "outputId": "1c7ea716-f3cf-4da6-a1cd-4ec64598bc30"
      },
      "source": [
        "type(d2)"
      ],
      "execution_count": null,
      "outputs": [
        {
          "output_type": "execute_result",
          "data": {
            "text/plain": [
              "dict"
            ]
          },
          "metadata": {
            "tags": []
          },
          "execution_count": 14
        }
      ]
    },
    {
      "cell_type": "code",
      "metadata": {
        "colab": {
          "base_uri": "https://localhost:8080/"
        },
        "id": "zwarNdy70-wA",
        "outputId": "e8247ee1-4119-4e18-8006-642c36dd3049"
      },
      "source": [
        "x=float(input(\"Ingrese el primer número: \")) \n",
        "y=float(input(\"Ingrese el segundo número: \"))\n",
        "suma=x+y\n",
        "print(\"La suma de los valores ingresados es: \",suma)"
      ],
      "execution_count": null,
      "outputs": [
        {
          "output_type": "stream",
          "text": [
            "Ingrese el primer número: 45\n",
            "Ingrese el segundo número: 55.5\n",
            "La suma de los valores ingresados es:  100.5\n"
          ],
          "name": "stdout"
        }
      ]
    },
    {
      "cell_type": "code",
      "metadata": {
        "colab": {
          "base_uri": "https://localhost:8080/"
        },
        "id": "Yb6612N-1XUq",
        "outputId": "97dd306d-aa4a-4a16-aa08-076d3de7fae5"
      },
      "source": [
        "print(\"hola mundo\")\n",
        "x=4\n",
        "y=2\n",
        "suma=x+y\n",
        "print(suma)"
      ],
      "execution_count": null,
      "outputs": [
        {
          "output_type": "stream",
          "text": [
            "hola mundo\n",
            "6\n"
          ],
          "name": "stdout"
        }
      ]
    },
    {
      "cell_type": "code",
      "metadata": {
        "colab": {
          "base_uri": "https://localhost:8080/"
        },
        "id": "N4TF4CHOqAeO",
        "outputId": "4fae6635-989c-484f-897b-24dddd45eeb8"
      },
      "source": [
        "suma"
      ],
      "execution_count": null,
      "outputs": [
        {
          "output_type": "execute_result",
          "data": {
            "text/plain": [
              "6"
            ]
          },
          "metadata": {
            "tags": []
          },
          "execution_count": 6
        }
      ]
    },
    {
      "cell_type": "code",
      "metadata": {
        "colab": {
          "base_uri": "https://localhost:8080/",
          "height": 35
        },
        "id": "5YyauWrM3M_U",
        "outputId": "43bdad4a-3b63-4b68-ddcc-9d168a3d99af"
      },
      "source": [
        "str(1/2)"
      ],
      "execution_count": null,
      "outputs": [
        {
          "output_type": "execute_result",
          "data": {
            "application/vnd.google.colaboratory.intrinsic+json": {
              "type": "string"
            },
            "text/plain": [
              "'0.5'"
            ]
          },
          "metadata": {
            "tags": []
          },
          "execution_count": 3
        }
      ]
    },
    {
      "cell_type": "code",
      "metadata": {
        "colab": {
          "base_uri": "https://localhost:8080/"
        },
        "id": "sRVp5H4f30e-",
        "outputId": "d7e55ee1-74d4-4c40-a7d5-ada0910948cc"
      },
      "source": [
        "1/2"
      ],
      "execution_count": null,
      "outputs": [
        {
          "output_type": "execute_result",
          "data": {
            "text/plain": [
              "0.5"
            ]
          },
          "metadata": {
            "tags": []
          },
          "execution_count": 2
        }
      ]
    },
    {
      "cell_type": "code",
      "metadata": {
        "colab": {
          "base_uri": "https://localhost:8080/",
          "height": 35
        },
        "id": "zu6FZ2rj4wTM",
        "outputId": "a9aa3943-bce7-4e15-cb2a-2bf6b55cc082"
      },
      "source": [
        "repr(1/2)"
      ],
      "execution_count": null,
      "outputs": [
        {
          "output_type": "execute_result",
          "data": {
            "application/vnd.google.colaboratory.intrinsic+json": {
              "type": "string"
            },
            "text/plain": [
              "'0.5'"
            ]
          },
          "metadata": {
            "tags": []
          },
          "execution_count": 4
        }
      ]
    },
    {
      "cell_type": "code",
      "metadata": {
        "colab": {
          "base_uri": "https://localhost:8080/",
          "height": 35
        },
        "id": "A6PowK2s3sH0",
        "outputId": "c13c7293-d497-4ab9-b263-627348a85bd6"
      },
      "source": [
        "#str convierte lo que recibe(un número) a cadena\n",
        "str(1/7)"
      ],
      "execution_count": null,
      "outputs": [
        {
          "output_type": "execute_result",
          "data": {
            "application/vnd.google.colaboratory.intrinsic+json": {
              "type": "string"
            },
            "text/plain": [
              "'0.14285714285714285'"
            ]
          },
          "metadata": {
            "tags": []
          },
          "execution_count": 12
        }
      ]
    },
    {
      "cell_type": "code",
      "metadata": {
        "id": "UrspM3Vr33Hk",
        "colab": {
          "base_uri": "https://localhost:8080/"
        },
        "outputId": "a37c4d4e-c108-4afa-eedb-76c56bbaae0f"
      },
      "source": [
        "1/7"
      ],
      "execution_count": null,
      "outputs": [
        {
          "output_type": "execute_result",
          "data": {
            "text/plain": [
              "0.14285714285714285"
            ]
          },
          "metadata": {
            "tags": []
          },
          "execution_count": 14
        }
      ]
    },
    {
      "cell_type": "markdown",
      "metadata": {
        "id": "Eagenzkd5MVK"
      },
      "source": [
        "# Comentarios:"
      ]
    },
    {
      "cell_type": "code",
      "metadata": {
        "id": "Ir4CJBsi5ReV"
      },
      "source": [
        "# este es un comenrtario de una linea\n",
        "'''\n",
        "este \n",
        "es \n",
        "un \n",
        "comenrtario \n",
        "de \n",
        "multiples \n",
        "linea\n",
        "\n",
        "'''"
      ],
      "execution_count": null,
      "outputs": []
    },
    {
      "cell_type": "code",
      "metadata": {
        "id": "PgNlCMgB-osr"
      },
      "source": [
        "x=10\n",
        "if x<0:\n",
        "  print(\"\")\n",
        "else"
      ],
      "execution_count": null,
      "outputs": []
    },
    {
      "cell_type": "markdown",
      "metadata": {
        "id": "BCIdTNNr1ayY"
      },
      "source": [
        "# Funciones:"
      ]
    },
    {
      "cell_type": "code",
      "metadata": {
        "colab": {
          "base_uri": "https://localhost:8080/"
        },
        "id": "2NJX19qO1eFq",
        "outputId": "c211b8b5-adaf-4ead-bce1-4a4ea7eb4679"
      },
      "source": [
        "# Ejemplo de un función: y=f(x)\n",
        "def sumar(x,y):\n",
        "    suma=x+y\n",
        "    return suma\n",
        "    \n",
        "resultado_suma=sumar(4.8,2.5)\n",
        "\n",
        "print(resultado_suma)"
      ],
      "execution_count": null,
      "outputs": [
        {
          "output_type": "stream",
          "text": [
            "7.3\n"
          ],
          "name": "stdout"
        }
      ]
    },
    {
      "cell_type": "markdown",
      "metadata": {
        "id": "2g_Q3SYo1oUV"
      },
      "source": [
        "# Lo anterior en una sola celda:"
      ]
    },
    {
      "cell_type": "code",
      "metadata": {
        "colab": {
          "base_uri": "https://localhost:8080/"
        },
        "id": "66criNZ51qET",
        "outputId": "98e45af7-ae2d-43a8-d656-cc7eddfaf98d"
      },
      "source": [
        "print(\"Hello world\")\n",
        "print(\"hola mundo\")\n",
        "x=4 # asigno el dato 4 (numero entero) a la variable nombrada x\n",
        "y=2 # asigno el dato 2 (numero entero) a la variable nombrada y\n",
        "suma=x+y # variable que guarda variables\n",
        "print(suma) # imprimiendo en pantalla\n",
        "# Ejemplo de un función: y=f(x)\n",
        "def calcular_suma(x,y):\n",
        "    suma=x+y\n",
        "    return suma  \n",
        "resultado_suma=calcular_suma(4,2)\n",
        "print(resultado_suma)\n",
        "\n",
        "x=float(input(\"Ingrese el primer número: \")) # asigno el dato 4 (numero entero) a la variable nombrada x\n",
        "y=float(input(\"Ingrese el segundo número: \")) # asigno el dato 2 (numero entero) a la variable nombrada y\n",
        "suma=x+y # variable que guarda variables\n",
        "print(\"La suma de los valores ingresados es: \",suma)"
      ],
      "execution_count": null,
      "outputs": [
        {
          "output_type": "stream",
          "text": [
            "Hello world\n",
            "hola mundo\n",
            "6\n",
            "6\n",
            "Ingrese el primer número: 4\n",
            "Ingrese el segundo número: 2\n",
            "La suma de los valores ingresados es:  6.0\n"
          ],
          "name": "stdout"
        }
      ]
    },
    {
      "cell_type": "code",
      "metadata": {
        "id": "8ZgbfDZxBcxe"
      },
      "source": [
        "def imprimir():\n",
        "  print(\"esta función si imprime esto que estás viendo\")  "
      ],
      "execution_count": null,
      "outputs": []
    },
    {
      "cell_type": "code",
      "metadata": {
        "colab": {
          "base_uri": "https://localhost:8080/"
        },
        "id": "ZHmg3n0tBc5i",
        "outputId": "a1ac407b-e0ed-43ca-a68d-267252a0503d"
      },
      "source": [
        "imprimir()"
      ],
      "execution_count": null,
      "outputs": [
        {
          "output_type": "stream",
          "text": [
            "esta función si imprime esto que estás viendo\n"
          ],
          "name": "stdout"
        }
      ]
    },
    {
      "cell_type": "code",
      "metadata": {
        "id": "udFv1nfIBc-b"
      },
      "source": [
        "def imprimir_dos(texto):\n",
        "  print(texto)  "
      ],
      "execution_count": null,
      "outputs": []
    },
    {
      "cell_type": "code",
      "metadata": {
        "colab": {
          "base_uri": "https://localhost:8080/"
        },
        "id": "jnTOFh-TBdDL",
        "outputId": "91e3e279-07d2-4814-99cd-ef2f42583aa7"
      },
      "source": [
        "imprimir_dos('')"
      ],
      "execution_count": null,
      "outputs": [
        {
          "output_type": "stream",
          "text": [
            "\n"
          ],
          "name": "stdout"
        }
      ]
    },
    {
      "cell_type": "code",
      "metadata": {
        "colab": {
          "base_uri": "https://localhost:8080/"
        },
        "id": "gAL6qgWUH7bF",
        "outputId": "243180e3-25b3-4e57-c763-579a48983d44"
      },
      "source": [
        "imprimir_dos(\"esta función si imprime esto que estás viendo\")"
      ],
      "execution_count": null,
      "outputs": [
        {
          "output_type": "stream",
          "text": [
            "esta función si imprime esto que estás viendo\n"
          ],
          "name": "stdout"
        }
      ]
    },
    {
      "cell_type": "code",
      "metadata": {
        "id": "l3EsLhU6BdHo"
      },
      "source": [
        "texto=\"esta función si imprime esto que estás viendo\""
      ],
      "execution_count": null,
      "outputs": []
    },
    {
      "cell_type": "code",
      "metadata": {
        "colab": {
          "base_uri": "https://localhost:8080/"
        },
        "id": "N-1ghASoBdMA",
        "outputId": "967770eb-98d7-461a-b5bd-c82fcdd5d75f"
      },
      "source": [
        "imprimir_dos(texto)"
      ],
      "execution_count": null,
      "outputs": [
        {
          "output_type": "stream",
          "text": [
            "esta función si imprime esto que estás viendo\n"
          ],
          "name": "stdout"
        }
      ]
    },
    {
      "cell_type": "code",
      "metadata": {
        "id": "FKzE_PgqoS7h"
      },
      "source": [
        ""
      ],
      "execution_count": null,
      "outputs": []
    },
    {
      "cell_type": "markdown",
      "metadata": {
        "id": "2q6XhTsP5AlR"
      },
      "source": [
        "# OPERACIONES ALGEBRAICAS:"
      ]
    },
    {
      "cell_type": "code",
      "metadata": {
        "colab": {
          "base_uri": "https://localhost:8080/"
        },
        "id": "lUv3nD9k5OGn",
        "outputId": "9a2d6acd-7769-4483-e6bd-c932b5588f4a"
      },
      "source": [
        "5/2"
      ],
      "execution_count": null,
      "outputs": [
        {
          "output_type": "execute_result",
          "data": {
            "text/plain": [
              "2.5"
            ]
          },
          "metadata": {
            "tags": []
          },
          "execution_count": 11
        }
      ]
    },
    {
      "cell_type": "code",
      "metadata": {
        "colab": {
          "base_uri": "https://localhost:8080/"
        },
        "id": "r70Ap6HMBdck",
        "outputId": "26557957-ac96-4988-92d7-faaa024e281e"
      },
      "source": [
        "20//3"
      ],
      "execution_count": null,
      "outputs": [
        {
          "output_type": "execute_result",
          "data": {
            "text/plain": [
              "6"
            ]
          },
          "metadata": {
            "tags": []
          },
          "execution_count": 14
        }
      ]
    },
    {
      "cell_type": "code",
      "metadata": {
        "colab": {
          "base_uri": "https://localhost:8080/"
        },
        "id": "WOuBY9p25drO",
        "outputId": "b1179a07-fd8f-400a-8978-41398c77d5ce"
      },
      "source": [
        "20%3"
      ],
      "execution_count": null,
      "outputs": [
        {
          "output_type": "execute_result",
          "data": {
            "text/plain": [
              "2"
            ]
          },
          "metadata": {
            "tags": []
          },
          "execution_count": 15
        }
      ]
    },
    {
      "cell_type": "markdown",
      "metadata": {
        "id": "vBNnZ4Uq5p15"
      },
      "source": [
        "**Otras operaciones para practicar:**"
      ]
    },
    {
      "cell_type": "code",
      "metadata": {
        "colab": {
          "base_uri": "https://localhost:8080/"
        },
        "id": "oewMwHl3Bdgy",
        "outputId": "3a263189-cb23-467e-f883-51c1db4f2749"
      },
      "source": [
        "5//2-2"
      ],
      "execution_count": null,
      "outputs": [
        {
          "output_type": "execute_result",
          "data": {
            "text/plain": [
              "0"
            ]
          },
          "metadata": {
            "tags": []
          },
          "execution_count": 15
        }
      ]
    },
    {
      "cell_type": "code",
      "metadata": {
        "colab": {
          "base_uri": "https://localhost:8080/"
        },
        "id": "ZrrU1rzbJVtD",
        "outputId": "7569fb01-fab3-4dba-f4b3-49a572b1194c"
      },
      "source": [
        "-(5//2)-2"
      ],
      "execution_count": null,
      "outputs": [
        {
          "output_type": "execute_result",
          "data": {
            "text/plain": [
              "-4"
            ]
          },
          "metadata": {
            "tags": []
          },
          "execution_count": 17
        }
      ]
    },
    {
      "cell_type": "code",
      "metadata": {
        "colab": {
          "base_uri": "https://localhost:8080/"
        },
        "id": "uYPtP-CBKN0a",
        "outputId": "4361647c-97f8-4c73-dd52-cc6c07d39722"
      },
      "source": [
        "-5//2-2"
      ],
      "execution_count": null,
      "outputs": [
        {
          "output_type": "execute_result",
          "data": {
            "text/plain": [
              "-5"
            ]
          },
          "metadata": {
            "tags": []
          },
          "execution_count": 18
        }
      ]
    },
    {
      "cell_type": "code",
      "metadata": {
        "colab": {
          "base_uri": "https://localhost:8080/"
        },
        "id": "3jXQQhj-JWAC",
        "outputId": "f444985e-4731-404f-82fd-0636af112083"
      },
      "source": [
        "d=float(input(\"ingrese el dinero en dolares:\"))"
      ],
      "execution_count": null,
      "outputs": [
        {
          "output_type": "stream",
          "text": [
            "ingrese el dinero en dolares:700\n"
          ],
          "name": "stdout"
        }
      ]
    },
    {
      "cell_type": "code",
      "metadata": {
        "id": "wU7Q_2trLxmF",
        "colab": {
          "base_uri": "https://localhost:8080/"
        },
        "outputId": "5ee26b77-2621-4edd-83a8-7f1a006d2452"
      },
      "source": [
        "d"
      ],
      "execution_count": null,
      "outputs": [
        {
          "output_type": "execute_result",
          "data": {
            "text/plain": [
              "700.0"
            ]
          },
          "metadata": {
            "tags": []
          },
          "execution_count": 20
        }
      ]
    },
    {
      "cell_type": "code",
      "metadata": {
        "id": "vzwsblugBY-e"
      },
      "source": [
        "nombre=\"csalvdnasvlnskdvnsvnasdlvnmsadklvnmasdklvnadsldnvndsdc\""
      ],
      "execution_count": null,
      "outputs": []
    },
    {
      "cell_type": "code",
      "metadata": {
        "id": "vz6xOzzHy-rO"
      },
      "source": [
        "comentario=\"....\""
      ],
      "execution_count": null,
      "outputs": []
    },
    {
      "cell_type": "code",
      "metadata": {
        "id": "n6c8rgg5ywWs"
      },
      "source": [
        "print"
      ],
      "execution_count": null,
      "outputs": []
    },
    {
      "cell_type": "code",
      "metadata": {
        "id": "WKgX1T3sxFNN"
      },
      "source": [
        "if"
      ],
      "execution_count": null,
      "outputs": []
    },
    {
      "cell_type": "code",
      "metadata": {
        "id": "bapQlWdQxFXB"
      },
      "source": [
        "True"
      ],
      "execution_count": null,
      "outputs": []
    },
    {
      "cell_type": "code",
      "metadata": {
        "id": "DOMTnY00xF8P"
      },
      "source": [
        "while"
      ],
      "execution_count": null,
      "outputs": []
    },
    {
      "cell_type": "code",
      "metadata": {
        "colab": {
          "base_uri": "https://localhost:8080/"
        },
        "id": "nPrQzZkMxCc2",
        "outputId": "1a194c46-2f8c-4e65-d558-07b9e3a67f2f"
      },
      "source": [
        "print(\"hola mundo\")"
      ],
      "execution_count": null,
      "outputs": [
        {
          "output_type": "stream",
          "text": [
            "hola mundo\n"
          ],
          "name": "stdout"
        }
      ]
    },
    {
      "cell_type": "code",
      "metadata": {
        "id": "fEqNgDbg8H8o"
      },
      "source": [
        "saludo=\"hola mundo\""
      ],
      "execution_count": null,
      "outputs": []
    },
    {
      "cell_type": "code",
      "metadata": {
        "colab": {
          "base_uri": "https://localhost:8080/",
          "height": 35
        },
        "id": "pUsZx-vY8IBi",
        "outputId": "36902d60-50d3-469e-f1e0-c8a89a206682"
      },
      "source": [
        "saludo"
      ],
      "execution_count": null,
      "outputs": [
        {
          "output_type": "execute_result",
          "data": {
            "application/vnd.google.colaboratory.intrinsic+json": {
              "type": "string"
            },
            "text/plain": [
              "'hola mundo'"
            ]
          },
          "metadata": {
            "tags": []
          },
          "execution_count": 4
        }
      ]
    },
    {
      "cell_type": "code",
      "metadata": {
        "id": "vLQdvl6g8IIH"
      },
      "source": [
        "saludo='hola mundo'"
      ],
      "execution_count": null,
      "outputs": []
    },
    {
      "cell_type": "code",
      "metadata": {
        "colab": {
          "base_uri": "https://localhost:8080/",
          "height": 35
        },
        "id": "CEPXZqgX8IKl",
        "outputId": "156134fd-02c8-4ea0-e0b0-ae33cb27c5cb"
      },
      "source": [
        "saludo"
      ],
      "execution_count": null,
      "outputs": [
        {
          "output_type": "execute_result",
          "data": {
            "application/vnd.google.colaboratory.intrinsic+json": {
              "type": "string"
            },
            "text/plain": [
              "'hola mundo'"
            ]
          },
          "metadata": {
            "tags": []
          },
          "execution_count": 6
        }
      ]
    },
    {
      "cell_type": "code",
      "metadata": {
        "colab": {
          "base_uri": "https://localhost:8080/"
        },
        "id": "20YlmL7m8INg",
        "outputId": "23baf66b-6efc-4ca6-cd0e-71a79a1d8f09"
      },
      "source": [
        "print(saludo)"
      ],
      "execution_count": null,
      "outputs": [
        {
          "output_type": "stream",
          "text": [
            "hola mundo\n"
          ],
          "name": "stdout"
        }
      ]
    },
    {
      "cell_type": "code",
      "metadata": {
        "colab": {
          "base_uri": "https://localhost:8080/"
        },
        "id": "5Jcgu4yzzVl0",
        "outputId": "33930754-5f17-4e10-cc16-33b9c25826ab"
      },
      "source": [
        "#  x ---> función ---> y\n",
        "# y=f(x)\n",
        "\n",
        "#ejemplo de declaración de una función\n",
        "\n",
        "def calcular_imc(peso,estatura):\n",
        "  '''el peso está en kg y la estatura en mt\n",
        "  la función calcula el imc\n",
        "  retorna el imc'''\n",
        "  imc=peso/estatura**2\n",
        "  return imc\n",
        "\n",
        "print(calcular_imc(80,1.75))"
      ],
      "execution_count": null,
      "outputs": [
        {
          "output_type": "stream",
          "text": [
            "26.122448979591837\n"
          ],
          "name": "stdout"
        }
      ]
    },
    {
      "cell_type": "code",
      "metadata": {
        "id": "UAYhsZUD8IQR"
      },
      "source": [
        "def calcular_area_rectangulo(largo, ancho):\n",
        "  '''\n",
        "  Aquí se debe describir:\n",
        "   1. Los parámetros o variables que recibe\n",
        "   2. Lo que hace la función\n",
        "   3. Los valores que retorna\n",
        "  '''\n",
        "  area=largo*ancho\n",
        "  return area"
      ],
      "execution_count": null,
      "outputs": []
    },
    {
      "cell_type": "code",
      "metadata": {
        "id": "O-E0HefF8ISM"
      },
      "source": [
        "area_rectangulo=calcular_area_rectangulo(10, 5)"
      ],
      "execution_count": null,
      "outputs": []
    },
    {
      "cell_type": "code",
      "metadata": {
        "colab": {
          "base_uri": "https://localhost:8080/"
        },
        "id": "uWUfGFP98IV_",
        "outputId": "0d5b5b54-7900-4043-e1c9-887dcb56b5d6"
      },
      "source": [
        "area_rectangulo"
      ],
      "execution_count": null,
      "outputs": [
        {
          "output_type": "execute_result",
          "data": {
            "text/plain": [
              "50"
            ]
          },
          "metadata": {
            "tags": []
          },
          "execution_count": 31
        }
      ]
    },
    {
      "cell_type": "code",
      "metadata": {
        "colab": {
          "base_uri": "https://localhost:8080/"
        },
        "id": "e4NaQulZ9czn",
        "outputId": "d2010168-06a0-4e52-df87-a83192e981e9"
      },
      "source": [
        "print(area_rectangulo)"
      ],
      "execution_count": null,
      "outputs": [
        {
          "output_type": "stream",
          "text": [
            "50\n"
          ],
          "name": "stdout"
        }
      ]
    },
    {
      "cell_type": "code",
      "metadata": {
        "id": "fi5vn0eh9mEv"
      },
      "source": [
        "area_rectangulo=calcular_area_rectangulo(8,3)"
      ],
      "execution_count": null,
      "outputs": []
    },
    {
      "cell_type": "code",
      "metadata": {
        "colab": {
          "base_uri": "https://localhost:8080/"
        },
        "id": "TDcAAvER-h6O",
        "outputId": "d3c42168-7240-491b-847c-c778abbf80d6"
      },
      "source": [
        "area_rectang_dos=calcular_area_rectangulo(18,2)\n",
        "print(area_rectang_dos)"
      ],
      "execution_count": null,
      "outputs": [
        {
          "output_type": "stream",
          "text": [
            "36\n"
          ],
          "name": "stdout"
        }
      ]
    },
    {
      "cell_type": "code",
      "metadata": {
        "colab": {
          "base_uri": "https://localhost:8080/"
        },
        "id": "xoam3ZNV9mNp",
        "outputId": "f321938b-4915-4c89-d1c2-6ab5732b92a5"
      },
      "source": [
        "print(area_rectangulo)"
      ],
      "execution_count": null,
      "outputs": [
        {
          "output_type": "stream",
          "text": [
            "24\n"
          ],
          "name": "stdout"
        }
      ]
    },
    {
      "cell_type": "code",
      "metadata": {
        "colab": {
          "base_uri": "https://localhost:8080/"
        },
        "id": "Nz9go5759mRx",
        "outputId": "6ce6c05e-8dc1-4527-9058-287f46d5ba9a"
      },
      "source": [
        "nombre_estudiante='pedro infante'\n",
        "print(nombre_estudiante)\n"
      ],
      "execution_count": null,
      "outputs": [
        {
          "output_type": "stream",
          "text": [
            "pedro infante\n"
          ],
          "name": "stdout"
        }
      ]
    },
    {
      "cell_type": "code",
      "metadata": {
        "colab": {
          "base_uri": "https://localhost:8080/"
        },
        "id": "cJSwXhrnBoYA",
        "outputId": "d32a1721-13fd-4075-9a34-34e3a66919df"
      },
      "source": [
        "nombre_estudiante=\"pedro infante\"\n",
        "print(nombre_estudiante)"
      ],
      "execution_count": null,
      "outputs": [
        {
          "output_type": "stream",
          "text": [
            "pedro infante\n"
          ],
          "name": "stdout"
        }
      ]
    },
    {
      "cell_type": "code",
      "metadata": {
        "id": "NH8vBjd4_0PW"
      },
      "source": [
        "numero_estudiantes=20"
      ],
      "execution_count": null,
      "outputs": []
    },
    {
      "cell_type": "code",
      "metadata": {
        "id": "mhplwYEp9mW7"
      },
      "source": [
        "casado=False"
      ],
      "execution_count": null,
      "outputs": []
    },
    {
      "cell_type": "code",
      "metadata": {
        "colab": {
          "base_uri": "https://localhost:8080/"
        },
        "id": "cwIMX3e_9mek",
        "outputId": "201a02ad-7cd1-4f50-9c05-dd253e016501"
      },
      "source": [
        "casado"
      ],
      "execution_count": null,
      "outputs": [
        {
          "output_type": "execute_result",
          "data": {
            "text/plain": [
              "False"
            ]
          },
          "metadata": {
            "tags": []
          },
          "execution_count": 40
        }
      ]
    },
    {
      "cell_type": "code",
      "metadata": {
        "id": "tYy-URgh8Gi3"
      },
      "source": [
        "saludo=0"
      ],
      "execution_count": null,
      "outputs": []
    },
    {
      "cell_type": "code",
      "metadata": {
        "colab": {
          "base_uri": "https://localhost:8080/"
        },
        "id": "2YlB4EIS_qh6",
        "outputId": "2ec3d5ad-826e-4673-9901-92eabc8dd81a"
      },
      "source": [
        "saludo"
      ],
      "execution_count": null,
      "outputs": [
        {
          "output_type": "execute_result",
          "data": {
            "text/plain": [
              "0"
            ]
          },
          "metadata": {
            "tags": []
          },
          "execution_count": 13
        }
      ]
    },
    {
      "cell_type": "code",
      "metadata": {
        "id": "HovqpQRw_qp-"
      },
      "source": [
        "saludo=True"
      ],
      "execution_count": null,
      "outputs": []
    },
    {
      "cell_type": "code",
      "metadata": {
        "colab": {
          "base_uri": "https://localhost:8080/"
        },
        "id": "A57ADrM6_qvv",
        "outputId": "b86f449c-2b62-4a49-cc8b-f5ecef50ac73"
      },
      "source": [
        "saludo"
      ],
      "execution_count": null,
      "outputs": [
        {
          "output_type": "execute_result",
          "data": {
            "text/plain": [
              "True"
            ]
          },
          "metadata": {
            "tags": []
          },
          "execution_count": 15
        }
      ]
    },
    {
      "cell_type": "code",
      "metadata": {
        "id": "5Mrwq6CFCDlb"
      },
      "source": [
        "imprimir='esto es lo que se va a imprimir'"
      ],
      "execution_count": null,
      "outputs": []
    },
    {
      "cell_type": "code",
      "metadata": {
        "id": "z0fCmbLZCE6O"
      },
      "source": [
        "condicion=True"
      ],
      "execution_count": null,
      "outputs": []
    },
    {
      "cell_type": "code",
      "metadata": {
        "id": "ieiYqFRNCE-K"
      },
      "source": [
        "def calcular_perimetro():\n",
        "  # comentario de linea\n",
        "  '''\n",
        "  esto no lo tiene en cuenta python\n",
        "  '''"
      ],
      "execution_count": null,
      "outputs": []
    },
    {
      "cell_type": "code",
      "metadata": {
        "id": "-amOGpdkCFEp"
      },
      "source": [
        "while"
      ],
      "execution_count": null,
      "outputs": []
    },
    {
      "cell_type": "code",
      "metadata": {
        "colab": {
          "base_uri": "https://localhost:8080/"
        },
        "id": "xvlV8V37CFLN",
        "outputId": "a2e18617-f4af-4123-aae3-2e9c9c467357"
      },
      "source": [
        "6*5"
      ],
      "execution_count": null,
      "outputs": [
        {
          "output_type": "execute_result",
          "data": {
            "text/plain": [
              "30"
            ]
          },
          "metadata": {
            "tags": []
          },
          "execution_count": 18
        }
      ]
    },
    {
      "cell_type": "code",
      "metadata": {
        "id": "fRJG-Mn28Glk"
      },
      "source": [
        "probabilidad = \"esto también se puede entender como un porcentaje si se multiplica por 100 %\""
      ],
      "execution_count": null,
      "outputs": []
    },
    {
      "cell_type": "code",
      "metadata": {
        "colab": {
          "base_uri": "https://localhost:8080/",
          "height": 35
        },
        "id": "v4LkBaR2MuF6",
        "outputId": "beba0a10-27f0-4474-fb83-cfae787b167b"
      },
      "source": [
        "probabilidad"
      ],
      "execution_count": null,
      "outputs": [
        {
          "output_type": "execute_result",
          "data": {
            "application/vnd.google.colaboratory.intrinsic+json": {
              "type": "string"
            },
            "text/plain": [
              "'esto también se puede entender como un porcentaje si se multiplica por 100 %'"
            ]
          },
          "metadata": {
            "tags": []
          },
          "execution_count": 5
        }
      ]
    },
    {
      "cell_type": "code",
      "metadata": {
        "id": "ZWx-cIMGMzD8"
      },
      "source": [
        "probabilidad = 'esto también se puede entender como un porcentaje si se multiplica por 100 %'"
      ],
      "execution_count": null,
      "outputs": []
    },
    {
      "cell_type": "code",
      "metadata": {
        "colab": {
          "base_uri": "https://localhost:8080/",
          "height": 35
        },
        "id": "MgFN5b4QM4kz",
        "outputId": "e87ff970-5600-4edd-88ce-4fd25a3b6d9e"
      },
      "source": [
        "probabilidad"
      ],
      "execution_count": null,
      "outputs": [
        {
          "output_type": "execute_result",
          "data": {
            "application/vnd.google.colaboratory.intrinsic+json": {
              "type": "string"
            },
            "text/plain": [
              "'esto también se puede entender como un porcentaje si se multiplica por 100 %'"
            ]
          },
          "metadata": {
            "tags": []
          },
          "execution_count": 7
        }
      ]
    },
    {
      "cell_type": "code",
      "metadata": {
        "colab": {
          "base_uri": "https://localhost:8080/"
        },
        "id": "61xEoJ5_MzMg",
        "outputId": "a5f174b3-f48b-4a72-ad55-4fca7e3fc0d8"
      },
      "source": [
        "print(probabilidad)"
      ],
      "execution_count": null,
      "outputs": [
        {
          "output_type": "stream",
          "text": [
            "esto también se puede entender como un porcentaje si se multiplica por 100 %\n"
          ],
          "name": "stdout"
        }
      ]
    },
    {
      "cell_type": "code",
      "metadata": {
        "id": "3FwbpC5PMzPY"
      },
      "source": [
        "probabilidad=0.999"
      ],
      "execution_count": null,
      "outputs": []
    },
    {
      "cell_type": "code",
      "metadata": {
        "colab": {
          "base_uri": "https://localhost:8080/"
        },
        "id": "ZWqegqkrMzXD",
        "outputId": "158b6052-e45e-4c1d-f9d7-fe0275dfeb6a"
      },
      "source": [
        "probabilidad"
      ],
      "execution_count": null,
      "outputs": [
        {
          "output_type": "execute_result",
          "data": {
            "text/plain": [
              "0.999"
            ]
          },
          "metadata": {
            "tags": []
          },
          "execution_count": 10
        }
      ]
    },
    {
      "cell_type": "code",
      "metadata": {
        "colab": {
          "base_uri": "https://localhost:8080/"
        },
        "id": "PcauVcM3MzaZ",
        "outputId": "83f7bb67-0fc5-4873-c0a0-1ae1198ab25a"
      },
      "source": [
        "print(probabilidad)"
      ],
      "execution_count": null,
      "outputs": [
        {
          "output_type": "stream",
          "text": [
            "0.999\n"
          ],
          "name": "stdout"
        }
      ]
    },
    {
      "cell_type": "code",
      "metadata": {
        "colab": {
          "base_uri": "https://localhost:8080/"
        },
        "id": "oFPMFQDAMiQa",
        "outputId": "6ead7a2a-db98-42b5-8e02-ca4b661b97b3"
      },
      "source": [
        "print(\"lo que quiero que se imprima en pantalla va aquí entre comillas dobles o entre comillas simples\")"
      ],
      "execution_count": null,
      "outputs": [
        {
          "output_type": "stream",
          "text": [
            "lo que quiero que se imprima en pantalla va aquí entre comillas dobles o entre comillas simples\n"
          ],
          "name": "stdout"
        }
      ]
    },
    {
      "cell_type": "code",
      "metadata": {
        "colab": {
          "base_uri": "https://localhost:8080/"
        },
        "id": "r6VT6fa_47oD",
        "outputId": "23a6a566-6562-40c7-b693-aae39b344f22"
      },
      "source": [
        "print('lo que quiero que se imprima en pantalla va aquí entre comillas dobles o entre comillas simples')"
      ],
      "execution_count": null,
      "outputs": [
        {
          "output_type": "stream",
          "text": [
            "lo que quiero que se imprima en pantalla va aquí entre comillas dobles o entre comillas simples\n"
          ],
          "name": "stdout"
        }
      ]
    },
    {
      "cell_type": "code",
      "metadata": {
        "colab": {
          "base_uri": "https://localhost:8080/",
          "height": 131
        },
        "id": "qNrUjf0I5Nqr",
        "outputId": "7b919da1-3635-4fbb-8161-24ae03639336"
      },
      "source": [
        "print('lo que quiero que se imprima en pantalla va aquí entre comillas dobles o entre comillas simples'"
      ],
      "execution_count": null,
      "outputs": [
        {
          "output_type": "error",
          "ename": "SyntaxError",
          "evalue": "ignored",
          "traceback": [
            "\u001b[0;36m  File \u001b[0;32m\"<ipython-input-3-8f804bed97ed>\"\u001b[0;36m, line \u001b[0;32m1\u001b[0m\n\u001b[0;31m    print('lo que quiero que se imprima en pantalla va aquí entre comillas dobles o entre comillas simples'\u001b[0m\n\u001b[0m                                                                                                           ^\u001b[0m\n\u001b[0;31mSyntaxError\u001b[0m\u001b[0;31m:\u001b[0m unexpected EOF while parsing\n"
          ]
        }
      ]
    },
    {
      "cell_type": "code",
      "metadata": {
        "colab": {
          "base_uri": "https://localhost:8080/",
          "height": 131
        },
        "id": "PGgGAUCU6UTx",
        "outputId": "1e844c2f-dbbc-4c0a-f7e8-c80338b6e505"
      },
      "source": [
        "(3%2/5-8*3*15+18/8-*5)"
      ],
      "execution_count": null,
      "outputs": [
        {
          "output_type": "error",
          "ename": "SyntaxError",
          "evalue": "ignored",
          "traceback": [
            "\u001b[0;36m  File \u001b[0;32m\"<ipython-input-4-412cdf379508>\"\u001b[0;36m, line \u001b[0;32m1\u001b[0m\n\u001b[0;31m    (3%2/5-8*3*15+18/8-*5)\u001b[0m\n\u001b[0m                       ^\u001b[0m\n\u001b[0;31mSyntaxError\u001b[0m\u001b[0;31m:\u001b[0m invalid syntax\n"
          ]
        }
      ]
    },
    {
      "cell_type": "code",
      "metadata": {
        "colab": {
          "base_uri": "https://localhost:8080/"
        },
        "id": "OgWoWgEi7FPs",
        "outputId": "ccea6bd6-feea-4c78-c531-2e582bc6bac0"
      },
      "source": [
        "(3%2/5-8*3*15+18/8-2*5)"
      ],
      "execution_count": null,
      "outputs": [
        {
          "output_type": "execute_result",
          "data": {
            "text/plain": [
              "-367.55"
            ]
          },
          "metadata": {
            "tags": []
          },
          "execution_count": 5
        }
      ]
    },
    {
      "cell_type": "code",
      "metadata": {
        "colab": {
          "base_uri": "https://localhost:8080/"
        },
        "id": "dAGhvxdW70SA",
        "outputId": "bcd7f2a7-33e8-4b7f-df14-f3fed2ca8c5a"
      },
      "source": [
        "5+4"
      ],
      "execution_count": null,
      "outputs": [
        {
          "output_type": "execute_result",
          "data": {
            "text/plain": [
              "9"
            ]
          },
          "metadata": {
            "tags": []
          },
          "execution_count": 6
        }
      ]
    },
    {
      "cell_type": "code",
      "metadata": {
        "colab": {
          "base_uri": "https://localhost:8080/"
        },
        "id": "3CyC999L8Cjp",
        "outputId": "8df65958-df0b-49ca-97dc-ae73f33eadd5"
      },
      "source": [
        "print(5+4)"
      ],
      "execution_count": null,
      "outputs": [
        {
          "output_type": "stream",
          "text": [
            "9\n"
          ],
          "name": "stdout"
        }
      ]
    },
    {
      "cell_type": "code",
      "metadata": {
        "colab": {
          "base_uri": "https://localhost:8080/"
        },
        "id": "tb_uzRuh72_r",
        "outputId": "1bd5a5fb-5618-418e-a289-e842b45bc9ff"
      },
      "source": [
        "print(9)"
      ],
      "execution_count": null,
      "outputs": [
        {
          "output_type": "stream",
          "text": [
            "9\n"
          ],
          "name": "stdout"
        }
      ]
    },
    {
      "cell_type": "code",
      "metadata": {
        "colab": {
          "base_uri": "https://localhost:8080/"
        },
        "id": "w7atLAq18ANR",
        "outputId": "44918dda-eaa4-4dc8-9e3d-f5a34b9abe17"
      },
      "source": [
        "9"
      ],
      "execution_count": null,
      "outputs": [
        {
          "output_type": "execute_result",
          "data": {
            "text/plain": [
              "9"
            ]
          },
          "metadata": {
            "tags": []
          },
          "execution_count": 8
        }
      ]
    },
    {
      "cell_type": "code",
      "metadata": {
        "id": "QXwDNN0UOE6K"
      },
      "source": [
        "x=9"
      ],
      "execution_count": null,
      "outputs": []
    },
    {
      "cell_type": "code",
      "metadata": {
        "colab": {
          "base_uri": "https://localhost:8080/"
        },
        "id": "ezkBqncwOG9-",
        "outputId": "6aa85598-a209-4e31-9bfc-7d400f074a28"
      },
      "source": [
        "x"
      ],
      "execution_count": null,
      "outputs": [
        {
          "output_type": "execute_result",
          "data": {
            "text/plain": [
              "9"
            ]
          },
          "metadata": {
            "tags": []
          },
          "execution_count": 13
        }
      ]
    },
    {
      "cell_type": "code",
      "metadata": {
        "colab": {
          "base_uri": "https://localhost:8080/"
        },
        "id": "XOe2pyKvOIUc",
        "outputId": "b39a72e6-74b2-4325-f76b-87be581bc604"
      },
      "source": [
        "print(x)"
      ],
      "execution_count": null,
      "outputs": [
        {
          "output_type": "stream",
          "text": [
            "9\n"
          ],
          "name": "stdout"
        }
      ]
    },
    {
      "cell_type": "code",
      "metadata": {
        "id": "SeUIS4D4OXYf"
      },
      "source": [
        "probabilidad = 'p'"
      ],
      "execution_count": null,
      "outputs": []
    },
    {
      "cell_type": "code",
      "metadata": {
        "colab": {
          "base_uri": "https://localhost:8080/",
          "height": 35
        },
        "id": "JfPH4sCqOZ4j",
        "outputId": "bc29508a-deee-4107-934a-0180a61ebecc"
      },
      "source": [
        "probabilidad"
      ],
      "execution_count": null,
      "outputs": [
        {
          "output_type": "execute_result",
          "data": {
            "application/vnd.google.colaboratory.intrinsic+json": {
              "type": "string"
            },
            "text/plain": [
              "'p'"
            ]
          },
          "metadata": {
            "tags": []
          },
          "execution_count": 16
        }
      ]
    },
    {
      "cell_type": "code",
      "metadata": {
        "id": "RNPwB8vFObJf"
      },
      "source": [
        "p=0.5"
      ],
      "execution_count": null,
      "outputs": []
    },
    {
      "cell_type": "code",
      "metadata": {
        "id": "MzqRTLn6Og9I"
      },
      "source": [
        "probabilidad = p"
      ],
      "execution_count": null,
      "outputs": []
    },
    {
      "cell_type": "code",
      "metadata": {
        "colab": {
          "base_uri": "https://localhost:8080/"
        },
        "id": "f0noaZiuOkBU",
        "outputId": "375fb598-e88b-4dfd-f1b8-72b786385c94"
      },
      "source": [
        "probabilidad "
      ],
      "execution_count": null,
      "outputs": [
        {
          "output_type": "execute_result",
          "data": {
            "text/plain": [
              "0.5"
            ]
          },
          "metadata": {
            "tags": []
          },
          "execution_count": 19
        }
      ]
    },
    {
      "cell_type": "code",
      "metadata": {
        "colab": {
          "base_uri": "https://localhost:8080/"
        },
        "id": "VZOeQUe-PO5k",
        "outputId": "7976a9a4-01bc-4b86-b109-ac9a51858dca"
      },
      "source": [
        "x=5\n",
        "y=10\n",
        "z=15\n",
        "volumen=x*y*z\n",
        "print(volumen)"
      ],
      "execution_count": null,
      "outputs": [
        {
          "output_type": "stream",
          "text": [
            "750\n"
          ],
          "name": "stdout"
        }
      ]
    },
    {
      "cell_type": "code",
      "metadata": {
        "colab": {
          "base_uri": "https://localhost:8080/"
        },
        "id": "cpfirUdGP0EP",
        "outputId": "571efd34-2084-4eee-c40b-7c15b84ec949"
      },
      "source": [
        "1/3"
      ],
      "execution_count": null,
      "outputs": [
        {
          "output_type": "execute_result",
          "data": {
            "text/plain": [
              "0.3333333333333333"
            ]
          },
          "metadata": {
            "tags": []
          },
          "execution_count": 21
        }
      ]
    },
    {
      "cell_type": "code",
      "metadata": {
        "colab": {
          "base_uri": "https://localhost:8080/"
        },
        "id": "1-HeGY-cP6js",
        "outputId": "d0df0712-117f-4426-e771-0b3ede254228"
      },
      "source": [
        "round(1/3,4)"
      ],
      "execution_count": null,
      "outputs": [
        {
          "output_type": "execute_result",
          "data": {
            "text/plain": [
              "0.3333"
            ]
          },
          "metadata": {
            "tags": []
          },
          "execution_count": 22
        }
      ]
    },
    {
      "cell_type": "code",
      "metadata": {
        "id": "A9LiL4Y62kxU"
      },
      "source": [
        "variable=1"
      ],
      "execution_count": null,
      "outputs": []
    },
    {
      "cell_type": "markdown",
      "metadata": {
        "id": "38lUevcz34c2"
      },
      "source": [
        "**CONTINUARÉ CON EL SIGUIENTE CÓDIGO:**"
      ]
    },
    {
      "cell_type": "code",
      "metadata": {
        "colab": {
          "base_uri": "https://localhost:8080/",
          "height": 131
        },
        "id": "ot8PhLry4G1N",
        "outputId": "de7593c0-d830-4b9e-8921-8043f13e7e32"
      },
      "source": [
        "CONTINUARÉ CON EL SIGUIENTE CÓDIGO:"
      ],
      "execution_count": null,
      "outputs": [
        {
          "output_type": "error",
          "ename": "SyntaxError",
          "evalue": "ignored",
          "traceback": [
            "\u001b[0;36m  File \u001b[0;32m\"<ipython-input-1-d7d838f5308e>\"\u001b[0;36m, line \u001b[0;32m1\u001b[0m\n\u001b[0;31m    CONTINUARÉ CON EL SIGUIENTE CÓDIGO:\u001b[0m\n\u001b[0m                 ^\u001b[0m\n\u001b[0;31mSyntaxError\u001b[0m\u001b[0;31m:\u001b[0m invalid syntax\n"
          ]
        }
      ]
    },
    {
      "cell_type": "code",
      "metadata": {
        "id": "BAbXH7pP4L5h"
      },
      "source": [
        "#CONTINUARÉ CON EL SIGUIENTE CÓDIGO:"
      ],
      "execution_count": null,
      "outputs": []
    },
    {
      "cell_type": "code",
      "metadata": {
        "id": "BZteghk02lF-"
      },
      "source": [
        "# Este es mi primer programa en Python\n",
        "#solución=...ESTA VARIABLE NO PUEDE TENER CARACTERES DISTINTOS AL IDIOMA INGLÉS\n",
        "\n",
        "solution=0.5\n",
        "\n",
        "cadena=\"corazón del compañero\"\n",
        "\n",
        "'''\n",
        "cualquier cosa que no se ejecute\n",
        "cualquier cosa que no se ejecute\n",
        "cualquier cosa que no se ejecute\n",
        "\n",
        "'''\n",
        "\n",
        "def mi_funcion(x,y):\n",
        "  #calculos\n",
        "  return valor\n",
        "\n",
        "\n",
        "\n",
        "# mas lineas de codigo  \n",
        "\n",
        "\n"
      ],
      "execution_count": null,
      "outputs": []
    },
    {
      "cell_type": "code",
      "metadata": {
        "colab": {
          "base_uri": "https://localhost:8080/"
        },
        "id": "RLe8LXRJ5RtV",
        "outputId": "98dc3d28-8482-4d71-d6c6-e7581b983bc6"
      },
      "source": [
        "5+9"
      ],
      "execution_count": null,
      "outputs": [
        {
          "output_type": "execute_result",
          "data": {
            "text/plain": [
              "14"
            ]
          },
          "metadata": {
            "tags": []
          },
          "execution_count": 3
        }
      ]
    },
    {
      "cell_type": "code",
      "metadata": {
        "colab": {
          "base_uri": "https://localhost:8080/"
        },
        "id": "pdcqTEyz5VHE",
        "outputId": "fbfe5632-7605-469a-a6f6-d2874cbee4b1"
      },
      "source": [
        "5-9"
      ],
      "execution_count": null,
      "outputs": [
        {
          "output_type": "execute_result",
          "data": {
            "text/plain": [
              "-4"
            ]
          },
          "metadata": {
            "tags": []
          },
          "execution_count": 4
        }
      ]
    },
    {
      "cell_type": "code",
      "metadata": {
        "colab": {
          "base_uri": "https://localhost:8080/"
        },
        "id": "iMQH2Gz_5eJJ",
        "outputId": "50dece76-1ae4-46ac-ae81-ad9192515d41"
      },
      "source": [
        "97*2"
      ],
      "execution_count": null,
      "outputs": [
        {
          "output_type": "execute_result",
          "data": {
            "text/plain": [
              "194"
            ]
          },
          "metadata": {
            "tags": []
          },
          "execution_count": 5
        }
      ]
    },
    {
      "cell_type": "code",
      "metadata": {
        "colab": {
          "base_uri": "https://localhost:8080/"
        },
        "id": "7iXXs94e5g9M",
        "outputId": "178606f5-df0b-4649-a3a1-ce86cbf8ac94"
      },
      "source": [
        "100/2"
      ],
      "execution_count": null,
      "outputs": [
        {
          "output_type": "execute_result",
          "data": {
            "text/plain": [
              "50.0"
            ]
          },
          "metadata": {
            "tags": []
          },
          "execution_count": 6
        }
      ]
    },
    {
      "cell_type": "code",
      "metadata": {
        "colab": {
          "base_uri": "https://localhost:8080/"
        },
        "id": "Dx4CgT3J5mPw",
        "outputId": "31b95ff3-0fd8-475a-8e55-b8ff2ed200e4"
      },
      "source": [
        "100/3"
      ],
      "execution_count": null,
      "outputs": [
        {
          "output_type": "execute_result",
          "data": {
            "text/plain": [
              "33.333333333333336"
            ]
          },
          "metadata": {
            "tags": []
          },
          "execution_count": 7
        }
      ]
    },
    {
      "cell_type": "code",
      "metadata": {
        "colab": {
          "base_uri": "https://localhost:8080/"
        },
        "id": "Hgnu965Q5xgV",
        "outputId": "4472daf3-da61-49e6-fb3b-18a7259ea701"
      },
      "source": [
        "100//3"
      ],
      "execution_count": null,
      "outputs": [
        {
          "output_type": "execute_result",
          "data": {
            "text/plain": [
              "33"
            ]
          },
          "metadata": {
            "tags": []
          },
          "execution_count": 8
        }
      ]
    },
    {
      "cell_type": "code",
      "metadata": {
        "colab": {
          "base_uri": "https://localhost:8080/"
        },
        "id": "qIXQOcBt57VG",
        "outputId": "e83a2056-1724-4160-bd14-405099ecd870"
      },
      "source": [
        "100%3"
      ],
      "execution_count": null,
      "outputs": [
        {
          "output_type": "execute_result",
          "data": {
            "text/plain": [
              "1"
            ]
          },
          "metadata": {
            "tags": []
          },
          "execution_count": 9
        }
      ]
    },
    {
      "cell_type": "code",
      "metadata": {
        "colab": {
          "base_uri": "https://localhost:8080/"
        },
        "id": "0kxqbf5X6CsK",
        "outputId": "ebc603fd-b9ac-4a57-d7b3-d2ee3686373b"
      },
      "source": [
        "100%2"
      ],
      "execution_count": null,
      "outputs": [
        {
          "output_type": "execute_result",
          "data": {
            "text/plain": [
              "0"
            ]
          },
          "metadata": {
            "tags": []
          },
          "execution_count": 10
        }
      ]
    },
    {
      "cell_type": "code",
      "metadata": {
        "colab": {
          "base_uri": "https://localhost:8080/"
        },
        "id": "jdWX8XaL6GRN",
        "outputId": "701c0a53-32da-4df3-8665-9b29541bb969"
      },
      "source": [
        "100//2"
      ],
      "execution_count": null,
      "outputs": [
        {
          "output_type": "execute_result",
          "data": {
            "text/plain": [
              "50"
            ]
          },
          "metadata": {
            "tags": []
          },
          "execution_count": 11
        }
      ]
    },
    {
      "cell_type": "code",
      "metadata": {
        "colab": {
          "base_uri": "https://localhost:8080/"
        },
        "id": "DnOME_vH6Kxt",
        "outputId": "4ac81ab6-92ea-4232-a567-777cba9efb14"
      },
      "source": [
        "100/2"
      ],
      "execution_count": null,
      "outputs": [
        {
          "output_type": "execute_result",
          "data": {
            "text/plain": [
              "50.0"
            ]
          },
          "metadata": {
            "tags": []
          },
          "execution_count": 12
        }
      ]
    },
    {
      "cell_type": "code",
      "metadata": {
        "colab": {
          "base_uri": "https://localhost:8080/"
        },
        "id": "b00e2boO6OWc",
        "outputId": "b830965d-e874-4b7a-ef3f-5e3a14d011a7"
      },
      "source": [
        "2*2*2"
      ],
      "execution_count": null,
      "outputs": [
        {
          "output_type": "execute_result",
          "data": {
            "text/plain": [
              "8"
            ]
          },
          "metadata": {
            "tags": []
          },
          "execution_count": 13
        }
      ]
    },
    {
      "cell_type": "code",
      "metadata": {
        "colab": {
          "base_uri": "https://localhost:8080/"
        },
        "id": "VhMli1jM6Rbs",
        "outputId": "d2223dee-bbcc-4a74-844f-ea0bf799a959"
      },
      "source": [
        "2**3"
      ],
      "execution_count": null,
      "outputs": [
        {
          "output_type": "execute_result",
          "data": {
            "text/plain": [
              "8"
            ]
          },
          "metadata": {
            "tags": []
          },
          "execution_count": 14
        }
      ]
    },
    {
      "cell_type": "code",
      "metadata": {
        "colab": {
          "base_uri": "https://localhost:8080/"
        },
        "id": "iPfg-v3g6foD",
        "outputId": "b8d82768-72f3-4cc2-bcf3-1d81e22a13e5"
      },
      "source": [
        "100-50"
      ],
      "execution_count": null,
      "outputs": [
        {
          "output_type": "execute_result",
          "data": {
            "text/plain": [
              "50"
            ]
          },
          "metadata": {
            "tags": []
          },
          "execution_count": 15
        }
      ]
    },
    {
      "cell_type": "code",
      "metadata": {
        "colab": {
          "base_uri": "https://localhost:8080/"
        },
        "id": "TZB9WQ4R6itX",
        "outputId": "40c37663-ac13-47df-97b1-6e412763b19c"
      },
      "source": [
        "50-100"
      ],
      "execution_count": null,
      "outputs": [
        {
          "output_type": "execute_result",
          "data": {
            "text/plain": [
              "-50"
            ]
          },
          "metadata": {
            "tags": []
          },
          "execution_count": 16
        }
      ]
    },
    {
      "cell_type": "code",
      "metadata": {
        "id": "P3Yd3gl86kqQ"
      },
      "source": [
        "x=5"
      ],
      "execution_count": null,
      "outputs": []
    },
    {
      "cell_type": "code",
      "metadata": {
        "colab": {
          "base_uri": "https://localhost:8080/"
        },
        "id": "wN734JOT6nzx",
        "outputId": "c9c4d40a-ddc1-4bbe-9f5a-ac9f11e69964"
      },
      "source": [
        "x"
      ],
      "execution_count": null,
      "outputs": [
        {
          "output_type": "execute_result",
          "data": {
            "text/plain": [
              "5"
            ]
          },
          "metadata": {
            "tags": []
          },
          "execution_count": 18
        }
      ]
    },
    {
      "cell_type": "code",
      "metadata": {
        "id": "D1fIdtZd6pXH"
      },
      "source": [
        "x=x-1"
      ],
      "execution_count": null,
      "outputs": []
    },
    {
      "cell_type": "code",
      "metadata": {
        "colab": {
          "base_uri": "https://localhost:8080/"
        },
        "id": "v-4CwDMN6uas",
        "outputId": "882b84fa-e1fd-43e0-ea59-10c74d586332"
      },
      "source": [
        "print(x)"
      ],
      "execution_count": null,
      "outputs": [
        {
          "output_type": "stream",
          "text": [
            "4\n"
          ],
          "name": "stdout"
        }
      ]
    },
    {
      "cell_type": "code",
      "metadata": {
        "colab": {
          "base_uri": "https://localhost:8080/"
        },
        "id": "miIJs03u6yYb",
        "outputId": "2c23912a-e0ad-46e1-8a09-e6935b388eb9"
      },
      "source": [
        "-x"
      ],
      "execution_count": null,
      "outputs": [
        {
          "output_type": "execute_result",
          "data": {
            "text/plain": [
              "-4"
            ]
          },
          "metadata": {
            "tags": []
          },
          "execution_count": 21
        }
      ]
    },
    {
      "cell_type": "code",
      "metadata": {
        "id": "d7o0SGuY65vL"
      },
      "source": [
        "y=-x"
      ],
      "execution_count": null,
      "outputs": []
    },
    {
      "cell_type": "code",
      "metadata": {
        "colab": {
          "base_uri": "https://localhost:8080/"
        },
        "id": "0jan4wTw7BXf",
        "outputId": "372c6db8-971a-4215-a391-7b25f478483e"
      },
      "source": [
        "y"
      ],
      "execution_count": null,
      "outputs": [
        {
          "output_type": "execute_result",
          "data": {
            "text/plain": [
              "-4"
            ]
          },
          "metadata": {
            "tags": []
          },
          "execution_count": 23
        }
      ]
    },
    {
      "cell_type": "code",
      "metadata": {
        "colab": {
          "base_uri": "https://localhost:8080/"
        },
        "id": "H7KxiR-67LiD",
        "outputId": "01fe83ea-ada8-4369-cfb6-b2887228c739"
      },
      "source": [
        "x"
      ],
      "execution_count": null,
      "outputs": [
        {
          "output_type": "execute_result",
          "data": {
            "text/plain": [
              "4"
            ]
          },
          "metadata": {
            "tags": []
          },
          "execution_count": 24
        }
      ]
    },
    {
      "cell_type": "code",
      "metadata": {
        "id": "BWWRTWYC7O5U"
      },
      "source": [
        "x=-x"
      ],
      "execution_count": null,
      "outputs": []
    },
    {
      "cell_type": "code",
      "metadata": {
        "colab": {
          "base_uri": "https://localhost:8080/"
        },
        "id": "D4QKIuuw7V4k",
        "outputId": "97538fe2-a321-446f-bb76-b35c23de9bb3"
      },
      "source": [
        "x"
      ],
      "execution_count": null,
      "outputs": [
        {
          "output_type": "execute_result",
          "data": {
            "text/plain": [
              "-4"
            ]
          },
          "metadata": {
            "tags": []
          },
          "execution_count": 26
        }
      ]
    },
    {
      "cell_type": "code",
      "metadata": {
        "id": "wYmn487-7Yz_"
      },
      "source": [
        "y=-x"
      ],
      "execution_count": null,
      "outputs": []
    },
    {
      "cell_type": "code",
      "metadata": {
        "colab": {
          "base_uri": "https://localhost:8080/"
        },
        "id": "kJQGah557cbr",
        "outputId": "b38004f0-1579-44f2-f2b9-2f314c6b864b"
      },
      "source": [
        "print(y)"
      ],
      "execution_count": null,
      "outputs": [
        {
          "output_type": "stream",
          "text": [
            "4\n"
          ],
          "name": "stdout"
        }
      ]
    },
    {
      "cell_type": "code",
      "metadata": {
        "colab": {
          "base_uri": "https://localhost:8080/"
        },
        "id": "hqcouLMh0kOk",
        "outputId": "303238bb-b0a7-4cf7-8d17-ecd7edd5ed1f"
      },
      "source": [
        "def calcular_area_triangulo(base,altura):\n",
        "  area=base*altura/2\n",
        "  return area\n",
        "\n",
        "area_triangulo=calcular_area_triangulo(10,5)\n",
        "print(area_triangulo)"
      ],
      "execution_count": null,
      "outputs": [
        {
          "output_type": "stream",
          "text": [
            "25.0\n"
          ],
          "name": "stdout"
        }
      ]
    },
    {
      "cell_type": "code",
      "metadata": {
        "colab": {
          "base_uri": "https://localhost:8080/"
        },
        "id": "d3fYkpKk390S",
        "outputId": "e7edbd9c-d5e4-42c1-fbf9-bf4cbea1d1eb"
      },
      "source": [
        "area_triangulo"
      ],
      "execution_count": null,
      "outputs": [
        {
          "output_type": "execute_result",
          "data": {
            "text/plain": [
              "25.0"
            ]
          },
          "metadata": {
            "tags": []
          },
          "execution_count": 7
        }
      ]
    },
    {
      "cell_type": "code",
      "metadata": {
        "id": "Eh-6Y8GE3p_J"
      },
      "source": [
        "print(calcular_area_triangulo(10,5))"
      ],
      "execution_count": null,
      "outputs": []
    },
    {
      "cell_type": "code",
      "metadata": {
        "colab": {
          "base_uri": "https://localhost:8080/"
        },
        "id": "lry8I3Uz4Ggr",
        "outputId": "d6cad6e7-c59d-44ab-d18c-c1a23b9faeb9"
      },
      "source": [
        "def calcular_area_perimetro_cuadrado(lado):\n",
        "  area=lado**2\n",
        "  perimetro=4*lado\n",
        "  return area,perimetro\n",
        "\n",
        "area_cuadrado,perimetro_cuadrado=calcular_area_perimetro_cuadrado(5)\n",
        "print(area_cuadrado,perimetro_cuadrado)\n"
      ],
      "execution_count": null,
      "outputs": [
        {
          "output_type": "stream",
          "text": [
            "25 20\n"
          ],
          "name": "stdout"
        }
      ]
    },
    {
      "cell_type": "code",
      "metadata": {
        "id": "tOU5AwL95fSp",
        "colab": {
          "base_uri": "https://localhost:8080/"
        },
        "outputId": "64e4ca64-1fa4-41dc-db51-50840b396332"
      },
      "source": [
        "area_cuadrado"
      ],
      "execution_count": null,
      "outputs": [
        {
          "output_type": "execute_result",
          "data": {
            "text/plain": [
              "25"
            ]
          },
          "metadata": {
            "tags": []
          },
          "execution_count": 9
        }
      ]
    },
    {
      "cell_type": "code",
      "metadata": {
        "id": "67gs1XWS5hRq",
        "colab": {
          "base_uri": "https://localhost:8080/"
        },
        "outputId": "505e155a-054f-4a99-abc7-66ca27d029c0"
      },
      "source": [
        "perimetro_cuadrado"
      ],
      "execution_count": null,
      "outputs": [
        {
          "output_type": "execute_result",
          "data": {
            "text/plain": [
              "20"
            ]
          },
          "metadata": {
            "tags": []
          },
          "execution_count": 10
        }
      ]
    },
    {
      "cell_type": "code",
      "metadata": {
        "id": "8GyG1urAMqj9"
      },
      "source": [
        "#pip install mi_ciencia_datos\n",
        "# pip install -r requirements.txt"
      ],
      "execution_count": null,
      "outputs": []
    },
    {
      "cell_type": "code",
      "metadata": {
        "id": "s43xJes8MjzO"
      },
      "source": [
        "import math\n",
        "\n",
        "nombre_variable=math.sqrt(10)"
      ],
      "execution_count": null,
      "outputs": []
    },
    {
      "cell_type": "code",
      "metadata": {
        "colab": {
          "base_uri": "https://localhost:8080/"
        },
        "id": "q5mJfZTDM8Ig",
        "outputId": "9d3ebbbf-2086-4fa3-b516-0f201c4add89"
      },
      "source": [
        "nombre_variable"
      ],
      "execution_count": null,
      "outputs": [
        {
          "output_type": "execute_result",
          "data": {
            "text/plain": [
              "3.1622776601683795"
            ]
          },
          "metadata": {
            "tags": []
          },
          "execution_count": 3
        }
      ]
    },
    {
      "cell_type": "code",
      "metadata": {
        "colab": {
          "base_uri": "https://localhost:8080/"
        },
        "id": "mQlqtArGM0di",
        "outputId": "c46b7511-d4a5-4fd3-96da-dca45e90f32b"
      },
      "source": [
        "print(nombre_variable)"
      ],
      "execution_count": null,
      "outputs": [
        {
          "output_type": "stream",
          "text": [
            "3.1622776601683795\n"
          ],
          "name": "stdout"
        }
      ]
    },
    {
      "cell_type": "code",
      "metadata": {
        "colab": {
          "base_uri": "https://localhost:8080/"
        },
        "id": "_Flflv9-NHO1",
        "outputId": "d33586b1-8766-4fdf-c7b7-69d10c6d41ad"
      },
      "source": [
        "a=3\n",
        "a**a"
      ],
      "execution_count": null,
      "outputs": [
        {
          "output_type": "execute_result",
          "data": {
            "text/plain": [
              "27"
            ]
          },
          "metadata": {
            "tags": []
          },
          "execution_count": 4
        }
      ]
    },
    {
      "cell_type": "code",
      "metadata": {
        "id": "fonmTigAN2qo"
      },
      "source": [
        "catetoa=3\n",
        "catetob=4"
      ],
      "execution_count": null,
      "outputs": []
    },
    {
      "cell_type": "code",
      "metadata": {
        "colab": {
          "base_uri": "https://localhost:8080/"
        },
        "id": "AQc3XigBNVca",
        "outputId": "4aaa0770-c38b-4760-df45-978e97df4f48"
      },
      "source": [
        "hipotenusa_al_cuadrado=(catetoa**2)+(catetob**2)\n",
        "print(hipotenusa_al_cuadrado)\n",
        "\n",
        "hipotenusa=math.sqrt(hipotenusa_al_cuadrado)\n",
        "print(hipotenusa)\n"
      ],
      "execution_count": null,
      "outputs": [
        {
          "output_type": "stream",
          "text": [
            "25\n",
            "5.0\n"
          ],
          "name": "stdout"
        }
      ]
    },
    {
      "cell_type": "code",
      "metadata": {
        "colab": {
          "base_uri": "https://localhost:8080/"
        },
        "id": "gpx9qbKePN7a",
        "outputId": "96c7b01a-c05e-4605-c47f-de401ba29a14"
      },
      "source": [
        "teorema_pitagoras=((catetoa**2)+(catetob**2))**(1/2)\n",
        "print(teorema_pitagoras)\n"
      ],
      "execution_count": null,
      "outputs": [
        {
          "output_type": "stream",
          "text": [
            "5.0\n"
          ],
          "name": "stdout"
        }
      ]
    },
    {
      "cell_type": "code",
      "metadata": {
        "colab": {
          "base_uri": "https://localhost:8080/"
        },
        "id": "iyP41yGsOmXn",
        "outputId": "f180ee3c-19f5-4fef-cd43-f10640f41eb1"
      },
      "source": [
        "distancia=10\n",
        "\n",
        "def cuerda_multiplicar(distancia):\n",
        "  #completa el código que falta\n",
        "  cuerda=(math.sqrt(2)*(distancia*100))\n",
        "  return cuerda\n",
        "\n",
        "cuerda=cuerda_multiplicar(distancia)\n",
        "print(cuerda)\n",
        "\n",
        "\n",
        "\n",
        "\n"
      ],
      "execution_count": null,
      "outputs": [
        {
          "output_type": "stream",
          "text": [
            "1414.213562373095\n"
          ],
          "name": "stdout"
        }
      ]
    },
    {
      "cell_type": "code",
      "metadata": {
        "id": "lCfu3IxYHm7l"
      },
      "source": [
        "x=8"
      ],
      "execution_count": null,
      "outputs": []
    },
    {
      "cell_type": "code",
      "metadata": {
        "colab": {
          "base_uri": "https://localhost:8080/"
        },
        "id": "Ef-pKI6RHnEo",
        "outputId": "546b2df8-4651-481a-953f-7129c6e111e2"
      },
      "source": [
        "print(x)"
      ],
      "execution_count": null,
      "outputs": [
        {
          "output_type": "stream",
          "text": [
            "8\n"
          ],
          "name": "stdout"
        }
      ]
    },
    {
      "cell_type": "code",
      "metadata": {
        "colab": {
          "base_uri": "https://localhost:8080/"
        },
        "id": "WU8ehGvSHnJl",
        "outputId": "6dac0fb9-e56e-40a5-fe19-64fa0b0eb09c"
      },
      "source": [
        "x"
      ],
      "execution_count": null,
      "outputs": [
        {
          "output_type": "execute_result",
          "data": {
            "text/plain": [
              "8"
            ]
          },
          "metadata": {
            "tags": []
          },
          "execution_count": 3
        }
      ]
    },
    {
      "cell_type": "code",
      "metadata": {
        "id": "dEGXB268HnXH"
      },
      "source": [
        "x=\"andres\""
      ],
      "execution_count": null,
      "outputs": []
    },
    {
      "cell_type": "code",
      "metadata": {
        "colab": {
          "base_uri": "https://localhost:8080/",
          "height": 35
        },
        "id": "SpKfaCyiHnb_",
        "outputId": "ad34e47a-5211-4598-8994-f5cc8628d971"
      },
      "source": [
        "x"
      ],
      "execution_count": null,
      "outputs": [
        {
          "output_type": "execute_result",
          "data": {
            "application/vnd.google.colaboratory.intrinsic+json": {
              "type": "string"
            },
            "text/plain": [
              "'andres'"
            ]
          },
          "metadata": {
            "tags": []
          },
          "execution_count": 5
        }
      ]
    },
    {
      "cell_type": "code",
      "metadata": {
        "id": "JAXGL4snHnm-"
      },
      "source": [
        "NOMBRE_INSTITUCION='Colegio San Bartolomé'"
      ],
      "execution_count": null,
      "outputs": []
    },
    {
      "cell_type": "code",
      "metadata": {
        "colab": {
          "base_uri": "https://localhost:8080/",
          "height": 35
        },
        "id": "UQpT3LPZIIFw",
        "outputId": "fa4bdceb-7c34-44a7-9dfc-21efc79f91b7"
      },
      "source": [
        "NOMBRE_INSTITUCION"
      ],
      "execution_count": null,
      "outputs": [
        {
          "output_type": "execute_result",
          "data": {
            "application/vnd.google.colaboratory.intrinsic+json": {
              "type": "string"
            },
            "text/plain": [
              "'Colegio San Bartolomé'"
            ]
          },
          "metadata": {
            "tags": []
          },
          "execution_count": 7
        }
      ]
    },
    {
      "cell_type": "code",
      "metadata": {
        "id": "TpFV43d1IjOO"
      },
      "source": [
        "#una sola linea comentada\n",
        "'''\n",
        "ñc,ñsdvc\n",
        "vsñvd,ñds\n",
        "vsdñsdvds\n",
        "'''"
      ],
      "execution_count": null,
      "outputs": []
    },
    {
      "cell_type": "markdown",
      "metadata": {
        "id": "P_wVRBYsoj4u"
      },
      "source": [
        "# Algebra de Boole: TABLAS DE VERDAD\n",
        "\n",
        " (True, False) --->  (1, 0): base 2 (binario)\n",
        "\n",
        "True=Verdadero=1\n",
        "\n",
        "False=Falso=0\n",
        "\n",
        "\n",
        "**Conjunción=\"y\"=and=multiplicación(*) :** \n",
        "\n",
        "1*1=1\n",
        "\n",
        "1*0=0\n",
        "\n",
        "0*1=0\n",
        "\n",
        "0*0=0\n",
        "\n",
        "**Disjunción=\"o\"=or=\"suma(+)\" :**\n",
        "\n",
        "1+1=1 (ojo)\n",
        "\n",
        "1+0=1\n",
        "\n",
        "0+1=1\n",
        "\n",
        "0+0=0"
      ]
    },
    {
      "cell_type": "markdown",
      "metadata": {
        "id": "j_8aT3vce4v6"
      },
      "source": [
        ""
      ]
    },
    {
      "cell_type": "markdown",
      "metadata": {
        "id": "XnRvvXfa_mP9"
      },
      "source": [
        "# EJEMPLO USANDO if-else (control de flujo):"
      ]
    },
    {
      "cell_type": "code",
      "metadata": {
        "colab": {
          "base_uri": "https://localhost:8080/"
        },
        "id": "wS04V2lo_jfz",
        "outputId": "074fd46d-37e3-479b-b48c-7f85c4cd1255"
      },
      "source": [
        "num_entero=-10\n",
        "\n",
        "if num_entero<0:# ¿es negativo?: Si(True: Verdadero)      \n",
        "  print(\"el numero entero es negativo\")"
      ],
      "execution_count": null,
      "outputs": [
        {
          "output_type": "stream",
          "text": [
            "el numero entero es negativo\n"
          ],
          "name": "stdout"
        }
      ]
    },
    {
      "cell_type": "code",
      "metadata": {
        "colab": {
          "base_uri": "https://localhost:8080/"
        },
        "id": "XKhxItqTAiHd",
        "outputId": "7d0f29ed-89c5-4166-c723-369809ee5122"
      },
      "source": [
        "num_entero=0 # un solo igual (=) se usa para asignar valor a una variable\n",
        "\n",
        "if num_entero==0: # pero dos simbolos igual(==) se se usa para comparar si dos valores son iguales\n",
        "  print(\"el numero entero es cero\")"
      ],
      "execution_count": null,
      "outputs": [
        {
          "output_type": "stream",
          "text": [
            "el numero entero es cero\n"
          ],
          "name": "stdout"
        }
      ]
    },
    {
      "cell_type": "code",
      "metadata": {
        "colab": {
          "base_uri": "https://localhost:8080/"
        },
        "id": "ms89y6SXAwZk",
        "outputId": "e53fd3b5-eb9e-43c2-e042-840a5bb6612f"
      },
      "source": [
        "num_entero=5\n",
        "if num_entero>0:\n",
        "  print(\"el numero entero es positivo\")"
      ],
      "execution_count": null,
      "outputs": [
        {
          "output_type": "stream",
          "text": [
            "el numero entero es positivo\n"
          ],
          "name": "stdout"
        }
      ]
    },
    {
      "cell_type": "code",
      "metadata": {
        "id": "Ahr0R_l8A5mx"
      },
      "source": [
        "num_entero=-5\n",
        "if num_entero>0: # no se cumple (False)\n",
        "  print(\"el numero entero es positivo\")"
      ],
      "execution_count": null,
      "outputs": []
    },
    {
      "cell_type": "code",
      "metadata": {
        "colab": {
          "base_uri": "https://localhost:8080/"
        },
        "id": "7A0Vv92-HJao",
        "outputId": "8a02f362-18a0-4175-d058-e929eb9d10ed"
      },
      "source": [
        "num_entero"
      ],
      "execution_count": null,
      "outputs": [
        {
          "output_type": "execute_result",
          "data": {
            "text/plain": [
              "-5"
            ]
          },
          "metadata": {
            "tags": []
          },
          "execution_count": 5
        }
      ]
    },
    {
      "cell_type": "code",
      "metadata": {
        "colab": {
          "base_uri": "https://localhost:8080/"
        },
        "id": "Q3y8SgOtlbgU",
        "outputId": "e64cdf39-53e2-4059-b90d-a5ba8e852aef"
      },
      "source": [
        "print(num_entero)"
      ],
      "execution_count": null,
      "outputs": [
        {
          "output_type": "stream",
          "text": [
            "-5\n"
          ],
          "name": "stdout"
        }
      ]
    },
    {
      "cell_type": "code",
      "metadata": {
        "colab": {
          "base_uri": "https://localhost:8080/"
        },
        "id": "cVMJHwpzBHzm",
        "outputId": "2cc7d86c-d873-4570-eee4-449e612bc69e"
      },
      "source": [
        "num_entero=-15\n",
        "\n",
        "if num_entero>0: #no\n",
        "  print(\"el numero entero es positivo\")\n",
        "else: #se sobre-entiende que el num_entero NO es >0 (que puede ser 0 o menor cero) \n",
        "  print(\"el numero entero es cero o negativo\") # ejecuta este print porque el \"if\" anterior fue falso   "
      ],
      "execution_count": null,
      "outputs": [
        {
          "output_type": "stream",
          "text": [
            "el numero entero es cero o negativo\n"
          ],
          "name": "stdout"
        }
      ]
    },
    {
      "cell_type": "markdown",
      "metadata": {
        "id": "1xF9crz2l1sn"
      },
      "source": [
        "# EJEMPLO USANDO if-elif-else (control de flujo):"
      ]
    },
    {
      "cell_type": "code",
      "metadata": {
        "colab": {
          "base_uri": "https://localhost:8080/"
        },
        "id": "QXFT6-wHtgzV",
        "outputId": "8321f0b8-9ef9-4c3f-d1cf-47392a25e799"
      },
      "source": [
        "x=-5\n",
        "x=5\n",
        "if 0<x<10:\n",
        "  print('x es de signo positivo y de un solo digito')\n",
        "else:\n",
        "  print('x es no está entre 0 y 10')\n"
      ],
      "execution_count": null,
      "outputs": [
        {
          "output_type": "stream",
          "text": [
            "x es de signo positivo y de un solo digito\n"
          ],
          "name": "stdout"
        }
      ]
    },
    {
      "cell_type": "code",
      "metadata": {
        "colab": {
          "base_uri": "https://localhost:8080/"
        },
        "id": "OlwcxhCeuC0n",
        "outputId": "3faf6193-7d58-4a8b-e9a4-49050adf6bec"
      },
      "source": [
        "x"
      ],
      "execution_count": null,
      "outputs": [
        {
          "output_type": "execute_result",
          "data": {
            "text/plain": [
              "-5"
            ]
          },
          "metadata": {
            "tags": []
          },
          "execution_count": 10
        }
      ]
    },
    {
      "cell_type": "code",
      "metadata": {
        "colab": {
          "base_uri": "https://localhost:8080/"
        },
        "id": "NL7qBoJtn6O2",
        "outputId": "9ab4625e-80d4-4fa7-e862-28a99e330222"
      },
      "source": [
        "#saludar dependiendo de la hora (formato militar:0-23 horas):\n",
        "hora=8 #son las 8am (8h)\n",
        "#hora=14 #son las 2 pm (14h)\n",
        "#hora=22 #son las 10 pm (22h)\n",
        "if 0<=hora<=12:\n",
        "  print('Good morning')\n",
        "elif 12<hora<=18:\n",
        "  print('Good afternoon')\n",
        "else:\n",
        "   print('Good evening')\n",
        "#else 18<hora<=23: esto NO es necesario porque se sobreentiende (por descarte)"
      ],
      "execution_count": null,
      "outputs": [
        {
          "output_type": "stream",
          "text": [
            "Good morning\n"
          ],
          "name": "stdout"
        }
      ]
    },
    {
      "cell_type": "code",
      "metadata": {
        "id": "4yjna__ymA8a",
        "colab": {
          "base_uri": "https://localhost:8080/"
        },
        "outputId": "2982695f-3050-40de-ce17-a9a0e0f0ddb3"
      },
      "source": [
        "#saludar dependiendo de la hora (formato militar:0-23 horas):\n",
        "#hora=8 #son las 8am (8h)\n",
        "hora=14 #son las 2 pm (14h)\n",
        "#hora=22 #son las 10 pm (22h)\n",
        "if 0<=hora<=12:\n",
        "  print('Good morning')\n",
        "elif 12<hora<=18:\n",
        "  print('Good afternoon')\n",
        "else:\n",
        "   print('Good evening')\n",
        "#else 18<hora<=23: esto NO es necesario porque se sobreentiende (por descarte)"
      ],
      "execution_count": null,
      "outputs": [
        {
          "output_type": "stream",
          "text": [
            "Good afternoon\n"
          ],
          "name": "stdout"
        }
      ]
    },
    {
      "cell_type": "code",
      "metadata": {
        "colab": {
          "base_uri": "https://localhost:8080/"
        },
        "id": "eNSE1RKrmCzs",
        "outputId": "bbd8a382-139d-4462-8a76-cb9fa1ba2cfd"
      },
      "source": [
        "#saludar dependiendo de la hora (formato militar:0-23 horas):\n",
        "#hora=8 #son las 8am (8h)\n",
        "#hora=14 #son las 2 pm (14h)\n",
        "hora=22 #son las 10 pm (22h)\n",
        "if 0<=hora<=12:\n",
        "  print('Good morning')\n",
        "elif 12<hora<=18:\n",
        "  print('Good afternoon')\n",
        "elif 18<hora<=23:\n",
        "   print('Good evening')\n",
        "#elif 18<hora<=23: esto SI es necesario porque NO se sobreentiende (YA NO ES por descarte)"
      ],
      "execution_count": null,
      "outputs": [
        {
          "output_type": "stream",
          "text": [
            "Good evening\n"
          ],
          "name": "stdout"
        }
      ]
    },
    {
      "cell_type": "markdown",
      "metadata": {
        "id": "m6Lo-UZOotMq"
      },
      "source": [
        "# Mas operaciones algebraicas (repaso):"
      ]
    },
    {
      "cell_type": "code",
      "metadata": {
        "id": "4U6Q1ljxyq48",
        "colab": {
          "base_uri": "https://localhost:8080/"
        },
        "outputId": "a59ba67c-4c66-44ce-9dc0-1eea5ca72f7a"
      },
      "source": [
        "7+3"
      ],
      "execution_count": null,
      "outputs": [
        {
          "output_type": "execute_result",
          "data": {
            "text/plain": [
              "10"
            ]
          },
          "metadata": {
            "tags": []
          },
          "execution_count": 1
        }
      ]
    },
    {
      "cell_type": "code",
      "metadata": {
        "id": "1-R0nRV82U4s"
      },
      "source": [
        "\n",
        "x=5/2"
      ],
      "execution_count": null,
      "outputs": []
    },
    {
      "cell_type": "code",
      "metadata": {
        "colab": {
          "base_uri": "https://localhost:8080/"
        },
        "id": "K6uImhEM2f_6",
        "outputId": "7bb1592b-85b2-4cfd-bacf-ed68b45bdabc"
      },
      "source": [
        "print(x)"
      ],
      "execution_count": null,
      "outputs": [
        {
          "output_type": "stream",
          "text": [
            "2.5\n"
          ],
          "name": "stdout"
        }
      ]
    },
    {
      "cell_type": "code",
      "metadata": {
        "colab": {
          "base_uri": "https://localhost:8080/"
        },
        "id": "vTmzxJDK2kjK",
        "outputId": "86f3b891-0f23-43fa-89f6-adb672555b9c"
      },
      "source": [
        "x"
      ],
      "execution_count": null,
      "outputs": [
        {
          "output_type": "execute_result",
          "data": {
            "text/plain": [
              "2.5"
            ]
          },
          "metadata": {
            "tags": []
          },
          "execution_count": 3
        }
      ]
    },
    {
      "cell_type": "markdown",
      "metadata": {
        "id": "KVbizh8F4yeI"
      },
      "source": [
        "PENDIENTE:"
      ]
    },
    {
      "cell_type": "code",
      "metadata": {
        "id": "gIHkYhr72p4I"
      },
      "source": [
        "#print(calcular_imc(40,1.55))\n",
        "#print(calcular_imc(60,1.60))"
      ],
      "execution_count": null,
      "outputs": []
    },
    {
      "cell_type": "markdown",
      "metadata": {
        "id": "MNFLqEoyEIWE"
      },
      "source": [
        "# CICLOS:"
      ]
    },
    {
      "cell_type": "markdown",
      "metadata": {
        "id": "bOSr6gfbkb6m"
      },
      "source": [
        "# while vs for:"
      ]
    },
    {
      "cell_type": "code",
      "metadata": {
        "colab": {
          "base_uri": "https://localhost:8080/"
        },
        "id": "EGZIOmPPkgW1",
        "outputId": "e93fa9fa-353f-49ee-a189-b34a2b242430"
      },
      "source": [
        "#EJEMPLO SENCILLO DE WHILE: mostrar los digitos en pantalla\n",
        "digito=0 # inicializar\n",
        "while digito<10: # los digitos van del 0 al 9 (en total son 10 digitos)\n",
        "  print(digito) # imprimo digito a digito\n",
        "  digito=digito+1 # incremento el valor en una unidad\n",
        "#else: # es opcional y normalmente no se usa en los etándares de programación\n",
        "  #print(\"El digito superó el número 9\")\n",
        "print(\"Se mostraron en pantalla los digitos del 0 al 9\")"
      ],
      "execution_count": null,
      "outputs": [
        {
          "output_type": "stream",
          "text": [
            "0\n",
            "1\n",
            "2\n",
            "3\n",
            "4\n",
            "5\n",
            "6\n",
            "7\n",
            "8\n",
            "9\n",
            "Se mostraron en pantalla los digitos del 0 al 9\n"
          ],
          "name": "stdout"
        }
      ]
    },
    {
      "cell_type": "code",
      "metadata": {
        "colab": {
          "base_uri": "https://localhost:8080/"
        },
        "id": "1hvR0DVzlOhp",
        "outputId": "d0567a0c-6049-4864-c000-c92981af8c93"
      },
      "source": [
        "print(digito)"
      ],
      "execution_count": null,
      "outputs": [
        {
          "output_type": "stream",
          "text": [
            "10\n"
          ],
          "name": "stdout"
        }
      ]
    },
    {
      "cell_type": "code",
      "metadata": {
        "colab": {
          "base_uri": "https://localhost:8080/"
        },
        "id": "1h8FcPiOkkbH",
        "outputId": "b7b5464f-ec14-48e5-ee5d-98d20a9ad7b7"
      },
      "source": [
        "#EJEMPLO SENCILLO DE FOR: mostrar los digitos en pantalla\n",
        "#digits=0,...,9 # existen varias formas de \"agrupar\" los digitos\n",
        "digits=range(10) # por defecto range(n) entrega un rango de numeros enteros entre 0 y n-1 (de uno en uno): 0,1,..,8,9 (del 0 al 9)\n",
        "for digit in digits:\n",
        "#for digit in range(10):\n",
        "  print(digit)\n",
        "print(\"Se mostraron en pantalla los digitos del 0 al 9\") \n"
      ],
      "execution_count": null,
      "outputs": [
        {
          "output_type": "stream",
          "text": [
            "0\n",
            "1\n",
            "2\n",
            "3\n",
            "4\n",
            "5\n",
            "6\n",
            "7\n",
            "8\n",
            "9\n",
            "Se mostraron en pantalla los digitos del 0 al 9\n"
          ],
          "name": "stdout"
        }
      ]
    },
    {
      "cell_type": "code",
      "metadata": {
        "colab": {
          "base_uri": "https://localhost:8080/",
          "height": 484
        },
        "id": "wvVjV77m9zNM",
        "outputId": "198f2a00-2c77-453e-ac4c-73217cd81b35"
      },
      "source": [
        "#HAGAMOS OTRAS PRUEBAS:CADENAS\n",
        "#EJEMPLO SENCILLO DE FOR: mostrar los digitos en pantalla\n",
        "# \"digits:0,...,9\" existen varias formas de \"agrupar\" los digitos\n",
        "#digits=range(10) # por defecto range(n) entrega un rango de numeros enteros entre 0 y n-1 (de uno en uno): 0,1,..,8,9 (del 0 al 9)\n",
        "#digits=\"yFelipe\" # esto es una CADENA (INmutable) explícita de los digitos (0 al 9)\n",
        "digits0=\"0123456789\" # esto es una CADENA (INmutable) explícita de los digitos (0 al 9)\n",
        "#digits=[0,1,2,3,4,5,6,7,8,9] # esto es una LISTA (mutable) explícita de los digitos (0 al 9)\n",
        "#digits=(0,1,2,3,4,5,6,7,8,9) # esto es una TUPLA (similar a una LISTA pero INmutable) explícita de los digitos (0 al 9)\n",
        "#digits={0,1,2,3,4,5,6,7,8,9} # esto es un CONJUNTO (mutable) explícito de los digitos (0 al 9): Un conjunto es una colección desordenada de elementos (SET: propiedades matemáticas)\n",
        "#digits={0:\"Juan0\",1:\"Juan1\",2:\"Juan2\",3:\"Juan3\",4:\"Juan4\",5:\"Juan5\",6:\"Juan6\",7:\"Juan7\",8:\"Juan8\",9:\"Juan9\"} # esto es un DICCIONARIO (mutable) explícito de {digito:nombre}=={key:value}\n",
        "#digits={\"Juan0\":0,\"Juan1\":1,\"Juan2\":2,\"Juan3\":3,\"Juan4\":4,\"Juan5\":5,\"Juan6\":6,\"Juan7\":7,\"Juan8\":9,\"Juan9\":9} # esto es un DICCIONARIO (mutable) explícito de {nombre:digito}=={key:value}\n",
        "for digit in digits0:\n",
        "  print(digit) #imprime el contenido de la cadena: lo que hay en la posición  \n",
        "  #print(digits[digit]) # NO SE PUEDE ACCEDER A LAS POSICIONES DE LOS CONJUNTOS PORQUE ELLOS NO TIENEN ORDEN\n",
        "#print(\"Se mostraron en pantalla los digitos del 0 al 9\") \n",
        "print(\"Longitud, máximo, mínimo, suma:\") \n",
        "print(len(digits0))\n",
        "print(max(digits0))\n",
        "print(min(digits0))\n",
        "print(sum(digits0)) # no funciona si es una cadena o un diccionario de llaves tipo cadena\n",
        "tamano=len(digits0)# del 0 al 9 hay 10 digitos\n",
        "suma=sum(digits0)# suma del 0 al 9: 0+1+2+...+8+9=45\n",
        "promedio=suma/tamano\n",
        "print(\"El promedio es:\") \n",
        "print(promedio)"
      ],
      "execution_count": null,
      "outputs": [
        {
          "output_type": "stream",
          "text": [
            "0\n",
            "1\n",
            "2\n",
            "3\n",
            "4\n",
            "5\n",
            "6\n",
            "7\n",
            "8\n",
            "9\n",
            "Longitud, máximo, mínimo, suma:\n",
            "10\n",
            "9\n",
            "0\n"
          ],
          "name": "stdout"
        },
        {
          "output_type": "error",
          "ename": "TypeError",
          "evalue": "ignored",
          "traceback": [
            "\u001b[0;31m---------------------------------------------------------------------------\u001b[0m",
            "\u001b[0;31mTypeError\u001b[0m                                 Traceback (most recent call last)",
            "\u001b[0;32m<ipython-input-1-5c3832b19a26>\u001b[0m in \u001b[0;36m<module>\u001b[0;34m()\u001b[0m\n\u001b[1;32m     18\u001b[0m \u001b[0mprint\u001b[0m\u001b[0;34m(\u001b[0m\u001b[0mmax\u001b[0m\u001b[0;34m(\u001b[0m\u001b[0mdigits0\u001b[0m\u001b[0;34m)\u001b[0m\u001b[0;34m)\u001b[0m\u001b[0;34m\u001b[0m\u001b[0;34m\u001b[0m\u001b[0m\n\u001b[1;32m     19\u001b[0m \u001b[0mprint\u001b[0m\u001b[0;34m(\u001b[0m\u001b[0mmin\u001b[0m\u001b[0;34m(\u001b[0m\u001b[0mdigits0\u001b[0m\u001b[0;34m)\u001b[0m\u001b[0;34m)\u001b[0m\u001b[0;34m\u001b[0m\u001b[0;34m\u001b[0m\u001b[0m\n\u001b[0;32m---> 20\u001b[0;31m \u001b[0mprint\u001b[0m\u001b[0;34m(\u001b[0m\u001b[0msum\u001b[0m\u001b[0;34m(\u001b[0m\u001b[0mdigits0\u001b[0m\u001b[0;34m)\u001b[0m\u001b[0;34m)\u001b[0m \u001b[0;31m# no funciona si es una cadena o un diccionario de llaves tipo cadena\u001b[0m\u001b[0;34m\u001b[0m\u001b[0;34m\u001b[0m\u001b[0m\n\u001b[0m\u001b[1;32m     21\u001b[0m \u001b[0mtamano\u001b[0m\u001b[0;34m=\u001b[0m\u001b[0mlen\u001b[0m\u001b[0;34m(\u001b[0m\u001b[0mdigits0\u001b[0m\u001b[0;34m)\u001b[0m\u001b[0;31m# del 0 al 9 hay 10 digitos\u001b[0m\u001b[0;34m\u001b[0m\u001b[0;34m\u001b[0m\u001b[0m\n\u001b[1;32m     22\u001b[0m \u001b[0msuma\u001b[0m\u001b[0;34m=\u001b[0m\u001b[0msum\u001b[0m\u001b[0;34m(\u001b[0m\u001b[0mdigits0\u001b[0m\u001b[0;34m)\u001b[0m\u001b[0;31m# suma del 0 al 9: 0+1+2+...+8+9=45\u001b[0m\u001b[0;34m\u001b[0m\u001b[0;34m\u001b[0m\u001b[0m\n",
            "\u001b[0;31mTypeError\u001b[0m: unsupported operand type(s) for +: 'int' and 'str'"
          ]
        }
      ]
    },
    {
      "cell_type": "code",
      "metadata": {
        "colab": {
          "base_uri": "https://localhost:8080/"
        },
        "id": "I_xSa56Q9nMU",
        "outputId": "52baca81-156a-4566-ec87-acda809c2d4a"
      },
      "source": [
        "#HAGAMOS OTRAS PRUEBAS:LISTAS\n",
        "#EJEMPLO SENCILLO DE FOR: mostrar los digitos en pantalla\n",
        "# \"digits:0,...,9\" existen varias formas de \"agrupar\" los digitos\n",
        "#digits=range(10) # por defecto range(n) entrega un rango de numeros enteros entre 0 y n-1 (de uno en uno): 0,1,..,8,9 (del 0 al 9)\n",
        "#digits=\"yFelipe\" # esto es una CADENA (INmutable) explícita de los digitos (0 al 9)\n",
        "#digits=\"0123456789\" # esto es una CADENA (INmutable) explícita de los digitos (0 al 9)\n",
        "digits=[0,1,2,3,4,5,6,7,8,9] # esto es una LISTA (mutable) explícita de los digitos (0 al 9)\n",
        "#digits=(0,1,2,3,4,5,6,7,8,9) # esto es una TUPLA (similar a una LISTA pero INmutable) explícita de los digitos (0 al 9)\n",
        "#digits={0,1,2,3,4,5,6,7,8,9} # esto es un CONJUNTO (mutable) explícito de los digitos (0 al 9): Un conjunto es una colección desordenada de elementos (SET: propiedades matemáticas)\n",
        "#digits={0:\"Juan0\",1:\"Juan1\",2:\"Juan2\",3:\"Juan3\",4:\"Juan4\",5:\"Juan5\",6:\"Juan6\",7:\"Juan7\",8:\"Juan8\",9:\"Juan9\"} # esto es un DICCIONARIO (mutable) explícito de {digito:nombre}=={key:value}\n",
        "#digits={\"Juan0\":0,\"Juan1\":1,\"Juan2\":2,\"Juan3\":3,\"Juan4\":4,\"Juan5\":5,\"Juan6\":6,\"Juan7\":7,\"Juan8\":9,\"Juan9\":9} # esto es un DICCIONARIO (mutable) explícito de {nombre:digito}=={key:value}\n",
        "for digit in digits:\n",
        "  print(digit) #imprime el contenido de la lista: lo que hay en la posición  \n",
        "  #print(digits[digit]) # NO SE PUEDE ACCEDER A LAS POSICIONES DE LOS CONJUNTOS PORQUE ELLOS NO TIENEN ORDEN\n",
        "#print(\"Se mostraron en pantalla los digitos del 0 al 9\") \n",
        "print(\"Longitud, máximo, mínimo, suma:\") \n",
        "print(len(digits))\n",
        "print(max(digits))\n",
        "print(min(digits))\n",
        "print(sum(digits)) # no funciona si es una cadena o un diccionario de llaves tipo cadena\n",
        "tamano=len(digits)# del 0 al 9 hay 10 digitos\n",
        "suma=sum(digits)# suma del 0 al 9: 0+1+2+...+8+9=45\n",
        "promedio=suma/tamano\n",
        "print(\"El promedio es:\") \n",
        "print(promedio)"
      ],
      "execution_count": null,
      "outputs": [
        {
          "output_type": "stream",
          "text": [
            "0\n",
            "1\n",
            "2\n",
            "3\n",
            "4\n",
            "5\n",
            "6\n",
            "7\n",
            "8\n",
            "9\n",
            "Longitud, máximo, mínimo, suma:\n",
            "10\n",
            "9\n",
            "0\n",
            "45\n",
            "El promedio es:\n",
            "4.5\n"
          ],
          "name": "stdout"
        }
      ]
    },
    {
      "cell_type": "code",
      "metadata": {
        "colab": {
          "base_uri": "https://localhost:8080/"
        },
        "id": "8yrNGb309oXi",
        "outputId": "ceb6cf96-7a34-4576-f87a-cfd248321a7f"
      },
      "source": [
        "type(digits)"
      ],
      "execution_count": null,
      "outputs": [
        {
          "output_type": "execute_result",
          "data": {
            "text/plain": [
              "list"
            ]
          },
          "metadata": {
            "tags": []
          },
          "execution_count": 8
        }
      ]
    },
    {
      "cell_type": "code",
      "metadata": {
        "id": "crLFfysE9r6v"
      },
      "source": [
        "digits.append(10)"
      ],
      "execution_count": null,
      "outputs": []
    },
    {
      "cell_type": "code",
      "metadata": {
        "colab": {
          "base_uri": "https://localhost:8080/"
        },
        "id": "KGXO4-YS9u6h",
        "outputId": "d6b8c5a3-c3a6-4d26-beeb-fd0a8ccd681f"
      },
      "source": [
        "print(digits)"
      ],
      "execution_count": null,
      "outputs": [
        {
          "output_type": "stream",
          "text": [
            "[0, 1, 2, 3, 4, 5, 6, 7, 8, 9, 10]\n"
          ],
          "name": "stdout"
        }
      ]
    },
    {
      "cell_type": "code",
      "metadata": {
        "id": "5njHS9769ywF"
      },
      "source": [
        "digits[0]=10"
      ],
      "execution_count": null,
      "outputs": []
    },
    {
      "cell_type": "code",
      "metadata": {
        "colab": {
          "base_uri": "https://localhost:8080/"
        },
        "id": "KQBVHYs5929i",
        "outputId": "999c41cc-28c3-4cff-8fda-39cd0a1dc361"
      },
      "source": [
        "digits"
      ],
      "execution_count": null,
      "outputs": [
        {
          "output_type": "execute_result",
          "data": {
            "text/plain": [
              "[10, 1, 2, 3, 4, 5, 6, 7, 8, 9, 10]"
            ]
          },
          "metadata": {
            "tags": []
          },
          "execution_count": 12
        }
      ]
    },
    {
      "cell_type": "code",
      "metadata": {
        "colab": {
          "base_uri": "https://localhost:8080/"
        },
        "id": "AwY_nJkd9ebG",
        "outputId": "9102061e-a2b1-473b-fc82-1a25827e253a"
      },
      "source": [
        "#HAGAMOS OTRAS PRUEBAS:TUPLAS\n",
        "#EJEMPLO SENCILLO DE FOR: mostrar los digitos en pantalla\n",
        "# \"digits:0,...,9\" existen varias formas de \"agrupar\" los digitos\n",
        "#digits=range(10) # por defecto range(n) entrega un rango de numeros enteros entre 0 y n-1 (de uno en uno): 0,1,..,8,9 (del 0 al 9)\n",
        "#digits=\"yFelipe\" # esto es una CADENA (INmutable) explícita de los digitos (0 al 9)\n",
        "#digits=\"0123456789\" # esto es una CADENA (INmutable) explícita de los digitos (0 al 9)\n",
        "#digits=[0,1,2,3,4,5,6,7,8,9] # esto es una LISTA (mutable) explícita de los digitos (0 al 9)\n",
        "digits=(0,1,2,3,4,5,6,7,8,9) # esto es una TUPLA (similar a una LISTA pero INmutable) explícita de los digitos (0 al 9)\n",
        "#digits={0,1,2,3,4,5,6,7,8,9} # esto es un CONJUNTO (mutable) explícito de los digitos (0 al 9): Un conjunto es una colección desordenada de elementos (SET: propiedades matemáticas)\n",
        "#digits={0:\"Juan0\",1:\"Juan1\",2:\"Juan2\",3:\"Juan3\",4:\"Juan4\",5:\"Juan5\",6:\"Juan6\",7:\"Juan7\",8:\"Juan8\",9:\"Juan9\"} # esto es un DICCIONARIO (mutable) explícito de {digito:nombre}=={key:value}\n",
        "#digits={\"Juan0\":0,\"Juan1\":1,\"Juan2\":2,\"Juan3\":3,\"Juan4\":4,\"Juan5\":5,\"Juan6\":6,\"Juan7\":7,\"Juan8\":9,\"Juan9\":9} # esto es un DICCIONARIO (mutable) explícito de {nombre:digito}=={key:value}\n",
        "for digit in digits:\n",
        "  print(digit) #imprime el contenido de la tupla: lo que hay en la posición  \n",
        "  #print(digits[digit]) # NO SE PUEDE ACCEDER A LAS POSICIONES DE LOS CONJUNTOS PORQUE ELLOS NO TIENEN ORDEN\n",
        "#print(\"Se mostraron en pantalla los digitos del 0 al 9\") \n",
        "print(\"Longitud, máximo, mínimo, suma:\") \n",
        "print(len(digits))\n",
        "print(max(digits))\n",
        "print(min(digits))\n",
        "print(sum(digits)) # no funciona si es una cadena o un diccionario de llaves tipo cadena\n",
        "tamano=len(digits)# del 0 al 9 hay 10 digitos\n",
        "suma=sum(digits)# suma del 0 al 9: 0+1+2+...+8+9=45\n",
        "promedio=suma/tamano\n",
        "print(\"El promedio es:\") \n",
        "print(promedio)"
      ],
      "execution_count": null,
      "outputs": [
        {
          "output_type": "stream",
          "text": [
            "0\n",
            "1\n",
            "2\n",
            "3\n",
            "4\n",
            "5\n",
            "6\n",
            "7\n",
            "8\n",
            "9\n",
            "Longitud, máximo, mínimo, suma:\n",
            "10\n",
            "9\n",
            "0\n",
            "45\n",
            "El promedio es:\n",
            "4.5\n"
          ],
          "name": "stdout"
        }
      ]
    },
    {
      "cell_type": "code",
      "metadata": {
        "colab": {
          "base_uri": "https://localhost:8080/"
        },
        "id": "ufTM3Iw58TVa",
        "outputId": "dcfd4642-be0d-4795-86c6-e9f3ecc115fd"
      },
      "source": [
        "type(digits)"
      ],
      "execution_count": null,
      "outputs": [
        {
          "output_type": "execute_result",
          "data": {
            "text/plain": [
              "tuple"
            ]
          },
          "metadata": {
            "tags": []
          },
          "execution_count": 3
        }
      ]
    },
    {
      "cell_type": "code",
      "metadata": {
        "colab": {
          "base_uri": "https://localhost:8080/",
          "height": 167
        },
        "id": "Brwj6Qeb8Lbm",
        "outputId": "be5ea67a-6043-408d-ddc8-8eec2493d645"
      },
      "source": [
        "digits[0]=10"
      ],
      "execution_count": null,
      "outputs": [
        {
          "output_type": "error",
          "ename": "TypeError",
          "evalue": "ignored",
          "traceback": [
            "\u001b[0;31m---------------------------------------------------------------------------\u001b[0m",
            "\u001b[0;31mTypeError\u001b[0m                                 Traceback (most recent call last)",
            "\u001b[0;32m<ipython-input-4-4c4419092914>\u001b[0m in \u001b[0;36m<module>\u001b[0;34m()\u001b[0m\n\u001b[0;32m----> 1\u001b[0;31m \u001b[0mdigits\u001b[0m\u001b[0;34m[\u001b[0m\u001b[0;36m0\u001b[0m\u001b[0;34m]\u001b[0m\u001b[0;34m=\u001b[0m\u001b[0;36m10\u001b[0m\u001b[0;34m\u001b[0m\u001b[0;34m\u001b[0m\u001b[0m\n\u001b[0m",
            "\u001b[0;31mTypeError\u001b[0m: 'tuple' object does not support item assignment"
          ]
        }
      ]
    },
    {
      "cell_type": "code",
      "metadata": {
        "colab": {
          "base_uri": "https://localhost:8080/"
        },
        "id": "fLmTJf6u8f3B",
        "outputId": "59761719-fc39-4a48-92a9-5d73af2bc95b"
      },
      "source": [
        "type(digits)"
      ],
      "execution_count": null,
      "outputs": [
        {
          "output_type": "execute_result",
          "data": {
            "text/plain": [
              "tuple"
            ]
          },
          "metadata": {
            "tags": []
          },
          "execution_count": 5
        }
      ]
    },
    {
      "cell_type": "code",
      "metadata": {
        "colab": {
          "base_uri": "https://localhost:8080/",
          "height": 167
        },
        "id": "_KYu1Ijt8m63",
        "outputId": "a929a1ea-5a86-4d38-e20b-2f71fde7bd2b"
      },
      "source": [
        "digits.append(10)"
      ],
      "execution_count": null,
      "outputs": [
        {
          "output_type": "error",
          "ename": "AttributeError",
          "evalue": "ignored",
          "traceback": [
            "\u001b[0;31m---------------------------------------------------------------------------\u001b[0m",
            "\u001b[0;31mAttributeError\u001b[0m                            Traceback (most recent call last)",
            "\u001b[0;32m<ipython-input-6-d7ef205ff1ee>\u001b[0m in \u001b[0;36m<module>\u001b[0;34m()\u001b[0m\n\u001b[0;32m----> 1\u001b[0;31m \u001b[0mdigits\u001b[0m\u001b[0;34m.\u001b[0m\u001b[0mappend\u001b[0m\u001b[0;34m(\u001b[0m\u001b[0;36m10\u001b[0m\u001b[0;34m)\u001b[0m\u001b[0;34m\u001b[0m\u001b[0;34m\u001b[0m\u001b[0m\n\u001b[0m",
            "\u001b[0;31mAttributeError\u001b[0m: 'tuple' object has no attribute 'append'"
          ]
        }
      ]
    },
    {
      "cell_type": "code",
      "metadata": {
        "colab": {
          "base_uri": "https://localhost:8080/"
        },
        "id": "aUkzWCraqtKw",
        "outputId": "ceacda7b-e3bf-4f6d-847e-0e55f4639c2c"
      },
      "source": [
        "#EJEMPLO SENCILLO DE FOR: mostrar los digitos en pantalla\n",
        "#digits=0,...,9 # existen varias formas de \"agrupar\" los digitos\n",
        "#digits=range(10) # por defecto range(n) entrega un rango de numeros enteros entre 0 y n-1 (de uno en uno): 0,1,..,8,9 (del 0 al 9)\n",
        "#digits=[0,1,2,3,4,5,6,7,8,9] # esto es una LISTA explícita de los digitos (0 al 9)\n",
        "nombres=['Juan0','Juan1','Juan2','Juan3','Juan4','Juan5','Juan6','Juan7','Juan8','Juan9'] # esto es una LISTA explícita de 10 nombres (las posiciones de la lista en Python van desde 0 hasta el numero de elementos-1)\n",
        "#for digit in digits:\n",
        "for nombre in nombres:\n",
        "  print(nombre) #imprime el contenido de la lista: lo que hay en la posición\n",
        "#print(\"Se mostraron en pantalla los digitos del 0 al 9\") "
      ],
      "execution_count": null,
      "outputs": [
        {
          "output_type": "stream",
          "text": [
            "Juan0\n",
            "Juan1\n",
            "Juan2\n",
            "Juan3\n",
            "Juan4\n",
            "Juan5\n",
            "Juan6\n",
            "Juan7\n",
            "Juan8\n",
            "Juan9\n"
          ],
          "name": "stdout"
        }
      ]
    },
    {
      "cell_type": "code",
      "metadata": {
        "colab": {
          "base_uri": "https://localhost:8080/"
        },
        "id": "NOiqrq_L81XA",
        "outputId": "585fe76d-93c6-4731-8a98-4bd74d395034"
      },
      "source": [
        "#HAGAMOS OTRAS PRUEBAS:CONJUNTOS\n",
        "#EJEMPLO SENCILLO DE FOR: mostrar los digitos en pantalla\n",
        "# \"digits:0,...,9\" existen varias formas de \"agrupar\" los digitos\n",
        "#digits=range(10) # por defecto range(n) entrega un rango de numeros enteros entre 0 y n-1 (de uno en uno): 0,1,..,8,9 (del 0 al 9)\n",
        "#digits=\"yFelipe\" # esto es una CADENA (INmutable) explícita de los digitos (0 al 9)\n",
        "#digits=\"0123456789\" # esto es una CADENA (INmutable) explícita de los digitos (0 al 9)\n",
        "#digits=[0,1,2,3,4,5,6,7,8,9] # esto es una LISTA (mutable) explícita de los digitos (0 al 9)\n",
        "#digits=(0,1,2,3,4,5,6,7,8,9) # esto es una TUPLA (similar a una LISTA pero INmutable) explícita de los digitos (0 al 9)\n",
        "digits={0,1,2,3,4,5,6,7,8,9} # esto es un CONJUNTO (mutable) explícito de los digitos (0 al 9): Un conjunto es una colección desordenada de elementos (SET: mismas propiedades y operaciones matemáticas)\n",
        "#digits={0:\"Juan0\",1:\"Juan1\",2:\"Juan2\",3:\"Juan3\",4:\"Juan4\",5:\"Juan5\",6:\"Juan6\",7:\"Juan7\",8:\"Juan8\",9:\"Juan9\"} # esto es un DICCIONARIO (mutable) explícito de {digito:nombre}=={key:value}\n",
        "#digits={\"Juan0\":0,\"Juan1\":1,\"Juan2\":2,\"Juan3\":3,\"Juan4\":4,\"Juan5\":5,\"Juan6\":6,\"Juan7\":7,\"Juan8\":9,\"Juan9\":9} # esto es un DICCIONARIO (mutable) explícito de {nombre:digito}=={key:value}\n",
        "for digit in digits:\n",
        "  print(digit) #imprime el contenido del conjunto (elementos)\n",
        "  #print(digits[digit]) # NO SE PUEDE ACCEDER A LAS POSICIONES DE LOS CONJUNTOS PORQUE ELLOS NO TIENEN ORDEN\n",
        "#print(\"Se mostraron en pantalla los digitos del 0 al 9\") \n",
        "print(\"Longitud, máximo, mínimo, suma:\") \n",
        "print(len(digits))\n",
        "print(max(digits))\n",
        "print(min(digits))\n",
        "print(sum(digits)) # no funciona si es una cadena o un diccionario de llaves tipo cadena\n",
        "tamano=len(digits)# del 0 al 9 hay 10 digitos\n",
        "suma=sum(digits)# suma del 0 al 9: 0+1+2+...+8+9=45\n",
        "promedio=suma/tamano\n",
        "print(\"El promedio es:\") \n",
        "print(promedio)"
      ],
      "execution_count": null,
      "outputs": [
        {
          "output_type": "stream",
          "text": [
            "0\n",
            "1\n",
            "2\n",
            "3\n",
            "4\n",
            "5\n",
            "6\n",
            "7\n",
            "8\n",
            "9\n",
            "Longitud, máximo, mínimo, suma:\n",
            "10\n",
            "9\n",
            "0\n",
            "45\n",
            "El promedio es:\n",
            "4.5\n"
          ],
          "name": "stdout"
        }
      ]
    },
    {
      "cell_type": "code",
      "metadata": {
        "colab": {
          "base_uri": "https://localhost:8080/"
        },
        "id": "BDuhqR09-RT1",
        "outputId": "957ec632-5099-4c5a-d7f7-7127ca2865b9"
      },
      "source": [
        "type(digits)"
      ],
      "execution_count": null,
      "outputs": [
        {
          "output_type": "execute_result",
          "data": {
            "text/plain": [
              "set"
            ]
          },
          "metadata": {
            "tags": []
          },
          "execution_count": 14
        }
      ]
    },
    {
      "cell_type": "code",
      "metadata": {
        "colab": {
          "base_uri": "https://localhost:8080/"
        },
        "id": "WdVAk9P6-p4J",
        "outputId": "8d07bcce-e192-42b0-bf5d-59671268aa29"
      },
      "source": [
        "digits={0,0,1,2,3,4,5,5,5,6,7,8,9,9}\n",
        "print(digits)"
      ],
      "execution_count": null,
      "outputs": [
        {
          "output_type": "stream",
          "text": [
            "{0, 1, 2, 3, 4, 5, 6, 7, 8, 9}\n"
          ],
          "name": "stdout"
        }
      ]
    },
    {
      "cell_type": "code",
      "metadata": {
        "colab": {
          "base_uri": "https://localhost:8080/",
          "height": 836
        },
        "id": "KkcQ7QXDxknP",
        "outputId": "2167b2bd-ba01-4206-fccc-0cfe0325e769"
      },
      "source": [
        "#HAGAMOS OTRAS PRUEBAS:DICCIONARIOS (forma1)\n",
        "#EJEMPLO SENCILLO DE FOR: mostrar los digitos en pantalla\n",
        "# \"digits:0,...,9\" existen varias formas de \"agrupar\" los digitos\n",
        "#digits=range(10) # por defecto range(n) entrega un rango de numeros enteros entre 0 y n-1 (de uno en uno): 0,1,..,8,9 (del 0 al 9)\n",
        "#digits=\"yFelipe\" # esto es una CADENA (INmutable) explícita de los digitos (0 al 9)\n",
        "#digits=\"0123456789\" # esto es una CADENA (INmutable) explícita de los digitos (0 al 9)\n",
        "#digits=[0,1,2,3,4,5,6,7,8,9] # esto es una LISTA (mutable) explícita de los digitos (0 al 9)\n",
        "#digits=(0,1,2,3,4,5,6,7,8,9) # esto es una TUPLA (similar a una LISTA pero INmutable) explícita de los digitos (0 al 9)\n",
        "#digits={0,1,2,3,4,5,6,7,8,9} # esto es un CONJUNTO (mutable) explícito de los digitos (0 al 9): Un conjunto es una colección desordenada de elementos (SET: propiedades matemáticas)\n",
        "#digits1={\"utopía\":\"algo difícil de lograr\",\"Juan1\":1,\"Juan2\":2,\"Juan3\":3,\"Juan4\":4,\"Juan5\":5,\"Juan6\":6,\"Juan7\":7,\"Juan8\":9,\"Juan9\":9} # esto es un DICCIONARIO (mutable) explícito de {nombre:digito}=={key:value}\n",
        "digits1={\"Juan0\":0,\"Juan1\":1,\"Juan2\":2,\"Juan3\":3,\"Juan4\":4,\"Juan5\":5,\"Juan6\":6,\"Juan7\":7,\"Juan8\":9,\"Juan9\":9} # esto es un DICCIONARIO (mutable) explícito de {nombre:digito}=={key:value}\n",
        "#digits1={0:\"Juan0\",1:\"Juan1\",2:\"Juan2\",3:\"Juan3\",4:\"Juan4\",5:\"Juan5\",6:\"Juan6\",7:\"Juan7\",8:\"Juan8\",9:\"Juan9\"} # esto es un DICCIONARIO (mutable) explícito de {digito:nombre}=={key:value}\n",
        "#digits={\"Juan0\":0,\"Juan1\":1,\"Juan2\":2,\"Juan3\":3,\"Juan4\":4,\"Juan5\":5,\"Juan6\":6,\"Juan7\":7,\"Juan8\":9,\"Juan9\":9} # esto es un DICCIONARIO (mutable) explícito de {nombre:digito}=={key:value}\n",
        "for digit in digits1:\n",
        "  print(digit) #imprime cada llave del dict (key)\n",
        "  print(digits1[digit]) #imprime cada valor asociado a una llave del dict (value)\n",
        "  print()\n",
        "#print(\"Se mostraron en pantalla los digitos del 0 al 9\") \n",
        "print(\"Longitud, máximo, mínimo, suma:\") \n",
        "print(len(digits1))\n",
        "print(max(digits1)) # max de las claves\n",
        "print(min(digits1)) ## min de las claves\n",
        "print(sum(digits1)) # no funciona si es una cadena o un diccionario de llaves tipo cadena\n",
        "tamano=len(digits1)# del 0 al 9 hay 10 digitos\n",
        "suma=sum(digits1)# suma del 0 al 9: 0+1+2+...+8+9=45\n",
        "promedio=suma/tamano\n",
        "print(\"El promedio es:\") \n",
        "print(promedio)"
      ],
      "execution_count": null,
      "outputs": [
        {
          "output_type": "stream",
          "text": [
            "Juan0\n",
            "0\n",
            "\n",
            "Juan1\n",
            "1\n",
            "\n",
            "Juan2\n",
            "2\n",
            "\n",
            "Juan3\n",
            "3\n",
            "\n",
            "Juan4\n",
            "4\n",
            "\n",
            "Juan5\n",
            "5\n",
            "\n",
            "Juan6\n",
            "6\n",
            "\n",
            "Juan7\n",
            "7\n",
            "\n",
            "Juan8\n",
            "9\n",
            "\n",
            "Juan9\n",
            "9\n",
            "\n",
            "Longitud, máximo, mínimo, suma:\n",
            "10\n",
            "Juan9\n",
            "Juan0\n"
          ],
          "name": "stdout"
        },
        {
          "output_type": "error",
          "ename": "TypeError",
          "evalue": "ignored",
          "traceback": [
            "\u001b[0;31m---------------------------------------------------------------------------\u001b[0m",
            "\u001b[0;31mTypeError\u001b[0m                                 Traceback (most recent call last)",
            "\u001b[0;32m<ipython-input-16-44f548e9b990>\u001b[0m in \u001b[0;36m<module>\u001b[0;34m()\u001b[0m\n\u001b[1;32m     20\u001b[0m \u001b[0mprint\u001b[0m\u001b[0;34m(\u001b[0m\u001b[0mmax\u001b[0m\u001b[0;34m(\u001b[0m\u001b[0mdigits1\u001b[0m\u001b[0;34m)\u001b[0m\u001b[0;34m)\u001b[0m \u001b[0;31m# max de las claves\u001b[0m\u001b[0;34m\u001b[0m\u001b[0;34m\u001b[0m\u001b[0m\n\u001b[1;32m     21\u001b[0m \u001b[0mprint\u001b[0m\u001b[0;34m(\u001b[0m\u001b[0mmin\u001b[0m\u001b[0;34m(\u001b[0m\u001b[0mdigits1\u001b[0m\u001b[0;34m)\u001b[0m\u001b[0;34m)\u001b[0m \u001b[0;31m## min de las claves\u001b[0m\u001b[0;34m\u001b[0m\u001b[0;34m\u001b[0m\u001b[0m\n\u001b[0;32m---> 22\u001b[0;31m \u001b[0mprint\u001b[0m\u001b[0;34m(\u001b[0m\u001b[0msum\u001b[0m\u001b[0;34m(\u001b[0m\u001b[0mdigits1\u001b[0m\u001b[0;34m)\u001b[0m\u001b[0;34m)\u001b[0m \u001b[0;31m# no funciona si es una cadena o un diccionario de llaves tipo cadena\u001b[0m\u001b[0;34m\u001b[0m\u001b[0;34m\u001b[0m\u001b[0m\n\u001b[0m\u001b[1;32m     23\u001b[0m \u001b[0mtamano\u001b[0m\u001b[0;34m=\u001b[0m\u001b[0mlen\u001b[0m\u001b[0;34m(\u001b[0m\u001b[0mdigits1\u001b[0m\u001b[0;34m)\u001b[0m\u001b[0;31m# del 0 al 9 hay 10 digitos\u001b[0m\u001b[0;34m\u001b[0m\u001b[0;34m\u001b[0m\u001b[0m\n\u001b[1;32m     24\u001b[0m \u001b[0msuma\u001b[0m\u001b[0;34m=\u001b[0m\u001b[0msum\u001b[0m\u001b[0;34m(\u001b[0m\u001b[0mdigits1\u001b[0m\u001b[0;34m)\u001b[0m\u001b[0;31m# suma del 0 al 9: 0+1+2+...+8+9=45\u001b[0m\u001b[0;34m\u001b[0m\u001b[0;34m\u001b[0m\u001b[0m\n",
            "\u001b[0;31mTypeError\u001b[0m: unsupported operand type(s) for +: 'int' and 'str'"
          ]
        }
      ]
    },
    {
      "cell_type": "code",
      "metadata": {
        "colab": {
          "base_uri": "https://localhost:8080/"
        },
        "id": "6apmlP8A79HH",
        "outputId": "8ccf69a8-0f1b-4f86-a709-d5b5cf4d9d42"
      },
      "source": [
        "#HAGAMOS OTRAS PRUEBAS:DICCIONARIOS (forma2)\n",
        "#EJEMPLO SENCILLO DE FOR: mostrar los digitos en pantalla\n",
        "# \"digits:0,...,9\" existen varias formas de \"agrupar\" los digitos\n",
        "#digits=range(10) # por defecto range(n) entrega un rango de numeros enteros entre 0 y n-1 (de uno en uno): 0,1,..,8,9 (del 0 al 9)\n",
        "#digits=\"yFelipe\" # esto es una CADENA (INmutable) explícita de los digitos (0 al 9)\n",
        "#digits=\"0123456789\" # esto es una CADENA (INmutable) explícita de los digitos (0 al 9)\n",
        "#digits=[0,1,2,3,4,5,6,7,8,9] # esto es una LISTA (mutable) explícita de los digitos (0 al 9)\n",
        "#digits=(0,1,2,3,4,5,6,7,8,9) # esto es una TUPLA (similar a una LISTA pero INmutable) explícita de los digitos (0 al 9)\n",
        "#digits={0,1,2,3,4,5,6,7,8,9} # esto es un CONJUNTO (mutable) explícito de los digitos (0 al 9): Un conjunto es una colección desordenada de elementos (SET: propiedades matemáticas)\n",
        "#digits1={0:\"Juan0\",1:\"Juan1\",2:\"Juan2\",3:\"Juan3\",4:\"Juan4\",5:\"Juan5\",6:\"Juan6\",7:\"Juan7\",8:\"Juan8\",9:\"Juan9\"} # esto es un DICCIONARIO (mutable) explícito de {digito:nombre}=={key:value}\n",
        "#digits1={(\"Juan0\",\"Perez0\"):1039876,\"Juan1\":1,\"Juan2\":2,\"Juan3\":3,\"Juan4\":4,\"Juan5\":5,\"Juan6\":6,\"Juan7\":7,\"Juan8\":9,\"Juan9\":9} # esto es un DICCIONARIO (mutable) explícito de {nombre:digito}=={key:value}\n",
        "#digits1={\"Juan0\":0,\"Juan1\":1,\"Juan2\":2,\"Juan3\":3,\"Juan4\":4,\"Juan5\":5,\"Juan6\":6,\"Juan7\":7,\"Juan8\":9,\"Juan9\":9} # esto es un DICCIONARIO (mutable) explícito de {nombre:digito}=={key:value}\n",
        "digits1={0:\"Juan0\",1:\"Juan1\",2:\"Juan2\",3:\"Juan3\",4:\"Juan4\",5:\"Juan5\",6:\"Juan6\",7:\"Juan7\",8:\"Juan8\",9:\"Juan9\"} # esto es un DICCIONARIO (mutable) explícito de {digito:nombre}=={key:value}\n",
        "for digit in digits1:\n",
        "  print(digit) #imprime cada llave del dict (key)\n",
        "  print()\n",
        "  print(digits1[digit]) #imprime cada valor asociado a una llave del dict (value)\n",
        "  print()\n",
        "  print()\n",
        "\n",
        "#print(\"Se mostraron en pantalla los digitos del 0 al 9\") \n",
        "print(\"Longitud, máximo, mínimo, suma:\") \n",
        "print(len(digits1))\n",
        "print(max(digits1))\n",
        "print(min(digits1))\n",
        "print(sum(digits1)) # no funciona si es una cadena o un diccionario de llaves tipo cadena\n",
        "tamano=len(digits1)# del 0 al 9 hay 10 digitos\n",
        "suma=sum(digits1)# suma del 0 al 9: 0+1+2+...+8+9=45\n",
        "promedio=suma/tamano\n",
        "print(\"El promedio es:\") \n",
        "print(promedio)"
      ],
      "execution_count": null,
      "outputs": [
        {
          "output_type": "stream",
          "text": [
            "0\n",
            "\n",
            "Juan0\n",
            "\n",
            "\n",
            "1\n",
            "\n",
            "Juan1\n",
            "\n",
            "\n",
            "2\n",
            "\n",
            "Juan2\n",
            "\n",
            "\n",
            "3\n",
            "\n",
            "Juan3\n",
            "\n",
            "\n",
            "4\n",
            "\n",
            "Juan4\n",
            "\n",
            "\n",
            "5\n",
            "\n",
            "Juan5\n",
            "\n",
            "\n",
            "6\n",
            "\n",
            "Juan6\n",
            "\n",
            "\n",
            "7\n",
            "\n",
            "Juan7\n",
            "\n",
            "\n",
            "8\n",
            "\n",
            "Juan8\n",
            "\n",
            "\n",
            "9\n",
            "\n",
            "Juan9\n",
            "\n",
            "\n",
            "Longitud, máximo, mínimo, suma:\n",
            "10\n",
            "9\n",
            "0\n",
            "45\n",
            "El promedio es:\n",
            "4.5\n"
          ],
          "name": "stdout"
        }
      ]
    },
    {
      "cell_type": "code",
      "metadata": {
        "colab": {
          "base_uri": "https://localhost:8080/"
        },
        "id": "ZjeM7-0OCyvJ",
        "outputId": "cf37e35d-aa51-42d6-dcf2-976ba57038f0"
      },
      "source": [
        "type(digits1)"
      ],
      "execution_count": null,
      "outputs": [
        {
          "output_type": "execute_result",
          "data": {
            "text/plain": [
              "dict"
            ]
          },
          "metadata": {
            "tags": []
          },
          "execution_count": 18
        }
      ]
    },
    {
      "cell_type": "markdown",
      "metadata": {
        "id": "3WgP9M_sIzkB"
      },
      "source": [
        "# Notación científica (cifras significativas y redondeo) en Python:"
      ]
    },
    {
      "cell_type": "code",
      "metadata": {
        "colab": {
          "base_uri": "https://localhost:8080/",
          "height": 35
        },
        "id": "BDQjpsFIFN_S",
        "outputId": "8e97c0e9-dc6f-47ed-df2e-0473986289d9"
      },
      "source": [
        "import numpy #as np\n",
        "#np.format_float_scientfic(3.141633333333333)\n",
        "numpy.format_float_scientific(25.4)"
      ],
      "execution_count": null,
      "outputs": [
        {
          "output_type": "execute_result",
          "data": {
            "application/vnd.google.colaboratory.intrinsic+json": {
              "type": "string"
            },
            "text/plain": [
              "'2.54e+01'"
            ]
          },
          "metadata": {
            "tags": []
          },
          "execution_count": 26
        }
      ]
    },
    {
      "cell_type": "code",
      "metadata": {
        "colab": {
          "base_uri": "https://localhost:8080/",
          "height": 35
        },
        "id": "3zyvXR1VF80_",
        "outputId": "a4ef7974-2a9b-4ded-ce56-70215f209940"
      },
      "source": [
        "numpy.format_float_scientific(25.444444,3)"
      ],
      "execution_count": null,
      "outputs": [
        {
          "output_type": "execute_result",
          "data": {
            "application/vnd.google.colaboratory.intrinsic+json": {
              "type": "string"
            },
            "text/plain": [
              "'2.544e+01'"
            ]
          },
          "metadata": {
            "tags": []
          },
          "execution_count": 27
        }
      ]
    },
    {
      "cell_type": "code",
      "metadata": {
        "colab": {
          "base_uri": "https://localhost:8080/"
        },
        "id": "qU8yk6meGEIo",
        "outputId": "7cbbb461-78fc-436e-bc5f-3403e7267b6e"
      },
      "source": [
        "round(3.141633333333333,2)"
      ],
      "execution_count": null,
      "outputs": [
        {
          "output_type": "execute_result",
          "data": {
            "text/plain": [
              "3.14"
            ]
          },
          "metadata": {
            "tags": []
          },
          "execution_count": 28
        }
      ]
    },
    {
      "cell_type": "code",
      "metadata": {
        "colab": {
          "base_uri": "https://localhost:8080/"
        },
        "id": "_bK9LNLo5hyU",
        "outputId": "8d601930-564e-44de-8cbd-d3ad46ecb72d"
      },
      "source": [
        "0+1+2+3+4+5+6+7+8+9"
      ],
      "execution_count": null,
      "outputs": [
        {
          "output_type": "execute_result",
          "data": {
            "text/plain": [
              "45"
            ]
          },
          "metadata": {
            "tags": []
          },
          "execution_count": 42
        }
      ]
    },
    {
      "cell_type": "code",
      "metadata": {
        "colab": {
          "base_uri": "https://localhost:8080/"
        },
        "id": "MS2ocp74mg91",
        "outputId": "39f20d1b-bb5f-4928-9e67-c3c1d3c9c372"
      },
      "source": [
        "digits=range(10)\n",
        "print(digits)"
      ],
      "execution_count": null,
      "outputs": [
        {
          "output_type": "stream",
          "text": [
            "range(0, 10)\n"
          ],
          "name": "stdout"
        }
      ]
    },
    {
      "cell_type": "markdown",
      "metadata": {
        "id": "vMaC59BYG0C9"
      },
      "source": [
        "## while:"
      ]
    },
    {
      "cell_type": "markdown",
      "metadata": {
        "id": "LdWK2rWHTtjC"
      },
      "source": [
        "**Ejemplo tomado de:**\n",
        "\n",
        "https://www.w3schools.com/python/python_while_loops.asp"
      ]
    },
    {
      "cell_type": "code",
      "metadata": {
        "colab": {
          "base_uri": "https://localhost:8080/"
        },
        "id": "V8_z6lS6Tfed",
        "outputId": "567e06bb-e1bf-4645-9b75-48ce63190598"
      },
      "source": [
        "i = 1\n",
        "while i < 6:\n",
        "  print(i)\n",
        "  i=i+1\n",
        "  #i+=1"
      ],
      "execution_count": null,
      "outputs": [
        {
          "output_type": "stream",
          "text": [
            "1\n",
            "2\n",
            "3\n",
            "4\n",
            "5\n"
          ],
          "name": "stdout"
        }
      ]
    },
    {
      "cell_type": "markdown",
      "metadata": {
        "id": "q6OzQ4JuT06Z"
      },
      "source": [
        "**Ejemplo del Formador (Ing. Escallón):**"
      ]
    },
    {
      "cell_type": "code",
      "metadata": {
        "colab": {
          "base_uri": "https://localhost:8080/",
          "height": 1000
        },
        "id": "5FzCRjW5T0ba",
        "outputId": "6260037c-76b9-4f6e-ca40-9dbb577b11d4"
      },
      "source": [
        "# Hacer un ciclo que imprima un mensaje (varias veces: 2, 3, 4, ... n veces) cuando la variable de control sea par\n",
        "# Si la variable de control es impar, debe imprimir el mensaje una sola vez. \n",
        "\n",
        "condicion = True \n",
        "control=20 #par\n",
        "#while condicion==True:\n",
        "while condicion: # hace lo mismo que la linea de codigo anterior\n",
        "  if control%2!=0: #verificando si control es impar (no es par)\n",
        "    condicion=False # cambio la condicion\n",
        "  else:\n",
        "    print(\"control sigue siendo par\")\n",
        "  print(\"¡Primer uso de while en mi vida!\")  \n",
        "\n",
        "#OJO: Como este ciclo es infinito debemos parar la ejecución de la celda!  "
      ],
      "execution_count": null,
      "outputs": [
        {
          "output_type": "stream",
          "text": [
            "\u001b[1;30;43mSe han truncado las últimas 5000 líneas del flujo de salida.\u001b[0m\n",
            "control sigue siendo par\n",
            "¡Primer uso de while en mi vida!\n",
            "control sigue siendo par\n",
            "¡Primer uso de while en mi vida!\n",
            "control sigue siendo par\n",
            "¡Primer uso de while en mi vida!\n",
            "control sigue siendo par\n",
            "¡Primer uso de while en mi vida!\n",
            "control sigue siendo par\n",
            "¡Primer uso de while en mi vida!\n",
            "control sigue siendo par\n",
            "¡Primer uso de while en mi vida!\n",
            "control sigue siendo par\n",
            "¡Primer uso de while en mi vida!\n",
            "control sigue siendo par\n",
            "¡Primer uso de while en mi vida!\n",
            "control sigue siendo par\n",
            "¡Primer uso de while en mi vida!\n",
            "control sigue siendo par\n",
            "¡Primer uso de while en mi vida!\n",
            "control sigue siendo par\n",
            "¡Primer uso de while en mi vida!\n",
            "control sigue siendo par\n",
            "¡Primer uso de while en mi vida!\n",
            "control sigue siendo par\n",
            "¡Primer uso de while en mi vida!\n",
            "control sigue siendo par\n",
            "¡Primer uso de while en mi vida!\n",
            "control sigue siendo par\n",
            "¡Primer uso de while en mi vida!\n",
            "control sigue siendo par\n",
            "¡Primer uso de while en mi vida!\n",
            "control sigue siendo par\n",
            "¡Primer uso de while en mi vida!\n",
            "control sigue siendo par\n",
            "¡Primer uso de while en mi vida!\n",
            "control sigue siendo par\n",
            "¡Primer uso de while en mi vida!\n",
            "control sigue siendo par\n",
            "¡Primer uso de while en mi vida!\n",
            "control sigue siendo par\n",
            "¡Primer uso de while en mi vida!\n",
            "control sigue siendo par\n",
            "¡Primer uso de while en mi vida!\n",
            "control sigue siendo par\n",
            "¡Primer uso de while en mi vida!\n",
            "control sigue siendo par\n",
            "¡Primer uso de while en mi vida!\n",
            "control sigue siendo par\n",
            "¡Primer uso de while en mi vida!\n",
            "control sigue siendo par\n",
            "¡Primer uso de while en mi vida!\n",
            "control sigue siendo par\n",
            "¡Primer uso de while en mi vida!\n",
            "control sigue siendo par\n",
            "¡Primer uso de while en mi vida!\n",
            "control sigue siendo par\n",
            "¡Primer uso de while en mi vida!\n",
            "control sigue siendo par\n",
            "¡Primer uso de while en mi vida!\n",
            "control sigue siendo par\n",
            "¡Primer uso de while en mi vida!\n",
            "control sigue siendo par\n",
            "¡Primer uso de while en mi vida!\n",
            "control sigue siendo par\n",
            "¡Primer uso de while en mi vida!\n",
            "control sigue siendo par\n",
            "¡Primer uso de while en mi vida!\n",
            "control sigue siendo par\n",
            "¡Primer uso de while en mi vida!\n",
            "control sigue siendo par\n",
            "¡Primer uso de while en mi vida!\n",
            "control sigue siendo par\n",
            "¡Primer uso de while en mi vida!\n",
            "control sigue siendo par\n",
            "¡Primer uso de while en mi vida!\n",
            "control sigue siendo par\n",
            "¡Primer uso de while en mi vida!\n",
            "control sigue siendo par\n",
            "¡Primer uso de while en mi vida!\n",
            "control sigue siendo par\n",
            "¡Primer uso de while en mi vida!\n",
            "control sigue siendo par\n",
            "¡Primer uso de while en mi vida!\n",
            "control sigue siendo par\n",
            "¡Primer uso de while en mi vida!\n",
            "control sigue siendo par\n",
            "¡Primer uso de while en mi vida!\n",
            "control sigue siendo par\n",
            "¡Primer uso de while en mi vida!\n",
            "control sigue siendo par\n",
            "¡Primer uso de while en mi vida!\n",
            "control sigue siendo par\n",
            "¡Primer uso de while en mi vida!\n",
            "control sigue siendo par\n",
            "¡Primer uso de while en mi vida!\n",
            "control sigue siendo par\n",
            "¡Primer uso de while en mi vida!\n",
            "control sigue siendo par\n",
            "¡Primer uso de while en mi vida!\n",
            "control sigue siendo par\n",
            "¡Primer uso de while en mi vida!\n",
            "control sigue siendo par\n",
            "¡Primer uso de while en mi vida!\n",
            "control sigue siendo par\n",
            "¡Primer uso de while en mi vida!\n",
            "control sigue siendo par\n",
            "¡Primer uso de while en mi vida!\n",
            "control sigue siendo par\n",
            "¡Primer uso de while en mi vida!\n",
            "control sigue siendo par\n",
            "¡Primer uso de while en mi vida!\n",
            "control sigue siendo par\n",
            "¡Primer uso de while en mi vida!\n",
            "control sigue siendo par\n",
            "¡Primer uso de while en mi vida!\n",
            "control sigue siendo par\n",
            "¡Primer uso de while en mi vida!\n",
            "control sigue siendo par\n",
            "¡Primer uso de while en mi vida!\n",
            "control sigue siendo par\n",
            "¡Primer uso de while en mi vida!\n",
            "control sigue siendo par\n",
            "¡Primer uso de while en mi vida!\n",
            "control sigue siendo par\n",
            "¡Primer uso de while en mi vida!\n",
            "control sigue siendo par\n",
            "¡Primer uso de while en mi vida!\n",
            "control sigue siendo par\n",
            "¡Primer uso de while en mi vida!\n",
            "control sigue siendo par\n",
            "¡Primer uso de while en mi vida!\n",
            "control sigue siendo par\n",
            "¡Primer uso de while en mi vida!\n",
            "control sigue siendo par\n",
            "¡Primer uso de while en mi vida!\n",
            "control sigue siendo par\n",
            "¡Primer uso de while en mi vida!\n",
            "control sigue siendo par\n",
            "¡Primer uso de while en mi vida!\n",
            "control sigue siendo par\n",
            "¡Primer uso de while en mi vida!\n",
            "control sigue siendo par\n",
            "¡Primer uso de while en mi vida!\n",
            "control sigue siendo par\n",
            "¡Primer uso de while en mi vida!\n",
            "control sigue siendo par\n",
            "¡Primer uso de while en mi vida!\n",
            "control sigue siendo par\n",
            "¡Primer uso de while en mi vida!\n",
            "control sigue siendo par\n",
            "¡Primer uso de while en mi vida!\n",
            "control sigue siendo par\n",
            "¡Primer uso de while en mi vida!\n",
            "control sigue siendo par\n",
            "¡Primer uso de while en mi vida!\n",
            "control sigue siendo par\n",
            "¡Primer uso de while en mi vida!\n",
            "control sigue siendo par\n",
            "¡Primer uso de while en mi vida!\n",
            "control sigue siendo par\n",
            "¡Primer uso de while en mi vida!\n",
            "control sigue siendo par\n",
            "¡Primer uso de while en mi vida!\n",
            "control sigue siendo par\n",
            "¡Primer uso de while en mi vida!\n",
            "control sigue siendo par\n",
            "¡Primer uso de while en mi vida!\n",
            "control sigue siendo par\n",
            "¡Primer uso de while en mi vida!\n",
            "control sigue siendo par\n",
            "¡Primer uso de while en mi vida!\n",
            "control sigue siendo par\n",
            "¡Primer uso de while en mi vida!\n",
            "control sigue siendo par\n",
            "¡Primer uso de while en mi vida!\n",
            "control sigue siendo par\n",
            "¡Primer uso de while en mi vida!\n",
            "control sigue siendo par\n",
            "¡Primer uso de while en mi vida!\n",
            "control sigue siendo par\n",
            "¡Primer uso de while en mi vida!\n",
            "control sigue siendo par\n",
            "¡Primer uso de while en mi vida!\n",
            "control sigue siendo par\n",
            "¡Primer uso de while en mi vida!\n",
            "control sigue siendo par\n",
            "¡Primer uso de while en mi vida!\n",
            "control sigue siendo par\n",
            "¡Primer uso de while en mi vida!\n",
            "control sigue siendo par\n",
            "¡Primer uso de while en mi vida!\n",
            "control sigue siendo par\n",
            "¡Primer uso de while en mi vida!\n",
            "control sigue siendo par\n",
            "¡Primer uso de while en mi vida!\n",
            "control sigue siendo par\n",
            "¡Primer uso de while en mi vida!\n",
            "control sigue siendo par\n",
            "¡Primer uso de while en mi vida!\n",
            "control sigue siendo par\n",
            "¡Primer uso de while en mi vida!\n",
            "control sigue siendo par\n",
            "¡Primer uso de while en mi vida!\n",
            "control sigue siendo par\n",
            "¡Primer uso de while en mi vida!\n",
            "control sigue siendo par\n",
            "¡Primer uso de while en mi vida!\n",
            "control sigue siendo par\n",
            "¡Primer uso de while en mi vida!\n",
            "control sigue siendo par\n",
            "¡Primer uso de while en mi vida!\n",
            "control sigue siendo par\n",
            "¡Primer uso de while en mi vida!\n",
            "control sigue siendo par\n",
            "¡Primer uso de while en mi vida!\n",
            "control sigue siendo par\n",
            "¡Primer uso de while en mi vida!\n",
            "control sigue siendo par\n",
            "¡Primer uso de while en mi vida!\n",
            "control sigue siendo par\n",
            "¡Primer uso de while en mi vida!\n",
            "control sigue siendo par\n",
            "¡Primer uso de while en mi vida!\n",
            "control sigue siendo par\n",
            "¡Primer uso de while en mi vida!\n",
            "control sigue siendo par\n",
            "¡Primer uso de while en mi vida!\n",
            "control sigue siendo par\n",
            "¡Primer uso de while en mi vida!\n",
            "control sigue siendo par\n",
            "¡Primer uso de while en mi vida!\n",
            "control sigue siendo par\n",
            "¡Primer uso de while en mi vida!\n",
            "control sigue siendo par\n",
            "¡Primer uso de while en mi vida!\n",
            "control sigue siendo par\n",
            "¡Primer uso de while en mi vida!\n",
            "control sigue siendo par\n",
            "¡Primer uso de while en mi vida!\n",
            "control sigue siendo par\n",
            "¡Primer uso de while en mi vida!\n",
            "control sigue siendo par\n",
            "¡Primer uso de while en mi vida!\n",
            "control sigue siendo par\n",
            "¡Primer uso de while en mi vida!\n",
            "control sigue siendo par\n",
            "¡Primer uso de while en mi vida!\n",
            "control sigue siendo par\n",
            "¡Primer uso de while en mi vida!\n",
            "control sigue siendo par\n",
            "¡Primer uso de while en mi vida!\n",
            "control sigue siendo par\n",
            "¡Primer uso de while en mi vida!\n",
            "control sigue siendo par\n",
            "¡Primer uso de while en mi vida!\n",
            "control sigue siendo par\n",
            "¡Primer uso de while en mi vida!\n",
            "control sigue siendo par\n",
            "¡Primer uso de while en mi vida!\n",
            "control sigue siendo par\n",
            "¡Primer uso de while en mi vida!\n",
            "control sigue siendo par\n",
            "¡Primer uso de while en mi vida!\n",
            "control sigue siendo par\n",
            "¡Primer uso de while en mi vida!\n",
            "control sigue siendo par\n",
            "¡Primer uso de while en mi vida!\n",
            "control sigue siendo par\n",
            "¡Primer uso de while en mi vida!\n",
            "control sigue siendo par\n",
            "¡Primer uso de while en mi vida!\n",
            "control sigue siendo par\n",
            "¡Primer uso de while en mi vida!\n",
            "control sigue siendo par\n",
            "¡Primer uso de while en mi vida!\n",
            "control sigue siendo par\n",
            "¡Primer uso de while en mi vida!\n",
            "control sigue siendo par\n",
            "¡Primer uso de while en mi vida!\n",
            "control sigue siendo par\n",
            "¡Primer uso de while en mi vida!\n",
            "control sigue siendo par\n",
            "¡Primer uso de while en mi vida!\n",
            "control sigue siendo par\n",
            "¡Primer uso de while en mi vida!\n",
            "control sigue siendo par\n",
            "¡Primer uso de while en mi vida!\n",
            "control sigue siendo par\n",
            "¡Primer uso de while en mi vida!\n",
            "control sigue siendo par\n",
            "¡Primer uso de while en mi vida!\n",
            "control sigue siendo par\n",
            "¡Primer uso de while en mi vida!\n",
            "control sigue siendo par\n",
            "¡Primer uso de while en mi vida!\n",
            "control sigue siendo par\n",
            "¡Primer uso de while en mi vida!\n",
            "control sigue siendo par\n",
            "¡Primer uso de while en mi vida!\n",
            "control sigue siendo par\n",
            "¡Primer uso de while en mi vida!\n",
            "control sigue siendo par\n",
            "¡Primer uso de while en mi vida!\n",
            "control sigue siendo par\n",
            "¡Primer uso de while en mi vida!\n",
            "control sigue siendo par\n",
            "¡Primer uso de while en mi vida!\n",
            "control sigue siendo par\n",
            "¡Primer uso de while en mi vida!\n",
            "control sigue siendo par\n",
            "¡Primer uso de while en mi vida!\n",
            "control sigue siendo par\n",
            "¡Primer uso de while en mi vida!\n",
            "control sigue siendo par\n",
            "¡Primer uso de while en mi vida!\n",
            "control sigue siendo par\n",
            "¡Primer uso de while en mi vida!\n",
            "control sigue siendo par\n",
            "¡Primer uso de while en mi vida!\n",
            "control sigue siendo par\n",
            "¡Primer uso de while en mi vida!\n",
            "control sigue siendo par\n",
            "¡Primer uso de while en mi vida!\n",
            "control sigue siendo par\n",
            "¡Primer uso de while en mi vida!\n",
            "control sigue siendo par\n",
            "¡Primer uso de while en mi vida!\n",
            "control sigue siendo par\n",
            "¡Primer uso de while en mi vida!\n",
            "control sigue siendo par\n",
            "¡Primer uso de while en mi vida!\n",
            "control sigue siendo par\n",
            "¡Primer uso de while en mi vida!\n",
            "control sigue siendo par\n",
            "¡Primer uso de while en mi vida!\n",
            "control sigue siendo par\n",
            "¡Primer uso de while en mi vida!\n",
            "control sigue siendo par\n",
            "¡Primer uso de while en mi vida!\n",
            "control sigue siendo par\n",
            "¡Primer uso de while en mi vida!\n",
            "control sigue siendo par\n",
            "¡Primer uso de while en mi vida!\n",
            "control sigue siendo par\n",
            "¡Primer uso de while en mi vida!\n",
            "control sigue siendo par\n",
            "¡Primer uso de while en mi vida!\n",
            "control sigue siendo par\n",
            "¡Primer uso de while en mi vida!\n",
            "control sigue siendo par\n",
            "¡Primer uso de while en mi vida!\n",
            "control sigue siendo par\n",
            "¡Primer uso de while en mi vida!\n",
            "control sigue siendo par\n",
            "¡Primer uso de while en mi vida!\n",
            "control sigue siendo par\n",
            "¡Primer uso de while en mi vida!\n",
            "control sigue siendo par\n",
            "¡Primer uso de while en mi vida!\n",
            "control sigue siendo par\n",
            "¡Primer uso de while en mi vida!\n",
            "control sigue siendo par\n",
            "¡Primer uso de while en mi vida!\n",
            "control sigue siendo par\n",
            "¡Primer uso de while en mi vida!\n",
            "control sigue siendo par\n",
            "¡Primer uso de while en mi vida!\n",
            "control sigue siendo par\n",
            "¡Primer uso de while en mi vida!\n",
            "control sigue siendo par\n",
            "¡Primer uso de while en mi vida!\n",
            "control sigue siendo par\n",
            "¡Primer uso de while en mi vida!\n",
            "control sigue siendo par\n",
            "¡Primer uso de while en mi vida!\n",
            "control sigue siendo par\n",
            "¡Primer uso de while en mi vida!\n",
            "control sigue siendo par\n",
            "¡Primer uso de while en mi vida!\n",
            "control sigue siendo par\n",
            "¡Primer uso de while en mi vida!\n",
            "control sigue siendo par\n",
            "¡Primer uso de while en mi vida!\n",
            "control sigue siendo par\n",
            "¡Primer uso de while en mi vida!\n",
            "control sigue siendo par\n",
            "¡Primer uso de while en mi vida!\n",
            "control sigue siendo par\n",
            "¡Primer uso de while en mi vida!\n",
            "control sigue siendo par\n",
            "¡Primer uso de while en mi vida!\n",
            "control sigue siendo par\n",
            "¡Primer uso de while en mi vida!\n",
            "control sigue siendo par\n",
            "¡Primer uso de while en mi vida!\n",
            "control sigue siendo par\n",
            "¡Primer uso de while en mi vida!\n",
            "control sigue siendo par\n",
            "¡Primer uso de while en mi vida!\n",
            "control sigue siendo par\n",
            "¡Primer uso de while en mi vida!\n",
            "control sigue siendo par\n",
            "¡Primer uso de while en mi vida!\n",
            "control sigue siendo par\n",
            "¡Primer uso de while en mi vida!\n",
            "control sigue siendo par\n",
            "¡Primer uso de while en mi vida!\n",
            "control sigue siendo par\n",
            "¡Primer uso de while en mi vida!\n",
            "control sigue siendo par\n",
            "¡Primer uso de while en mi vida!\n",
            "control sigue siendo par\n",
            "¡Primer uso de while en mi vida!\n",
            "control sigue siendo par\n",
            "¡Primer uso de while en mi vida!\n",
            "control sigue siendo par\n",
            "¡Primer uso de while en mi vida!\n",
            "control sigue siendo par\n",
            "¡Primer uso de while en mi vida!\n",
            "control sigue siendo par\n",
            "¡Primer uso de while en mi vida!\n",
            "control sigue siendo par\n",
            "¡Primer uso de while en mi vida!\n",
            "control sigue siendo par\n",
            "¡Primer uso de while en mi vida!\n",
            "control sigue siendo par\n",
            "¡Primer uso de while en mi vida!\n",
            "control sigue siendo par\n",
            "¡Primer uso de while en mi vida!\n",
            "control sigue siendo par\n",
            "¡Primer uso de while en mi vida!\n",
            "control sigue siendo par\n",
            "¡Primer uso de while en mi vida!\n",
            "control sigue siendo par\n",
            "¡Primer uso de while en mi vida!\n",
            "control sigue siendo par\n",
            "¡Primer uso de while en mi vida!\n",
            "control sigue siendo par\n",
            "¡Primer uso de while en mi vida!\n",
            "control sigue siendo par\n",
            "¡Primer uso de while en mi vida!\n",
            "control sigue siendo par\n",
            "¡Primer uso de while en mi vida!\n",
            "control sigue siendo par\n",
            "¡Primer uso de while en mi vida!\n",
            "control sigue siendo par\n",
            "¡Primer uso de while en mi vida!\n",
            "control sigue siendo par\n",
            "¡Primer uso de while en mi vida!\n",
            "control sigue siendo par\n",
            "¡Primer uso de while en mi vida!\n",
            "control sigue siendo par\n",
            "¡Primer uso de while en mi vida!\n",
            "control sigue siendo par\n",
            "¡Primer uso de while en mi vida!\n",
            "control sigue siendo par\n",
            "¡Primer uso de while en mi vida!\n",
            "control sigue siendo par\n",
            "¡Primer uso de while en mi vida!\n",
            "control sigue siendo par\n",
            "¡Primer uso de while en mi vida!\n",
            "control sigue siendo par\n",
            "¡Primer uso de while en mi vida!\n",
            "control sigue siendo par\n",
            "¡Primer uso de while en mi vida!\n",
            "control sigue siendo par\n",
            "¡Primer uso de while en mi vida!\n",
            "control sigue siendo par\n",
            "¡Primer uso de while en mi vida!\n",
            "control sigue siendo par\n",
            "¡Primer uso de while en mi vida!\n",
            "control sigue siendo par\n",
            "¡Primer uso de while en mi vida!\n",
            "control sigue siendo par\n",
            "¡Primer uso de while en mi vida!\n",
            "control sigue siendo par\n",
            "¡Primer uso de while en mi vida!\n",
            "control sigue siendo par\n",
            "¡Primer uso de while en mi vida!\n",
            "control sigue siendo par\n",
            "¡Primer uso de while en mi vida!\n",
            "control sigue siendo par\n",
            "¡Primer uso de while en mi vida!\n",
            "control sigue siendo par\n",
            "¡Primer uso de while en mi vida!\n",
            "control sigue siendo par\n",
            "¡Primer uso de while en mi vida!\n",
            "control sigue siendo par\n",
            "¡Primer uso de while en mi vida!\n",
            "control sigue siendo par\n",
            "¡Primer uso de while en mi vida!\n",
            "control sigue siendo par\n",
            "¡Primer uso de while en mi vida!\n",
            "control sigue siendo par\n",
            "¡Primer uso de while en mi vida!\n",
            "control sigue siendo par\n",
            "¡Primer uso de while en mi vida!\n",
            "control sigue siendo par\n",
            "¡Primer uso de while en mi vida!\n",
            "control sigue siendo par\n",
            "¡Primer uso de while en mi vida!\n",
            "control sigue siendo par\n",
            "¡Primer uso de while en mi vida!\n",
            "control sigue siendo par\n",
            "¡Primer uso de while en mi vida!\n",
            "control sigue siendo par\n",
            "¡Primer uso de while en mi vida!\n",
            "control sigue siendo par\n",
            "¡Primer uso de while en mi vida!\n",
            "control sigue siendo par\n",
            "¡Primer uso de while en mi vida!\n",
            "control sigue siendo par\n",
            "¡Primer uso de while en mi vida!\n",
            "control sigue siendo par\n",
            "¡Primer uso de while en mi vida!\n",
            "control sigue siendo par\n",
            "¡Primer uso de while en mi vida!\n",
            "control sigue siendo par\n",
            "¡Primer uso de while en mi vida!\n",
            "control sigue siendo par\n",
            "¡Primer uso de while en mi vida!\n",
            "control sigue siendo par\n",
            "¡Primer uso de while en mi vida!\n",
            "control sigue siendo par\n",
            "¡Primer uso de while en mi vida!\n",
            "control sigue siendo par\n",
            "¡Primer uso de while en mi vida!\n",
            "control sigue siendo par\n",
            "¡Primer uso de while en mi vida!\n",
            "control sigue siendo par\n",
            "¡Primer uso de while en mi vida!\n",
            "control sigue siendo par\n",
            "¡Primer uso de while en mi vida!\n",
            "control sigue siendo par\n",
            "¡Primer uso de while en mi vida!\n",
            "control sigue siendo par\n",
            "¡Primer uso de while en mi vida!\n",
            "control sigue siendo par\n",
            "¡Primer uso de while en mi vida!\n",
            "control sigue siendo par\n",
            "¡Primer uso de while en mi vida!\n",
            "control sigue siendo par\n",
            "¡Primer uso de while en mi vida!\n",
            "control sigue siendo par\n",
            "¡Primer uso de while en mi vida!\n",
            "control sigue siendo par\n",
            "¡Primer uso de while en mi vida!\n",
            "control sigue siendo par\n",
            "¡Primer uso de while en mi vida!\n",
            "control sigue siendo par\n",
            "¡Primer uso de while en mi vida!\n",
            "control sigue siendo par\n",
            "¡Primer uso de while en mi vida!\n",
            "control sigue siendo par\n",
            "¡Primer uso de while en mi vida!\n",
            "control sigue siendo par\n",
            "¡Primer uso de while en mi vida!\n",
            "control sigue siendo par\n",
            "¡Primer uso de while en mi vida!\n",
            "control sigue siendo par\n",
            "¡Primer uso de while en mi vida!\n",
            "control sigue siendo par\n",
            "¡Primer uso de while en mi vida!\n",
            "control sigue siendo par\n",
            "¡Primer uso de while en mi vida!\n",
            "control sigue siendo par\n",
            "¡Primer uso de while en mi vida!\n",
            "control sigue siendo par\n",
            "¡Primer uso de while en mi vida!\n",
            "control sigue siendo par\n",
            "¡Primer uso de while en mi vida!\n",
            "control sigue siendo par\n",
            "¡Primer uso de while en mi vida!\n",
            "control sigue siendo par\n",
            "¡Primer uso de while en mi vida!\n",
            "control sigue siendo par\n",
            "¡Primer uso de while en mi vida!\n",
            "control sigue siendo par\n",
            "¡Primer uso de while en mi vida!\n",
            "control sigue siendo par\n",
            "¡Primer uso de while en mi vida!\n",
            "control sigue siendo par\n",
            "¡Primer uso de while en mi vida!\n",
            "control sigue siendo par\n",
            "¡Primer uso de while en mi vida!\n",
            "control sigue siendo par\n",
            "¡Primer uso de while en mi vida!\n",
            "control sigue siendo par\n",
            "¡Primer uso de while en mi vida!\n",
            "control sigue siendo par\n",
            "¡Primer uso de while en mi vida!\n",
            "control sigue siendo par\n",
            "¡Primer uso de while en mi vida!\n",
            "control sigue siendo par\n",
            "¡Primer uso de while en mi vida!\n",
            "control sigue siendo par\n",
            "¡Primer uso de while en mi vida!\n",
            "control sigue siendo par\n",
            "¡Primer uso de while en mi vida!\n",
            "control sigue siendo par\n",
            "¡Primer uso de while en mi vida!\n",
            "control sigue siendo par\n",
            "¡Primer uso de while en mi vida!\n",
            "control sigue siendo par\n",
            "¡Primer uso de while en mi vida!\n",
            "control sigue siendo par\n",
            "¡Primer uso de while en mi vida!\n",
            "control sigue siendo par\n",
            "¡Primer uso de while en mi vida!\n",
            "control sigue siendo par\n",
            "¡Primer uso de while en mi vida!\n",
            "control sigue siendo par\n",
            "¡Primer uso de while en mi vida!\n",
            "control sigue siendo par\n",
            "¡Primer uso de while en mi vida!\n",
            "control sigue siendo par\n",
            "¡Primer uso de while en mi vida!\n",
            "control sigue siendo par\n",
            "¡Primer uso de while en mi vida!\n",
            "control sigue siendo par\n",
            "¡Primer uso de while en mi vida!\n",
            "control sigue siendo par\n",
            "¡Primer uso de while en mi vida!\n",
            "control sigue siendo par\n",
            "¡Primer uso de while en mi vida!\n",
            "control sigue siendo par\n",
            "¡Primer uso de while en mi vida!\n",
            "control sigue siendo par\n",
            "¡Primer uso de while en mi vida!\n",
            "control sigue siendo par\n",
            "¡Primer uso de while en mi vida!\n",
            "control sigue siendo par\n",
            "¡Primer uso de while en mi vida!\n",
            "control sigue siendo par\n",
            "¡Primer uso de while en mi vida!\n",
            "control sigue siendo par\n",
            "¡Primer uso de while en mi vida!\n",
            "control sigue siendo par\n",
            "¡Primer uso de while en mi vida!\n",
            "control sigue siendo par\n",
            "¡Primer uso de while en mi vida!\n",
            "control sigue siendo par\n",
            "¡Primer uso de while en mi vida!\n",
            "control sigue siendo par\n",
            "¡Primer uso de while en mi vida!\n",
            "control sigue siendo par\n",
            "¡Primer uso de while en mi vida!\n",
            "control sigue siendo par\n",
            "¡Primer uso de while en mi vida!\n",
            "control sigue siendo par\n",
            "¡Primer uso de while en mi vida!\n",
            "control sigue siendo par\n",
            "¡Primer uso de while en mi vida!\n",
            "control sigue siendo par\n",
            "¡Primer uso de while en mi vida!\n",
            "control sigue siendo par\n",
            "¡Primer uso de while en mi vida!\n",
            "control sigue siendo par\n",
            "¡Primer uso de while en mi vida!\n",
            "control sigue siendo par\n",
            "¡Primer uso de while en mi vida!\n",
            "control sigue siendo par\n",
            "¡Primer uso de while en mi vida!\n",
            "control sigue siendo par\n",
            "¡Primer uso de while en mi vida!\n",
            "control sigue siendo par\n",
            "¡Primer uso de while en mi vida!\n",
            "control sigue siendo par\n",
            "¡Primer uso de while en mi vida!\n",
            "control sigue siendo par\n",
            "¡Primer uso de while en mi vida!\n",
            "control sigue siendo par\n",
            "¡Primer uso de while en mi vida!\n",
            "control sigue siendo par\n",
            "¡Primer uso de while en mi vida!\n",
            "control sigue siendo par\n",
            "¡Primer uso de while en mi vida!\n",
            "control sigue siendo par\n",
            "¡Primer uso de while en mi vida!\n",
            "control sigue siendo par\n",
            "¡Primer uso de while en mi vida!\n",
            "control sigue siendo par\n",
            "¡Primer uso de while en mi vida!\n",
            "control sigue siendo par\n",
            "¡Primer uso de while en mi vida!\n",
            "control sigue siendo par\n",
            "¡Primer uso de while en mi vida!\n",
            "control sigue siendo par\n",
            "¡Primer uso de while en mi vida!\n",
            "control sigue siendo par\n",
            "¡Primer uso de while en mi vida!\n",
            "control sigue siendo par\n",
            "¡Primer uso de while en mi vida!\n",
            "control sigue siendo par\n",
            "¡Primer uso de while en mi vida!\n",
            "control sigue siendo par\n",
            "¡Primer uso de while en mi vida!\n",
            "control sigue siendo par\n",
            "¡Primer uso de while en mi vida!\n",
            "control sigue siendo par\n",
            "¡Primer uso de while en mi vida!\n",
            "control sigue siendo par\n",
            "¡Primer uso de while en mi vida!\n",
            "control sigue siendo par\n",
            "¡Primer uso de while en mi vida!\n",
            "control sigue siendo par\n",
            "¡Primer uso de while en mi vida!\n",
            "control sigue siendo par\n",
            "¡Primer uso de while en mi vida!\n",
            "control sigue siendo par\n",
            "¡Primer uso de while en mi vida!\n",
            "control sigue siendo par\n",
            "¡Primer uso de while en mi vida!\n",
            "control sigue siendo par\n",
            "¡Primer uso de while en mi vida!\n",
            "control sigue siendo par\n",
            "¡Primer uso de while en mi vida!\n",
            "control sigue siendo par\n",
            "¡Primer uso de while en mi vida!\n",
            "control sigue siendo par\n",
            "¡Primer uso de while en mi vida!\n",
            "control sigue siendo par\n",
            "¡Primer uso de while en mi vida!\n",
            "control sigue siendo par\n",
            "¡Primer uso de while en mi vida!\n",
            "control sigue siendo par\n",
            "¡Primer uso de while en mi vida!\n",
            "control sigue siendo par\n",
            "¡Primer uso de while en mi vida!\n",
            "control sigue siendo par\n",
            "¡Primer uso de while en mi vida!\n",
            "control sigue siendo par\n",
            "¡Primer uso de while en mi vida!\n",
            "control sigue siendo par\n",
            "¡Primer uso de while en mi vida!\n",
            "control sigue siendo par\n",
            "¡Primer uso de while en mi vida!\n",
            "control sigue siendo par\n",
            "¡Primer uso de while en mi vida!\n",
            "control sigue siendo par\n",
            "¡Primer uso de while en mi vida!\n",
            "control sigue siendo par\n",
            "¡Primer uso de while en mi vida!\n",
            "control sigue siendo par\n",
            "¡Primer uso de while en mi vida!\n",
            "control sigue siendo par\n",
            "¡Primer uso de while en mi vida!\n",
            "control sigue siendo par\n",
            "¡Primer uso de while en mi vida!\n",
            "control sigue siendo par\n",
            "¡Primer uso de while en mi vida!\n",
            "control sigue siendo par\n",
            "¡Primer uso de while en mi vida!\n",
            "control sigue siendo par\n",
            "¡Primer uso de while en mi vida!\n",
            "control sigue siendo par\n",
            "¡Primer uso de while en mi vida!\n",
            "control sigue siendo par\n",
            "¡Primer uso de while en mi vida!\n",
            "control sigue siendo par\n",
            "¡Primer uso de while en mi vida!\n",
            "control sigue siendo par\n",
            "¡Primer uso de while en mi vida!\n",
            "control sigue siendo par\n",
            "¡Primer uso de while en mi vida!\n",
            "control sigue siendo par\n",
            "¡Primer uso de while en mi vida!\n",
            "control sigue siendo par\n",
            "¡Primer uso de while en mi vida!\n",
            "control sigue siendo par\n",
            "¡Primer uso de while en mi vida!\n",
            "control sigue siendo par\n",
            "¡Primer uso de while en mi vida!\n",
            "control sigue siendo par\n",
            "¡Primer uso de while en mi vida!\n",
            "control sigue siendo par\n",
            "¡Primer uso de while en mi vida!\n",
            "control sigue siendo par\n",
            "¡Primer uso de while en mi vida!\n",
            "control sigue siendo par\n",
            "¡Primer uso de while en mi vida!\n",
            "control sigue siendo par\n",
            "¡Primer uso de while en mi vida!\n",
            "control sigue siendo par\n",
            "¡Primer uso de while en mi vida!\n",
            "control sigue siendo par\n",
            "¡Primer uso de while en mi vida!\n",
            "control sigue siendo par\n",
            "¡Primer uso de while en mi vida!\n",
            "control sigue siendo par\n",
            "¡Primer uso de while en mi vida!\n",
            "control sigue siendo par\n",
            "¡Primer uso de while en mi vida!\n",
            "control sigue siendo par\n",
            "¡Primer uso de while en mi vida!\n",
            "control sigue siendo par\n",
            "¡Primer uso de while en mi vida!\n",
            "control sigue siendo par\n",
            "¡Primer uso de while en mi vida!\n",
            "control sigue siendo par\n",
            "¡Primer uso de while en mi vida!\n",
            "control sigue siendo par\n",
            "¡Primer uso de while en mi vida!\n",
            "control sigue siendo par\n",
            "¡Primer uso de while en mi vida!\n",
            "control sigue siendo par\n",
            "¡Primer uso de while en mi vida!\n",
            "control sigue siendo par\n",
            "¡Primer uso de while en mi vida!\n",
            "control sigue siendo par\n",
            "¡Primer uso de while en mi vida!\n",
            "control sigue siendo par\n",
            "¡Primer uso de while en mi vida!\n",
            "control sigue siendo par\n",
            "¡Primer uso de while en mi vida!\n",
            "control sigue siendo par\n",
            "¡Primer uso de while en mi vida!\n",
            "control sigue siendo par\n",
            "¡Primer uso de while en mi vida!\n",
            "control sigue siendo par\n",
            "¡Primer uso de while en mi vida!\n",
            "control sigue siendo par\n",
            "¡Primer uso de while en mi vida!\n",
            "control sigue siendo par\n",
            "¡Primer uso de while en mi vida!\n",
            "control sigue siendo par\n",
            "¡Primer uso de while en mi vida!\n",
            "control sigue siendo par\n",
            "¡Primer uso de while en mi vida!\n",
            "control sigue siendo par\n",
            "¡Primer uso de while en mi vida!\n",
            "control sigue siendo par\n",
            "¡Primer uso de while en mi vida!\n",
            "control sigue siendo par\n",
            "¡Primer uso de while en mi vida!\n",
            "control sigue siendo par\n",
            "¡Primer uso de while en mi vida!\n",
            "control sigue siendo par\n",
            "¡Primer uso de while en mi vida!\n",
            "control sigue siendo par\n",
            "¡Primer uso de while en mi vida!\n",
            "control sigue siendo par\n",
            "¡Primer uso de while en mi vida!\n",
            "control sigue siendo par\n",
            "¡Primer uso de while en mi vida!\n",
            "control sigue siendo par\n",
            "¡Primer uso de while en mi vida!\n",
            "control sigue siendo par\n",
            "¡Primer uso de while en mi vida!\n",
            "control sigue siendo par\n",
            "¡Primer uso de while en mi vida!\n",
            "control sigue siendo par\n",
            "¡Primer uso de while en mi vida!\n",
            "control sigue siendo par\n",
            "¡Primer uso de while en mi vida!\n",
            "control sigue siendo par\n",
            "¡Primer uso de while en mi vida!\n",
            "control sigue siendo par\n",
            "¡Primer uso de while en mi vida!\n",
            "control sigue siendo par\n",
            "¡Primer uso de while en mi vida!\n",
            "control sigue siendo par\n",
            "¡Primer uso de while en mi vida!\n",
            "control sigue siendo par\n",
            "¡Primer uso de while en mi vida!\n",
            "control sigue siendo par\n",
            "¡Primer uso de while en mi vida!\n",
            "control sigue siendo par\n",
            "¡Primer uso de while en mi vida!\n",
            "control sigue siendo par\n",
            "¡Primer uso de while en mi vida!\n",
            "control sigue siendo par\n",
            "¡Primer uso de while en mi vida!\n",
            "control sigue siendo par\n",
            "¡Primer uso de while en mi vida!\n",
            "control sigue siendo par\n",
            "¡Primer uso de while en mi vida!\n",
            "control sigue siendo par\n",
            "¡Primer uso de while en mi vida!\n",
            "control sigue siendo par\n",
            "¡Primer uso de while en mi vida!\n",
            "control sigue siendo par\n",
            "¡Primer uso de while en mi vida!\n",
            "control sigue siendo par\n",
            "¡Primer uso de while en mi vida!\n",
            "control sigue siendo par\n",
            "¡Primer uso de while en mi vida!\n",
            "control sigue siendo par\n",
            "¡Primer uso de while en mi vida!\n",
            "control sigue siendo par\n",
            "¡Primer uso de while en mi vida!\n",
            "control sigue siendo par\n",
            "¡Primer uso de while en mi vida!\n",
            "control sigue siendo par\n",
            "¡Primer uso de while en mi vida!\n",
            "control sigue siendo par\n",
            "¡Primer uso de while en mi vida!\n",
            "control sigue siendo par\n",
            "¡Primer uso de while en mi vida!\n",
            "control sigue siendo par\n",
            "¡Primer uso de while en mi vida!\n",
            "control sigue siendo par\n",
            "¡Primer uso de while en mi vida!\n",
            "control sigue siendo par\n",
            "¡Primer uso de while en mi vida!\n",
            "control sigue siendo par\n",
            "¡Primer uso de while en mi vida!\n",
            "control sigue siendo par\n",
            "¡Primer uso de while en mi vida!\n",
            "control sigue siendo par\n",
            "¡Primer uso de while en mi vida!\n",
            "control sigue siendo par\n",
            "¡Primer uso de while en mi vida!\n",
            "control sigue siendo par\n",
            "¡Primer uso de while en mi vida!\n",
            "control sigue siendo par\n",
            "¡Primer uso de while en mi vida!\n",
            "control sigue siendo par\n",
            "¡Primer uso de while en mi vida!\n",
            "control sigue siendo par\n",
            "¡Primer uso de while en mi vida!\n",
            "control sigue siendo par\n",
            "¡Primer uso de while en mi vida!\n",
            "control sigue siendo par\n",
            "¡Primer uso de while en mi vida!\n",
            "control sigue siendo par\n",
            "¡Primer uso de while en mi vida!\n",
            "control sigue siendo par\n",
            "¡Primer uso de while en mi vida!\n",
            "control sigue siendo par\n",
            "¡Primer uso de while en mi vida!\n",
            "control sigue siendo par\n",
            "¡Primer uso de while en mi vida!\n",
            "control sigue siendo par\n",
            "¡Primer uso de while en mi vida!\n",
            "control sigue siendo par\n",
            "¡Primer uso de while en mi vida!\n",
            "control sigue siendo par\n",
            "¡Primer uso de while en mi vida!\n",
            "control sigue siendo par\n",
            "¡Primer uso de while en mi vida!\n",
            "control sigue siendo par\n",
            "¡Primer uso de while en mi vida!\n",
            "control sigue siendo par\n",
            "¡Primer uso de while en mi vida!\n",
            "control sigue siendo par\n",
            "¡Primer uso de while en mi vida!\n",
            "control sigue siendo par\n",
            "¡Primer uso de while en mi vida!\n",
            "control sigue siendo par\n",
            "¡Primer uso de while en mi vida!\n",
            "control sigue siendo par\n",
            "¡Primer uso de while en mi vida!\n",
            "control sigue siendo par\n",
            "¡Primer uso de while en mi vida!\n",
            "control sigue siendo par\n",
            "¡Primer uso de while en mi vida!\n",
            "control sigue siendo par\n",
            "¡Primer uso de while en mi vida!\n",
            "control sigue siendo par\n",
            "¡Primer uso de while en mi vida!\n",
            "control sigue siendo par\n",
            "¡Primer uso de while en mi vida!\n",
            "control sigue siendo par\n",
            "¡Primer uso de while en mi vida!\n",
            "control sigue siendo par\n",
            "¡Primer uso de while en mi vida!\n",
            "control sigue siendo par\n",
            "¡Primer uso de while en mi vida!\n",
            "control sigue siendo par\n",
            "¡Primer uso de while en mi vida!\n",
            "control sigue siendo par\n",
            "¡Primer uso de while en mi vida!\n",
            "control sigue siendo par\n",
            "¡Primer uso de while en mi vida!\n",
            "control sigue siendo par\n",
            "¡Primer uso de while en mi vida!\n",
            "control sigue siendo par\n",
            "¡Primer uso de while en mi vida!\n",
            "control sigue siendo par\n",
            "¡Primer uso de while en mi vida!\n",
            "control sigue siendo par\n",
            "¡Primer uso de while en mi vida!\n",
            "control sigue siendo par\n",
            "¡Primer uso de while en mi vida!\n",
            "control sigue siendo par\n",
            "¡Primer uso de while en mi vida!\n",
            "control sigue siendo par\n",
            "¡Primer uso de while en mi vida!\n",
            "control sigue siendo par\n",
            "¡Primer uso de while en mi vida!\n",
            "control sigue siendo par\n",
            "¡Primer uso de while en mi vida!\n",
            "control sigue siendo par\n",
            "¡Primer uso de while en mi vida!\n",
            "control sigue siendo par\n",
            "¡Primer uso de while en mi vida!\n",
            "control sigue siendo par\n",
            "¡Primer uso de while en mi vida!\n",
            "control sigue siendo par\n",
            "¡Primer uso de while en mi vida!\n",
            "control sigue siendo par\n",
            "¡Primer uso de while en mi vida!\n",
            "control sigue siendo par\n",
            "¡Primer uso de while en mi vida!\n",
            "control sigue siendo par\n",
            "¡Primer uso de while en mi vida!\n",
            "control sigue siendo par\n",
            "¡Primer uso de while en mi vida!\n",
            "control sigue siendo par\n",
            "¡Primer uso de while en mi vida!\n",
            "control sigue siendo par\n",
            "¡Primer uso de while en mi vida!\n",
            "control sigue siendo par\n",
            "¡Primer uso de while en mi vida!\n",
            "control sigue siendo par\n",
            "¡Primer uso de while en mi vida!\n",
            "control sigue siendo par\n",
            "¡Primer uso de while en mi vida!\n",
            "control sigue siendo par\n",
            "¡Primer uso de while en mi vida!\n",
            "control sigue siendo par\n",
            "¡Primer uso de while en mi vida!\n",
            "control sigue siendo par\n",
            "¡Primer uso de while en mi vida!\n",
            "control sigue siendo par\n",
            "¡Primer uso de while en mi vida!\n",
            "control sigue siendo par\n",
            "¡Primer uso de while en mi vida!\n",
            "control sigue siendo par\n",
            "¡Primer uso de while en mi vida!\n",
            "control sigue siendo par\n",
            "¡Primer uso de while en mi vida!\n",
            "control sigue siendo par\n",
            "¡Primer uso de while en mi vida!\n",
            "control sigue siendo par\n",
            "¡Primer uso de while en mi vida!\n",
            "control sigue siendo par\n",
            "¡Primer uso de while en mi vida!\n",
            "control sigue siendo par\n",
            "¡Primer uso de while en mi vida!\n",
            "control sigue siendo par\n",
            "¡Primer uso de while en mi vida!\n",
            "control sigue siendo par\n",
            "¡Primer uso de while en mi vida!\n",
            "control sigue siendo par\n",
            "¡Primer uso de while en mi vida!\n",
            "control sigue siendo par\n",
            "¡Primer uso de while en mi vida!\n",
            "control sigue siendo par\n",
            "¡Primer uso de while en mi vida!\n",
            "control sigue siendo par\n",
            "¡Primer uso de while en mi vida!\n",
            "control sigue siendo par\n",
            "¡Primer uso de while en mi vida!\n",
            "control sigue siendo par\n",
            "¡Primer uso de while en mi vida!\n",
            "control sigue siendo par\n",
            "¡Primer uso de while en mi vida!\n",
            "control sigue siendo par\n",
            "¡Primer uso de while en mi vida!\n",
            "control sigue siendo par\n",
            "¡Primer uso de while en mi vida!\n",
            "control sigue siendo par\n",
            "¡Primer uso de while en mi vida!\n",
            "control sigue siendo par\n",
            "¡Primer uso de while en mi vida!\n",
            "control sigue siendo par\n",
            "¡Primer uso de while en mi vida!\n",
            "control sigue siendo par\n",
            "¡Primer uso de while en mi vida!\n",
            "control sigue siendo par\n",
            "¡Primer uso de while en mi vida!\n",
            "control sigue siendo par\n",
            "¡Primer uso de while en mi vida!\n",
            "control sigue siendo par\n",
            "¡Primer uso de while en mi vida!\n",
            "control sigue siendo par\n",
            "¡Primer uso de while en mi vida!\n",
            "control sigue siendo par\n",
            "¡Primer uso de while en mi vida!\n",
            "control sigue siendo par\n",
            "¡Primer uso de while en mi vida!\n",
            "control sigue siendo par\n",
            "¡Primer uso de while en mi vida!\n",
            "control sigue siendo par\n",
            "¡Primer uso de while en mi vida!\n",
            "control sigue siendo par\n",
            "¡Primer uso de while en mi vida!\n",
            "control sigue siendo par\n",
            "¡Primer uso de while en mi vida!\n",
            "control sigue siendo par\n",
            "¡Primer uso de while en mi vida!\n",
            "control sigue siendo par\n",
            "¡Primer uso de while en mi vida!\n",
            "control sigue siendo par\n",
            "¡Primer uso de while en mi vida!\n",
            "control sigue siendo par\n",
            "¡Primer uso de while en mi vida!\n",
            "control sigue siendo par\n",
            "¡Primer uso de while en mi vida!\n",
            "control sigue siendo par\n",
            "¡Primer uso de while en mi vida!\n",
            "control sigue siendo par\n",
            "¡Primer uso de while en mi vida!\n",
            "control sigue siendo par\n",
            "¡Primer uso de while en mi vida!\n",
            "control sigue siendo par\n",
            "¡Primer uso de while en mi vida!\n",
            "control sigue siendo par\n",
            "¡Primer uso de while en mi vida!\n",
            "control sigue siendo par\n",
            "¡Primer uso de while en mi vida!\n",
            "control sigue siendo par\n",
            "¡Primer uso de while en mi vida!\n",
            "control sigue siendo par\n",
            "¡Primer uso de while en mi vida!\n",
            "control sigue siendo par\n",
            "¡Primer uso de while en mi vida!\n",
            "control sigue siendo par\n",
            "¡Primer uso de while en mi vida!\n",
            "control sigue siendo par\n",
            "¡Primer uso de while en mi vida!\n",
            "control sigue siendo par\n",
            "¡Primer uso de while en mi vida!\n",
            "control sigue siendo par\n",
            "¡Primer uso de while en mi vida!\n",
            "control sigue siendo par\n",
            "¡Primer uso de while en mi vida!\n",
            "control sigue siendo par\n",
            "¡Primer uso de while en mi vida!\n",
            "control sigue siendo par\n",
            "¡Primer uso de while en mi vida!\n",
            "control sigue siendo par\n",
            "¡Primer uso de while en mi vida!\n",
            "control sigue siendo par\n",
            "¡Primer uso de while en mi vida!\n",
            "control sigue siendo par\n",
            "¡Primer uso de while en mi vida!\n",
            "control sigue siendo par\n",
            "¡Primer uso de while en mi vida!\n",
            "control sigue siendo par\n",
            "¡Primer uso de while en mi vida!\n",
            "control sigue siendo par\n",
            "¡Primer uso de while en mi vida!\n",
            "control sigue siendo par\n",
            "¡Primer uso de while en mi vida!\n",
            "control sigue siendo par\n",
            "¡Primer uso de while en mi vida!\n",
            "control sigue siendo par\n",
            "¡Primer uso de while en mi vida!\n",
            "control sigue siendo par\n",
            "¡Primer uso de while en mi vida!\n",
            "control sigue siendo par\n",
            "¡Primer uso de while en mi vida!\n",
            "control sigue siendo par\n",
            "¡Primer uso de while en mi vida!\n",
            "control sigue siendo par\n",
            "¡Primer uso de while en mi vida!\n",
            "control sigue siendo par\n",
            "¡Primer uso de while en mi vida!\n",
            "control sigue siendo par\n",
            "¡Primer uso de while en mi vida!\n",
            "control sigue siendo par\n",
            "¡Primer uso de while en mi vida!\n",
            "control sigue siendo par\n",
            "¡Primer uso de while en mi vida!\n",
            "control sigue siendo par\n",
            "¡Primer uso de while en mi vida!\n",
            "control sigue siendo par\n",
            "¡Primer uso de while en mi vida!\n",
            "control sigue siendo par\n",
            "¡Primer uso de while en mi vida!\n",
            "control sigue siendo par\n",
            "¡Primer uso de while en mi vida!\n",
            "control sigue siendo par\n",
            "¡Primer uso de while en mi vida!\n",
            "control sigue siendo par\n",
            "¡Primer uso de while en mi vida!\n",
            "control sigue siendo par\n",
            "¡Primer uso de while en mi vida!\n",
            "control sigue siendo par\n",
            "¡Primer uso de while en mi vida!\n",
            "control sigue siendo par\n",
            "¡Primer uso de while en mi vida!\n",
            "control sigue siendo par\n",
            "¡Primer uso de while en mi vida!\n",
            "control sigue siendo par\n",
            "¡Primer uso de while en mi vida!\n",
            "control sigue siendo par\n",
            "¡Primer uso de while en mi vida!\n",
            "control sigue siendo par\n",
            "¡Primer uso de while en mi vida!\n",
            "control sigue siendo par\n",
            "¡Primer uso de while en mi vida!\n",
            "control sigue siendo par\n",
            "¡Primer uso de while en mi vida!\n",
            "control sigue siendo par\n",
            "¡Primer uso de while en mi vida!\n",
            "control sigue siendo par\n",
            "¡Primer uso de while en mi vida!\n",
            "control sigue siendo par\n",
            "¡Primer uso de while en mi vida!\n",
            "control sigue siendo par\n",
            "¡Primer uso de while en mi vida!\n",
            "control sigue siendo par\n",
            "¡Primer uso de while en mi vida!\n",
            "control sigue siendo par\n",
            "¡Primer uso de while en mi vida!\n",
            "control sigue siendo par\n",
            "¡Primer uso de while en mi vida!\n",
            "control sigue siendo par\n",
            "¡Primer uso de while en mi vida!\n",
            "control sigue siendo par\n",
            "¡Primer uso de while en mi vida!\n",
            "control sigue siendo par\n",
            "¡Primer uso de while en mi vida!\n",
            "control sigue siendo par\n",
            "¡Primer uso de while en mi vida!\n",
            "control sigue siendo par\n",
            "¡Primer uso de while en mi vida!\n",
            "control sigue siendo par\n",
            "¡Primer uso de while en mi vida!\n",
            "control sigue siendo par\n",
            "¡Primer uso de while en mi vida!\n",
            "control sigue siendo par\n",
            "¡Primer uso de while en mi vida!\n",
            "control sigue siendo par\n",
            "¡Primer uso de while en mi vida!\n",
            "control sigue siendo par\n",
            "¡Primer uso de while en mi vida!\n",
            "control sigue siendo par\n",
            "¡Primer uso de while en mi vida!\n",
            "control sigue siendo par\n",
            "¡Primer uso de while en mi vida!\n",
            "control sigue siendo par\n",
            "¡Primer uso de while en mi vida!\n",
            "control sigue siendo par\n",
            "¡Primer uso de while en mi vida!\n",
            "control sigue siendo par\n",
            "¡Primer uso de while en mi vida!\n",
            "control sigue siendo par\n",
            "¡Primer uso de while en mi vida!\n",
            "control sigue siendo par\n",
            "¡Primer uso de while en mi vida!\n",
            "control sigue siendo par\n",
            "¡Primer uso de while en mi vida!\n",
            "control sigue siendo par\n",
            "¡Primer uso de while en mi vida!\n",
            "control sigue siendo par\n",
            "¡Primer uso de while en mi vida!\n",
            "control sigue siendo par\n",
            "¡Primer uso de while en mi vida!\n",
            "control sigue siendo par\n",
            "¡Primer uso de while en mi vida!\n",
            "control sigue siendo par\n",
            "¡Primer uso de while en mi vida!\n",
            "control sigue siendo par\n",
            "¡Primer uso de while en mi vida!\n",
            "control sigue siendo par\n",
            "¡Primer uso de while en mi vida!\n",
            "control sigue siendo par\n",
            "¡Primer uso de while en mi vida!\n",
            "control sigue siendo par\n",
            "¡Primer uso de while en mi vida!\n",
            "control sigue siendo par\n",
            "¡Primer uso de while en mi vida!\n",
            "control sigue siendo par\n",
            "¡Primer uso de while en mi vida!\n",
            "control sigue siendo par\n",
            "¡Primer uso de while en mi vida!\n",
            "control sigue siendo par\n",
            "¡Primer uso de while en mi vida!\n",
            "control sigue siendo par\n",
            "¡Primer uso de while en mi vida!\n",
            "control sigue siendo par\n",
            "¡Primer uso de while en mi vida!\n",
            "control sigue siendo par\n",
            "¡Primer uso de while en mi vida!\n",
            "control sigue siendo par\n",
            "¡Primer uso de while en mi vida!\n",
            "control sigue siendo par\n",
            "¡Primer uso de while en mi vida!\n",
            "control sigue siendo par\n",
            "¡Primer uso de while en mi vida!\n",
            "control sigue siendo par\n",
            "¡Primer uso de while en mi vida!\n",
            "control sigue siendo par\n",
            "¡Primer uso de while en mi vida!\n",
            "control sigue siendo par\n",
            "¡Primer uso de while en mi vida!\n",
            "control sigue siendo par\n",
            "¡Primer uso de while en mi vida!\n",
            "control sigue siendo par\n",
            "¡Primer uso de while en mi vida!\n",
            "control sigue siendo par\n",
            "¡Primer uso de while en mi vida!\n",
            "control sigue siendo par\n",
            "¡Primer uso de while en mi vida!\n",
            "control sigue siendo par\n",
            "¡Primer uso de while en mi vida!\n",
            "control sigue siendo par\n",
            "¡Primer uso de while en mi vida!\n",
            "control sigue siendo par\n",
            "¡Primer uso de while en mi vida!\n",
            "control sigue siendo par\n",
            "¡Primer uso de while en mi vida!\n",
            "control sigue siendo par\n",
            "¡Primer uso de while en mi vida!\n",
            "control sigue siendo par\n",
            "¡Primer uso de while en mi vida!\n",
            "control sigue siendo par\n",
            "¡Primer uso de while en mi vida!\n",
            "control sigue siendo par\n",
            "¡Primer uso de while en mi vida!\n",
            "control sigue siendo par\n",
            "¡Primer uso de while en mi vida!\n",
            "control sigue siendo par\n",
            "¡Primer uso de while en mi vida!\n",
            "control sigue siendo par\n",
            "¡Primer uso de while en mi vida!\n",
            "control sigue siendo par\n",
            "¡Primer uso de while en mi vida!\n",
            "control sigue siendo par\n",
            "¡Primer uso de while en mi vida!\n",
            "control sigue siendo par\n",
            "¡Primer uso de while en mi vida!\n",
            "control sigue siendo par\n",
            "¡Primer uso de while en mi vida!\n",
            "control sigue siendo par\n",
            "¡Primer uso de while en mi vida!\n",
            "control sigue siendo par\n",
            "¡Primer uso de while en mi vida!\n",
            "control sigue siendo par\n",
            "¡Primer uso de while en mi vida!\n",
            "control sigue siendo par\n",
            "¡Primer uso de while en mi vida!\n",
            "control sigue siendo par\n",
            "¡Primer uso de while en mi vida!\n",
            "control sigue siendo par\n",
            "¡Primer uso de while en mi vida!\n",
            "control sigue siendo par\n",
            "¡Primer uso de while en mi vida!\n",
            "control sigue siendo par\n",
            "¡Primer uso de while en mi vida!\n",
            "control sigue siendo par\n",
            "¡Primer uso de while en mi vida!\n",
            "control sigue siendo par\n",
            "¡Primer uso de while en mi vida!\n",
            "control sigue siendo par\n",
            "¡Primer uso de while en mi vida!\n",
            "control sigue siendo par\n",
            "¡Primer uso de while en mi vida!\n",
            "control sigue siendo par\n",
            "¡Primer uso de while en mi vida!\n",
            "control sigue siendo par\n",
            "¡Primer uso de while en mi vida!\n",
            "control sigue siendo par\n",
            "¡Primer uso de while en mi vida!\n",
            "control sigue siendo par\n",
            "¡Primer uso de while en mi vida!\n",
            "control sigue siendo par\n",
            "¡Primer uso de while en mi vida!\n",
            "control sigue siendo par\n",
            "¡Primer uso de while en mi vida!\n",
            "control sigue siendo par\n",
            "¡Primer uso de while en mi vida!\n",
            "control sigue siendo par\n",
            "¡Primer uso de while en mi vida!\n",
            "control sigue siendo par\n",
            "¡Primer uso de while en mi vida!\n",
            "control sigue siendo par\n",
            "¡Primer uso de while en mi vida!\n",
            "control sigue siendo par\n",
            "¡Primer uso de while en mi vida!\n",
            "control sigue siendo par\n",
            "¡Primer uso de while en mi vida!\n",
            "control sigue siendo par\n",
            "¡Primer uso de while en mi vida!\n",
            "control sigue siendo par\n",
            "¡Primer uso de while en mi vida!\n",
            "control sigue siendo par\n",
            "¡Primer uso de while en mi vida!\n",
            "control sigue siendo par\n",
            "¡Primer uso de while en mi vida!\n",
            "control sigue siendo par\n",
            "¡Primer uso de while en mi vida!\n",
            "control sigue siendo par\n",
            "¡Primer uso de while en mi vida!\n",
            "control sigue siendo par\n",
            "¡Primer uso de while en mi vida!\n",
            "control sigue siendo par\n",
            "¡Primer uso de while en mi vida!\n",
            "control sigue siendo par\n",
            "¡Primer uso de while en mi vida!\n",
            "control sigue siendo par\n",
            "¡Primer uso de while en mi vida!\n",
            "control sigue siendo par\n",
            "¡Primer uso de while en mi vida!\n",
            "control sigue siendo par\n",
            "¡Primer uso de while en mi vida!\n",
            "control sigue siendo par\n",
            "¡Primer uso de while en mi vida!\n",
            "control sigue siendo par\n",
            "¡Primer uso de while en mi vida!\n",
            "control sigue siendo par\n",
            "¡Primer uso de while en mi vida!\n",
            "control sigue siendo par\n",
            "¡Primer uso de while en mi vida!\n",
            "control sigue siendo par\n",
            "¡Primer uso de while en mi vida!\n",
            "control sigue siendo par\n",
            "¡Primer uso de while en mi vida!\n",
            "control sigue siendo par\n",
            "¡Primer uso de while en mi vida!\n",
            "control sigue siendo par\n",
            "¡Primer uso de while en mi vida!\n",
            "control sigue siendo par\n",
            "¡Primer uso de while en mi vida!\n",
            "control sigue siendo par\n",
            "¡Primer uso de while en mi vida!\n",
            "control sigue siendo par\n",
            "¡Primer uso de while en mi vida!\n",
            "control sigue siendo par\n",
            "¡Primer uso de while en mi vida!\n",
            "control sigue siendo par\n",
            "¡Primer uso de while en mi vida!\n",
            "control sigue siendo par\n",
            "¡Primer uso de while en mi vida!\n",
            "control sigue siendo par\n",
            "¡Primer uso de while en mi vida!\n",
            "control sigue siendo par\n",
            "¡Primer uso de while en mi vida!\n",
            "control sigue siendo par\n",
            "¡Primer uso de while en mi vida!\n",
            "control sigue siendo par\n",
            "¡Primer uso de while en mi vida!\n",
            "control sigue siendo par\n",
            "¡Primer uso de while en mi vida!\n",
            "control sigue siendo par\n",
            "¡Primer uso de while en mi vida!\n",
            "control sigue siendo par\n",
            "¡Primer uso de while en mi vida!\n",
            "control sigue siendo par\n",
            "¡Primer uso de while en mi vida!\n",
            "control sigue siendo par\n",
            "¡Primer uso de while en mi vida!\n",
            "control sigue siendo par\n",
            "¡Primer uso de while en mi vida!\n",
            "control sigue siendo par\n",
            "¡Primer uso de while en mi vida!\n",
            "control sigue siendo par\n",
            "¡Primer uso de while en mi vida!\n",
            "control sigue siendo par\n",
            "¡Primer uso de while en mi vida!\n",
            "control sigue siendo par\n",
            "¡Primer uso de while en mi vida!\n",
            "control sigue siendo par\n",
            "¡Primer uso de while en mi vida!\n",
            "control sigue siendo par\n",
            "¡Primer uso de while en mi vida!\n",
            "control sigue siendo par\n",
            "¡Primer uso de while en mi vida!\n",
            "control sigue siendo par\n",
            "¡Primer uso de while en mi vida!\n",
            "control sigue siendo par\n",
            "¡Primer uso de while en mi vida!\n",
            "control sigue siendo par\n",
            "¡Primer uso de while en mi vida!\n",
            "control sigue siendo par\n",
            "¡Primer uso de while en mi vida!\n",
            "control sigue siendo par\n",
            "¡Primer uso de while en mi vida!\n",
            "control sigue siendo par\n",
            "¡Primer uso de while en mi vida!\n",
            "control sigue siendo par\n",
            "¡Primer uso de while en mi vida!\n",
            "control sigue siendo par\n",
            "¡Primer uso de while en mi vida!\n",
            "control sigue siendo par\n",
            "¡Primer uso de while en mi vida!\n",
            "control sigue siendo par\n",
            "¡Primer uso de while en mi vida!\n",
            "control sigue siendo par\n",
            "¡Primer uso de while en mi vida!\n",
            "control sigue siendo par\n",
            "¡Primer uso de while en mi vida!\n",
            "control sigue siendo par\n",
            "¡Primer uso de while en mi vida!\n",
            "control sigue siendo par\n",
            "¡Primer uso de while en mi vida!\n",
            "control sigue siendo par\n",
            "¡Primer uso de while en mi vida!\n",
            "control sigue siendo par\n",
            "¡Primer uso de while en mi vida!\n",
            "control sigue siendo par\n",
            "¡Primer uso de while en mi vida!\n",
            "control sigue siendo par\n",
            "¡Primer uso de while en mi vida!\n",
            "control sigue siendo par\n",
            "¡Primer uso de while en mi vida!\n",
            "control sigue siendo par\n",
            "¡Primer uso de while en mi vida!\n",
            "control sigue siendo par\n",
            "¡Primer uso de while en mi vida!\n",
            "control sigue siendo par\n",
            "¡Primer uso de while en mi vida!\n",
            "control sigue siendo par\n",
            "¡Primer uso de while en mi vida!\n",
            "control sigue siendo par\n",
            "¡Primer uso de while en mi vida!\n",
            "control sigue siendo par\n",
            "¡Primer uso de while en mi vida!\n",
            "control sigue siendo par\n",
            "¡Primer uso de while en mi vida!\n",
            "control sigue siendo par\n",
            "¡Primer uso de while en mi vida!\n",
            "control sigue siendo par\n",
            "¡Primer uso de while en mi vida!\n",
            "control sigue siendo par\n",
            "¡Primer uso de while en mi vida!\n",
            "control sigue siendo par\n",
            "¡Primer uso de while en mi vida!\n",
            "control sigue siendo par\n",
            "¡Primer uso de while en mi vida!\n",
            "control sigue siendo par\n",
            "¡Primer uso de while en mi vida!\n",
            "control sigue siendo par\n",
            "¡Primer uso de while en mi vida!\n",
            "control sigue siendo par\n",
            "¡Primer uso de while en mi vida!\n",
            "control sigue siendo par\n",
            "¡Primer uso de while en mi vida!\n",
            "control sigue siendo par\n",
            "¡Primer uso de while en mi vida!\n",
            "control sigue siendo par\n",
            "¡Primer uso de while en mi vida!\n",
            "control sigue siendo par\n",
            "¡Primer uso de while en mi vida!\n",
            "control sigue siendo par\n",
            "¡Primer uso de while en mi vida!\n",
            "control sigue siendo par\n",
            "¡Primer uso de while en mi vida!\n",
            "control sigue siendo par\n",
            "¡Primer uso de while en mi vida!\n",
            "control sigue siendo par\n",
            "¡Primer uso de while en mi vida!\n",
            "control sigue siendo par\n",
            "¡Primer uso de while en mi vida!\n",
            "control sigue siendo par\n",
            "¡Primer uso de while en mi vida!\n",
            "control sigue siendo par\n",
            "¡Primer uso de while en mi vida!\n",
            "control sigue siendo par\n",
            "¡Primer uso de while en mi vida!\n",
            "control sigue siendo par\n",
            "¡Primer uso de while en mi vida!\n",
            "control sigue siendo par\n",
            "¡Primer uso de while en mi vida!\n",
            "control sigue siendo par\n",
            "¡Primer uso de while en mi vida!\n",
            "control sigue siendo par\n",
            "¡Primer uso de while en mi vida!\n",
            "control sigue siendo par\n",
            "¡Primer uso de while en mi vida!\n",
            "control sigue siendo par\n",
            "¡Primer uso de while en mi vida!\n",
            "control sigue siendo par\n",
            "¡Primer uso de while en mi vida!\n",
            "control sigue siendo par\n",
            "¡Primer uso de while en mi vida!\n",
            "control sigue siendo par\n",
            "¡Primer uso de while en mi vida!\n",
            "control sigue siendo par\n",
            "¡Primer uso de while en mi vida!\n",
            "control sigue siendo par\n",
            "¡Primer uso de while en mi vida!\n",
            "control sigue siendo par\n",
            "¡Primer uso de while en mi vida!\n",
            "control sigue siendo par\n",
            "¡Primer uso de while en mi vida!\n",
            "control sigue siendo par\n",
            "¡Primer uso de while en mi vida!\n",
            "control sigue siendo par\n",
            "¡Primer uso de while en mi vida!\n",
            "control sigue siendo par\n",
            "¡Primer uso de while en mi vida!\n",
            "control sigue siendo par\n",
            "¡Primer uso de while en mi vida!\n",
            "control sigue siendo par\n",
            "¡Primer uso de while en mi vida!\n",
            "control sigue siendo par\n",
            "¡Primer uso de while en mi vida!\n",
            "control sigue siendo par\n",
            "¡Primer uso de while en mi vida!\n",
            "control sigue siendo par\n",
            "¡Primer uso de while en mi vida!\n",
            "control sigue siendo par\n",
            "¡Primer uso de while en mi vida!\n",
            "control sigue siendo par\n",
            "¡Primer uso de while en mi vida!\n",
            "control sigue siendo par\n",
            "¡Primer uso de while en mi vida!\n",
            "control sigue siendo par\n",
            "¡Primer uso de while en mi vida!\n",
            "control sigue siendo par\n",
            "¡Primer uso de while en mi vida!\n",
            "control sigue siendo par\n",
            "¡Primer uso de while en mi vida!\n",
            "control sigue siendo par\n",
            "¡Primer uso de while en mi vida!\n",
            "control sigue siendo par\n",
            "¡Primer uso de while en mi vida!\n",
            "control sigue siendo par\n",
            "¡Primer uso de while en mi vida!\n",
            "control sigue siendo par\n",
            "¡Primer uso de while en mi vida!\n",
            "control sigue siendo par\n",
            "¡Primer uso de while en mi vida!\n",
            "control sigue siendo par\n",
            "¡Primer uso de while en mi vida!\n",
            "control sigue siendo par\n",
            "¡Primer uso de while en mi vida!\n",
            "control sigue siendo par\n",
            "¡Primer uso de while en mi vida!\n",
            "control sigue siendo par\n",
            "¡Primer uso de while en mi vida!\n",
            "control sigue siendo par\n",
            "¡Primer uso de while en mi vida!\n",
            "control sigue siendo par\n",
            "¡Primer uso de while en mi vida!\n",
            "control sigue siendo par\n",
            "¡Primer uso de while en mi vida!\n",
            "control sigue siendo par\n",
            "¡Primer uso de while en mi vida!\n",
            "control sigue siendo par\n",
            "¡Primer uso de while en mi vida!\n",
            "control sigue siendo par\n",
            "¡Primer uso de while en mi vida!\n",
            "control sigue siendo par\n",
            "¡Primer uso de while en mi vida!\n",
            "control sigue siendo par\n",
            "¡Primer uso de while en mi vida!\n",
            "control sigue siendo par\n",
            "¡Primer uso de while en mi vida!\n",
            "control sigue siendo par\n",
            "¡Primer uso de while en mi vida!\n",
            "control sigue siendo par\n",
            "¡Primer uso de while en mi vida!\n",
            "control sigue siendo par\n",
            "¡Primer uso de while en mi vida!\n",
            "control sigue siendo par\n",
            "¡Primer uso de while en mi vida!\n",
            "control sigue siendo par\n",
            "¡Primer uso de while en mi vida!\n",
            "control sigue siendo par\n",
            "¡Primer uso de while en mi vida!\n",
            "control sigue siendo par\n",
            "¡Primer uso de while en mi vida!\n",
            "control sigue siendo par\n",
            "¡Primer uso de while en mi vida!\n",
            "control sigue siendo par\n",
            "¡Primer uso de while en mi vida!\n",
            "control sigue siendo par\n",
            "¡Primer uso de while en mi vida!\n",
            "control sigue siendo par\n",
            "¡Primer uso de while en mi vida!\n",
            "control sigue siendo par\n",
            "¡Primer uso de while en mi vida!\n",
            "control sigue siendo par\n",
            "¡Primer uso de while en mi vida!\n",
            "control sigue siendo par\n",
            "¡Primer uso de while en mi vida!\n",
            "control sigue siendo par\n",
            "¡Primer uso de while en mi vida!\n",
            "control sigue siendo par\n",
            "¡Primer uso de while en mi vida!\n",
            "control sigue siendo par\n",
            "¡Primer uso de while en mi vida!\n",
            "control sigue siendo par\n",
            "¡Primer uso de while en mi vida!\n",
            "control sigue siendo par\n",
            "¡Primer uso de while en mi vida!\n",
            "control sigue siendo par\n",
            "¡Primer uso de while en mi vida!\n",
            "control sigue siendo par\n",
            "¡Primer uso de while en mi vida!\n",
            "control sigue siendo par\n",
            "¡Primer uso de while en mi vida!\n",
            "control sigue siendo par\n",
            "¡Primer uso de while en mi vida!\n",
            "control sigue siendo par\n",
            "¡Primer uso de while en mi vida!\n",
            "control sigue siendo par\n",
            "¡Primer uso de while en mi vida!\n",
            "control sigue siendo par\n",
            "¡Primer uso de while en mi vida!\n",
            "control sigue siendo par\n",
            "¡Primer uso de while en mi vida!\n",
            "control sigue siendo par\n",
            "¡Primer uso de while en mi vida!\n",
            "control sigue siendo par\n",
            "¡Primer uso de while en mi vida!\n",
            "control sigue siendo par\n",
            "¡Primer uso de while en mi vida!\n",
            "control sigue siendo par\n",
            "¡Primer uso de while en mi vida!\n",
            "control sigue siendo par\n",
            "¡Primer uso de while en mi vida!\n",
            "control sigue siendo par\n",
            "¡Primer uso de while en mi vida!\n",
            "control sigue siendo par\n",
            "¡Primer uso de while en mi vida!\n",
            "control sigue siendo par\n",
            "¡Primer uso de while en mi vida!\n",
            "control sigue siendo par\n",
            "¡Primer uso de while en mi vida!\n",
            "control sigue siendo par\n",
            "¡Primer uso de while en mi vida!\n",
            "control sigue siendo par\n",
            "¡Primer uso de while en mi vida!\n",
            "control sigue siendo par\n",
            "¡Primer uso de while en mi vida!\n",
            "control sigue siendo par\n",
            "¡Primer uso de while en mi vida!\n",
            "control sigue siendo par\n",
            "¡Primer uso de while en mi vida!\n",
            "control sigue siendo par\n",
            "¡Primer uso de while en mi vida!\n",
            "control sigue siendo par\n",
            "¡Primer uso de while en mi vida!\n",
            "control sigue siendo par\n",
            "¡Primer uso de while en mi vida!\n",
            "control sigue siendo par\n",
            "¡Primer uso de while en mi vida!\n",
            "control sigue siendo par\n",
            "¡Primer uso de while en mi vida!\n",
            "control sigue siendo par\n",
            "¡Primer uso de while en mi vida!\n",
            "control sigue siendo par\n",
            "¡Primer uso de while en mi vida!\n",
            "control sigue siendo par\n",
            "¡Primer uso de while en mi vida!\n",
            "control sigue siendo par\n",
            "¡Primer uso de while en mi vida!\n",
            "control sigue siendo par\n",
            "¡Primer uso de while en mi vida!\n",
            "control sigue siendo par\n",
            "¡Primer uso de while en mi vida!\n",
            "control sigue siendo par\n",
            "¡Primer uso de while en mi vida!\n",
            "control sigue siendo par\n",
            "¡Primer uso de while en mi vida!\n",
            "control sigue siendo par\n",
            "¡Primer uso de while en mi vida!\n",
            "control sigue siendo par\n",
            "¡Primer uso de while en mi vida!\n",
            "control sigue siendo par\n",
            "¡Primer uso de while en mi vida!\n",
            "control sigue siendo par\n",
            "¡Primer uso de while en mi vida!\n",
            "control sigue siendo par\n",
            "¡Primer uso de while en mi vida!\n",
            "control sigue siendo par\n",
            "¡Primer uso de while en mi vida!\n",
            "control sigue siendo par\n",
            "¡Primer uso de while en mi vida!\n",
            "control sigue siendo par\n",
            "¡Primer uso de while en mi vida!\n",
            "control sigue siendo par\n",
            "¡Primer uso de while en mi vida!\n",
            "control sigue siendo par\n",
            "¡Primer uso de while en mi vida!\n",
            "control sigue siendo par\n",
            "¡Primer uso de while en mi vida!\n",
            "control sigue siendo par\n",
            "¡Primer uso de while en mi vida!\n",
            "control sigue siendo par\n",
            "¡Primer uso de while en mi vida!\n",
            "control sigue siendo par\n",
            "¡Primer uso de while en mi vida!\n",
            "control sigue siendo par\n",
            "¡Primer uso de while en mi vida!\n",
            "control sigue siendo par\n",
            "¡Primer uso de while en mi vida!\n",
            "control sigue siendo par\n",
            "¡Primer uso de while en mi vida!\n",
            "control sigue siendo par\n",
            "¡Primer uso de while en mi vida!\n",
            "control sigue siendo par\n",
            "¡Primer uso de while en mi vida!\n",
            "control sigue siendo par\n",
            "¡Primer uso de while en mi vida!\n",
            "control sigue siendo par\n",
            "¡Primer uso de while en mi vida!\n",
            "control sigue siendo par\n",
            "¡Primer uso de while en mi vida!\n",
            "control sigue siendo par\n",
            "¡Primer uso de while en mi vida!\n",
            "control sigue siendo par\n",
            "¡Primer uso de while en mi vida!\n",
            "control sigue siendo par\n",
            "¡Primer uso de while en mi vida!\n",
            "control sigue siendo par\n",
            "¡Primer uso de while en mi vida!\n",
            "control sigue siendo par\n",
            "¡Primer uso de while en mi vida!\n",
            "control sigue siendo par\n",
            "¡Primer uso de while en mi vida!\n",
            "control sigue siendo par\n",
            "¡Primer uso de while en mi vida!\n",
            "control sigue siendo par\n",
            "¡Primer uso de while en mi vida!\n",
            "control sigue siendo par\n",
            "¡Primer uso de while en mi vida!\n",
            "control sigue siendo par\n",
            "¡Primer uso de while en mi vida!\n",
            "control sigue siendo par\n",
            "¡Primer uso de while en mi vida!\n",
            "control sigue siendo par\n",
            "¡Primer uso de while en mi vida!\n",
            "control sigue siendo par\n",
            "¡Primer uso de while en mi vida!\n",
            "control sigue siendo par\n",
            "¡Primer uso de while en mi vida!\n",
            "control sigue siendo par\n",
            "¡Primer uso de while en mi vida!\n",
            "control sigue siendo par\n",
            "¡Primer uso de while en mi vida!\n",
            "control sigue siendo par\n",
            "¡Primer uso de while en mi vida!\n",
            "control sigue siendo par\n",
            "¡Primer uso de while en mi vida!\n",
            "control sigue siendo par\n",
            "¡Primer uso de while en mi vida!\n",
            "control sigue siendo par\n",
            "¡Primer uso de while en mi vida!\n",
            "control sigue siendo par\n",
            "¡Primer uso de while en mi vida!\n",
            "control sigue siendo par\n",
            "¡Primer uso de while en mi vida!\n",
            "control sigue siendo par\n",
            "¡Primer uso de while en mi vida!\n",
            "control sigue siendo par\n",
            "¡Primer uso de while en mi vida!\n",
            "control sigue siendo par\n",
            "¡Primer uso de while en mi vida!\n",
            "control sigue siendo par\n",
            "¡Primer uso de while en mi vida!\n",
            "control sigue siendo par\n",
            "¡Primer uso de while en mi vida!\n",
            "control sigue siendo par\n",
            "¡Primer uso de while en mi vida!\n",
            "control sigue siendo par\n",
            "¡Primer uso de while en mi vida!\n",
            "control sigue siendo par\n",
            "¡Primer uso de while en mi vida!\n",
            "control sigue siendo par\n",
            "¡Primer uso de while en mi vida!\n",
            "control sigue siendo par\n",
            "¡Primer uso de while en mi vida!\n",
            "control sigue siendo par\n",
            "¡Primer uso de while en mi vida!\n",
            "control sigue siendo par\n",
            "¡Primer uso de while en mi vida!\n",
            "control sigue siendo par\n",
            "¡Primer uso de while en mi vida!\n",
            "control sigue siendo par\n",
            "¡Primer uso de while en mi vida!\n",
            "control sigue siendo par\n",
            "¡Primer uso de while en mi vida!\n",
            "control sigue siendo par\n",
            "¡Primer uso de while en mi vida!\n",
            "control sigue siendo par\n",
            "¡Primer uso de while en mi vida!\n",
            "control sigue siendo par\n",
            "¡Primer uso de while en mi vida!\n",
            "control sigue siendo par\n",
            "¡Primer uso de while en mi vida!\n",
            "control sigue siendo par\n",
            "¡Primer uso de while en mi vida!\n",
            "control sigue siendo par\n",
            "¡Primer uso de while en mi vida!\n",
            "control sigue siendo par\n",
            "¡Primer uso de while en mi vida!\n",
            "control sigue siendo par\n",
            "¡Primer uso de while en mi vida!\n",
            "control sigue siendo par\n",
            "¡Primer uso de while en mi vida!\n",
            "control sigue siendo par\n",
            "¡Primer uso de while en mi vida!\n",
            "control sigue siendo par\n",
            "¡Primer uso de while en mi vida!\n",
            "control sigue siendo par\n",
            "¡Primer uso de while en mi vida!\n",
            "control sigue siendo par\n",
            "¡Primer uso de while en mi vida!\n",
            "control sigue siendo par\n",
            "¡Primer uso de while en mi vida!\n",
            "control sigue siendo par\n",
            "¡Primer uso de while en mi vida!\n",
            "control sigue siendo par\n",
            "¡Primer uso de while en mi vida!\n",
            "control sigue siendo par\n",
            "¡Primer uso de while en mi vida!\n",
            "control sigue siendo par\n",
            "¡Primer uso de while en mi vida!\n",
            "control sigue siendo par\n",
            "¡Primer uso de while en mi vida!\n",
            "control sigue siendo par\n",
            "¡Primer uso de while en mi vida!\n",
            "control sigue siendo par\n",
            "¡Primer uso de while en mi vida!\n",
            "control sigue siendo par\n",
            "¡Primer uso de while en mi vida!\n",
            "control sigue siendo par\n",
            "¡Primer uso de while en mi vida!\n",
            "control sigue siendo par\n",
            "¡Primer uso de while en mi vida!\n",
            "control sigue siendo par\n",
            "¡Primer uso de while en mi vida!\n",
            "control sigue siendo par\n",
            "¡Primer uso de while en mi vida!\n",
            "control sigue siendo par\n",
            "¡Primer uso de while en mi vida!\n",
            "control sigue siendo par\n",
            "¡Primer uso de while en mi vida!\n",
            "control sigue siendo par\n",
            "¡Primer uso de while en mi vida!\n",
            "control sigue siendo par\n",
            "¡Primer uso de while en mi vida!\n",
            "control sigue siendo par\n",
            "¡Primer uso de while en mi vida!\n",
            "control sigue siendo par\n",
            "¡Primer uso de while en mi vida!\n",
            "control sigue siendo par\n",
            "¡Primer uso de while en mi vida!\n",
            "control sigue siendo par\n",
            "¡Primer uso de while en mi vida!\n",
            "control sigue siendo par\n",
            "¡Primer uso de while en mi vida!\n",
            "control sigue siendo par\n",
            "¡Primer uso de while en mi vida!\n",
            "control sigue siendo par\n",
            "¡Primer uso de while en mi vida!\n",
            "control sigue siendo par\n",
            "¡Primer uso de while en mi vida!\n",
            "control sigue siendo par\n",
            "¡Primer uso de while en mi vida!\n",
            "control sigue siendo par\n",
            "¡Primer uso de while en mi vida!\n",
            "control sigue siendo par\n",
            "¡Primer uso de while en mi vida!\n",
            "control sigue siendo par\n",
            "¡Primer uso de while en mi vida!\n",
            "control sigue siendo par\n",
            "¡Primer uso de while en mi vida!\n",
            "control sigue siendo par\n",
            "¡Primer uso de while en mi vida!\n",
            "control sigue siendo par\n",
            "¡Primer uso de while en mi vida!\n",
            "control sigue siendo par\n",
            "¡Primer uso de while en mi vida!\n",
            "control sigue siendo par\n",
            "¡Primer uso de while en mi vida!\n",
            "control sigue siendo par\n",
            "¡Primer uso de while en mi vida!\n",
            "control sigue siendo par\n",
            "¡Primer uso de while en mi vida!\n",
            "control sigue siendo par\n",
            "¡Primer uso de while en mi vida!\n",
            "control sigue siendo par\n",
            "¡Primer uso de while en mi vida!\n",
            "control sigue siendo par\n",
            "¡Primer uso de while en mi vida!\n",
            "control sigue siendo par\n",
            "¡Primer uso de while en mi vida!\n",
            "control sigue siendo par\n",
            "¡Primer uso de while en mi vida!\n",
            "control sigue siendo par\n",
            "¡Primer uso de while en mi vida!\n",
            "control sigue siendo par\n",
            "¡Primer uso de while en mi vida!\n",
            "control sigue siendo par\n",
            "¡Primer uso de while en mi vida!\n",
            "control sigue siendo par\n",
            "¡Primer uso de while en mi vida!\n",
            "control sigue siendo par\n",
            "¡Primer uso de while en mi vida!\n",
            "control sigue siendo par\n",
            "¡Primer uso de while en mi vida!\n",
            "control sigue siendo par\n",
            "¡Primer uso de while en mi vida!\n",
            "control sigue siendo par\n",
            "¡Primer uso de while en mi vida!\n",
            "control sigue siendo par\n",
            "¡Primer uso de while en mi vida!\n",
            "control sigue siendo par\n",
            "¡Primer uso de while en mi vida!\n",
            "control sigue siendo par\n",
            "¡Primer uso de while en mi vida!\n",
            "control sigue siendo par\n",
            "¡Primer uso de while en mi vida!\n",
            "control sigue siendo par\n",
            "¡Primer uso de while en mi vida!\n",
            "control sigue siendo par\n",
            "¡Primer uso de while en mi vida!\n",
            "control sigue siendo par\n",
            "¡Primer uso de while en mi vida!\n",
            "control sigue siendo par\n",
            "¡Primer uso de while en mi vida!\n",
            "control sigue siendo par\n",
            "¡Primer uso de while en mi vida!\n",
            "control sigue siendo par\n",
            "¡Primer uso de while en mi vida!\n",
            "control sigue siendo par\n",
            "¡Primer uso de while en mi vida!\n",
            "control sigue siendo par\n",
            "¡Primer uso de while en mi vida!\n",
            "control sigue siendo par\n",
            "¡Primer uso de while en mi vida!\n",
            "control sigue siendo par\n",
            "¡Primer uso de while en mi vida!\n",
            "control sigue siendo par\n",
            "¡Primer uso de while en mi vida!\n",
            "control sigue siendo par\n",
            "¡Primer uso de while en mi vida!\n",
            "control sigue siendo par\n",
            "¡Primer uso de while en mi vida!\n",
            "control sigue siendo par\n",
            "¡Primer uso de while en mi vida!\n",
            "control sigue siendo par\n",
            "¡Primer uso de while en mi vida!\n",
            "control sigue siendo par\n",
            "¡Primer uso de while en mi vida!\n",
            "control sigue siendo par\n",
            "¡Primer uso de while en mi vida!\n",
            "control sigue siendo par\n",
            "¡Primer uso de while en mi vida!\n",
            "control sigue siendo par\n",
            "¡Primer uso de while en mi vida!\n",
            "control sigue siendo par\n",
            "¡Primer uso de while en mi vida!\n",
            "control sigue siendo par\n",
            "¡Primer uso de while en mi vida!\n",
            "control sigue siendo par\n",
            "¡Primer uso de while en mi vida!\n",
            "control sigue siendo par\n",
            "¡Primer uso de while en mi vida!\n",
            "control sigue siendo par\n",
            "¡Primer uso de while en mi vida!\n",
            "control sigue siendo par\n",
            "¡Primer uso de while en mi vida!\n",
            "control sigue siendo par\n",
            "¡Primer uso de while en mi vida!\n",
            "control sigue siendo par\n",
            "¡Primer uso de while en mi vida!\n",
            "control sigue siendo par\n",
            "¡Primer uso de while en mi vida!\n",
            "control sigue siendo par\n",
            "¡Primer uso de while en mi vida!\n",
            "control sigue siendo par\n",
            "¡Primer uso de while en mi vida!\n",
            "control sigue siendo par\n",
            "¡Primer uso de while en mi vida!\n",
            "control sigue siendo par\n",
            "¡Primer uso de while en mi vida!\n",
            "control sigue siendo par\n",
            "¡Primer uso de while en mi vida!\n",
            "control sigue siendo par\n",
            "¡Primer uso de while en mi vida!\n",
            "control sigue siendo par\n",
            "¡Primer uso de while en mi vida!\n",
            "control sigue siendo par\n",
            "¡Primer uso de while en mi vida!\n",
            "control sigue siendo par\n",
            "¡Primer uso de while en mi vida!\n",
            "control sigue siendo par\n",
            "¡Primer uso de while en mi vida!\n",
            "control sigue siendo par\n",
            "¡Primer uso de while en mi vida!\n",
            "control sigue siendo par\n",
            "¡Primer uso de while en mi vida!\n",
            "control sigue siendo par\n",
            "¡Primer uso de while en mi vida!\n",
            "control sigue siendo par\n",
            "¡Primer uso de while en mi vida!\n",
            "control sigue siendo par\n",
            "¡Primer uso de while en mi vida!\n",
            "control sigue siendo par\n",
            "¡Primer uso de while en mi vida!\n",
            "control sigue siendo par\n",
            "¡Primer uso de while en mi vida!\n",
            "control sigue siendo par\n",
            "¡Primer uso de while en mi vida!\n",
            "control sigue siendo par\n",
            "¡Primer uso de while en mi vida!\n",
            "control sigue siendo par\n",
            "¡Primer uso de while en mi vida!\n",
            "control sigue siendo par\n",
            "¡Primer uso de while en mi vida!\n",
            "control sigue siendo par\n",
            "¡Primer uso de while en mi vida!\n",
            "control sigue siendo par\n",
            "¡Primer uso de while en mi vida!\n",
            "control sigue siendo par\n",
            "¡Primer uso de while en mi vida!\n",
            "control sigue siendo par\n",
            "¡Primer uso de while en mi vida!\n",
            "control sigue siendo par\n",
            "¡Primer uso de while en mi vida!\n",
            "control sigue siendo par\n",
            "¡Primer uso de while en mi vida!\n",
            "control sigue siendo par\n",
            "¡Primer uso de while en mi vida!\n",
            "control sigue siendo par\n",
            "¡Primer uso de while en mi vida!\n",
            "control sigue siendo par\n",
            "¡Primer uso de while en mi vida!\n",
            "control sigue siendo par\n",
            "¡Primer uso de while en mi vida!\n",
            "control sigue siendo par\n",
            "¡Primer uso de while en mi vida!\n",
            "control sigue siendo par\n",
            "¡Primer uso de while en mi vida!\n",
            "control sigue siendo par\n",
            "¡Primer uso de while en mi vida!\n",
            "control sigue siendo par\n",
            "¡Primer uso de while en mi vida!\n",
            "control sigue siendo par\n",
            "¡Primer uso de while en mi vida!\n",
            "control sigue siendo par\n",
            "¡Primer uso de while en mi vida!\n",
            "control sigue siendo par\n",
            "¡Primer uso de while en mi vida!\n",
            "control sigue siendo par\n",
            "¡Primer uso de while en mi vida!\n",
            "control sigue siendo par\n",
            "¡Primer uso de while en mi vida!\n",
            "control sigue siendo par\n",
            "¡Primer uso de while en mi vida!\n",
            "control sigue siendo par\n",
            "¡Primer uso de while en mi vida!\n",
            "control sigue siendo par\n",
            "¡Primer uso de while en mi vida!\n",
            "control sigue siendo par\n",
            "¡Primer uso de while en mi vida!\n",
            "control sigue siendo par\n",
            "¡Primer uso de while en mi vida!\n",
            "control sigue siendo par\n",
            "¡Primer uso de while en mi vida!\n",
            "control sigue siendo par\n",
            "¡Primer uso de while en mi vida!\n",
            "control sigue siendo par\n",
            "¡Primer uso de while en mi vida!\n",
            "control sigue siendo par\n",
            "¡Primer uso de while en mi vida!\n",
            "control sigue siendo par\n",
            "¡Primer uso de while en mi vida!\n",
            "control sigue siendo par\n",
            "¡Primer uso de while en mi vida!\n",
            "control sigue siendo par\n",
            "¡Primer uso de while en mi vida!\n",
            "control sigue siendo par\n",
            "¡Primer uso de while en mi vida!\n",
            "control sigue siendo par\n",
            "¡Primer uso de while en mi vida!\n",
            "control sigue siendo par\n",
            "¡Primer uso de while en mi vida!\n",
            "control sigue siendo par\n",
            "¡Primer uso de while en mi vida!\n",
            "control sigue siendo par\n",
            "¡Primer uso de while en mi vida!\n",
            "control sigue siendo par\n",
            "¡Primer uso de while en mi vida!\n",
            "control sigue siendo par\n",
            "¡Primer uso de while en mi vida!\n",
            "control sigue siendo par\n",
            "¡Primer uso de while en mi vida!\n",
            "control sigue siendo par\n",
            "¡Primer uso de while en mi vida!\n",
            "control sigue siendo par\n",
            "¡Primer uso de while en mi vida!\n",
            "control sigue siendo par\n",
            "¡Primer uso de while en mi vida!\n",
            "control sigue siendo par\n",
            "¡Primer uso de while en mi vida!\n",
            "control sigue siendo par\n",
            "¡Primer uso de while en mi vida!\n",
            "control sigue siendo par\n",
            "¡Primer uso de while en mi vida!\n",
            "control sigue siendo par\n",
            "¡Primer uso de while en mi vida!\n",
            "control sigue siendo par\n",
            "¡Primer uso de while en mi vida!\n",
            "control sigue siendo par\n",
            "¡Primer uso de while en mi vida!\n",
            "control sigue siendo par\n",
            "¡Primer uso de while en mi vida!\n",
            "control sigue siendo par\n",
            "¡Primer uso de while en mi vida!\n",
            "control sigue siendo par\n",
            "¡Primer uso de while en mi vida!\n",
            "control sigue siendo par\n",
            "¡Primer uso de while en mi vida!\n",
            "control sigue siendo par\n",
            "¡Primer uso de while en mi vida!\n",
            "control sigue siendo par\n",
            "¡Primer uso de while en mi vida!\n",
            "control sigue siendo par\n",
            "¡Primer uso de while en mi vida!\n",
            "control sigue siendo par\n",
            "¡Primer uso de while en mi vida!\n",
            "control sigue siendo par\n",
            "¡Primer uso de while en mi vida!\n",
            "control sigue siendo par\n",
            "¡Primer uso de while en mi vida!\n",
            "control sigue siendo par\n",
            "¡Primer uso de while en mi vida!\n",
            "control sigue siendo par\n",
            "¡Primer uso de while en mi vida!\n",
            "control sigue siendo par\n",
            "¡Primer uso de while en mi vida!\n",
            "control sigue siendo par\n",
            "¡Primer uso de while en mi vida!\n",
            "control sigue siendo par\n",
            "¡Primer uso de while en mi vida!\n",
            "control sigue siendo par\n",
            "¡Primer uso de while en mi vida!\n",
            "control sigue siendo par\n",
            "¡Primer uso de while en mi vida!\n",
            "control sigue siendo par\n",
            "¡Primer uso de while en mi vida!\n",
            "control sigue siendo par\n",
            "¡Primer uso de while en mi vida!\n",
            "control sigue siendo par\n",
            "¡Primer uso de while en mi vida!\n",
            "control sigue siendo par\n",
            "¡Primer uso de while en mi vida!\n",
            "control sigue siendo par\n",
            "¡Primer uso de while en mi vida!\n",
            "control sigue siendo par\n",
            "¡Primer uso de while en mi vida!\n",
            "control sigue siendo par\n",
            "¡Primer uso de while en mi vida!\n",
            "control sigue siendo par\n",
            "¡Primer uso de while en mi vida!\n",
            "control sigue siendo par\n",
            "¡Primer uso de while en mi vida!\n",
            "control sigue siendo par\n",
            "¡Primer uso de while en mi vida!\n",
            "control sigue siendo par\n",
            "¡Primer uso de while en mi vida!\n",
            "control sigue siendo par\n",
            "¡Primer uso de while en mi vida!\n",
            "control sigue siendo par\n",
            "¡Primer uso de while en mi vida!\n",
            "control sigue siendo par\n",
            "¡Primer uso de while en mi vida!\n",
            "control sigue siendo par\n",
            "¡Primer uso de while en mi vida!\n",
            "control sigue siendo par\n",
            "¡Primer uso de while en mi vida!\n",
            "control sigue siendo par\n",
            "¡Primer uso de while en mi vida!\n",
            "control sigue siendo par\n",
            "¡Primer uso de while en mi vida!\n",
            "control sigue siendo par\n",
            "¡Primer uso de while en mi vida!\n",
            "control sigue siendo par\n",
            "¡Primer uso de while en mi vida!\n",
            "control sigue siendo par\n",
            "¡Primer uso de while en mi vida!\n",
            "control sigue siendo par\n",
            "¡Primer uso de while en mi vida!\n",
            "control sigue siendo par\n",
            "¡Primer uso de while en mi vida!\n",
            "control sigue siendo par\n",
            "¡Primer uso de while en mi vida!\n",
            "control sigue siendo par\n",
            "¡Primer uso de while en mi vida!\n",
            "control sigue siendo par\n",
            "¡Primer uso de while en mi vida!\n",
            "control sigue siendo par\n",
            "¡Primer uso de while en mi vida!\n",
            "control sigue siendo par\n",
            "¡Primer uso de while en mi vida!\n",
            "control sigue siendo par\n",
            "¡Primer uso de while en mi vida!\n",
            "control sigue siendo par\n",
            "¡Primer uso de while en mi vida!\n",
            "control sigue siendo par\n",
            "¡Primer uso de while en mi vida!\n",
            "control sigue siendo par\n",
            "¡Primer uso de while en mi vida!\n",
            "control sigue siendo par\n",
            "¡Primer uso de while en mi vida!\n",
            "control sigue siendo par\n",
            "¡Primer uso de while en mi vida!\n",
            "control sigue siendo par\n",
            "¡Primer uso de while en mi vida!\n",
            "control sigue siendo par\n",
            "¡Primer uso de while en mi vida!\n",
            "control sigue siendo par\n",
            "¡Primer uso de while en mi vida!\n",
            "control sigue siendo par\n",
            "¡Primer uso de while en mi vida!\n",
            "control sigue siendo par\n",
            "¡Primer uso de while en mi vida!\n",
            "control sigue siendo par\n",
            "¡Primer uso de while en mi vida!\n",
            "control sigue siendo par\n",
            "¡Primer uso de while en mi vida!\n",
            "control sigue siendo par\n",
            "¡Primer uso de while en mi vida!\n",
            "control sigue siendo par\n",
            "¡Primer uso de while en mi vida!\n",
            "control sigue siendo par\n",
            "¡Primer uso de while en mi vida!\n",
            "control sigue siendo par\n",
            "¡Primer uso de while en mi vida!\n",
            "control sigue siendo par\n",
            "¡Primer uso de while en mi vida!\n",
            "control sigue siendo par\n",
            "¡Primer uso de while en mi vida!\n",
            "control sigue siendo par\n",
            "¡Primer uso de while en mi vida!\n",
            "control sigue siendo par\n",
            "¡Primer uso de while en mi vida!\n",
            "control sigue siendo par\n",
            "¡Primer uso de while en mi vida!\n",
            "control sigue siendo par\n",
            "¡Primer uso de while en mi vida!\n",
            "control sigue siendo par\n",
            "¡Primer uso de while en mi vida!\n",
            "control sigue siendo par\n",
            "¡Primer uso de while en mi vida!\n",
            "control sigue siendo par\n",
            "¡Primer uso de while en mi vida!\n",
            "control sigue siendo par\n",
            "¡Primer uso de while en mi vida!\n",
            "control sigue siendo par\n",
            "¡Primer uso de while en mi vida!\n",
            "control sigue siendo par\n",
            "¡Primer uso de while en mi vida!\n",
            "control sigue siendo par\n",
            "¡Primer uso de while en mi vida!\n",
            "control sigue siendo par\n",
            "¡Primer uso de while en mi vida!\n",
            "control sigue siendo par\n",
            "¡Primer uso de while en mi vida!\n",
            "control sigue siendo par\n",
            "¡Primer uso de while en mi vida!\n",
            "control sigue siendo par\n",
            "¡Primer uso de while en mi vida!\n",
            "control sigue siendo par\n",
            "¡Primer uso de while en mi vida!\n",
            "control sigue siendo par\n",
            "¡Primer uso de while en mi vida!\n",
            "control sigue siendo par\n",
            "¡Primer uso de while en mi vida!\n",
            "control sigue siendo par\n",
            "¡Primer uso de while en mi vida!\n",
            "control sigue siendo par\n",
            "¡Primer uso de while en mi vida!\n",
            "control sigue siendo par\n",
            "¡Primer uso de while en mi vida!\n",
            "control sigue siendo par\n",
            "¡Primer uso de while en mi vida!\n",
            "control sigue siendo par\n",
            "¡Primer uso de while en mi vida!\n",
            "control sigue siendo par\n",
            "¡Primer uso de while en mi vida!\n",
            "control sigue siendo par\n",
            "¡Primer uso de while en mi vida!\n",
            "control sigue siendo par\n",
            "¡Primer uso de while en mi vida!\n",
            "control sigue siendo par\n",
            "¡Primer uso de while en mi vida!\n",
            "control sigue siendo par\n",
            "¡Primer uso de while en mi vida!\n",
            "control sigue siendo par\n",
            "¡Primer uso de while en mi vida!\n",
            "control sigue siendo par\n",
            "¡Primer uso de while en mi vida!\n",
            "control sigue siendo par\n",
            "¡Primer uso de while en mi vida!\n",
            "control sigue siendo par\n",
            "¡Primer uso de while en mi vida!\n",
            "control sigue siendo par\n",
            "¡Primer uso de while en mi vida!\n",
            "control sigue siendo par\n",
            "¡Primer uso de while en mi vida!\n",
            "control sigue siendo par\n",
            "¡Primer uso de while en mi vida!\n",
            "control sigue siendo par\n",
            "¡Primer uso de while en mi vida!\n",
            "control sigue siendo par\n",
            "¡Primer uso de while en mi vida!\n",
            "control sigue siendo par\n",
            "¡Primer uso de while en mi vida!\n",
            "control sigue siendo par\n",
            "¡Primer uso de while en mi vida!\n",
            "control sigue siendo par\n",
            "¡Primer uso de while en mi vida!\n",
            "control sigue siendo par\n",
            "¡Primer uso de while en mi vida!\n",
            "control sigue siendo par\n",
            "¡Primer uso de while en mi vida!\n",
            "control sigue siendo par\n",
            "¡Primer uso de while en mi vida!\n",
            "control sigue siendo par\n",
            "¡Primer uso de while en mi vida!\n",
            "control sigue siendo par\n",
            "¡Primer uso de while en mi vida!\n",
            "control sigue siendo par\n",
            "¡Primer uso de while en mi vida!\n",
            "control sigue siendo par\n",
            "¡Primer uso de while en mi vida!\n",
            "control sigue siendo par\n",
            "¡Primer uso de while en mi vida!\n",
            "control sigue siendo par\n",
            "¡Primer uso de while en mi vida!\n",
            "control sigue siendo par\n",
            "¡Primer uso de while en mi vida!\n",
            "control sigue siendo par\n",
            "¡Primer uso de while en mi vida!\n",
            "control sigue siendo par\n",
            "¡Primer uso de while en mi vida!\n",
            "control sigue siendo par\n",
            "¡Primer uso de while en mi vida!\n",
            "control sigue siendo par\n",
            "¡Primer uso de while en mi vida!\n",
            "control sigue siendo par\n",
            "¡Primer uso de while en mi vida!\n",
            "control sigue siendo par\n",
            "¡Primer uso de while en mi vida!\n",
            "control sigue siendo par\n",
            "¡Primer uso de while en mi vida!\n",
            "control sigue siendo par\n",
            "¡Primer uso de while en mi vida!\n",
            "control sigue siendo par\n",
            "¡Primer uso de while en mi vida!\n",
            "control sigue siendo par\n",
            "¡Primer uso de while en mi vida!\n",
            "control sigue siendo par\n",
            "¡Primer uso de while en mi vida!\n",
            "control sigue siendo par\n",
            "¡Primer uso de while en mi vida!\n",
            "control sigue siendo par\n",
            "¡Primer uso de while en mi vida!\n",
            "control sigue siendo par\n",
            "¡Primer uso de while en mi vida!\n",
            "control sigue siendo par\n",
            "¡Primer uso de while en mi vida!\n",
            "control sigue siendo par\n",
            "¡Primer uso de while en mi vida!\n",
            "control sigue siendo par\n",
            "¡Primer uso de while en mi vida!\n",
            "control sigue siendo par\n",
            "¡Primer uso de while en mi vida!\n",
            "control sigue siendo par\n",
            "¡Primer uso de while en mi vida!\n",
            "control sigue siendo par\n",
            "¡Primer uso de while en mi vida!\n",
            "control sigue siendo par\n",
            "¡Primer uso de while en mi vida!\n",
            "control sigue siendo par\n",
            "¡Primer uso de while en mi vida!\n",
            "control sigue siendo par\n",
            "¡Primer uso de while en mi vida!\n",
            "control sigue siendo par\n",
            "¡Primer uso de while en mi vida!\n",
            "control sigue siendo par\n",
            "¡Primer uso de while en mi vida!\n",
            "control sigue siendo par\n",
            "¡Primer uso de while en mi vida!\n",
            "control sigue siendo par\n",
            "¡Primer uso de while en mi vida!\n",
            "control sigue siendo par\n",
            "¡Primer uso de while en mi vida!\n",
            "control sigue siendo par\n",
            "¡Primer uso de while en mi vida!\n",
            "control sigue siendo par\n",
            "¡Primer uso de while en mi vida!\n",
            "control sigue siendo par\n",
            "¡Primer uso de while en mi vida!\n",
            "control sigue siendo par\n",
            "¡Primer uso de while en mi vida!\n",
            "control sigue siendo par\n",
            "¡Primer uso de while en mi vida!\n",
            "control sigue siendo par\n",
            "¡Primer uso de while en mi vida!\n",
            "control sigue siendo par\n",
            "¡Primer uso de while en mi vida!\n",
            "control sigue siendo par\n",
            "¡Primer uso de while en mi vida!\n",
            "control sigue siendo par\n",
            "¡Primer uso de while en mi vida!\n",
            "control sigue siendo par\n",
            "¡Primer uso de while en mi vida!\n",
            "control sigue siendo par\n",
            "¡Primer uso de while en mi vida!\n",
            "control sigue siendo par\n",
            "¡Primer uso de while en mi vida!\n",
            "control sigue siendo par\n",
            "¡Primer uso de while en mi vida!\n",
            "control sigue siendo par\n",
            "¡Primer uso de while en mi vida!\n",
            "control sigue siendo par\n",
            "¡Primer uso de while en mi vida!\n",
            "control sigue siendo par\n",
            "¡Primer uso de while en mi vida!\n",
            "control sigue siendo par\n",
            "¡Primer uso de while en mi vida!\n",
            "control sigue siendo par\n",
            "¡Primer uso de while en mi vida!\n",
            "control sigue siendo par\n",
            "¡Primer uso de while en mi vida!\n",
            "control sigue siendo par\n",
            "¡Primer uso de while en mi vida!\n",
            "control sigue siendo par\n",
            "¡Primer uso de while en mi vida!\n",
            "control sigue siendo par\n",
            "¡Primer uso de while en mi vida!\n",
            "control sigue siendo par\n",
            "¡Primer uso de while en mi vida!\n",
            "control sigue siendo par\n",
            "¡Primer uso de while en mi vida!\n",
            "control sigue siendo par\n",
            "¡Primer uso de while en mi vida!\n",
            "control sigue siendo par\n",
            "¡Primer uso de while en mi vida!\n",
            "control sigue siendo par\n",
            "¡Primer uso de while en mi vida!\n",
            "control sigue siendo par\n",
            "¡Primer uso de while en mi vida!\n",
            "control sigue siendo par\n",
            "¡Primer uso de while en mi vida!\n",
            "control sigue siendo par\n",
            "¡Primer uso de while en mi vida!\n",
            "control sigue siendo par\n",
            "¡Primer uso de while en mi vida!\n",
            "control sigue siendo par\n",
            "¡Primer uso de while en mi vida!\n",
            "control sigue siendo par\n",
            "¡Primer uso de while en mi vida!\n",
            "control sigue siendo par\n",
            "¡Primer uso de while en mi vida!\n",
            "control sigue siendo par\n",
            "¡Primer uso de while en mi vida!\n",
            "control sigue siendo par\n",
            "¡Primer uso de while en mi vida!\n",
            "control sigue siendo par\n",
            "¡Primer uso de while en mi vida!\n",
            "control sigue siendo par\n",
            "¡Primer uso de while en mi vida!\n",
            "control sigue siendo par\n",
            "¡Primer uso de while en mi vida!\n",
            "control sigue siendo par\n",
            "¡Primer uso de while en mi vida!\n",
            "control sigue siendo par\n",
            "¡Primer uso de while en mi vida!\n",
            "control sigue siendo par\n",
            "¡Primer uso de while en mi vida!\n",
            "control sigue siendo par\n",
            "¡Primer uso de while en mi vida!\n",
            "control sigue siendo par\n",
            "¡Primer uso de while en mi vida!\n",
            "control sigue siendo par\n",
            "¡Primer uso de while en mi vida!\n",
            "control sigue siendo par\n",
            "¡Primer uso de while en mi vida!\n",
            "control sigue siendo par\n",
            "¡Primer uso de while en mi vida!\n",
            "control sigue siendo par\n",
            "¡Primer uso de while en mi vida!\n",
            "control sigue siendo par\n",
            "¡Primer uso de while en mi vida!\n",
            "control sigue siendo par\n",
            "¡Primer uso de while en mi vida!\n",
            "control sigue siendo par\n",
            "¡Primer uso de while en mi vida!\n",
            "control sigue siendo par\n",
            "¡Primer uso de while en mi vida!\n",
            "control sigue siendo par\n",
            "¡Primer uso de while en mi vida!\n",
            "control sigue siendo par\n",
            "¡Primer uso de while en mi vida!\n",
            "control sigue siendo par\n",
            "¡Primer uso de while en mi vida!\n",
            "control sigue siendo par\n",
            "¡Primer uso de while en mi vida!\n",
            "control sigue siendo par\n",
            "¡Primer uso de while en mi vida!\n",
            "control sigue siendo par\n",
            "¡Primer uso de while en mi vida!\n",
            "control sigue siendo par\n",
            "¡Primer uso de while en mi vida!\n",
            "control sigue siendo par\n",
            "¡Primer uso de while en mi vida!\n",
            "control sigue siendo par\n",
            "¡Primer uso de while en mi vida!\n",
            "control sigue siendo par\n",
            "¡Primer uso de while en mi vida!\n",
            "control sigue siendo par\n",
            "¡Primer uso de while en mi vida!\n",
            "control sigue siendo par\n",
            "¡Primer uso de while en mi vida!\n",
            "control sigue siendo par\n",
            "¡Primer uso de while en mi vida!\n",
            "control sigue siendo par\n",
            "¡Primer uso de while en mi vida!\n",
            "control sigue siendo par\n",
            "¡Primer uso de while en mi vida!\n",
            "control sigue siendo par\n",
            "¡Primer uso de while en mi vida!\n",
            "control sigue siendo par\n",
            "¡Primer uso de while en mi vida!\n",
            "control sigue siendo par\n",
            "¡Primer uso de while en mi vida!\n",
            "control sigue siendo par\n",
            "¡Primer uso de while en mi vida!\n",
            "control sigue siendo par\n",
            "¡Primer uso de while en mi vida!\n",
            "control sigue siendo par\n",
            "¡Primer uso de while en mi vida!\n",
            "control sigue siendo par\n",
            "¡Primer uso de while en mi vida!\n",
            "control sigue siendo par\n",
            "¡Primer uso de while en mi vida!\n",
            "control sigue siendo par\n",
            "¡Primer uso de while en mi vida!\n",
            "control sigue siendo par\n",
            "¡Primer uso de while en mi vida!\n",
            "control sigue siendo par\n",
            "¡Primer uso de while en mi vida!\n",
            "control sigue siendo par\n",
            "¡Primer uso de while en mi vida!\n",
            "control sigue siendo par\n",
            "¡Primer uso de while en mi vida!\n",
            "control sigue siendo par\n",
            "¡Primer uso de while en mi vida!\n",
            "control sigue siendo par\n",
            "¡Primer uso de while en mi vida!\n",
            "control sigue siendo par\n",
            "¡Primer uso de while en mi vida!\n",
            "control sigue siendo par\n",
            "¡Primer uso de while en mi vida!\n",
            "control sigue siendo par\n",
            "¡Primer uso de while en mi vida!\n",
            "control sigue siendo par\n",
            "¡Primer uso de while en mi vida!\n",
            "control sigue siendo par\n",
            "¡Primer uso de while en mi vida!\n",
            "control sigue siendo par\n",
            "¡Primer uso de while en mi vida!\n",
            "control sigue siendo par\n",
            "¡Primer uso de while en mi vida!\n",
            "control sigue siendo par\n",
            "¡Primer uso de while en mi vida!\n",
            "control sigue siendo par\n",
            "¡Primer uso de while en mi vida!\n",
            "control sigue siendo par\n",
            "¡Primer uso de while en mi vida!\n",
            "control sigue siendo par\n",
            "¡Primer uso de while en mi vida!\n",
            "control sigue siendo par\n",
            "¡Primer uso de while en mi vida!\n",
            "control sigue siendo par\n",
            "¡Primer uso de while en mi vida!\n",
            "control sigue siendo par\n",
            "¡Primer uso de while en mi vida!\n",
            "control sigue siendo par\n",
            "¡Primer uso de while en mi vida!\n",
            "control sigue siendo par\n",
            "¡Primer uso de while en mi vida!\n",
            "control sigue siendo par\n",
            "¡Primer uso de while en mi vida!\n",
            "control sigue siendo par\n",
            "¡Primer uso de while en mi vida!\n",
            "control sigue siendo par\n",
            "¡Primer uso de while en mi vida!\n",
            "control sigue siendo par\n",
            "¡Primer uso de while en mi vida!\n",
            "control sigue siendo par\n",
            "¡Primer uso de while en mi vida!\n",
            "control sigue siendo par\n",
            "¡Primer uso de while en mi vida!\n",
            "control sigue siendo par\n",
            "¡Primer uso de while en mi vida!\n",
            "control sigue siendo par\n",
            "¡Primer uso de while en mi vida!\n",
            "control sigue siendo par\n",
            "¡Primer uso de while en mi vida!\n",
            "control sigue siendo par\n",
            "¡Primer uso de while en mi vida!\n",
            "control sigue siendo par\n",
            "¡Primer uso de while en mi vida!\n",
            "control sigue siendo par\n",
            "¡Primer uso de while en mi vida!\n",
            "control sigue siendo par\n",
            "¡Primer uso de while en mi vida!\n",
            "control sigue siendo par\n",
            "¡Primer uso de while en mi vida!\n",
            "control sigue siendo par\n",
            "¡Primer uso de while en mi vida!\n",
            "control sigue siendo par\n",
            "¡Primer uso de while en mi vida!\n",
            "control sigue siendo par\n",
            "¡Primer uso de while en mi vida!\n",
            "control sigue siendo par\n",
            "¡Primer uso de while en mi vida!\n",
            "control sigue siendo par\n",
            "¡Primer uso de while en mi vida!\n",
            "control sigue siendo par\n",
            "¡Primer uso de while en mi vida!\n",
            "control sigue siendo par\n",
            "¡Primer uso de while en mi vida!\n",
            "control sigue siendo par\n",
            "¡Primer uso de while en mi vida!\n",
            "control sigue siendo par\n",
            "¡Primer uso de while en mi vida!\n",
            "control sigue siendo par\n",
            "¡Primer uso de while en mi vida!\n",
            "control sigue siendo par\n",
            "¡Primer uso de while en mi vida!\n",
            "control sigue siendo par\n",
            "¡Primer uso de while en mi vida!\n",
            "control sigue siendo par\n",
            "¡Primer uso de while en mi vida!\n",
            "control sigue siendo par\n",
            "¡Primer uso de while en mi vida!\n",
            "control sigue siendo par\n",
            "¡Primer uso de while en mi vida!\n",
            "control sigue siendo par\n",
            "¡Primer uso de while en mi vida!\n",
            "control sigue siendo par\n",
            "¡Primer uso de while en mi vida!\n",
            "control sigue siendo par\n",
            "¡Primer uso de while en mi vida!\n",
            "control sigue siendo par\n",
            "¡Primer uso de while en mi vida!\n",
            "control sigue siendo par\n",
            "¡Primer uso de while en mi vida!\n",
            "control sigue siendo par\n",
            "¡Primer uso de while en mi vida!\n",
            "control sigue siendo par\n",
            "¡Primer uso de while en mi vida!\n",
            "control sigue siendo par\n",
            "¡Primer uso de while en mi vida!\n",
            "control sigue siendo par\n",
            "¡Primer uso de while en mi vida!\n",
            "control sigue siendo par\n",
            "¡Primer uso de while en mi vida!\n",
            "control sigue siendo par\n",
            "¡Primer uso de while en mi vida!\n",
            "control sigue siendo par\n",
            "¡Primer uso de while en mi vida!\n",
            "control sigue siendo par\n",
            "¡Primer uso de while en mi vida!\n",
            "control sigue siendo par\n",
            "¡Primer uso de while en mi vida!\n",
            "control sigue siendo par\n",
            "¡Primer uso de while en mi vida!\n",
            "control sigue siendo par\n",
            "¡Primer uso de while en mi vida!\n",
            "control sigue siendo par\n",
            "¡Primer uso de while en mi vida!\n",
            "control sigue siendo par\n",
            "¡Primer uso de while en mi vida!\n",
            "control sigue siendo par\n",
            "¡Primer uso de while en mi vida!\n",
            "control sigue siendo par\n",
            "¡Primer uso de while en mi vida!\n",
            "control sigue siendo par\n",
            "¡Primer uso de while en mi vida!\n",
            "control sigue siendo par\n",
            "¡Primer uso de while en mi vida!\n",
            "control sigue siendo par\n",
            "¡Primer uso de while en mi vida!\n",
            "control sigue siendo par\n",
            "¡Primer uso de while en mi vida!\n",
            "control sigue siendo par\n",
            "¡Primer uso de while en mi vida!\n",
            "control sigue siendo par\n",
            "¡Primer uso de while en mi vida!\n",
            "control sigue siendo par\n",
            "¡Primer uso de while en mi vida!\n",
            "control sigue siendo par\n",
            "¡Primer uso de while en mi vida!\n",
            "control sigue siendo par\n",
            "¡Primer uso de while en mi vida!\n",
            "control sigue siendo par\n",
            "¡Primer uso de while en mi vida!\n",
            "control sigue siendo par\n",
            "¡Primer uso de while en mi vida!\n",
            "control sigue siendo par\n",
            "¡Primer uso de while en mi vida!\n",
            "control sigue siendo par\n",
            "¡Primer uso de while en mi vida!\n",
            "control sigue siendo par\n",
            "¡Primer uso de while en mi vida!\n",
            "control sigue siendo par\n",
            "¡Primer uso de while en mi vida!\n",
            "control sigue siendo par\n",
            "¡Primer uso de while en mi vida!\n",
            "control sigue siendo par\n",
            "¡Primer uso de while en mi vida!\n",
            "control sigue siendo par\n",
            "¡Primer uso de while en mi vida!\n",
            "control sigue siendo par\n",
            "¡Primer uso de while en mi vida!\n",
            "control sigue siendo par\n",
            "¡Primer uso de while en mi vida!\n",
            "control sigue siendo par\n",
            "¡Primer uso de while en mi vida!\n",
            "control sigue siendo par\n",
            "¡Primer uso de while en mi vida!\n",
            "control sigue siendo par\n",
            "¡Primer uso de while en mi vida!\n",
            "control sigue siendo par\n",
            "¡Primer uso de while en mi vida!\n",
            "control sigue siendo par\n",
            "¡Primer uso de while en mi vida!\n",
            "control sigue siendo par\n",
            "¡Primer uso de while en mi vida!\n",
            "control sigue siendo par\n",
            "¡Primer uso de while en mi vida!\n",
            "control sigue siendo par\n",
            "¡Primer uso de while en mi vida!\n",
            "control sigue siendo par\n",
            "¡Primer uso de while en mi vida!\n",
            "control sigue siendo par\n",
            "¡Primer uso de while en mi vida!\n",
            "control sigue siendo par\n",
            "¡Primer uso de while en mi vida!\n",
            "control sigue siendo par\n",
            "¡Primer uso de while en mi vida!\n",
            "control sigue siendo par\n",
            "¡Primer uso de while en mi vida!\n",
            "control sigue siendo par\n",
            "¡Primer uso de while en mi vida!\n",
            "control sigue siendo par\n",
            "¡Primer uso de while en mi vida!\n",
            "control sigue siendo par\n",
            "¡Primer uso de while en mi vida!\n",
            "control sigue siendo par\n",
            "¡Primer uso de while en mi vida!\n",
            "control sigue siendo par\n",
            "¡Primer uso de while en mi vida!\n",
            "control sigue siendo par\n",
            "¡Primer uso de while en mi vida!\n",
            "control sigue siendo par\n",
            "¡Primer uso de while en mi vida!\n",
            "control sigue siendo par\n",
            "¡Primer uso de while en mi vida!\n",
            "control sigue siendo par\n",
            "¡Primer uso de while en mi vida!\n",
            "control sigue siendo par\n",
            "¡Primer uso de while en mi vida!\n",
            "control sigue siendo par\n",
            "¡Primer uso de while en mi vida!\n",
            "control sigue siendo par\n",
            "¡Primer uso de while en mi vida!\n",
            "control sigue siendo par\n",
            "¡Primer uso de while en mi vida!\n",
            "control sigue siendo par\n",
            "¡Primer uso de while en mi vida!\n",
            "control sigue siendo par\n",
            "¡Primer uso de while en mi vida!\n",
            "control sigue siendo par\n",
            "¡Primer uso de while en mi vida!\n",
            "control sigue siendo par\n",
            "¡Primer uso de while en mi vida!\n",
            "control sigue siendo par\n",
            "¡Primer uso de while en mi vida!\n",
            "control sigue siendo par\n",
            "¡Primer uso de while en mi vida!\n",
            "control sigue siendo par\n",
            "¡Primer uso de while en mi vida!\n",
            "control sigue siendo par\n",
            "¡Primer uso de while en mi vida!\n",
            "control sigue siendo par\n",
            "¡Primer uso de while en mi vida!\n",
            "control sigue siendo par\n",
            "¡Primer uso de while en mi vida!\n",
            "control sigue siendo par\n",
            "¡Primer uso de while en mi vida!\n",
            "control sigue siendo par\n",
            "¡Primer uso de while en mi vida!\n",
            "control sigue siendo par\n",
            "¡Primer uso de while en mi vida!\n",
            "control sigue siendo par\n",
            "¡Primer uso de while en mi vida!\n",
            "control sigue siendo par\n",
            "¡Primer uso de while en mi vida!\n",
            "control sigue siendo par\n",
            "¡Primer uso de while en mi vida!\n",
            "control sigue siendo par\n",
            "¡Primer uso de while en mi vida!\n",
            "control sigue siendo par\n",
            "¡Primer uso de while en mi vida!\n",
            "control sigue siendo par\n",
            "¡Primer uso de while en mi vida!\n",
            "control sigue siendo par\n",
            "¡Primer uso de while en mi vida!\n",
            "control sigue siendo par\n",
            "¡Primer uso de while en mi vida!\n",
            "control sigue siendo par\n",
            "¡Primer uso de while en mi vida!\n",
            "control sigue siendo par\n",
            "¡Primer uso de while en mi vida!\n",
            "control sigue siendo par\n",
            "¡Primer uso de while en mi vida!\n",
            "control sigue siendo par\n",
            "¡Primer uso de while en mi vida!\n",
            "control sigue siendo par\n",
            "¡Primer uso de while en mi vida!\n",
            "control sigue siendo par\n",
            "¡Primer uso de while en mi vida!\n",
            "control sigue siendo par\n",
            "¡Primer uso de while en mi vida!\n",
            "control sigue siendo par\n",
            "¡Primer uso de while en mi vida!\n",
            "control sigue siendo par\n",
            "¡Primer uso de while en mi vida!\n",
            "control sigue siendo par\n",
            "¡Primer uso de while en mi vida!\n",
            "control sigue siendo par\n",
            "¡Primer uso de while en mi vida!\n",
            "control sigue siendo par\n",
            "¡Primer uso de while en mi vida!\n",
            "control sigue siendo par\n",
            "¡Primer uso de while en mi vida!\n",
            "control sigue siendo par\n",
            "¡Primer uso de while en mi vida!\n",
            "control sigue siendo par\n",
            "¡Primer uso de while en mi vida!\n",
            "control sigue siendo par\n",
            "¡Primer uso de while en mi vida!\n",
            "control sigue siendo par\n",
            "¡Primer uso de while en mi vida!\n",
            "control sigue siendo par\n",
            "¡Primer uso de while en mi vida!\n",
            "control sigue siendo par\n",
            "¡Primer uso de while en mi vida!\n",
            "control sigue siendo par\n",
            "¡Primer uso de while en mi vida!\n",
            "control sigue siendo par\n",
            "¡Primer uso de while en mi vida!\n",
            "control sigue siendo par\n",
            "¡Primer uso de while en mi vida!\n",
            "control sigue siendo par\n",
            "¡Primer uso de while en mi vida!\n",
            "control sigue siendo par\n",
            "¡Primer uso de while en mi vida!\n",
            "control sigue siendo par\n",
            "¡Primer uso de while en mi vida!\n",
            "control sigue siendo par\n",
            "¡Primer uso de while en mi vida!\n",
            "control sigue siendo par\n",
            "¡Primer uso de while en mi vida!\n",
            "control sigue siendo par\n",
            "¡Primer uso de while en mi vida!\n",
            "control sigue siendo par\n",
            "¡Primer uso de while en mi vida!\n",
            "control sigue siendo par\n",
            "¡Primer uso de while en mi vida!\n",
            "control sigue siendo par\n",
            "¡Primer uso de while en mi vida!\n",
            "control sigue siendo par\n",
            "¡Primer uso de while en mi vida!\n",
            "control sigue siendo par\n",
            "¡Primer uso de while en mi vida!\n",
            "control sigue siendo par\n",
            "¡Primer uso de while en mi vida!\n",
            "control sigue siendo par\n",
            "¡Primer uso de while en mi vida!\n",
            "control sigue siendo par\n",
            "¡Primer uso de while en mi vida!\n",
            "control sigue siendo par\n",
            "¡Primer uso de while en mi vida!\n",
            "control sigue siendo par\n",
            "¡Primer uso de while en mi vida!\n",
            "control sigue siendo par\n",
            "¡Primer uso de while en mi vida!\n",
            "control sigue siendo par\n",
            "¡Primer uso de while en mi vida!\n",
            "control sigue siendo par\n",
            "¡Primer uso de while en mi vida!\n",
            "control sigue siendo par\n",
            "¡Primer uso de while en mi vida!\n",
            "control sigue siendo par\n",
            "¡Primer uso de while en mi vida!\n",
            "control sigue siendo par\n",
            "¡Primer uso de while en mi vida!\n",
            "control sigue siendo par\n",
            "¡Primer uso de while en mi vida!\n",
            "control sigue siendo par\n",
            "¡Primer uso de while en mi vida!\n",
            "control sigue siendo par\n",
            "¡Primer uso de while en mi vida!\n",
            "control sigue siendo par\n",
            "¡Primer uso de while en mi vida!\n",
            "control sigue siendo par\n",
            "¡Primer uso de while en mi vida!\n",
            "control sigue siendo par\n",
            "¡Primer uso de while en mi vida!\n",
            "control sigue siendo par\n",
            "¡Primer uso de while en mi vida!\n",
            "control sigue siendo par\n",
            "¡Primer uso de while en mi vida!\n",
            "control sigue siendo par\n",
            "¡Primer uso de while en mi vida!\n",
            "control sigue siendo par\n",
            "¡Primer uso de while en mi vida!\n",
            "control sigue siendo par\n",
            "¡Primer uso de while en mi vida!\n",
            "control sigue siendo par\n",
            "¡Primer uso de while en mi vida!\n",
            "control sigue siendo par\n",
            "¡Primer uso de while en mi vida!\n",
            "control sigue siendo par\n",
            "¡Primer uso de while en mi vida!\n",
            "control sigue siendo par\n",
            "¡Primer uso de while en mi vida!\n",
            "control sigue siendo par\n",
            "¡Primer uso de while en mi vida!\n",
            "control sigue siendo par\n",
            "¡Primer uso de while en mi vida!\n",
            "control sigue siendo par\n",
            "¡Primer uso de while en mi vida!\n",
            "control sigue siendo par\n",
            "¡Primer uso de while en mi vida!\n",
            "control sigue siendo par\n",
            "¡Primer uso de while en mi vida!\n",
            "control sigue siendo par\n",
            "¡Primer uso de while en mi vida!\n",
            "control sigue siendo par\n",
            "¡Primer uso de while en mi vida!\n",
            "control sigue siendo par\n",
            "¡Primer uso de while en mi vida!\n",
            "control sigue siendo par\n",
            "¡Primer uso de while en mi vida!\n",
            "control sigue siendo par\n",
            "¡Primer uso de while en mi vida!\n",
            "control sigue siendo par\n",
            "¡Primer uso de while en mi vida!\n",
            "control sigue siendo par\n",
            "¡Primer uso de while en mi vida!\n",
            "control sigue siendo par\n",
            "¡Primer uso de while en mi vida!\n",
            "control sigue siendo par\n",
            "¡Primer uso de while en mi vida!\n",
            "control sigue siendo par\n",
            "¡Primer uso de while en mi vida!\n",
            "control sigue siendo par\n",
            "¡Primer uso de while en mi vida!\n",
            "control sigue siendo par\n",
            "¡Primer uso de while en mi vida!\n",
            "control sigue siendo par\n",
            "¡Primer uso de while en mi vida!\n",
            "control sigue siendo par\n",
            "¡Primer uso de while en mi vida!\n",
            "control sigue siendo par\n",
            "¡Primer uso de while en mi vida!\n",
            "control sigue siendo par\n",
            "¡Primer uso de while en mi vida!\n",
            "control sigue siendo par\n",
            "¡Primer uso de while en mi vida!\n",
            "control sigue siendo par\n",
            "¡Primer uso de while en mi vida!\n",
            "control sigue siendo par\n",
            "¡Primer uso de while en mi vida!\n",
            "control sigue siendo par\n",
            "¡Primer uso de while en mi vida!\n",
            "control sigue siendo par\n",
            "¡Primer uso de while en mi vida!\n",
            "control sigue siendo par\n",
            "¡Primer uso de while en mi vida!\n",
            "control sigue siendo par\n",
            "¡Primer uso de while en mi vida!\n",
            "control sigue siendo par\n",
            "¡Primer uso de while en mi vida!\n",
            "control sigue siendo par\n",
            "¡Primer uso de while en mi vida!\n",
            "control sigue siendo par\n",
            "¡Primer uso de while en mi vida!\n",
            "control sigue siendo par\n",
            "¡Primer uso de while en mi vida!\n",
            "control sigue siendo par\n",
            "¡Primer uso de while en mi vida!\n",
            "control sigue siendo par\n",
            "¡Primer uso de while en mi vida!\n",
            "control sigue siendo par\n",
            "¡Primer uso de while en mi vida!\n",
            "control sigue siendo par\n",
            "¡Primer uso de while en mi vida!\n",
            "control sigue siendo par\n",
            "¡Primer uso de while en mi vida!\n",
            "control sigue siendo par\n",
            "¡Primer uso de while en mi vida!\n",
            "control sigue siendo par\n",
            "¡Primer uso de while en mi vida!\n",
            "control sigue siendo par\n",
            "¡Primer uso de while en mi vida!\n",
            "control sigue siendo par\n",
            "¡Primer uso de while en mi vida!\n",
            "control sigue siendo par\n",
            "¡Primer uso de while en mi vida!\n",
            "control sigue siendo par\n",
            "¡Primer uso de while en mi vida!\n",
            "control sigue siendo par\n",
            "¡Primer uso de while en mi vida!\n",
            "control sigue siendo par\n",
            "¡Primer uso de while en mi vida!\n",
            "control sigue siendo par\n",
            "¡Primer uso de while en mi vida!\n",
            "control sigue siendo par\n",
            "¡Primer uso de while en mi vida!\n",
            "control sigue siendo par\n",
            "¡Primer uso de while en mi vida!\n",
            "control sigue siendo par\n",
            "¡Primer uso de while en mi vida!\n",
            "control sigue siendo par\n",
            "¡Primer uso de while en mi vida!\n",
            "control sigue siendo par\n",
            "¡Primer uso de while en mi vida!\n",
            "control sigue siendo par\n",
            "¡Primer uso de while en mi vida!\n",
            "control sigue siendo par\n",
            "¡Primer uso de while en mi vida!\n",
            "control sigue siendo par\n",
            "¡Primer uso de while en mi vida!\n",
            "control sigue siendo par\n",
            "¡Primer uso de while en mi vida!\n",
            "control sigue siendo par\n",
            "¡Primer uso de while en mi vida!\n",
            "control sigue siendo par\n",
            "¡Primer uso de while en mi vida!\n",
            "control sigue siendo par\n",
            "¡Primer uso de while en mi vida!\n",
            "control sigue siendo par\n",
            "¡Primer uso de while en mi vida!\n",
            "control sigue siendo par\n",
            "¡Primer uso de while en mi vida!\n",
            "control sigue siendo par\n",
            "¡Primer uso de while en mi vida!\n",
            "control sigue siendo par\n",
            "¡Primer uso de while en mi vida!\n",
            "control sigue siendo par\n",
            "¡Primer uso de while en mi vida!\n",
            "control sigue siendo par\n",
            "¡Primer uso de while en mi vida!\n",
            "control sigue siendo par\n",
            "¡Primer uso de while en mi vida!\n",
            "control sigue siendo par\n",
            "¡Primer uso de while en mi vida!\n",
            "control sigue siendo par\n",
            "¡Primer uso de while en mi vida!\n",
            "control sigue siendo par\n",
            "¡Primer uso de while en mi vida!\n",
            "control sigue siendo par\n",
            "¡Primer uso de while en mi vida!\n",
            "control sigue siendo par\n",
            "¡Primer uso de while en mi vida!\n",
            "control sigue siendo par\n",
            "¡Primer uso de while en mi vida!\n",
            "control sigue siendo par\n",
            "¡Primer uso de while en mi vida!\n",
            "control sigue siendo par\n",
            "¡Primer uso de while en mi vida!\n",
            "control sigue siendo par\n",
            "¡Primer uso de while en mi vida!\n",
            "control sigue siendo par\n",
            "¡Primer uso de while en mi vida!\n",
            "control sigue siendo par\n",
            "¡Primer uso de while en mi vida!\n",
            "control sigue siendo par\n",
            "¡Primer uso de while en mi vida!\n",
            "control sigue siendo par\n",
            "¡Primer uso de while en mi vida!\n",
            "control sigue siendo par\n",
            "¡Primer uso de while en mi vida!\n",
            "control sigue siendo par\n",
            "¡Primer uso de while en mi vida!\n",
            "control sigue siendo par\n",
            "¡Primer uso de while en mi vida!\n",
            "control sigue siendo par\n",
            "¡Primer uso de while en mi vida!\n",
            "control sigue siendo par\n",
            "¡Primer uso de while en mi vida!\n",
            "control sigue siendo par\n",
            "¡Primer uso de while en mi vida!\n",
            "control sigue siendo par\n",
            "¡Primer uso de while en mi vida!\n",
            "control sigue siendo par\n",
            "¡Primer uso de while en mi vida!\n",
            "control sigue siendo par\n",
            "¡Primer uso de while en mi vida!\n",
            "control sigue siendo par\n",
            "¡Primer uso de while en mi vida!\n",
            "control sigue siendo par\n",
            "¡Primer uso de while en mi vida!\n",
            "control sigue siendo par\n",
            "¡Primer uso de while en mi vida!\n",
            "control sigue siendo par\n",
            "¡Primer uso de while en mi vida!\n",
            "control sigue siendo par\n",
            "¡Primer uso de while en mi vida!\n",
            "control sigue siendo par\n",
            "¡Primer uso de while en mi vida!\n",
            "control sigue siendo par\n",
            "¡Primer uso de while en mi vida!\n",
            "control sigue siendo par\n",
            "¡Primer uso de while en mi vida!\n",
            "control sigue siendo par\n",
            "¡Primer uso de while en mi vida!\n",
            "control sigue siendo par\n",
            "¡Primer uso de while en mi vida!\n",
            "control sigue siendo par\n",
            "¡Primer uso de while en mi vida!\n",
            "control sigue siendo par\n",
            "¡Primer uso de while en mi vida!\n",
            "control sigue siendo par\n",
            "¡Primer uso de while en mi vida!\n",
            "control sigue siendo par\n",
            "¡Primer uso de while en mi vida!\n",
            "control sigue siendo par\n",
            "¡Primer uso de while en mi vida!\n",
            "control sigue siendo par\n",
            "¡Primer uso de while en mi vida!\n",
            "control sigue siendo par\n",
            "¡Primer uso de while en mi vida!\n",
            "control sigue siendo par\n",
            "¡Primer uso de while en mi vida!\n",
            "control sigue siendo par\n",
            "¡Primer uso de while en mi vida!\n",
            "control sigue siendo par\n",
            "¡Primer uso de while en mi vida!\n",
            "control sigue siendo par\n",
            "¡Primer uso de while en mi vida!\n",
            "control sigue siendo par\n",
            "¡Primer uso de while en mi vida!\n",
            "control sigue siendo par\n",
            "¡Primer uso de while en mi vida!\n",
            "control sigue siendo par\n",
            "¡Primer uso de while en mi vida!\n",
            "control sigue siendo par\n",
            "¡Primer uso de while en mi vida!\n",
            "control sigue siendo par\n",
            "¡Primer uso de while en mi vida!\n",
            "control sigue siendo par\n",
            "¡Primer uso de while en mi vida!\n",
            "control sigue siendo par\n",
            "¡Primer uso de while en mi vida!\n",
            "control sigue siendo par\n",
            "¡Primer uso de while en mi vida!\n",
            "control sigue siendo par\n",
            "¡Primer uso de while en mi vida!\n",
            "control sigue siendo par\n",
            "¡Primer uso de while en mi vida!\n",
            "control sigue siendo par\n",
            "¡Primer uso de while en mi vida!\n",
            "control sigue siendo par\n",
            "¡Primer uso de while en mi vida!\n",
            "control sigue siendo par\n",
            "¡Primer uso de while en mi vida!\n",
            "control sigue siendo par\n",
            "¡Primer uso de while en mi vida!\n",
            "control sigue siendo par\n",
            "¡Primer uso de while en mi vida!\n",
            "control sigue siendo par\n",
            "¡Primer uso de while en mi vida!\n",
            "control sigue siendo par\n",
            "¡Primer uso de while en mi vida!\n",
            "control sigue siendo par\n",
            "¡Primer uso de while en mi vida!\n",
            "control sigue siendo par\n",
            "¡Primer uso de while en mi vida!\n",
            "control sigue siendo par\n",
            "¡Primer uso de while en mi vida!\n",
            "control sigue siendo par\n",
            "¡Primer uso de while en mi vida!\n",
            "control sigue siendo par\n",
            "¡Primer uso de while en mi vida!\n",
            "control sigue siendo par\n",
            "¡Primer uso de while en mi vida!\n",
            "control sigue siendo par\n",
            "¡Primer uso de while en mi vida!\n",
            "control sigue siendo par\n",
            "¡Primer uso de while en mi vida!\n",
            "control sigue siendo par\n",
            "¡Primer uso de while en mi vida!\n",
            "control sigue siendo par\n",
            "¡Primer uso de while en mi vida!\n",
            "control sigue siendo par\n",
            "¡Primer uso de while en mi vida!\n",
            "control sigue siendo par\n",
            "¡Primer uso de while en mi vida!\n",
            "control sigue siendo par\n",
            "¡Primer uso de while en mi vida!\n",
            "control sigue siendo par\n",
            "¡Primer uso de while en mi vida!\n",
            "control sigue siendo par\n",
            "¡Primer uso de while en mi vida!\n",
            "control sigue siendo par\n",
            "¡Primer uso de while en mi vida!\n",
            "control sigue siendo par\n",
            "¡Primer uso de while en mi vida!\n",
            "control sigue siendo par\n",
            "¡Primer uso de while en mi vida!\n",
            "control sigue siendo par\n",
            "¡Primer uso de while en mi vida!\n",
            "control sigue siendo par\n",
            "¡Primer uso de while en mi vida!\n",
            "control sigue siendo par\n",
            "¡Primer uso de while en mi vida!\n",
            "control sigue siendo par\n",
            "¡Primer uso de while en mi vida!\n",
            "control sigue siendo par\n",
            "¡Primer uso de while en mi vida!\n",
            "control sigue siendo par\n",
            "¡Primer uso de while en mi vida!\n",
            "control sigue siendo par\n",
            "¡Primer uso de while en mi vida!\n",
            "control sigue siendo par\n",
            "¡Primer uso de while en mi vida!\n",
            "control sigue siendo par\n",
            "¡Primer uso de while en mi vida!\n",
            "control sigue siendo par\n",
            "¡Primer uso de while en mi vida!\n",
            "control sigue siendo par\n",
            "¡Primer uso de while en mi vida!\n",
            "control sigue siendo par\n",
            "¡Primer uso de while en mi vida!\n",
            "control sigue siendo par\n",
            "¡Primer uso de while en mi vida!\n",
            "control sigue siendo par\n",
            "¡Primer uso de while en mi vida!\n",
            "control sigue siendo par\n",
            "¡Primer uso de while en mi vida!\n",
            "control sigue siendo par\n",
            "¡Primer uso de while en mi vida!\n",
            "control sigue siendo par\n",
            "¡Primer uso de while en mi vida!\n",
            "control sigue siendo par\n",
            "¡Primer uso de while en mi vida!\n",
            "control sigue siendo par\n",
            "¡Primer uso de while en mi vida!\n",
            "control sigue siendo par\n",
            "¡Primer uso de while en mi vida!\n",
            "control sigue siendo par\n",
            "¡Primer uso de while en mi vida!\n",
            "control sigue siendo par\n",
            "¡Primer uso de while en mi vida!\n",
            "control sigue siendo par\n",
            "¡Primer uso de while en mi vida!\n",
            "control sigue siendo par\n",
            "¡Primer uso de while en mi vida!\n",
            "control sigue siendo par\n",
            "¡Primer uso de while en mi vida!\n",
            "control sigue siendo par\n",
            "¡Primer uso de while en mi vida!\n",
            "control sigue siendo par\n",
            "¡Primer uso de while en mi vida!\n",
            "control sigue siendo par\n",
            "¡Primer uso de while en mi vida!\n",
            "control sigue siendo par\n",
            "¡Primer uso de while en mi vida!\n",
            "control sigue siendo par\n",
            "¡Primer uso de while en mi vida!\n",
            "control sigue siendo par\n",
            "¡Primer uso de while en mi vida!\n",
            "control sigue siendo par\n",
            "¡Primer uso de while en mi vida!\n",
            "control sigue siendo par\n",
            "¡Primer uso de while en mi vida!\n",
            "control sigue siendo par\n",
            "¡Primer uso de while en mi vida!\n",
            "control sigue siendo par\n",
            "¡Primer uso de while en mi vida!\n",
            "control sigue siendo par\n",
            "¡Primer uso de while en mi vida!\n",
            "control sigue siendo par\n",
            "¡Primer uso de while en mi vida!\n",
            "control sigue siendo par\n",
            "¡Primer uso de while en mi vida!\n",
            "control sigue siendo par\n",
            "¡Primer uso de while en mi vida!\n",
            "control sigue siendo par\n",
            "¡Primer uso de while en mi vida!\n",
            "control sigue siendo par\n",
            "¡Primer uso de while en mi vida!\n",
            "control sigue siendo par\n",
            "¡Primer uso de while en mi vida!\n",
            "control sigue siendo par\n",
            "¡Primer uso de while en mi vida!\n",
            "control sigue siendo par\n",
            "¡Primer uso de while en mi vida!\n",
            "control sigue siendo par\n",
            "¡Primer uso de while en mi vida!\n",
            "control sigue siendo par\n",
            "¡Primer uso de while en mi vida!\n",
            "control sigue siendo par\n",
            "¡Primer uso de while en mi vida!\n",
            "control sigue siendo par\n",
            "¡Primer uso de while en mi vida!\n",
            "control sigue siendo par\n",
            "¡Primer uso de while en mi vida!\n",
            "control sigue siendo par\n",
            "¡Primer uso de while en mi vida!\n",
            "control sigue siendo par\n",
            "¡Primer uso de while en mi vida!\n",
            "control sigue siendo par\n",
            "¡Primer uso de while en mi vida!\n",
            "control sigue siendo par\n",
            "¡Primer uso de while en mi vida!\n",
            "control sigue siendo par\n",
            "¡Primer uso de while en mi vida!\n",
            "control sigue siendo par\n",
            "¡Primer uso de while en mi vida!\n",
            "control sigue siendo par\n",
            "¡Primer uso de while en mi vida!\n",
            "control sigue siendo par\n",
            "¡Primer uso de while en mi vida!\n",
            "control sigue siendo par\n",
            "¡Primer uso de while en mi vida!\n",
            "control sigue siendo par\n",
            "¡Primer uso de while en mi vida!\n",
            "control sigue siendo par\n",
            "¡Primer uso de while en mi vida!\n",
            "control sigue siendo par\n",
            "¡Primer uso de while en mi vida!\n",
            "control sigue siendo par\n",
            "¡Primer uso de while en mi vida!\n",
            "control sigue siendo par\n",
            "¡Primer uso de while en mi vida!\n",
            "control sigue siendo par\n",
            "¡Primer uso de while en mi vida!\n",
            "control sigue siendo par\n",
            "¡Primer uso de while en mi vida!\n",
            "control sigue siendo par\n",
            "¡Primer uso de while en mi vida!\n",
            "control sigue siendo par\n",
            "¡Primer uso de while en mi vida!\n",
            "control sigue siendo par\n",
            "¡Primer uso de while en mi vida!\n",
            "control sigue siendo par\n",
            "¡Primer uso de while en mi vida!\n",
            "control sigue siendo par\n",
            "¡Primer uso de while en mi vida!\n",
            "control sigue siendo par\n",
            "¡Primer uso de while en mi vida!\n",
            "control sigue siendo par\n",
            "¡Primer uso de while en mi vida!\n",
            "control sigue siendo par\n",
            "¡Primer uso de while en mi vida!\n",
            "control sigue siendo par\n",
            "¡Primer uso de while en mi vida!\n",
            "control sigue siendo par\n",
            "¡Primer uso de while en mi vida!\n",
            "control sigue siendo par\n",
            "¡Primer uso de while en mi vida!\n",
            "control sigue siendo par\n",
            "¡Primer uso de while en mi vida!\n",
            "control sigue siendo par\n",
            "¡Primer uso de while en mi vida!\n",
            "control sigue siendo par\n",
            "¡Primer uso de while en mi vida!\n",
            "control sigue siendo par\n",
            "¡Primer uso de while en mi vida!\n",
            "control sigue siendo par\n",
            "¡Primer uso de while en mi vida!\n",
            "control sigue siendo par\n",
            "¡Primer uso de while en mi vida!\n",
            "control sigue siendo par\n",
            "¡Primer uso de while en mi vida!\n",
            "control sigue siendo par\n",
            "¡Primer uso de while en mi vida!\n",
            "control sigue siendo par\n",
            "¡Primer uso de while en mi vida!\n",
            "control sigue siendo par\n",
            "¡Primer uso de while en mi vida!\n",
            "control sigue siendo par\n",
            "¡Primer uso de while en mi vida!\n",
            "control sigue siendo par\n",
            "¡Primer uso de while en mi vida!\n",
            "control sigue siendo par\n",
            "¡Primer uso de while en mi vida!\n",
            "control sigue siendo par\n",
            "¡Primer uso de while en mi vida!\n",
            "control sigue siendo par\n",
            "¡Primer uso de while en mi vida!\n",
            "control sigue siendo par\n",
            "¡Primer uso de while en mi vida!\n",
            "control sigue siendo par\n",
            "¡Primer uso de while en mi vida!\n",
            "control sigue siendo par\n",
            "¡Primer uso de while en mi vida!\n",
            "control sigue siendo par\n",
            "¡Primer uso de while en mi vida!\n",
            "control sigue siendo par\n",
            "¡Primer uso de while en mi vida!\n",
            "control sigue siendo par\n",
            "¡Primer uso de while en mi vida!\n",
            "control sigue siendo par\n",
            "¡Primer uso de while en mi vida!\n",
            "control sigue siendo par\n",
            "¡Primer uso de while en mi vida!\n",
            "control sigue siendo par\n",
            "¡Primer uso de while en mi vida!\n",
            "control sigue siendo par\n",
            "¡Primer uso de while en mi vida!\n",
            "control sigue siendo par\n",
            "¡Primer uso de while en mi vida!\n",
            "control sigue siendo par\n",
            "¡Primer uso de while en mi vida!\n",
            "control sigue siendo par\n",
            "¡Primer uso de while en mi vida!\n",
            "control sigue siendo par\n",
            "¡Primer uso de while en mi vida!\n",
            "control sigue siendo par\n",
            "¡Primer uso de while en mi vida!\n",
            "control sigue siendo par\n",
            "¡Primer uso de while en mi vida!\n",
            "control sigue siendo par\n",
            "¡Primer uso de while en mi vida!\n",
            "control sigue siendo par\n",
            "¡Primer uso de while en mi vida!\n",
            "control sigue siendo par\n",
            "¡Primer uso de while en mi vida!\n",
            "control sigue siendo par\n",
            "¡Primer uso de while en mi vida!\n",
            "control sigue siendo par\n",
            "¡Primer uso de while en mi vida!\n",
            "control sigue siendo par\n",
            "¡Primer uso de while en mi vida!\n",
            "control sigue siendo par\n",
            "¡Primer uso de while en mi vida!\n",
            "control sigue siendo par\n",
            "¡Primer uso de while en mi vida!\n",
            "control sigue siendo par\n",
            "¡Primer uso de while en mi vida!\n",
            "control sigue siendo par\n",
            "¡Primer uso de while en mi vida!\n",
            "control sigue siendo par\n",
            "¡Primer uso de while en mi vida!\n",
            "control sigue siendo par\n",
            "¡Primer uso de while en mi vida!\n",
            "control sigue siendo par\n",
            "¡Primer uso de while en mi vida!\n",
            "control sigue siendo par\n",
            "¡Primer uso de while en mi vida!\n",
            "control sigue siendo par\n",
            "¡Primer uso de while en mi vida!\n",
            "control sigue siendo par\n",
            "¡Primer uso de while en mi vida!\n",
            "control sigue siendo par\n",
            "¡Primer uso de while en mi vida!\n",
            "control sigue siendo par\n",
            "¡Primer uso de while en mi vida!\n",
            "control sigue siendo par\n",
            "¡Primer uso de while en mi vida!\n",
            "control sigue siendo par\n",
            "¡Primer uso de while en mi vida!\n",
            "control sigue siendo par\n",
            "¡Primer uso de while en mi vida!\n",
            "control sigue siendo par\n",
            "¡Primer uso de while en mi vida!\n",
            "control sigue siendo par\n",
            "¡Primer uso de while en mi vida!\n",
            "control sigue siendo par\n",
            "¡Primer uso de while en mi vida!\n",
            "control sigue siendo par\n",
            "¡Primer uso de while en mi vida!\n",
            "control sigue siendo par\n",
            "¡Primer uso de while en mi vida!\n",
            "control sigue siendo par\n",
            "¡Primer uso de while en mi vida!\n",
            "control sigue siendo par\n",
            "¡Primer uso de while en mi vida!\n",
            "control sigue siendo par\n",
            "¡Primer uso de while en mi vida!\n",
            "control sigue siendo par\n",
            "¡Primer uso de while en mi vida!\n",
            "control sigue siendo par\n",
            "¡Primer uso de while en mi vida!\n",
            "control sigue siendo par\n",
            "¡Primer uso de while en mi vida!\n",
            "control sigue siendo par\n",
            "¡Primer uso de while en mi vida!\n",
            "control sigue siendo par\n",
            "¡Primer uso de while en mi vida!\n",
            "control sigue siendo par\n",
            "¡Primer uso de while en mi vida!\n",
            "control sigue siendo par\n",
            "¡Primer uso de while en mi vida!\n",
            "control sigue siendo par\n",
            "¡Primer uso de while en mi vida!\n",
            "control sigue siendo par\n",
            "¡Primer uso de while en mi vida!\n",
            "control sigue siendo par\n",
            "¡Primer uso de while en mi vida!\n",
            "control sigue siendo par\n",
            "¡Primer uso de while en mi vida!\n",
            "control sigue siendo par\n",
            "¡Primer uso de while en mi vida!\n",
            "control sigue siendo par\n",
            "¡Primer uso de while en mi vida!\n",
            "control sigue siendo par\n",
            "¡Primer uso de while en mi vida!\n",
            "control sigue siendo par\n",
            "¡Primer uso de while en mi vida!\n",
            "control sigue siendo par\n",
            "¡Primer uso de while en mi vida!\n",
            "control sigue siendo par\n",
            "¡Primer uso de while en mi vida!\n",
            "control sigue siendo par\n",
            "¡Primer uso de while en mi vida!\n",
            "control sigue siendo par\n",
            "¡Primer uso de while en mi vida!\n",
            "control sigue siendo par\n",
            "¡Primer uso de while en mi vida!\n",
            "control sigue siendo par\n",
            "¡Primer uso de while en mi vida!\n",
            "control sigue siendo par\n",
            "¡Primer uso de while en mi vida!\n",
            "control sigue siendo par\n",
            "¡Primer uso de while en mi vida!\n",
            "control sigue siendo par\n",
            "¡Primer uso de while en mi vida!\n",
            "control sigue siendo par\n",
            "¡Primer uso de while en mi vida!\n",
            "control sigue siendo par\n",
            "¡Primer uso de while en mi vida!\n",
            "control sigue siendo par\n",
            "¡Primer uso de while en mi vida!\n",
            "control sigue siendo par\n",
            "¡Primer uso de while en mi vida!\n",
            "control sigue siendo par\n",
            "¡Primer uso de while en mi vida!\n",
            "control sigue siendo par\n",
            "¡Primer uso de while en mi vida!\n",
            "control sigue siendo par\n",
            "¡Primer uso de while en mi vida!\n",
            "control sigue siendo par\n",
            "¡Primer uso de while en mi vida!\n",
            "control sigue siendo par\n",
            "¡Primer uso de while en mi vida!\n",
            "control sigue siendo par\n",
            "¡Primer uso de while en mi vida!\n",
            "control sigue siendo par\n",
            "¡Primer uso de while en mi vida!\n",
            "control sigue siendo par\n",
            "¡Primer uso de while en mi vida!\n",
            "control sigue siendo par\n",
            "¡Primer uso de while en mi vida!\n",
            "control sigue siendo par\n",
            "¡Primer uso de while en mi vida!\n",
            "control sigue siendo par\n",
            "¡Primer uso de while en mi vida!\n",
            "control sigue siendo par\n",
            "¡Primer uso de while en mi vida!\n",
            "control sigue siendo par\n",
            "¡Primer uso de while en mi vida!\n",
            "control sigue siendo par\n",
            "¡Primer uso de while en mi vida!\n",
            "control sigue siendo par\n",
            "¡Primer uso de while en mi vida!\n",
            "control sigue siendo par\n",
            "¡Primer uso de while en mi vida!\n",
            "control sigue siendo par\n",
            "¡Primer uso de while en mi vida!\n",
            "control sigue siendo par\n",
            "¡Primer uso de while en mi vida!\n",
            "control sigue siendo par\n",
            "¡Primer uso de while en mi vida!\n",
            "control sigue siendo par\n",
            "¡Primer uso de while en mi vida!\n",
            "control sigue siendo par\n",
            "¡Primer uso de while en mi vida!\n",
            "control sigue siendo par\n",
            "¡Primer uso de while en mi vida!\n",
            "control sigue siendo par\n",
            "¡Primer uso de while en mi vida!\n",
            "control sigue siendo par\n",
            "¡Primer uso de while en mi vida!\n",
            "control sigue siendo par\n",
            "¡Primer uso de while en mi vida!\n",
            "control sigue siendo par\n",
            "¡Primer uso de while en mi vida!\n",
            "control sigue siendo par\n",
            "¡Primer uso de while en mi vida!\n",
            "control sigue siendo par\n",
            "¡Primer uso de while en mi vida!\n",
            "control sigue siendo par\n",
            "¡Primer uso de while en mi vida!\n",
            "control sigue siendo par\n",
            "¡Primer uso de while en mi vida!\n",
            "control sigue siendo par\n",
            "¡Primer uso de while en mi vida!\n",
            "control sigue siendo par\n",
            "¡Primer uso de while en mi vida!\n",
            "control sigue siendo par\n",
            "¡Primer uso de while en mi vida!\n",
            "control sigue siendo par\n",
            "¡Primer uso de while en mi vida!\n",
            "control sigue siendo par\n",
            "¡Primer uso de while en mi vida!\n",
            "control sigue siendo par\n",
            "¡Primer uso de while en mi vida!\n",
            "control sigue siendo par\n",
            "¡Primer uso de while en mi vida!\n",
            "control sigue siendo par\n",
            "¡Primer uso de while en mi vida!\n",
            "control sigue siendo par\n",
            "¡Primer uso de while en mi vida!\n",
            "control sigue siendo par\n",
            "¡Primer uso de while en mi vida!\n",
            "control sigue siendo par\n",
            "¡Primer uso de while en mi vida!\n",
            "control sigue siendo par\n",
            "¡Primer uso de while en mi vida!\n",
            "control sigue siendo par\n",
            "¡Primer uso de while en mi vida!\n",
            "control sigue siendo par\n",
            "¡Primer uso de while en mi vida!\n",
            "control sigue siendo par\n",
            "¡Primer uso de while en mi vida!\n",
            "control sigue siendo par\n",
            "¡Primer uso de while en mi vida!\n",
            "control sigue siendo par\n",
            "¡Primer uso de while en mi vida!\n",
            "control sigue siendo par\n",
            "¡Primer uso de while en mi vida!\n",
            "control sigue siendo par\n",
            "¡Primer uso de while en mi vida!\n",
            "control sigue siendo par\n",
            "¡Primer uso de while en mi vida!\n",
            "control sigue siendo par\n",
            "¡Primer uso de while en mi vida!\n",
            "control sigue siendo par\n",
            "¡Primer uso de while en mi vida!\n",
            "control sigue siendo par\n",
            "¡Primer uso de while en mi vida!\n",
            "control sigue siendo par\n",
            "¡Primer uso de while en mi vida!\n",
            "control sigue siendo par\n",
            "¡Primer uso de while en mi vida!\n",
            "control sigue siendo par\n",
            "¡Primer uso de while en mi vida!\n",
            "control sigue siendo par\n",
            "¡Primer uso de while en mi vida!\n",
            "control sigue siendo par\n",
            "¡Primer uso de while en mi vida!\n",
            "control sigue siendo par\n",
            "¡Primer uso de while en mi vida!\n",
            "control sigue siendo par\n",
            "¡Primer uso de while en mi vida!\n",
            "control sigue siendo par\n",
            "¡Primer uso de while en mi vida!\n",
            "control sigue siendo par\n",
            "¡Primer uso de while en mi vida!\n",
            "control sigue siendo par\n",
            "¡Primer uso de while en mi vida!\n",
            "control sigue siendo par\n",
            "¡Primer uso de while en mi vida!\n",
            "control sigue siendo par\n",
            "¡Primer uso de while en mi vida!\n",
            "control sigue siendo par\n",
            "¡Primer uso de while en mi vida!\n",
            "control sigue siendo par\n",
            "¡Primer uso de while en mi vida!\n",
            "control sigue siendo par\n",
            "¡Primer uso de while en mi vida!\n",
            "control sigue siendo par\n",
            "¡Primer uso de while en mi vida!\n",
            "control sigue siendo par\n",
            "¡Primer uso de while en mi vida!\n",
            "control sigue siendo par\n",
            "¡Primer uso de while en mi vida!\n",
            "control sigue siendo par\n",
            "¡Primer uso de while en mi vida!\n",
            "control sigue siendo par\n",
            "¡Primer uso de while en mi vida!\n",
            "control sigue siendo par\n",
            "¡Primer uso de while en mi vida!\n",
            "control sigue siendo par\n",
            "¡Primer uso de while en mi vida!\n",
            "control sigue siendo par\n",
            "¡Primer uso de while en mi vida!\n",
            "control sigue siendo par\n",
            "¡Primer uso de while en mi vida!\n",
            "control sigue siendo par\n",
            "¡Primer uso de while en mi vida!\n",
            "control sigue siendo par\n",
            "¡Primer uso de while en mi vida!\n",
            "control sigue siendo par\n",
            "¡Primer uso de while en mi vida!\n",
            "control sigue siendo par\n",
            "¡Primer uso de while en mi vida!\n",
            "control sigue siendo par\n",
            "¡Primer uso de while en mi vida!\n",
            "control sigue siendo par\n",
            "¡Primer uso de while en mi vida!\n",
            "control sigue siendo par\n",
            "¡Primer uso de while en mi vida!\n",
            "control sigue siendo par\n",
            "¡Primer uso de while en mi vida!\n",
            "control sigue siendo par\n",
            "¡Primer uso de while en mi vida!\n",
            "control sigue siendo par\n",
            "¡Primer uso de while en mi vida!\n",
            "control sigue siendo par\n",
            "¡Primer uso de while en mi vida!\n",
            "control sigue siendo par\n",
            "¡Primer uso de while en mi vida!\n",
            "control sigue siendo par\n",
            "¡Primer uso de while en mi vida!\n",
            "control sigue siendo par\n",
            "¡Primer uso de while en mi vida!\n",
            "control sigue siendo par\n",
            "¡Primer uso de while en mi vida!\n",
            "control sigue siendo par\n",
            "¡Primer uso de while en mi vida!\n",
            "control sigue siendo par\n",
            "¡Primer uso de while en mi vida!\n",
            "control sigue siendo par\n",
            "¡Primer uso de while en mi vida!\n",
            "control sigue siendo par\n",
            "¡Primer uso de while en mi vida!\n",
            "control sigue siendo par\n",
            "¡Primer uso de while en mi vida!\n",
            "control sigue siendo par\n",
            "¡Primer uso de while en mi vida!\n",
            "control sigue siendo par\n",
            "¡Primer uso de while en mi vida!\n",
            "control sigue siendo par\n",
            "¡Primer uso de while en mi vida!\n",
            "control sigue siendo par\n",
            "¡Primer uso de while en mi vida!\n",
            "control sigue siendo par\n",
            "¡Primer uso de while en mi vida!\n",
            "control sigue siendo par\n",
            "¡Primer uso de while en mi vida!\n",
            "control sigue siendo par\n",
            "¡Primer uso de while en mi vida!\n",
            "control sigue siendo par\n",
            "¡Primer uso de while en mi vida!\n",
            "control sigue siendo par\n",
            "¡Primer uso de while en mi vida!\n",
            "control sigue siendo par\n",
            "¡Primer uso de while en mi vida!\n",
            "control sigue siendo par\n",
            "¡Primer uso de while en mi vida!\n",
            "control sigue siendo par\n",
            "¡Primer uso de while en mi vida!\n",
            "control sigue siendo par\n",
            "¡Primer uso de while en mi vida!\n",
            "control sigue siendo par\n",
            "¡Primer uso de while en mi vida!\n",
            "control sigue siendo par\n",
            "¡Primer uso de while en mi vida!\n",
            "control sigue siendo par\n",
            "¡Primer uso de while en mi vida!\n",
            "control sigue siendo par\n",
            "¡Primer uso de while en mi vida!\n",
            "control sigue siendo par\n",
            "¡Primer uso de while en mi vida!\n",
            "control sigue siendo par\n",
            "¡Primer uso de while en mi vida!\n",
            "control sigue siendo par\n",
            "¡Primer uso de while en mi vida!\n",
            "control sigue siendo par\n",
            "¡Primer uso de while en mi vida!\n",
            "control sigue siendo par\n",
            "¡Primer uso de while en mi vida!\n",
            "control sigue siendo par\n",
            "¡Primer uso de while en mi vida!\n",
            "control sigue siendo par\n",
            "¡Primer uso de while en mi vida!\n",
            "control sigue siendo par\n",
            "¡Primer uso de while en mi vida!\n",
            "control sigue siendo par\n",
            "¡Primer uso de while en mi vida!\n",
            "control sigue siendo par\n",
            "¡Primer uso de while en mi vida!\n",
            "control sigue siendo par\n",
            "¡Primer uso de while en mi vida!\n",
            "control sigue siendo par\n",
            "¡Primer uso de while en mi vida!\n",
            "control sigue siendo par\n",
            "¡Primer uso de while en mi vida!\n",
            "control sigue siendo par\n",
            "¡Primer uso de while en mi vida!\n",
            "control sigue siendo par\n",
            "¡Primer uso de while en mi vida!\n",
            "control sigue siendo par\n",
            "¡Primer uso de while en mi vida!\n",
            "control sigue siendo par\n",
            "¡Primer uso de while en mi vida!\n",
            "control sigue siendo par\n",
            "¡Primer uso de while en mi vida!\n",
            "control sigue siendo par\n",
            "¡Primer uso de while en mi vida!\n",
            "control sigue siendo par\n",
            "¡Primer uso de while en mi vida!\n",
            "control sigue siendo par\n",
            "¡Primer uso de while en mi vida!\n",
            "control sigue siendo par\n",
            "¡Primer uso de while en mi vida!\n",
            "control sigue siendo par\n",
            "¡Primer uso de while en mi vida!\n",
            "control sigue siendo par\n",
            "¡Primer uso de while en mi vida!\n",
            "control sigue siendo par\n",
            "¡Primer uso de while en mi vida!\n",
            "control sigue siendo par\n",
            "¡Primer uso de while en mi vida!\n",
            "control sigue siendo par\n",
            "¡Primer uso de while en mi vida!\n",
            "control sigue siendo par\n",
            "¡Primer uso de while en mi vida!\n",
            "control sigue siendo par\n",
            "¡Primer uso de while en mi vida!\n",
            "control sigue siendo par\n",
            "¡Primer uso de while en mi vida!\n",
            "control sigue siendo par\n",
            "¡Primer uso de while en mi vida!\n",
            "control sigue siendo par\n",
            "¡Primer uso de while en mi vida!\n",
            "control sigue siendo par\n",
            "¡Primer uso de while en mi vida!\n",
            "control sigue siendo par\n",
            "¡Primer uso de while en mi vida!\n",
            "control sigue siendo par\n",
            "¡Primer uso de while en mi vida!\n",
            "control sigue siendo par\n",
            "¡Primer uso de while en mi vida!\n",
            "control sigue siendo par\n",
            "¡Primer uso de while en mi vida!\n",
            "control sigue siendo par\n",
            "¡Primer uso de while en mi vida!\n",
            "control sigue siendo par\n",
            "¡Primer uso de while en mi vida!\n",
            "control sigue siendo par\n",
            "¡Primer uso de while en mi vida!\n",
            "control sigue siendo par\n",
            "¡Primer uso de while en mi vida!\n",
            "control sigue siendo par\n",
            "¡Primer uso de while en mi vida!\n",
            "control sigue siendo par\n",
            "¡Primer uso de while en mi vida!\n",
            "control sigue siendo par\n",
            "¡Primer uso de while en mi vida!\n",
            "control sigue siendo par\n",
            "¡Primer uso de while en mi vida!\n",
            "control sigue siendo par\n",
            "¡Primer uso de while en mi vida!\n",
            "control sigue siendo par\n",
            "¡Primer uso de while en mi vida!\n",
            "control sigue siendo par\n",
            "¡Primer uso de while en mi vida!\n",
            "control sigue siendo par\n",
            "¡Primer uso de while en mi vida!\n",
            "control sigue siendo par\n",
            "¡Primer uso de while en mi vida!\n",
            "control sigue siendo par\n",
            "¡Primer uso de while en mi vida!\n",
            "control sigue siendo par\n",
            "¡Primer uso de while en mi vida!\n",
            "control sigue siendo par\n",
            "¡Primer uso de while en mi vida!\n",
            "control sigue siendo par\n",
            "¡Primer uso de while en mi vida!\n",
            "control sigue siendo par\n",
            "¡Primer uso de while en mi vida!\n",
            "control sigue siendo par\n",
            "¡Primer uso de while en mi vida!\n",
            "control sigue siendo par\n",
            "¡Primer uso de while en mi vida!\n",
            "control sigue siendo par\n",
            "¡Primer uso de while en mi vida!\n",
            "control sigue siendo par\n",
            "¡Primer uso de while en mi vida!\n",
            "control sigue siendo par\n",
            "¡Primer uso de while en mi vida!\n",
            "control sigue siendo par\n",
            "¡Primer uso de while en mi vida!\n",
            "control sigue siendo par\n",
            "¡Primer uso de while en mi vida!\n",
            "control sigue siendo par\n",
            "¡Primer uso de while en mi vida!\n",
            "control sigue siendo par\n",
            "¡Primer uso de while en mi vida!\n",
            "control sigue siendo par\n",
            "¡Primer uso de while en mi vida!\n",
            "control sigue siendo par\n",
            "¡Primer uso de while en mi vida!\n",
            "control sigue siendo par\n",
            "¡Primer uso de while en mi vida!\n",
            "control sigue siendo par\n",
            "¡Primer uso de while en mi vida!\n",
            "control sigue siendo par\n",
            "¡Primer uso de while en mi vida!\n",
            "control sigue siendo par\n",
            "¡Primer uso de while en mi vida!\n",
            "control sigue siendo par\n",
            "¡Primer uso de while en mi vida!\n",
            "control sigue siendo par\n",
            "¡Primer uso de while en mi vida!\n",
            "control sigue siendo par\n",
            "¡Primer uso de while en mi vida!\n",
            "control sigue siendo par\n",
            "¡Primer uso de while en mi vida!\n",
            "control sigue siendo par\n",
            "¡Primer uso de while en mi vida!\n",
            "control sigue siendo par\n",
            "¡Primer uso de while en mi vida!\n",
            "control sigue siendo par\n",
            "¡Primer uso de while en mi vida!\n",
            "control sigue siendo par\n",
            "¡Primer uso de while en mi vida!\n",
            "control sigue siendo par\n",
            "¡Primer uso de while en mi vida!\n",
            "control sigue siendo par\n",
            "¡Primer uso de while en mi vida!\n",
            "control sigue siendo par\n",
            "¡Primer uso de while en mi vida!\n",
            "control sigue siendo par\n",
            "¡Primer uso de while en mi vida!\n",
            "control sigue siendo par\n",
            "¡Primer uso de while en mi vida!\n",
            "control sigue siendo par\n",
            "¡Primer uso de while en mi vida!\n",
            "control sigue siendo par\n",
            "¡Primer uso de while en mi vida!\n",
            "control sigue siendo par\n",
            "¡Primer uso de while en mi vida!\n",
            "control sigue siendo par\n",
            "¡Primer uso de while en mi vida!\n",
            "control sigue siendo par\n",
            "¡Primer uso de while en mi vida!\n",
            "control sigue siendo par\n",
            "¡Primer uso de while en mi vida!\n",
            "control sigue siendo par\n",
            "¡Primer uso de while en mi vida!\n",
            "control sigue siendo par\n",
            "¡Primer uso de while en mi vida!\n",
            "control sigue siendo par\n",
            "¡Primer uso de while en mi vida!\n",
            "control sigue siendo par\n",
            "¡Primer uso de while en mi vida!\n",
            "control sigue siendo par\n",
            "¡Primer uso de while en mi vida!\n",
            "control sigue siendo par\n",
            "¡Primer uso de while en mi vida!\n",
            "control sigue siendo par\n",
            "¡Primer uso de while en mi vida!\n",
            "control sigue siendo par\n",
            "¡Primer uso de while en mi vida!\n",
            "control sigue siendo par\n",
            "¡Primer uso de while en mi vida!\n",
            "control sigue siendo par\n",
            "¡Primer uso de while en mi vida!\n",
            "control sigue siendo par\n",
            "¡Primer uso de while en mi vida!\n",
            "control sigue siendo par\n",
            "¡Primer uso de while en mi vida!\n",
            "control sigue siendo par\n",
            "¡Primer uso de while en mi vida!\n",
            "control sigue siendo par\n",
            "¡Primer uso de while en mi vida!\n",
            "control sigue siendo par\n",
            "¡Primer uso de while en mi vida!\n",
            "control sigue siendo par\n",
            "¡Primer uso de while en mi vida!\n",
            "control sigue siendo par\n",
            "¡Primer uso de while en mi vida!\n",
            "control sigue siendo par\n",
            "¡Primer uso de while en mi vida!\n",
            "control sigue siendo par\n",
            "¡Primer uso de while en mi vida!\n",
            "control sigue siendo par\n",
            "¡Primer uso de while en mi vida!\n",
            "control sigue siendo par\n",
            "¡Primer uso de while en mi vida!\n",
            "control sigue siendo par\n",
            "¡Primer uso de while en mi vida!\n",
            "control sigue siendo par\n",
            "¡Primer uso de while en mi vida!\n",
            "control sigue siendo par\n",
            "¡Primer uso de while en mi vida!\n",
            "control sigue siendo par\n",
            "¡Primer uso de while en mi vida!\n",
            "control sigue siendo par\n",
            "¡Primer uso de while en mi vida!\n",
            "control sigue siendo par\n",
            "¡Primer uso de while en mi vida!\n",
            "control sigue siendo par\n",
            "¡Primer uso de while en mi vida!\n",
            "control sigue siendo par\n",
            "¡Primer uso de while en mi vida!\n",
            "control sigue siendo par\n",
            "¡Primer uso de while en mi vida!\n",
            "control sigue siendo par\n",
            "¡Primer uso de while en mi vida!\n",
            "control sigue siendo par\n",
            "¡Primer uso de while en mi vida!\n",
            "control sigue siendo par\n",
            "¡Primer uso de while en mi vida!\n",
            "control sigue siendo par\n",
            "¡Primer uso de while en mi vida!\n",
            "control sigue siendo par\n",
            "¡Primer uso de while en mi vida!\n",
            "control sigue siendo par\n",
            "¡Primer uso de while en mi vida!\n",
            "control sigue siendo par\n",
            "¡Primer uso de while en mi vida!\n",
            "control sigue siendo par\n",
            "¡Primer uso de while en mi vida!\n",
            "control sigue siendo par\n",
            "¡Primer uso de while en mi vida!\n",
            "control sigue siendo par\n",
            "¡Primer uso de while en mi vida!\n",
            "control sigue siendo par\n",
            "¡Primer uso de while en mi vida!\n",
            "control sigue siendo par\n",
            "¡Primer uso de while en mi vida!\n",
            "control sigue siendo par\n",
            "¡Primer uso de while en mi vida!\n",
            "control sigue siendo par\n",
            "¡Primer uso de while en mi vida!\n",
            "control sigue siendo par\n",
            "¡Primer uso de while en mi vida!\n",
            "control sigue siendo par\n",
            "¡Primer uso de while en mi vida!\n",
            "control sigue siendo par\n",
            "¡Primer uso de while en mi vida!\n",
            "control sigue siendo par\n",
            "¡Primer uso de while en mi vida!\n",
            "control sigue siendo par\n",
            "¡Primer uso de while en mi vida!\n",
            "control sigue siendo par\n",
            "¡Primer uso de while en mi vida!\n",
            "control sigue siendo par\n",
            "¡Primer uso de while en mi vida!\n",
            "control sigue siendo par\n",
            "¡Primer uso de while en mi vida!\n",
            "control sigue siendo par\n",
            "¡Primer uso de while en mi vida!\n",
            "control sigue siendo par\n",
            "¡Primer uso de while en mi vida!\n",
            "control sigue siendo par\n",
            "¡Primer uso de while en mi vida!\n",
            "control sigue siendo par\n",
            "¡Primer uso de while en mi vida!\n",
            "control sigue siendo par\n",
            "¡Primer uso de while en mi vida!\n",
            "control sigue siendo par\n",
            "¡Primer uso de while en mi vida!\n",
            "control sigue siendo par\n",
            "¡Primer uso de while en mi vida!\n",
            "control sigue siendo par\n",
            "¡Primer uso de while en mi vida!\n",
            "control sigue siendo par\n",
            "¡Primer uso de while en mi vida!\n",
            "control sigue siendo par\n",
            "¡Primer uso de while en mi vida!\n",
            "control sigue siendo par\n",
            "¡Primer uso de while en mi vida!\n",
            "control sigue siendo par\n",
            "¡Primer uso de while en mi vida!\n",
            "control sigue siendo par\n",
            "¡Primer uso de while en mi vida!\n",
            "control sigue siendo par\n",
            "¡Primer uso de while en mi vida!\n",
            "control sigue siendo par\n",
            "¡Primer uso de while en mi vida!\n",
            "control sigue siendo par\n",
            "¡Primer uso de while en mi vida!\n",
            "control sigue siendo par\n",
            "¡Primer uso de while en mi vida!\n",
            "control sigue siendo par\n",
            "¡Primer uso de while en mi vida!\n",
            "control sigue siendo par\n",
            "¡Primer uso de while en mi vida!\n",
            "control sigue siendo par\n",
            "¡Primer uso de while en mi vida!\n",
            "control sigue siendo par\n",
            "¡Primer uso de while en mi vida!\n",
            "control sigue siendo par\n",
            "¡Primer uso de while en mi vida!\n",
            "control sigue siendo par\n",
            "¡Primer uso de while en mi vida!\n",
            "control sigue siendo par\n",
            "¡Primer uso de while en mi vida!\n",
            "control sigue siendo par\n",
            "¡Primer uso de while en mi vida!\n",
            "control sigue siendo par\n",
            "¡Primer uso de while en mi vida!\n",
            "control sigue siendo par\n",
            "¡Primer uso de while en mi vida!\n",
            "control sigue siendo par\n",
            "¡Primer uso de while en mi vida!\n",
            "control sigue siendo par\n",
            "¡Primer uso de while en mi vida!\n",
            "control sigue siendo par\n",
            "¡Primer uso de while en mi vida!\n",
            "control sigue siendo par\n",
            "¡Primer uso de while en mi vida!\n",
            "control sigue siendo par\n",
            "¡Primer uso de while en mi vida!\n",
            "control sigue siendo par\n",
            "¡Primer uso de while en mi vida!\n",
            "control sigue siendo par\n",
            "¡Primer uso de while en mi vida!\n",
            "control sigue siendo par\n",
            "¡Primer uso de while en mi vida!\n",
            "control sigue siendo par\n",
            "¡Primer uso de while en mi vida!\n",
            "control sigue siendo par\n",
            "¡Primer uso de while en mi vida!\n",
            "control sigue siendo par\n",
            "¡Primer uso de while en mi vida!\n",
            "control sigue siendo par\n",
            "¡Primer uso de while en mi vida!\n",
            "control sigue siendo par\n",
            "¡Primer uso de while en mi vida!\n",
            "control sigue siendo par\n",
            "¡Primer uso de while en mi vida!\n",
            "control sigue siendo par\n",
            "¡Primer uso de while en mi vida!\n",
            "control sigue siendo par\n",
            "¡Primer uso de while en mi vida!\n",
            "control sigue siendo par\n",
            "¡Primer uso de while en mi vida!\n",
            "control sigue siendo par\n",
            "¡Primer uso de while en mi vida!\n",
            "control sigue siendo par\n",
            "¡Primer uso de while en mi vida!\n",
            "control sigue siendo par\n",
            "¡Primer uso de while en mi vida!\n",
            "control sigue siendo par\n",
            "¡Primer uso de while en mi vida!\n",
            "control sigue siendo par\n",
            "¡Primer uso de while en mi vida!\n",
            "control sigue siendo par\n",
            "¡Primer uso de while en mi vida!\n",
            "control sigue siendo par\n",
            "¡Primer uso de while en mi vida!\n",
            "control sigue siendo par\n",
            "¡Primer uso de while en mi vida!\n",
            "control sigue siendo par\n",
            "¡Primer uso de while en mi vida!\n",
            "control sigue siendo par\n",
            "¡Primer uso de while en mi vida!\n",
            "control sigue siendo par\n",
            "¡Primer uso de while en mi vida!\n",
            "control sigue siendo par\n",
            "¡Primer uso de while en mi vida!\n",
            "control sigue siendo par\n",
            "¡Primer uso de while en mi vida!\n",
            "control sigue siendo par\n",
            "¡Primer uso de while en mi vida!\n",
            "control sigue siendo par\n",
            "¡Primer uso de while en mi vida!\n",
            "control sigue siendo par\n",
            "¡Primer uso de while en mi vida!\n",
            "control sigue siendo par\n",
            "¡Primer uso de while en mi vida!\n",
            "control sigue siendo par\n",
            "¡Primer uso de while en mi vida!\n",
            "control sigue siendo par\n",
            "¡Primer uso de while en mi vida!\n",
            "control sigue siendo par\n",
            "¡Primer uso de while en mi vida!\n",
            "control sigue siendo par\n",
            "¡Primer uso de while en mi vida!\n",
            "control sigue siendo par\n",
            "¡Primer uso de while en mi vida!\n",
            "control sigue siendo par\n",
            "¡Primer uso de while en mi vida!\n",
            "control sigue siendo par\n",
            "¡Primer uso de while en mi vida!\n",
            "control sigue siendo par\n",
            "¡Primer uso de while en mi vida!\n",
            "control sigue siendo par\n",
            "¡Primer uso de while en mi vida!\n",
            "control sigue siendo par\n",
            "¡Primer uso de while en mi vida!\n",
            "control sigue siendo par\n",
            "¡Primer uso de while en mi vida!\n",
            "control sigue siendo par\n",
            "¡Primer uso de while en mi vida!\n",
            "control sigue siendo par\n",
            "¡Primer uso de while en mi vida!\n",
            "control sigue siendo par\n",
            "¡Primer uso de while en mi vida!\n",
            "control sigue siendo par\n",
            "¡Primer uso de while en mi vida!\n",
            "control sigue siendo par\n",
            "¡Primer uso de while en mi vida!\n",
            "control sigue siendo par\n",
            "¡Primer uso de while en mi vida!\n",
            "control sigue siendo par\n",
            "¡Primer uso de while en mi vida!\n",
            "control sigue siendo par\n",
            "¡Primer uso de while en mi vida!\n",
            "control sigue siendo par\n",
            "¡Primer uso de while en mi vida!\n",
            "control sigue siendo par\n",
            "¡Primer uso de while en mi vida!\n",
            "control sigue siendo par\n",
            "¡Primer uso de while en mi vida!\n",
            "control sigue siendo par\n",
            "¡Primer uso de while en mi vida!\n",
            "control sigue siendo par\n",
            "¡Primer uso de while en mi vida!\n",
            "control sigue siendo par\n",
            "¡Primer uso de while en mi vida!\n",
            "control sigue siendo par\n",
            "¡Primer uso de while en mi vida!\n",
            "control sigue siendo par\n",
            "¡Primer uso de while en mi vida!\n",
            "control sigue siendo par\n",
            "¡Primer uso de while en mi vida!\n",
            "control sigue siendo par\n",
            "¡Primer uso de while en mi vida!\n",
            "control sigue siendo par\n",
            "¡Primer uso de while en mi vida!\n",
            "control sigue siendo par\n",
            "¡Primer uso de while en mi vida!\n",
            "control sigue siendo par\n",
            "¡Primer uso de while en mi vida!\n",
            "control sigue siendo par\n",
            "¡Primer uso de while en mi vida!\n",
            "control sigue siendo par\n",
            "¡Primer uso de while en mi vida!\n",
            "control sigue siendo par\n",
            "¡Primer uso de while en mi vida!\n",
            "control sigue siendo par\n",
            "¡Primer uso de while en mi vida!\n",
            "control sigue siendo par\n",
            "¡Primer uso de while en mi vida!\n",
            "control sigue siendo par\n",
            "¡Primer uso de while en mi vida!\n",
            "control sigue siendo par\n",
            "¡Primer uso de while en mi vida!\n",
            "control sigue siendo par\n",
            "¡Primer uso de while en mi vida!\n",
            "control sigue siendo par\n",
            "¡Primer uso de while en mi vida!\n",
            "control sigue siendo par\n",
            "¡Primer uso de while en mi vida!\n",
            "control sigue siendo par\n",
            "¡Primer uso de while en mi vida!\n",
            "control sigue siendo par\n",
            "¡Primer uso de while en mi vida!\n",
            "control sigue siendo par\n",
            "¡Primer uso de while en mi vida!\n",
            "control sigue siendo par\n",
            "¡Primer uso de while en mi vida!\n",
            "control sigue siendo par\n",
            "¡Primer uso de while en mi vida!\n",
            "control sigue siendo par\n",
            "¡Primer uso de while en mi vida!\n",
            "control sigue siendo par\n",
            "¡Primer uso de while en mi vida!\n",
            "control sigue siendo par\n",
            "¡Primer uso de while en mi vida!\n",
            "control sigue siendo par\n",
            "¡Primer uso de while en mi vida!\n",
            "control sigue siendo par\n",
            "¡Primer uso de while en mi vida!\n",
            "control sigue siendo par\n",
            "¡Primer uso de while en mi vida!\n",
            "control sigue siendo par\n",
            "¡Primer uso de while en mi vida!\n",
            "control sigue siendo par\n",
            "¡Primer uso de while en mi vida!\n",
            "control sigue siendo par\n",
            "¡Primer uso de while en mi vida!\n",
            "control sigue siendo par\n",
            "¡Primer uso de while en mi vida!\n",
            "control sigue siendo par\n",
            "¡Primer uso de while en mi vida!\n",
            "control sigue siendo par\n",
            "¡Primer uso de while en mi vida!\n",
            "control sigue siendo par\n",
            "¡Primer uso de while en mi vida!\n",
            "control sigue siendo par\n",
            "¡Primer uso de while en mi vida!\n",
            "control sigue siendo par\n",
            "¡Primer uso de while en mi vida!\n",
            "control sigue siendo par\n",
            "¡Primer uso de while en mi vida!\n",
            "control sigue siendo par\n",
            "¡Primer uso de while en mi vida!\n",
            "control sigue siendo par\n",
            "¡Primer uso de while en mi vida!\n",
            "control sigue siendo par\n",
            "¡Primer uso de while en mi vida!\n",
            "control sigue siendo par\n",
            "¡Primer uso de while en mi vida!\n",
            "control sigue siendo par\n",
            "¡Primer uso de while en mi vida!\n",
            "control sigue siendo par\n",
            "¡Primer uso de while en mi vida!\n",
            "control sigue siendo par\n",
            "¡Primer uso de while en mi vida!\n",
            "control sigue siendo par\n",
            "¡Primer uso de while en mi vida!\n",
            "control sigue siendo par\n",
            "¡Primer uso de while en mi vida!\n",
            "control sigue siendo par\n",
            "¡Primer uso de while en mi vida!\n",
            "control sigue siendo par\n",
            "¡Primer uso de while en mi vida!\n",
            "control sigue siendo par\n",
            "¡Primer uso de while en mi vida!\n",
            "control sigue siendo par\n",
            "¡Primer uso de while en mi vida!\n",
            "control sigue siendo par\n",
            "¡Primer uso de while en mi vida!\n",
            "control sigue siendo par\n",
            "¡Primer uso de while en mi vida!\n",
            "control sigue siendo par\n",
            "¡Primer uso de while en mi vida!\n",
            "control sigue siendo par\n",
            "¡Primer uso de while en mi vida!\n",
            "control sigue siendo par\n",
            "¡Primer uso de while en mi vida!\n",
            "control sigue siendo par\n",
            "¡Primer uso de while en mi vida!\n",
            "control sigue siendo par\n",
            "¡Primer uso de while en mi vida!\n",
            "control sigue siendo par\n",
            "¡Primer uso de while en mi vida!\n",
            "control sigue siendo par\n",
            "¡Primer uso de while en mi vida!\n",
            "control sigue siendo par\n",
            "¡Primer uso de while en mi vida!\n",
            "control sigue siendo par\n",
            "¡Primer uso de while en mi vida!\n",
            "control sigue siendo par\n",
            "¡Primer uso de while en mi vida!\n",
            "control sigue siendo par\n",
            "¡Primer uso de while en mi vida!\n",
            "control sigue siendo par\n",
            "¡Primer uso de while en mi vida!\n",
            "control sigue siendo par\n",
            "¡Primer uso de while en mi vida!\n",
            "control sigue siendo par\n",
            "¡Primer uso de while en mi vida!\n",
            "control sigue siendo par\n",
            "¡Primer uso de while en mi vida!\n",
            "control sigue siendo par\n",
            "¡Primer uso de while en mi vida!\n",
            "control sigue siendo par\n",
            "¡Primer uso de while en mi vida!\n",
            "control sigue siendo par\n",
            "¡Primer uso de while en mi vida!\n",
            "control sigue siendo par\n",
            "¡Primer uso de while en mi vida!\n",
            "control sigue siendo par\n",
            "¡Primer uso de while en mi vida!\n",
            "control sigue siendo par\n",
            "¡Primer uso de while en mi vida!\n",
            "control sigue siendo par\n",
            "¡Primer uso de while en mi vida!\n",
            "control sigue siendo par\n",
            "¡Primer uso de while en mi vida!\n",
            "control sigue siendo par\n",
            "¡Primer uso de while en mi vida!\n",
            "control sigue siendo par\n",
            "¡Primer uso de while en mi vida!\n",
            "control sigue siendo par\n",
            "¡Primer uso de while en mi vida!\n",
            "control sigue siendo par\n",
            "¡Primer uso de while en mi vida!\n",
            "control sigue siendo par\n",
            "¡Primer uso de while en mi vida!\n",
            "control sigue siendo par\n",
            "¡Primer uso de while en mi vida!\n",
            "control sigue siendo par\n",
            "¡Primer uso de while en mi vida!\n",
            "control sigue siendo par\n",
            "¡Primer uso de while en mi vida!\n",
            "control sigue siendo par\n",
            "¡Primer uso de while en mi vida!\n",
            "control sigue siendo par\n",
            "¡Primer uso de while en mi vida!\n",
            "control sigue siendo par\n",
            "¡Primer uso de while en mi vida!\n",
            "control sigue siendo par\n",
            "¡Primer uso de while en mi vida!\n",
            "control sigue siendo par\n",
            "¡Primer uso de while en mi vida!\n",
            "control sigue siendo par\n",
            "¡Primer uso de while en mi vida!\n",
            "control sigue siendo par\n",
            "¡Primer uso de while en mi vida!\n",
            "control sigue siendo par\n",
            "¡Primer uso de while en mi vida!\n",
            "control sigue siendo par\n",
            "¡Primer uso de while en mi vida!\n",
            "control sigue siendo par\n",
            "¡Primer uso de while en mi vida!\n",
            "control sigue siendo par\n",
            "¡Primer uso de while en mi vida!\n",
            "control sigue siendo par\n",
            "¡Primer uso de while en mi vida!\n",
            "control sigue siendo par\n",
            "¡Primer uso de while en mi vida!\n",
            "control sigue siendo par\n",
            "¡Primer uso de while en mi vida!\n",
            "control sigue siendo par\n",
            "¡Primer uso de while en mi vida!\n",
            "control sigue siendo par\n",
            "¡Primer uso de while en mi vida!\n",
            "control sigue siendo par\n",
            "¡Primer uso de while en mi vida!\n",
            "control sigue siendo par\n",
            "¡Primer uso de while en mi vida!\n",
            "control sigue siendo par\n",
            "¡Primer uso de while en mi vida!\n",
            "control sigue siendo par\n",
            "¡Primer uso de while en mi vida!\n",
            "control sigue siendo par\n",
            "¡Primer uso de while en mi vida!\n",
            "control sigue siendo par\n",
            "¡Primer uso de while en mi vida!\n",
            "control sigue siendo par\n",
            "¡Primer uso de while en mi vida!\n",
            "control sigue siendo par\n",
            "¡Primer uso de while en mi vida!\n",
            "control sigue siendo par\n",
            "¡Primer uso de while en mi vida!\n",
            "control sigue siendo par\n",
            "¡Primer uso de while en mi vida!\n",
            "control sigue siendo par\n",
            "¡Primer uso de while en mi vida!\n",
            "control sigue siendo par\n",
            "¡Primer uso de while en mi vida!\n",
            "control sigue siendo par\n",
            "¡Primer uso de while en mi vida!\n",
            "control sigue siendo par\n",
            "¡Primer uso de while en mi vida!\n",
            "control sigue siendo par\n",
            "¡Primer uso de while en mi vida!\n",
            "control sigue siendo par\n",
            "¡Primer uso de while en mi vida!\n",
            "control sigue siendo par\n",
            "¡Primer uso de while en mi vida!\n",
            "control sigue siendo par\n",
            "¡Primer uso de while en mi vida!\n",
            "control sigue siendo par\n",
            "¡Primer uso de while en mi vida!\n",
            "control sigue siendo par\n",
            "¡Primer uso de while en mi vida!\n",
            "control sigue siendo par\n",
            "¡Primer uso de while en mi vida!\n",
            "control sigue siendo par\n",
            "¡Primer uso de while en mi vida!\n",
            "control sigue siendo par\n",
            "¡Primer uso de while en mi vida!\n",
            "control sigue siendo par\n",
            "¡Primer uso de while en mi vida!\n",
            "control sigue siendo par\n",
            "¡Primer uso de while en mi vida!\n",
            "control sigue siendo par\n",
            "¡Primer uso de while en mi vida!\n",
            "control sigue siendo par\n",
            "¡Primer uso de while en mi vida!\n",
            "control sigue siendo par\n",
            "¡Primer uso de while en mi vida!\n",
            "control sigue siendo par\n",
            "¡Primer uso de while en mi vida!\n",
            "control sigue siendo par\n",
            "¡Primer uso de while en mi vida!\n",
            "control sigue siendo par\n",
            "¡Primer uso de while en mi vida!\n",
            "control sigue siendo par\n",
            "¡Primer uso de while en mi vida!\n",
            "control sigue siendo par\n",
            "¡Primer uso de while en mi vida!\n",
            "control sigue siendo par\n",
            "¡Primer uso de while en mi vida!\n",
            "control sigue siendo par\n",
            "¡Primer uso de while en mi vida!\n",
            "control sigue siendo par\n",
            "¡Primer uso de while en mi vida!\n",
            "control sigue siendo par\n",
            "¡Primer uso de while en mi vida!\n",
            "control sigue siendo par\n",
            "¡Primer uso de while en mi vida!\n",
            "control sigue siendo par\n",
            "¡Primer uso de while en mi vida!\n",
            "control sigue siendo par\n",
            "¡Primer uso de while en mi vida!\n",
            "control sigue siendo par\n",
            "¡Primer uso de while en mi vida!\n",
            "control sigue siendo par\n",
            "¡Primer uso de while en mi vida!\n",
            "control sigue siendo par\n",
            "¡Primer uso de while en mi vida!\n",
            "control sigue siendo par\n",
            "¡Primer uso de while en mi vida!\n",
            "control sigue siendo par\n",
            "¡Primer uso de while en mi vida!\n",
            "control sigue siendo par\n",
            "¡Primer uso de while en mi vida!\n",
            "control sigue siendo par\n",
            "¡Primer uso de while en mi vida!\n",
            "control sigue siendo par\n",
            "¡Primer uso de while en mi vida!\n",
            "control sigue siendo par\n",
            "¡Primer uso de while en mi vida!\n",
            "control sigue siendo par\n",
            "¡Primer uso de while en mi vida!\n",
            "control sigue siendo par\n",
            "¡Primer uso de while en mi vida!\n",
            "control sigue siendo par\n",
            "¡Primer uso de while en mi vida!\n",
            "control sigue siendo par\n",
            "¡Primer uso de while en mi vida!\n",
            "control sigue siendo par\n",
            "¡Primer uso de while en mi vida!\n",
            "control sigue siendo par\n",
            "¡Primer uso de while en mi vida!\n",
            "control sigue siendo par\n",
            "¡Primer uso de while en mi vida!\n",
            "control sigue siendo par\n",
            "¡Primer uso de while en mi vida!\n",
            "control sigue siendo par\n",
            "¡Primer uso de while en mi vida!\n",
            "control sigue siendo par\n",
            "¡Primer uso de while en mi vida!\n",
            "control sigue siendo par\n",
            "¡Primer uso de while en mi vida!\n",
            "control sigue siendo par\n",
            "¡Primer uso de while en mi vida!\n",
            "control sigue siendo par\n",
            "¡Primer uso de while en mi vida!\n",
            "control sigue siendo par\n",
            "¡Primer uso de while en mi vida!\n",
            "control sigue siendo par\n",
            "¡Primer uso de while en mi vida!\n",
            "control sigue siendo par\n",
            "¡Primer uso de while en mi vida!\n",
            "control sigue siendo par\n",
            "¡Primer uso de while en mi vida!\n",
            "control sigue siendo par\n",
            "¡Primer uso de while en mi vida!\n",
            "control sigue siendo par\n",
            "¡Primer uso de while en mi vida!\n",
            "control sigue siendo par\n",
            "¡Primer uso de while en mi vida!\n",
            "control sigue siendo par\n",
            "¡Primer uso de while en mi vida!\n",
            "control sigue siendo par\n",
            "¡Primer uso de while en mi vida!\n",
            "control sigue siendo par\n",
            "¡Primer uso de while en mi vida!\n",
            "control sigue siendo par\n",
            "¡Primer uso de while en mi vida!\n",
            "control sigue siendo par\n",
            "¡Primer uso de while en mi vida!\n",
            "control sigue siendo par\n",
            "¡Primer uso de while en mi vida!\n",
            "control sigue siendo par\n",
            "¡Primer uso de while en mi vida!\n",
            "control sigue siendo par\n",
            "¡Primer uso de while en mi vida!\n",
            "control sigue siendo par\n",
            "¡Primer uso de while en mi vida!\n",
            "control sigue siendo par\n",
            "¡Primer uso de while en mi vida!\n",
            "control sigue siendo par\n",
            "¡Primer uso de while en mi vida!\n",
            "control sigue siendo par\n",
            "¡Primer uso de while en mi vida!\n",
            "control sigue siendo par\n",
            "¡Primer uso de while en mi vida!\n",
            "control sigue siendo par\n",
            "¡Primer uso de while en mi vida!\n",
            "control sigue siendo par\n",
            "¡Primer uso de while en mi vida!\n",
            "control sigue siendo par\n",
            "¡Primer uso de while en mi vida!\n",
            "control sigue siendo par\n",
            "¡Primer uso de while en mi vida!\n",
            "control sigue siendo par\n",
            "¡Primer uso de while en mi vida!\n",
            "control sigue siendo par\n",
            "¡Primer uso de while en mi vida!\n",
            "control sigue siendo par\n",
            "¡Primer uso de while en mi vida!\n",
            "control sigue siendo par\n",
            "¡Primer uso de while en mi vida!\n",
            "control sigue siendo par\n",
            "¡Primer uso de while en mi vida!\n",
            "control sigue siendo par\n",
            "¡Primer uso de while en mi vida!\n",
            "control sigue siendo par\n",
            "¡Primer uso de while en mi vida!\n",
            "control sigue siendo par\n",
            "¡Primer uso de while en mi vida!\n",
            "control sigue siendo par\n",
            "¡Primer uso de while en mi vida!\n",
            "control sigue siendo par\n",
            "¡Primer uso de while en mi vida!\n",
            "control sigue siendo par\n",
            "¡Primer uso de while en mi vida!\n",
            "control sigue siendo par\n",
            "¡Primer uso de while en mi vida!\n",
            "control sigue siendo par\n",
            "¡Primer uso de while en mi vida!\n",
            "control sigue siendo par\n",
            "¡Primer uso de while en mi vida!\n",
            "control sigue siendo par\n",
            "¡Primer uso de while en mi vida!\n",
            "control sigue siendo par\n",
            "¡Primer uso de while en mi vida!\n",
            "control sigue siendo par\n",
            "¡Primer uso de while en mi vida!\n",
            "control sigue siendo par\n",
            "¡Primer uso de while en mi vida!\n",
            "control sigue siendo par\n",
            "¡Primer uso de while en mi vida!\n",
            "control sigue siendo par\n",
            "¡Primer uso de while en mi vida!\n",
            "control sigue siendo par\n",
            "¡Primer uso de while en mi vida!\n",
            "control sigue siendo par\n",
            "¡Primer uso de while en mi vida!\n",
            "control sigue siendo par\n",
            "¡Primer uso de while en mi vida!\n",
            "control sigue siendo par\n",
            "¡Primer uso de while en mi vida!\n",
            "control sigue siendo par\n",
            "¡Primer uso de while en mi vida!\n",
            "control sigue siendo par\n",
            "¡Primer uso de while en mi vida!\n",
            "control sigue siendo par\n",
            "¡Primer uso de while en mi vida!\n",
            "control sigue siendo par\n",
            "¡Primer uso de while en mi vida!\n",
            "control sigue siendo par\n",
            "¡Primer uso de while en mi vida!\n",
            "control sigue siendo par\n",
            "¡Primer uso de while en mi vida!\n",
            "control sigue siendo par\n",
            "¡Primer uso de while en mi vida!\n",
            "control sigue siendo par\n",
            "¡Primer uso de while en mi vida!\n",
            "control sigue siendo par\n",
            "¡Primer uso de while en mi vida!\n",
            "control sigue siendo par\n",
            "¡Primer uso de while en mi vida!\n",
            "control sigue siendo par\n",
            "¡Primer uso de while en mi vida!\n",
            "control sigue siendo par\n",
            "¡Primer uso de while en mi vida!\n",
            "control sigue siendo par\n",
            "¡Primer uso de while en mi vida!\n",
            "control sigue siendo par\n",
            "¡Primer uso de while en mi vida!\n",
            "control sigue siendo par\n",
            "¡Primer uso de while en mi vida!\n",
            "control sigue siendo par\n",
            "¡Primer uso de while en mi vida!\n",
            "control sigue siendo par\n",
            "¡Primer uso de while en mi vida!\n",
            "control sigue siendo par\n",
            "¡Primer uso de while en mi vida!\n",
            "control sigue siendo par\n",
            "¡Primer uso de while en mi vida!\n",
            "control sigue siendo par\n",
            "¡Primer uso de while en mi vida!\n",
            "control sigue siendo par\n",
            "¡Primer uso de while en mi vida!\n",
            "control sigue siendo par\n",
            "¡Primer uso de while en mi vida!\n",
            "control sigue siendo par\n",
            "¡Primer uso de while en mi vida!\n",
            "control sigue siendo par\n",
            "¡Primer uso de while en mi vida!\n",
            "control sigue siendo par\n",
            "¡Primer uso de while en mi vida!\n",
            "control sigue siendo par\n",
            "¡Primer uso de while en mi vida!\n",
            "control sigue siendo par\n",
            "¡Primer uso de while en mi vida!\n",
            "control sigue siendo par\n",
            "¡Primer uso de while en mi vida!\n",
            "control sigue siendo par\n",
            "¡Primer uso de while en mi vida!\n",
            "control sigue siendo par\n",
            "¡Primer uso de while en mi vida!\n",
            "control sigue siendo par\n",
            "¡Primer uso de while en mi vida!\n",
            "control sigue siendo par\n",
            "¡Primer uso de while en mi vida!\n",
            "control sigue siendo par\n",
            "¡Primer uso de while en mi vida!\n",
            "control sigue siendo par\n",
            "¡Primer uso de while en mi vida!\n",
            "control sigue siendo par\n",
            "¡Primer uso de while en mi vida!\n",
            "control sigue siendo par\n",
            "¡Primer uso de while en mi vida!\n",
            "control sigue siendo par\n",
            "¡Primer uso de while en mi vida!\n",
            "control sigue siendo par\n",
            "¡Primer uso de while en mi vida!\n",
            "control sigue siendo par\n",
            "¡Primer uso de while en mi vida!\n",
            "control sigue siendo par\n",
            "¡Primer uso de while en mi vida!\n",
            "control sigue siendo par\n",
            "¡Primer uso de while en mi vida!\n",
            "control sigue siendo par\n",
            "¡Primer uso de while en mi vida!\n",
            "control sigue siendo par\n",
            "¡Primer uso de while en mi vida!\n",
            "control sigue siendo par\n",
            "¡Primer uso de while en mi vida!\n",
            "control sigue siendo par\n",
            "¡Primer uso de while en mi vida!\n",
            "control sigue siendo par\n",
            "¡Primer uso de while en mi vida!\n",
            "control sigue siendo par\n",
            "¡Primer uso de while en mi vida!\n",
            "control sigue siendo par\n",
            "¡Primer uso de while en mi vida!\n",
            "control sigue siendo par\n",
            "¡Primer uso de while en mi vida!\n",
            "control sigue siendo par\n",
            "¡Primer uso de while en mi vida!\n",
            "control sigue siendo par\n",
            "¡Primer uso de while en mi vida!\n",
            "control sigue siendo par\n",
            "¡Primer uso de while en mi vida!\n",
            "control sigue siendo par\n",
            "¡Primer uso de while en mi vida!\n",
            "control sigue siendo par\n",
            "¡Primer uso de while en mi vida!\n",
            "control sigue siendo par\n",
            "¡Primer uso de while en mi vida!\n",
            "control sigue siendo par\n",
            "¡Primer uso de while en mi vida!\n",
            "control sigue siendo par\n",
            "¡Primer uso de while en mi vida!\n",
            "control sigue siendo par\n",
            "¡Primer uso de while en mi vida!\n",
            "control sigue siendo par\n",
            "¡Primer uso de while en mi vida!\n",
            "control sigue siendo par\n",
            "¡Primer uso de while en mi vida!\n",
            "control sigue siendo par\n",
            "¡Primer uso de while en mi vida!\n",
            "control sigue siendo par\n",
            "¡Primer uso de while en mi vida!\n",
            "control sigue siendo par\n",
            "¡Primer uso de while en mi vida!\n",
            "control sigue siendo par\n",
            "¡Primer uso de while en mi vida!\n",
            "control sigue siendo par\n",
            "¡Primer uso de while en mi vida!\n",
            "control sigue siendo par\n",
            "¡Primer uso de while en mi vida!\n",
            "control sigue siendo par\n",
            "¡Primer uso de while en mi vida!\n",
            "control sigue siendo par\n",
            "¡Primer uso de while en mi vida!\n",
            "control sigue siendo par\n",
            "¡Primer uso de while en mi vida!\n",
            "control sigue siendo par\n",
            "¡Primer uso de while en mi vida!\n",
            "control sigue siendo par\n",
            "¡Primer uso de while en mi vida!\n",
            "control sigue siendo par\n",
            "¡Primer uso de while en mi vida!\n",
            "control sigue siendo par\n",
            "¡Primer uso de while en mi vida!\n",
            "control sigue siendo par\n",
            "¡Primer uso de while en mi vida!\n",
            "control sigue siendo par\n",
            "¡Primer uso de while en mi vida!\n",
            "control sigue siendo par\n",
            "¡Primer uso de while en mi vida!\n",
            "control sigue siendo par\n",
            "¡Primer uso de while en mi vida!\n",
            "control sigue siendo par\n",
            "¡Primer uso de while en mi vida!\n",
            "control sigue siendo par\n",
            "¡Primer uso de while en mi vida!\n",
            "control sigue siendo par\n",
            "¡Primer uso de while en mi vida!\n",
            "control sigue siendo par\n",
            "¡Primer uso de while en mi vida!\n",
            "control sigue siendo par\n",
            "¡Primer uso de while en mi vida!\n",
            "control sigue siendo par\n",
            "¡Primer uso de while en mi vida!\n",
            "control sigue siendo par\n",
            "¡Primer uso de while en mi vida!\n",
            "control sigue siendo par\n",
            "¡Primer uso de while en mi vida!\n",
            "control sigue siendo par\n",
            "¡Primer uso de while en mi vida!\n",
            "control sigue siendo par\n",
            "¡Primer uso de while en mi vida!\n",
            "control sigue siendo par\n",
            "¡Primer uso de while en mi vida!\n",
            "control sigue siendo par\n",
            "¡Primer uso de while en mi vida!\n",
            "control sigue siendo par\n",
            "¡Primer uso de while en mi vida!\n",
            "control sigue siendo par\n",
            "¡Primer uso de while en mi vida!\n",
            "control sigue siendo par\n",
            "¡Primer uso de while en mi vida!\n",
            "control sigue siendo par\n",
            "¡Primer uso de while en mi vida!\n",
            "control sigue siendo par\n",
            "¡Primer uso de while en mi vida!\n",
            "control sigue siendo par\n",
            "¡Primer uso de while en mi vida!\n",
            "control sigue siendo par\n",
            "¡Primer uso de while en mi vida!\n",
            "control sigue siendo par\n",
            "¡Primer uso de while en mi vida!\n",
            "control sigue siendo par\n",
            "¡Primer uso de while en mi vida!\n",
            "control sigue siendo par\n",
            "¡Primer uso de while en mi vida!\n",
            "control sigue siendo par\n",
            "¡Primer uso de while en mi vida!\n",
            "control sigue siendo par\n",
            "¡Primer uso de while en mi vida!\n",
            "control sigue siendo par\n",
            "¡Primer uso de while en mi vida!\n",
            "control sigue siendo par\n",
            "¡Primer uso de while en mi vida!\n",
            "control sigue siendo par\n",
            "¡Primer uso de while en mi vida!\n",
            "control sigue siendo par\n",
            "¡Primer uso de while en mi vida!\n",
            "control sigue siendo par\n",
            "¡Primer uso de while en mi vida!\n",
            "control sigue siendo par\n",
            "¡Primer uso de while en mi vida!\n",
            "control sigue siendo par\n",
            "¡Primer uso de while en mi vida!\n",
            "control sigue siendo par\n",
            "¡Primer uso de while en mi vida!\n",
            "control sigue siendo par\n",
            "¡Primer uso de while en mi vida!\n",
            "control sigue siendo par\n",
            "¡Primer uso de while en mi vida!\n",
            "control sigue siendo par\n",
            "¡Primer uso de while en mi vida!\n",
            "control sigue siendo par\n",
            "¡Primer uso de while en mi vida!\n",
            "control sigue siendo par\n",
            "¡Primer uso de while en mi vida!\n",
            "control sigue siendo par\n",
            "¡Primer uso de while en mi vida!\n",
            "control sigue siendo par\n",
            "¡Primer uso de while en mi vida!\n",
            "control sigue siendo par\n",
            "¡Primer uso de while en mi vida!\n",
            "control sigue siendo par\n",
            "¡Primer uso de while en mi vida!\n",
            "control sigue siendo par\n",
            "¡Primer uso de while en mi vida!\n",
            "control sigue siendo par\n",
            "¡Primer uso de while en mi vida!\n",
            "control sigue siendo par\n",
            "¡Primer uso de while en mi vida!\n",
            "control sigue siendo par\n",
            "¡Primer uso de while en mi vida!\n",
            "control sigue siendo par\n",
            "¡Primer uso de while en mi vida!\n",
            "control sigue siendo par\n",
            "¡Primer uso de while en mi vida!\n",
            "control sigue siendo par\n",
            "¡Primer uso de while en mi vida!\n",
            "control sigue siendo par\n",
            "¡Primer uso de while en mi vida!\n",
            "control sigue siendo par\n",
            "¡Primer uso de while en mi vida!\n",
            "control sigue siendo par\n",
            "¡Primer uso de while en mi vida!"
          ],
          "name": "stdout"
        },
        {
          "output_type": "error",
          "ename": "KeyboardInterrupt",
          "evalue": "ignored",
          "traceback": [
            "\u001b[0;31m---------------------------------------------------------------------------\u001b[0m",
            "\u001b[0;31mKeyboardInterrupt\u001b[0m                         Traceback (most recent call last)",
            "\u001b[0;32m<ipython-input-4-321dd79b5fbe>\u001b[0m in \u001b[0;36m<module>\u001b[0;34m()\u001b[0m\n\u001b[1;32m     10\u001b[0m   \u001b[0;32melse\u001b[0m\u001b[0;34m:\u001b[0m\u001b[0;34m\u001b[0m\u001b[0;34m\u001b[0m\u001b[0m\n\u001b[1;32m     11\u001b[0m     \u001b[0mprint\u001b[0m\u001b[0;34m(\u001b[0m\u001b[0;34m\"control sigue siendo par\"\u001b[0m\u001b[0;34m)\u001b[0m\u001b[0;34m\u001b[0m\u001b[0;34m\u001b[0m\u001b[0m\n\u001b[0;32m---> 12\u001b[0;31m   \u001b[0mprint\u001b[0m\u001b[0;34m(\u001b[0m\u001b[0;34m\"¡Primer uso de while en mi vida!\"\u001b[0m\u001b[0;34m)\u001b[0m\u001b[0;34m\u001b[0m\u001b[0;34m\u001b[0m\u001b[0m\n\u001b[0m\u001b[1;32m     13\u001b[0m \u001b[0;34m\u001b[0m\u001b[0m\n\u001b[1;32m     14\u001b[0m \u001b[0;31m#OJO: Como este ciclo es infinito debemos parar la ejecución de la celda!\u001b[0m\u001b[0;34m\u001b[0m\u001b[0;34m\u001b[0m\u001b[0;34m\u001b[0m\u001b[0m\n",
            "\u001b[0;32m/usr/local/lib/python3.7/dist-packages/ipykernel/iostream.py\u001b[0m in \u001b[0;36mwrite\u001b[0;34m(self, string)\u001b[0m\n\u001b[1;32m    396\u001b[0m                 \u001b[0mstring\u001b[0m \u001b[0;34m=\u001b[0m \u001b[0mstring\u001b[0m\u001b[0;34m.\u001b[0m\u001b[0mdecode\u001b[0m\u001b[0;34m(\u001b[0m\u001b[0mself\u001b[0m\u001b[0;34m.\u001b[0m\u001b[0mencoding\u001b[0m\u001b[0;34m,\u001b[0m \u001b[0;34m'replace'\u001b[0m\u001b[0;34m)\u001b[0m\u001b[0;34m\u001b[0m\u001b[0;34m\u001b[0m\u001b[0m\n\u001b[1;32m    397\u001b[0m \u001b[0;34m\u001b[0m\u001b[0m\n\u001b[0;32m--> 398\u001b[0;31m             \u001b[0mis_child\u001b[0m \u001b[0;34m=\u001b[0m \u001b[0;34m(\u001b[0m\u001b[0;32mnot\u001b[0m \u001b[0mself\u001b[0m\u001b[0;34m.\u001b[0m\u001b[0m_is_master_process\u001b[0m\u001b[0;34m(\u001b[0m\u001b[0;34m)\u001b[0m\u001b[0;34m)\u001b[0m\u001b[0;34m\u001b[0m\u001b[0;34m\u001b[0m\u001b[0m\n\u001b[0m\u001b[1;32m    399\u001b[0m             \u001b[0;31m# only touch the buffer in the IO thread to avoid races\u001b[0m\u001b[0;34m\u001b[0m\u001b[0;34m\u001b[0m\u001b[0;34m\u001b[0m\u001b[0m\n\u001b[1;32m    400\u001b[0m             \u001b[0mself\u001b[0m\u001b[0;34m.\u001b[0m\u001b[0mpub_thread\u001b[0m\u001b[0;34m.\u001b[0m\u001b[0mschedule\u001b[0m\u001b[0;34m(\u001b[0m\u001b[0;32mlambda\u001b[0m \u001b[0;34m:\u001b[0m \u001b[0mself\u001b[0m\u001b[0;34m.\u001b[0m\u001b[0m_buffer\u001b[0m\u001b[0;34m.\u001b[0m\u001b[0mwrite\u001b[0m\u001b[0;34m(\u001b[0m\u001b[0mstring\u001b[0m\u001b[0;34m)\u001b[0m\u001b[0;34m)\u001b[0m\u001b[0;34m\u001b[0m\u001b[0;34m\u001b[0m\u001b[0m\n",
            "\u001b[0;32m/usr/local/lib/python3.7/dist-packages/ipykernel/iostream.py\u001b[0m in \u001b[0;36m_is_master_process\u001b[0;34m(self)\u001b[0m\n\u001b[1;32m    306\u001b[0m \u001b[0;34m\u001b[0m\u001b[0m\n\u001b[1;32m    307\u001b[0m     \u001b[0;32mdef\u001b[0m \u001b[0m_is_master_process\u001b[0m\u001b[0;34m(\u001b[0m\u001b[0mself\u001b[0m\u001b[0;34m)\u001b[0m\u001b[0;34m:\u001b[0m\u001b[0;34m\u001b[0m\u001b[0;34m\u001b[0m\u001b[0m\n\u001b[0;32m--> 308\u001b[0;31m         \u001b[0;32mreturn\u001b[0m \u001b[0mos\u001b[0m\u001b[0;34m.\u001b[0m\u001b[0mgetpid\u001b[0m\u001b[0;34m(\u001b[0m\u001b[0;34m)\u001b[0m \u001b[0;34m==\u001b[0m \u001b[0mself\u001b[0m\u001b[0;34m.\u001b[0m\u001b[0m_master_pid\u001b[0m\u001b[0;34m\u001b[0m\u001b[0;34m\u001b[0m\u001b[0m\n\u001b[0m\u001b[1;32m    309\u001b[0m \u001b[0;34m\u001b[0m\u001b[0m\n\u001b[1;32m    310\u001b[0m     \u001b[0;32mdef\u001b[0m \u001b[0mset_parent\u001b[0m\u001b[0;34m(\u001b[0m\u001b[0mself\u001b[0m\u001b[0;34m,\u001b[0m \u001b[0mparent\u001b[0m\u001b[0;34m)\u001b[0m\u001b[0;34m:\u001b[0m\u001b[0;34m\u001b[0m\u001b[0;34m\u001b[0m\u001b[0m\n",
            "\u001b[0;31mKeyboardInterrupt\u001b[0m: "
          ]
        }
      ]
    },
    {
      "cell_type": "code",
      "metadata": {
        "colab": {
          "base_uri": "https://localhost:8080/"
        },
        "id": "ERvqUOyHXbMI",
        "outputId": "5450a5cb-2156-4c7f-db8d-503b5de2cd71"
      },
      "source": [
        "# Hacer un ciclo que imprima un mensaje (varias veces: 2, 3, 4, ... n veces) cuando la variable de control sea par\n",
        "# Si la variable de control es impar, debe imprimir el mensaje una sola vez. \n",
        "condicion = True \n",
        "control=21 #impar\n",
        "#while condicion==True:\n",
        "while condicion: # hace lo mismo que la linea de codigo anterior\n",
        "  if control%2!=0: #verificando si control es impar (no es par)\n",
        "    condicion=False # cambio la condicion\n",
        "  else:\n",
        "    print(\"control sigue siendo par\")\n",
        "  print(\"¡Primer uso de while en mi vida!\")  \n",
        "\n",
        "#OJO: Como este ciclo es infinito debemos parar la ejecución de la celda!  "
      ],
      "execution_count": null,
      "outputs": [
        {
          "output_type": "stream",
          "text": [
            "¡Primer uso de while en mi vida!\n"
          ],
          "name": "stdout"
        }
      ]
    },
    {
      "cell_type": "markdown",
      "metadata": {
        "id": "L85pAnF1F2BR"
      },
      "source": [
        "# Ejemplo de Gauss:\n",
        "¿?\n",
        "\n",
        "1   +  2  + ...  + 99 + 100 = S\n",
        "\n",
        "100 + 99  + ...  +  2 + 1   = S\n",
        "___________________________________\n",
        "\n",
        "101 + 101 + ... + 101 + 101 = 2*S\n",
        "\n",
        "           100(100+1)         = 2*S\n",
        "\n",
        "           100 (100+1)\n",
        "           ___________        = S\n",
        "                2\n",
        "\n",
        "                10100\n",
        "                _____\n",
        "                  2\n",
        "\n",
        "                5050          = S\n",
        "\n",
        "                n(n+1)\n",
        "                ______        = S\n",
        "                   2\n",
        "\n"
      ]
    },
    {
      "cell_type": "code",
      "metadata": {
        "colab": {
          "base_uri": "https://localhost:8080/"
        },
        "id": "Sqav193bFMs9",
        "outputId": "e597e640-41eb-45eb-bb07-a343be0e67e0"
      },
      "source": [
        "cont=1 #Inicializa el contador\n",
        "sumatoria=0 #inicializa la suma en 0\n",
        "while cont <= 100:\n",
        "  sumatoria=sumatoria+cont # Realiza la suma\n",
        "  cont+=1 #incrementa el contador\n",
        "print(sumatoria) "
      ],
      "execution_count": null,
      "outputs": [
        {
          "output_type": "stream",
          "text": [
            "5050\n"
          ],
          "name": "stdout"
        }
      ]
    },
    {
      "cell_type": "code",
      "metadata": {
        "colab": {
          "base_uri": "https://localhost:8080/"
        },
        "id": "UAtyqkOvHK1l",
        "outputId": "6234012a-3e46-4369-dfa9-26b97cc1e99c"
      },
      "source": [
        "cont=1 #Inicializa el contador\n",
        "sumatoria=0 #inicializa la suma en 0\n",
        "while cont <= 10:\n",
        "  sumatoria=sumatoria+cont # Realiza la suma\n",
        "  cont+=1 #incrementa el contador\n",
        "print(sumatoria) "
      ],
      "execution_count": null,
      "outputs": [
        {
          "output_type": "stream",
          "text": [
            "55\n"
          ],
          "name": "stdout"
        }
      ]
    },
    {
      "cell_type": "markdown",
      "metadata": {
        "id": "PVZWymRJG7jE"
      },
      "source": [
        "## for:"
      ]
    },
    {
      "cell_type": "markdown",
      "metadata": {
        "id": "_6DWYd5jubt-"
      },
      "source": [
        "Tomado de: https://www.w3schools.com/python/python_for_loops.asp"
      ]
    },
    {
      "cell_type": "code",
      "metadata": {
        "colab": {
          "base_uri": "https://localhost:8080/"
        },
        "id": "V4jPjAVBuVhT",
        "outputId": "bcd0cced-1da2-4c48-f81d-5b754fe0f32f"
      },
      "source": [
        "fruits = [\"apple\", \"banana\", \"cherry\"]\n",
        "for x in fruits:\n",
        "  print(x)"
      ],
      "execution_count": null,
      "outputs": [
        {
          "output_type": "stream",
          "text": [
            "apple\n",
            "banana\n",
            "cherry\n"
          ],
          "name": "stdout"
        }
      ]
    },
    {
      "cell_type": "code",
      "metadata": {
        "colab": {
          "base_uri": "https://localhost:8080/"
        },
        "id": "Nric6EiP4qIJ",
        "outputId": "f89a26f4-9799-4993-bb21-2d5a1abb7a91"
      },
      "source": [
        "range(5)"
      ],
      "execution_count": null,
      "outputs": [
        {
          "output_type": "execute_result",
          "data": {
            "text/plain": [
              "range(0, 5)"
            ]
          },
          "metadata": {
            "tags": []
          },
          "execution_count": 1
        }
      ]
    },
    {
      "cell_type": "code",
      "metadata": {
        "colab": {
          "base_uri": "https://localhost:8080/"
        },
        "id": "s8KEn8Hi43sX",
        "outputId": "ddfad86a-453b-4a1a-b386-0fa47e599079"
      },
      "source": [
        "for numero in range(5):\n",
        "  print(numero)"
      ],
      "execution_count": null,
      "outputs": [
        {
          "output_type": "stream",
          "text": [
            "0\n",
            "1\n",
            "2\n",
            "3\n",
            "4\n"
          ],
          "name": "stdout"
        }
      ]
    },
    {
      "cell_type": "code",
      "metadata": {
        "colab": {
          "base_uri": "https://localhost:8080/"
        },
        "id": "Q_RANOH-5Yn6",
        "outputId": "942d436f-b9f9-4f85-eaf5-572d353497b3"
      },
      "source": [
        "# Ejemplo de impresión en pantalla de los 10 digitos (0 al 9), usando range(10)==range(0,10)\n",
        "for j in range(0,10):\n",
        "  print(\"Digito:\",j)"
      ],
      "execution_count": null,
      "outputs": [
        {
          "output_type": "stream",
          "text": [
            "Digito: 0\n",
            "Digito: 1\n",
            "Digito: 2\n",
            "Digito: 3\n",
            "Digito: 4\n",
            "Digito: 5\n",
            "Digito: 6\n",
            "Digito: 7\n",
            "Digito: 8\n",
            "Digito: 9\n"
          ],
          "name": "stdout"
        }
      ]
    },
    {
      "cell_type": "markdown",
      "metadata": {
        "id": "APLm4K2JC4R3"
      },
      "source": [
        "# Tamaño (contador), Suma (acumulador), Máximos y Mínimos usando funciones como un ejemplo en listas (SIN USAR EL CICLO FOR):"
      ]
    },
    {
      "cell_type": "code",
      "metadata": {
        "id": "eep68pqxDGUd"
      },
      "source": [
        "lista_numeros=[3, 41, 12, 9, 74, 15]"
      ],
      "execution_count": null,
      "outputs": []
    },
    {
      "cell_type": "code",
      "metadata": {
        "colab": {
          "base_uri": "https://localhost:8080/"
        },
        "id": "yEX7jomjDWfI",
        "outputId": "cc8da79c-7dbf-4339-b000-7b535a782be8"
      },
      "source": [
        "lista_numeros"
      ],
      "execution_count": null,
      "outputs": [
        {
          "output_type": "execute_result",
          "data": {
            "text/plain": [
              "[3, 41, 12, 9, 74, 15]"
            ]
          },
          "metadata": {
            "tags": []
          },
          "execution_count": 13
        }
      ]
    },
    {
      "cell_type": "code",
      "metadata": {
        "colab": {
          "base_uri": "https://localhost:8080/"
        },
        "id": "-5iPEXYcDYrb",
        "outputId": "283edc1d-9bf4-4987-baaa-5edf19ec3d62"
      },
      "source": [
        "print(lista_numeros)"
      ],
      "execution_count": null,
      "outputs": [
        {
          "output_type": "stream",
          "text": [
            "[3, 41, 12, 9, 74, 15]\n"
          ],
          "name": "stdout"
        }
      ]
    },
    {
      "cell_type": "code",
      "metadata": {
        "colab": {
          "base_uri": "https://localhost:8080/"
        },
        "id": "VcDKg-Mg-ucU",
        "outputId": "be427113-0bf5-448d-ae5d-7c1e0b8a4249"
      },
      "source": [
        "tamano=len(lista_numeros)\n",
        "print(tamano)"
      ],
      "execution_count": null,
      "outputs": [
        {
          "output_type": "stream",
          "text": [
            "6\n"
          ],
          "name": "stdout"
        }
      ]
    },
    {
      "cell_type": "code",
      "metadata": {
        "colab": {
          "base_uri": "https://localhost:8080/"
        },
        "id": "6l1nbMv7-u1O",
        "outputId": "86c6ce87-386b-47f0-d276-ca7dbf827ce2"
      },
      "source": [
        "suma=sum(lista_numeros)\n",
        "print(suma)"
      ],
      "execution_count": null,
      "outputs": [
        {
          "output_type": "stream",
          "text": [
            "154\n"
          ],
          "name": "stdout"
        }
      ]
    },
    {
      "cell_type": "code",
      "metadata": {
        "colab": {
          "base_uri": "https://localhost:8080/"
        },
        "id": "o5TAyHK9Dod9",
        "outputId": "237b0811-4537-4545-f4b0-ad55fb96150a"
      },
      "source": [
        "valor_minimo=min(lista_numeros)\n",
        "print(valor_minimo)"
      ],
      "execution_count": null,
      "outputs": [
        {
          "output_type": "stream",
          "text": [
            "3\n"
          ],
          "name": "stdout"
        }
      ]
    },
    {
      "cell_type": "code",
      "metadata": {
        "colab": {
          "base_uri": "https://localhost:8080/"
        },
        "id": "wsnvtvA0D_cg",
        "outputId": "963d2cd5-380c-4fdc-fe31-bded6b0620d0"
      },
      "source": [
        "valor_maximo=max(lista_numeros)\n",
        "print(valor_maximo)"
      ],
      "execution_count": null,
      "outputs": [
        {
          "output_type": "stream",
          "text": [
            "74\n"
          ],
          "name": "stdout"
        }
      ]
    },
    {
      "cell_type": "markdown",
      "metadata": {
        "id": "6jG8HOMmJ-Xn"
      },
      "source": [
        "# Ejemplo notas:"
      ]
    },
    {
      "cell_type": "code",
      "metadata": {
        "colab": {
          "base_uri": "https://localhost:8080/"
        },
        "id": "qYztgMccI9MT",
        "outputId": "861b333a-0734-4dea-fab0-26cbea0d2255"
      },
      "source": [
        "lista_notas=[3.2,4.0,5.0,1.2,0.0,3.3,2.95,4.1,2.5,3.6]\n",
        "print(len(lista_notas))\n",
        "\n",
        "cantidad_aprobados=0 #inicializar\n",
        "\n",
        "for nota in lista_notas:# recorrido total de la lista de notas\n",
        "  if nota >= 3.0:\n",
        "    cantidad_aprobados=cantidad_aprobados+1\n",
        "\n",
        "print(cantidad_aprobados)"
      ],
      "execution_count": null,
      "outputs": [
        {
          "output_type": "stream",
          "text": [
            "10\n",
            "6\n"
          ],
          "name": "stdout"
        }
      ]
    },
    {
      "cell_type": "markdown",
      "metadata": {
        "id": "rm06D4L6IWn2"
      },
      "source": [
        "**Ejemplo tomado de [Python Tutorial](https://www.w3schools.com/python/python_for_loops.asp):**\n",
        "\n"
      ]
    },
    {
      "cell_type": "code",
      "metadata": {
        "colab": {
          "base_uri": "https://localhost:8080/"
        },
        "id": "Mj7FyEkUGxj-",
        "outputId": "a6499b5f-54d1-4517-b0a2-a20c294b99e7"
      },
      "source": [
        "fruits = [\"apple\", \"banana\", \"cherry\"] # lista de frutas\n",
        "for x in fruits:\n",
        "  print(x) \n"
      ],
      "execution_count": null,
      "outputs": [
        {
          "output_type": "stream",
          "text": [
            "apple\n",
            "banana\n",
            "cherry\n"
          ],
          "name": "stdout"
        }
      ]
    },
    {
      "cell_type": "markdown",
      "metadata": {
        "id": "lrKIGH4XIaAY"
      },
      "source": [
        "**Versión en español:**"
      ]
    },
    {
      "cell_type": "code",
      "metadata": {
        "id": "rIVyHizoIZjk",
        "colab": {
          "base_uri": "https://localhost:8080/"
        },
        "outputId": "8b7dea33-2ead-4fd3-c8e1-c429507b1c1a"
      },
      "source": [
        "frutas = ['manzana', \"banano\", \"\"\"cereza\"\"\"] # lista de frutas\n",
        "for fruta in frutas: #recorre cada elemento (fruta) de la lista (frutas)\n",
        "  print(fruta) # imprime cada recorrido del ciclo\n"
      ],
      "execution_count": null,
      "outputs": [
        {
          "output_type": "stream",
          "text": [
            "manzana\n",
            "banano\n",
            "cereza\n"
          ],
          "name": "stdout"
        }
      ]
    },
    {
      "cell_type": "markdown",
      "metadata": {
        "id": "bBPFY3kWH8Ml"
      },
      "source": [
        "**Algo similar al anterior pero usando enumerate():**"
      ]
    },
    {
      "cell_type": "code",
      "metadata": {
        "colab": {
          "base_uri": "https://localhost:8080/"
        },
        "id": "6j7nluQlH32Q",
        "outputId": "ef557c6e-6231-49fe-f63f-4c3e82d311e5"
      },
      "source": [
        "frutas = ['manzana', \"banano\", \"\"\"cereza\"\"\"]\n",
        "for posicion, fruta in enumerate(frutas):\n",
        "\tprint(\"La fruta seleccionada en la posición\",posicion,\"es:\",fruta)"
      ],
      "execution_count": null,
      "outputs": [
        {
          "output_type": "stream",
          "text": [
            "La fruta seleccionada en la posición 0 es: manzana\n",
            "La fruta seleccionada en la posición 1 es: banano\n",
            "La fruta seleccionada en la posición 2 es: cereza\n"
          ],
          "name": "stdout"
        }
      ]
    },
    {
      "cell_type": "markdown",
      "metadata": {
        "id": "EgMSVoWxLv6t"
      },
      "source": [
        "**Otras dos formas de escribir directamente una cadena en pantalla usando la info de las variables:**"
      ]
    },
    {
      "cell_type": "code",
      "metadata": {
        "colab": {
          "base_uri": "https://localhost:8080/"
        },
        "id": "2LoHtMzJLTgX",
        "outputId": "dbd91294-0e87-498f-f350-691e549642e3"
      },
      "source": [
        "#FORMA 1:\n",
        "frutas = ['manzana', \"banano\", \"\"\"cereza\"\"\"]\n",
        "for posicion, fruta in enumerate(frutas):\n",
        "\tprint(f\"La fruta seleccionada en la posición {posicion} es: {fruta}\") # f se usa antes de iniciar la cadena para dar formato"
      ],
      "execution_count": null,
      "outputs": [
        {
          "output_type": "stream",
          "text": [
            "La fruta seleccionada en la posición 0 es: manzana\n",
            "La fruta seleccionada en la posición 1 es: banano\n",
            "La fruta seleccionada en la posición 2 es: cereza\n"
          ],
          "name": "stdout"
        }
      ]
    },
    {
      "cell_type": "code",
      "metadata": {
        "colab": {
          "base_uri": "https://localhost:8080/"
        },
        "id": "9YdmkCAtL5Ct",
        "outputId": "b09716e7-d7de-46c2-d03c-f164c852fbee"
      },
      "source": [
        "#FORMA 2:\n",
        "frutas = ['manzana', \"banano\", \"\"\"cereza\"\"\"]\n",
        "for posicion, fruta in enumerate(frutas):\n",
        "\tprint(\"La fruta seleccionada en la posición {} es: {}\".format(posicion,fruta)) # .format(var1,var2,...) se usa después del final de la cadena para dar formato"
      ],
      "execution_count": null,
      "outputs": [
        {
          "output_type": "stream",
          "text": [
            "La fruta seleccionada en la posición 0 es: manzana\n",
            "La fruta seleccionada en la posición 1 es: banano\n",
            "La fruta seleccionada en la posición 2 es: cereza\n"
          ],
          "name": "stdout"
        }
      ]
    },
    {
      "cell_type": "markdown",
      "metadata": {
        "id": "ZTQbgfLHHA0j"
      },
      "source": [
        "**Ejemplo (similar al anterior) manejando listas y un ciclo for con range():**"
      ]
    },
    {
      "cell_type": "code",
      "metadata": {
        "colab": {
          "base_uri": "https://localhost:8080/"
        },
        "id": "_Fflgqc1EKDs",
        "outputId": "e2b4c0b5-6992-4233-ec1b-090befc494b1"
      },
      "source": [
        "#frutas = ['manzana', \"banano\", '''cereza'''] # para las cadenas (string )se puede usar comillas simples o dobles o triples simples o triples dobles\n",
        "frutas = ['manzana', \"banano\", \"\"\"cereza\"\"\"]\n",
        "print(frutas[0])\n",
        "print(frutas[1])\n",
        "print(frutas[2])\n",
        "print(len(frutas)) # tamaño de la lista (número de elementos, recordar que la posición va desde 0 hasta número de elementos menos 1)\n",
        "\n",
        "for fruta in range(0, len(frutas)): # range va por defecto desde 0 hasta n, recorriendo así: 0, 1, 2, 3, ..., n\n",
        "\tprint(\"La fruta seleccionada en la posición \", fruta, \"es: \", frutas[fruta])"
      ],
      "execution_count": null,
      "outputs": [
        {
          "output_type": "stream",
          "text": [
            "manzana\n",
            "banano\n",
            "cereza\n",
            "3\n",
            "La fruta seleccionada en la posición  0 es:  manzana\n",
            "La fruta seleccionada en la posición  1 es:  banano\n",
            "La fruta seleccionada en la posición  2 es:  cereza\n"
          ],
          "name": "stdout"
        }
      ]
    },
    {
      "cell_type": "markdown",
      "metadata": {
        "id": "mTGz1dKWKI2W"
      },
      "source": [
        "Comentarios multilinea se pueden hacer entre triples comillas simples('''Comentarios multilinea''') o entre triples comillas dobles(\"\"\"Comentarios multilinea\"\"\"):"
      ]
    },
    {
      "cell_type": "code",
      "metadata": {
        "colab": {
          "base_uri": "https://localhost:8080/"
        },
        "id": "Wkvhv032JwpX",
        "outputId": "b7931847-b28f-4c68-fbd5-18179f914c97"
      },
      "source": [
        "print(5)\n",
        "\n",
        "'''\n",
        "for fruta in range(0, len(frutas)): # range va por defecto desde 0 hasta n, recorriendo así: 0, 1, 2, 3, ..., n\n",
        "\tprint(\"La fruta seleccionada en la posición \", fruta, \"es: \", frutas[fruta])\n",
        "'''\n",
        "\n",
        "print(6)\n",
        "\n",
        "\"\"\"for fruta in range(0, len(frutas)): # range va por defecto desde 0 hasta n, recorriendo así: 0, 1, 2, 3, ..., n\n",
        "\tprint(\"La fruta seleccionada en la posición \", fruta, \"es: \", frutas[fruta])\"\"\"\n",
        "\n",
        "print(7)"
      ],
      "execution_count": null,
      "outputs": [
        {
          "output_type": "stream",
          "text": [
            "5\n",
            "6\n",
            "7\n"
          ],
          "name": "stdout"
        }
      ]
    },
    {
      "cell_type": "markdown",
      "metadata": {
        "id": "6RUHOsbLHKSU"
      },
      "source": [
        "**El mismo anterior pero usando enumerate():**"
      ]
    },
    {
      "cell_type": "code",
      "metadata": {
        "colab": {
          "base_uri": "https://localhost:8080/"
        },
        "id": "ZAu7ZtlYHJwE",
        "outputId": "ae8b72f5-7993-4914-b33c-8799c7465ea7"
      },
      "source": [
        "frutas = ['manzana', \"banano\", \"\"\"cereza\"\"\"]\n",
        "for posicion, fruta in enumerate(frutas):\n",
        "\tprint(\"La fruta seleccionada en la posición\",posicion,\"es:\",fruta)\n"
      ],
      "execution_count": null,
      "outputs": [
        {
          "output_type": "stream",
          "text": [
            "La fruta seleccionada en la posición 0 es: manzana\n",
            "La fruta seleccionada en la posición 1 es: banano\n",
            "La fruta seleccionada en la posición 2 es: cereza\n"
          ],
          "name": "stdout"
        }
      ]
    },
    {
      "cell_type": "markdown",
      "metadata": {
        "id": "VLp7XV4T-Jdm"
      },
      "source": [
        "# Listas:"
      ]
    },
    {
      "cell_type": "code",
      "metadata": {
        "id": "iohfHZfVCWVs"
      },
      "source": [
        "#fruits = ['apple', 'banana', 'cherry', 'pineapple'] # comillas simples\n",
        "#fruits = [\"apple\", \"banana\", \"cherry\", \"pineapple\"] # comillas dobles\n",
        "#fruits = ['''apple''', '''banana''', '''cherry''', '''pineapple'''] # comillas triples simples\n",
        "#fruits = [\"\"\"apple\"\"\", \"\"\"banana\"\"\", \"\"\"cherry\"\"\", \"\"\"pineapple\"\"\"] # comillas triples dobles\n",
        "fruits = ['apple', \"banana\", '''cherry''', \"\"\"pineapple\"\"\"] # cualquier combinación de comillas"
      ],
      "execution_count": null,
      "outputs": []
    },
    {
      "cell_type": "code",
      "metadata": {
        "colab": {
          "base_uri": "https://localhost:8080/"
        },
        "id": "nC2e_akwCoPs",
        "outputId": "aaa0c98b-7691-4313-b0dd-0f2225849089"
      },
      "source": [
        "fruits"
      ],
      "execution_count": null,
      "outputs": [
        {
          "output_type": "execute_result",
          "data": {
            "text/plain": [
              "['apple', 'banana', 'cherry', 'pineapple']"
            ]
          },
          "metadata": {
            "tags": []
          },
          "execution_count": 4
        }
      ]
    },
    {
      "cell_type": "code",
      "metadata": {
        "colab": {
          "base_uri": "https://localhost:8080/"
        },
        "id": "53gd2H2cDoAL",
        "outputId": "47f16080-316c-4414-806f-8421889768a9"
      },
      "source": [
        "print(fruits)"
      ],
      "execution_count": null,
      "outputs": [
        {
          "output_type": "stream",
          "text": [
            "['apple', 'banana', 'cherry', 'pineapple']\n"
          ],
          "name": "stdout"
        }
      ]
    },
    {
      "cell_type": "code",
      "metadata": {
        "colab": {
          "base_uri": "https://localhost:8080/",
          "height": 35
        },
        "id": "p61usVTTDslM",
        "outputId": "0e64b331-1018-497c-85f1-633ef9d55bd1"
      },
      "source": [
        "fruits[0]"
      ],
      "execution_count": null,
      "outputs": [
        {
          "output_type": "execute_result",
          "data": {
            "application/vnd.google.colaboratory.intrinsic+json": {
              "type": "string"
            },
            "text/plain": [
              "'apple'"
            ]
          },
          "metadata": {
            "tags": []
          },
          "execution_count": 6
        }
      ]
    },
    {
      "cell_type": "code",
      "metadata": {
        "colab": {
          "base_uri": "https://localhost:8080/"
        },
        "id": "DhbwXvcvDxmZ",
        "outputId": "44957ab0-4815-4956-fc0a-c5e185570053"
      },
      "source": [
        "print(fruits[0])"
      ],
      "execution_count": null,
      "outputs": [
        {
          "output_type": "stream",
          "text": [
            "apple\n"
          ],
          "name": "stdout"
        }
      ]
    },
    {
      "cell_type": "code",
      "metadata": {
        "colab": {
          "base_uri": "https://localhost:8080/"
        },
        "id": "nLwSkp-UD6az",
        "outputId": "87d43204-b08c-498f-94f2-aed341c29532"
      },
      "source": [
        "for fruit in fruits:\n",
        "  print(fruit)"
      ],
      "execution_count": null,
      "outputs": [
        {
          "output_type": "stream",
          "text": [
            "apple\n",
            "banana\n",
            "cherry\n",
            "pineapple\n"
          ],
          "name": "stdout"
        }
      ]
    },
    {
      "cell_type": "code",
      "metadata": {
        "colab": {
          "base_uri": "https://localhost:8080/"
        },
        "id": "okr5jfZTD5x1",
        "outputId": "f7852403-73d2-410d-dfed-05e47032a1cb"
      },
      "source": [
        "print(fruits[3])"
      ],
      "execution_count": null,
      "outputs": [
        {
          "output_type": "stream",
          "text": [
            "pineapple\n"
          ],
          "name": "stdout"
        }
      ]
    },
    {
      "cell_type": "markdown",
      "metadata": {
        "id": "Nt7eFEMoEqIr"
      },
      "source": [
        " # Programa práctico (completo) con listas:\n",
        "\n",
        "Usando concretamente ***listas***, incluye todo lo visto hasta ahora:\n",
        "\n",
        " - Variables\n",
        " - Condicionales\n",
        " - Entrada y Salida\n",
        " - Ciclos\n",
        " - Funciones"
      ]
    },
    {
      "cell_type": "code",
      "metadata": {
        "colab": {
          "base_uri": "https://localhost:8080/",
          "height": 1000
        },
        "id": "iQK5EtH4Eqk-",
        "outputId": "a3b9be49-b09a-4b27-c953-0cfd9ad50bef"
      },
      "source": [
        "#Ejercicio práctico con listas.\n",
        "\"\"\"\n",
        "Manipulación de una lista\n",
        "1.- Capturar una lista\n",
        "2.- Mostrar una lista.\n",
        "3.- Agregar un elemento a una lista.\n",
        "4.- Eliminar un elemento de una lista\n",
        "5.- Modificar un elemento de una lista\n",
        "6.- Salir\n",
        "\"\"\" \n",
        "#Definiendo la función capturar.\n",
        "def capturar():#Captura n elementos en una lista.\n",
        "    global lista#Definimos variable global. \n",
        "    lista=[]#Definimos lista vacia.\n",
        "    print (\"Cuantos elementos va a tener la lista?\")\n",
        "    n=input()\n",
        "    n=int(n)\n",
        "    for i in range(0, n):# Le indicamos que inicia desde cero hasta n.\n",
        "        print(\"Ingrese el elemento del índice \", i)\n",
        "        elemento = input()#Cualquier tipo. Recuerden.\n",
        "        lista.insert(i, elemento)#Necesitamos el índice y el elemento.\n",
        "#Definiendo la función mostrar\n",
        "def mostrar():#Muestra la lista capturada.\n",
        "    print(lista)\n",
        "#Definiendo la función agregar.\n",
        "def agregar():\n",
        "    print(\"Ingresa el elemento que desea agregar: \")\n",
        "    elemento=input()\n",
        "    print(\"Ingrese el índice donde desea agregarlo. \")\n",
        "    indice = input()\n",
        "    indice = int(indice)\n",
        "    #Validamos. Evitamos insertar antes del cero\n",
        "    longitud=len(lista)#Devuelve la longitud de una cadena de texto.\n",
        "    longitud=int(longitud)\n",
        "    if(indice>longitud or indice < 0):#Quiere decir. < que cero y mayor que len.\n",
        "        print(\"El índice debe estar entre 0 y \", longitud)\n",
        "    else:\n",
        "        lista.insert(indice,elemento)\n",
        "        print(\"elemento Agregado.\")\n",
        "#Definfiendo la función eliminar.\n",
        "def eliminar():\n",
        "    print(\"Ingrese el índice del elemento que desea eliminar. \")\n",
        "    indice = input()\n",
        "    indice = int(indice)\n",
        "    longitud=len(lista)\n",
        "    longitud=int(longitud)\n",
        "    if(indice>longitud or indice < 0):\n",
        "        print(\"El índice debe estar entre 0 y \", longitud-1)\n",
        "    else:\n",
        "        del lista[indice]\n",
        "        print(\"elemento Eliminado.\")\n",
        "#Definiendo la función modificar.\n",
        "def modificar():\n",
        "    print(\"Ingrese el índice del elemento que desea modificar. \")\n",
        "    indice = input()\n",
        "    indice = int(indice)\n",
        "    print(\"Ingrese el nuevo valor del elemento.\")\n",
        "    elemento=input()\n",
        "    longitud=len(lista)\n",
        "    longitud=int(longitud)\n",
        "    if(indice>longitud or indice < 0):\n",
        "        print(\"El índice debe estar entre 0 y \", longitud-1)\n",
        "    else:\n",
        "        lista[indice]=elemento\n",
        "        print(\"elemento Modificado.\")\n",
        "#Definiendo a la función principal.\n",
        "def principal():\n",
        "    opcion=\"1\"\n",
        "    while (opcion!=6):\n",
        "        print(\"Manipulación de una lista\")\n",
        "        print(\"1.- Capturar una lista\")\n",
        "        print(\"2.- Mostrar una lista.\")\n",
        "        print(\"3.- Agregar un elemento a una lista.\")\n",
        "        print(\"4.- Eliminar un elemento de una lista\")\n",
        "        print(\"5.- Modificar un elemento de una lista.\")\n",
        "        print(\"6.- Salir.\")\n",
        "        print(\"Que deseas hacer?.\")\n",
        "        #Evaluando el valor de la opción.\n",
        "        opcion=input()\n",
        "        if (opcion==\"1\"):\n",
        "            capturar()\n",
        "        elif (opcion == \"2\"):\n",
        "            mostrar()\n",
        "        elif (opcion == \"3\"):\n",
        "            agregar()\n",
        "        elif (opcion == \"4\"):\n",
        "            eliminar()\n",
        "        elif (opcion == \"5\"):\n",
        "            modificar()\n",
        "        elif (opcion == \"6\"):\n",
        "            print(\"!Programa Terminado!.\")\n",
        "        else:\n",
        "            print(\"!Opción incorrecta!.\")\n",
        "print(\"Termino\")\n",
        "#Llamamos a la función principal.\n",
        "\n",
        "principal()"
      ],
      "execution_count": null,
      "outputs": [
        {
          "output_type": "stream",
          "text": [
            "Termino\n",
            "Manipulación de una lista\n",
            "1.- Capturar una lista\n",
            "2.- Mostrar una lista.\n",
            "3.- Agregar un elemento a una lista.\n",
            "4.- Eliminar un elemento de una lista\n",
            "5.- Modificar un elemento de una lista.\n",
            "6.- Salir.\n",
            "Que deseas hacer?.\n",
            "1\n",
            "Cuantos elementos va a tener la lista?\n",
            "10\n",
            "Ingrese el elemento del índice  0\n",
            "0\n",
            "Ingrese el elemento del índice  1\n",
            "1\n",
            "Ingrese el elemento del índice  2\n",
            "2\n",
            "Ingrese el elemento del índice  3\n",
            "3\n",
            "Ingrese el elemento del índice  4\n",
            "4\n",
            "Ingrese el elemento del índice  5\n",
            "5\n",
            "Ingrese el elemento del índice  6\n",
            "6\n",
            "Ingrese el elemento del índice  7\n",
            "7\n",
            "Ingrese el elemento del índice  8\n",
            "8\n",
            "Ingrese el elemento del índice  9\n",
            "9\n",
            "Manipulación de una lista\n",
            "1.- Capturar una lista\n",
            "2.- Mostrar una lista.\n",
            "3.- Agregar un elemento a una lista.\n",
            "4.- Eliminar un elemento de una lista\n",
            "5.- Modificar un elemento de una lista.\n",
            "6.- Salir.\n",
            "Que deseas hacer?.\n",
            "2\n",
            "['0', '1', '2', '3', '4', '5', '6', '7', '8', '9']\n",
            "Manipulación de una lista\n",
            "1.- Capturar una lista\n",
            "2.- Mostrar una lista.\n",
            "3.- Agregar un elemento a una lista.\n",
            "4.- Eliminar un elemento de una lista\n",
            "5.- Modificar un elemento de una lista.\n",
            "6.- Salir.\n",
            "Que deseas hacer?.\n",
            "3\n",
            "Ingresa el elemento que desea agregar: \n",
            "10\n",
            "Ingrese el índice donde desea agregarlo. \n",
            "10\n",
            "elemento Agregado.\n",
            "Manipulación de una lista\n",
            "1.- Capturar una lista\n",
            "2.- Mostrar una lista.\n",
            "3.- Agregar un elemento a una lista.\n",
            "4.- Eliminar un elemento de una lista\n",
            "5.- Modificar un elemento de una lista.\n",
            "6.- Salir.\n",
            "Que deseas hacer?.\n",
            "2\n",
            "['0', '1', '2', '3', '4', '5', '6', '7', '8', '9', '10']\n",
            "Manipulación de una lista\n",
            "1.- Capturar una lista\n",
            "2.- Mostrar una lista.\n",
            "3.- Agregar un elemento a una lista.\n",
            "4.- Eliminar un elemento de una lista\n",
            "5.- Modificar un elemento de una lista.\n",
            "6.- Salir.\n",
            "Que deseas hacer?.\n",
            "4\n",
            "Ingrese el índice del elemento que desea eliminar. \n",
            "10\n",
            "elemento Eliminado.\n",
            "Manipulación de una lista\n",
            "1.- Capturar una lista\n",
            "2.- Mostrar una lista.\n",
            "3.- Agregar un elemento a una lista.\n",
            "4.- Eliminar un elemento de una lista\n",
            "5.- Modificar un elemento de una lista.\n",
            "6.- Salir.\n",
            "Que deseas hacer?.\n",
            "2\n",
            "['0', '1', '2', '3', '4', '5', '6', '7', '8', '9']\n",
            "Manipulación de una lista\n",
            "1.- Capturar una lista\n",
            "2.- Mostrar una lista.\n",
            "3.- Agregar un elemento a una lista.\n",
            "4.- Eliminar un elemento de una lista\n",
            "5.- Modificar un elemento de una lista.\n",
            "6.- Salir.\n",
            "Que deseas hacer?.\n",
            "5\n",
            "Ingrese el índice del elemento que desea modificar. \n",
            "4\n",
            "Ingrese el nuevo valor del elemento.\n",
            "55\n",
            "elemento Modificado.\n",
            "Manipulación de una lista\n",
            "1.- Capturar una lista\n",
            "2.- Mostrar una lista.\n",
            "3.- Agregar un elemento a una lista.\n",
            "4.- Eliminar un elemento de una lista\n",
            "5.- Modificar un elemento de una lista.\n",
            "6.- Salir.\n",
            "Que deseas hacer?.\n",
            "2\n",
            "['0', '1', '2', '3', '55', '5', '6', '7', '8', '9']\n",
            "Manipulación de una lista\n",
            "1.- Capturar una lista\n",
            "2.- Mostrar una lista.\n",
            "3.- Agregar un elemento a una lista.\n",
            "4.- Eliminar un elemento de una lista\n",
            "5.- Modificar un elemento de una lista.\n",
            "6.- Salir.\n",
            "Que deseas hacer?.\n",
            "6\n",
            "!Programa Terminado!.\n",
            "Manipulación de una lista\n",
            "1.- Capturar una lista\n",
            "2.- Mostrar una lista.\n",
            "3.- Agregar un elemento a una lista.\n",
            "4.- Eliminar un elemento de una lista\n",
            "5.- Modificar un elemento de una lista.\n",
            "6.- Salir.\n",
            "Que deseas hacer?.\n"
          ],
          "name": "stdout"
        },
        {
          "output_type": "error",
          "ename": "KeyboardInterrupt",
          "evalue": "ignored",
          "traceback": [
            "\u001b[0;31m---------------------------------------------------------------------------\u001b[0m",
            "\u001b[0;31mKeyboardInterrupt\u001b[0m                         Traceback (most recent call last)",
            "\u001b[0;32m/usr/local/lib/python3.7/dist-packages/ipykernel/kernelbase.py\u001b[0m in \u001b[0;36m_input_request\u001b[0;34m(self, prompt, ident, parent, password)\u001b[0m\n\u001b[1;32m    728\u001b[0m             \u001b[0;32mtry\u001b[0m\u001b[0;34m:\u001b[0m\u001b[0;34m\u001b[0m\u001b[0;34m\u001b[0m\u001b[0m\n\u001b[0;32m--> 729\u001b[0;31m                 \u001b[0mident\u001b[0m\u001b[0;34m,\u001b[0m \u001b[0mreply\u001b[0m \u001b[0;34m=\u001b[0m \u001b[0mself\u001b[0m\u001b[0;34m.\u001b[0m\u001b[0msession\u001b[0m\u001b[0;34m.\u001b[0m\u001b[0mrecv\u001b[0m\u001b[0;34m(\u001b[0m\u001b[0mself\u001b[0m\u001b[0;34m.\u001b[0m\u001b[0mstdin_socket\u001b[0m\u001b[0;34m,\u001b[0m \u001b[0;36m0\u001b[0m\u001b[0;34m)\u001b[0m\u001b[0;34m\u001b[0m\u001b[0;34m\u001b[0m\u001b[0m\n\u001b[0m\u001b[1;32m    730\u001b[0m             \u001b[0;32mexcept\u001b[0m \u001b[0mException\u001b[0m\u001b[0;34m:\u001b[0m\u001b[0;34m\u001b[0m\u001b[0;34m\u001b[0m\u001b[0m\n",
            "\u001b[0;32m/usr/local/lib/python3.7/dist-packages/jupyter_client/session.py\u001b[0m in \u001b[0;36mrecv\u001b[0;34m(self, socket, mode, content, copy)\u001b[0m\n\u001b[1;32m    802\u001b[0m         \u001b[0;32mtry\u001b[0m\u001b[0;34m:\u001b[0m\u001b[0;34m\u001b[0m\u001b[0;34m\u001b[0m\u001b[0m\n\u001b[0;32m--> 803\u001b[0;31m             \u001b[0mmsg_list\u001b[0m \u001b[0;34m=\u001b[0m \u001b[0msocket\u001b[0m\u001b[0;34m.\u001b[0m\u001b[0mrecv_multipart\u001b[0m\u001b[0;34m(\u001b[0m\u001b[0mmode\u001b[0m\u001b[0;34m,\u001b[0m \u001b[0mcopy\u001b[0m\u001b[0;34m=\u001b[0m\u001b[0mcopy\u001b[0m\u001b[0;34m)\u001b[0m\u001b[0;34m\u001b[0m\u001b[0;34m\u001b[0m\u001b[0m\n\u001b[0m\u001b[1;32m    804\u001b[0m         \u001b[0;32mexcept\u001b[0m \u001b[0mzmq\u001b[0m\u001b[0;34m.\u001b[0m\u001b[0mZMQError\u001b[0m \u001b[0;32mas\u001b[0m \u001b[0me\u001b[0m\u001b[0;34m:\u001b[0m\u001b[0;34m\u001b[0m\u001b[0;34m\u001b[0m\u001b[0m\n",
            "\u001b[0;32m/usr/local/lib/python3.7/dist-packages/zmq/sugar/socket.py\u001b[0m in \u001b[0;36mrecv_multipart\u001b[0;34m(self, flags, copy, track)\u001b[0m\n\u001b[1;32m    582\u001b[0m         \"\"\"\n\u001b[0;32m--> 583\u001b[0;31m         \u001b[0mparts\u001b[0m \u001b[0;34m=\u001b[0m \u001b[0;34m[\u001b[0m\u001b[0mself\u001b[0m\u001b[0;34m.\u001b[0m\u001b[0mrecv\u001b[0m\u001b[0;34m(\u001b[0m\u001b[0mflags\u001b[0m\u001b[0;34m,\u001b[0m \u001b[0mcopy\u001b[0m\u001b[0;34m=\u001b[0m\u001b[0mcopy\u001b[0m\u001b[0;34m,\u001b[0m \u001b[0mtrack\u001b[0m\u001b[0;34m=\u001b[0m\u001b[0mtrack\u001b[0m\u001b[0;34m)\u001b[0m\u001b[0;34m]\u001b[0m\u001b[0;34m\u001b[0m\u001b[0;34m\u001b[0m\u001b[0m\n\u001b[0m\u001b[1;32m    584\u001b[0m         \u001b[0;31m# have first part already, only loop while more to receive\u001b[0m\u001b[0;34m\u001b[0m\u001b[0;34m\u001b[0m\u001b[0;34m\u001b[0m\u001b[0m\n",
            "\u001b[0;32mzmq/backend/cython/socket.pyx\u001b[0m in \u001b[0;36mzmq.backend.cython.socket.Socket.recv\u001b[0;34m()\u001b[0m\n",
            "\u001b[0;32mzmq/backend/cython/socket.pyx\u001b[0m in \u001b[0;36mzmq.backend.cython.socket.Socket.recv\u001b[0;34m()\u001b[0m\n",
            "\u001b[0;32mzmq/backend/cython/socket.pyx\u001b[0m in \u001b[0;36mzmq.backend.cython.socket._recv_copy\u001b[0;34m()\u001b[0m\n",
            "\u001b[0;32m/usr/local/lib/python3.7/dist-packages/zmq/backend/cython/checkrc.pxd\u001b[0m in \u001b[0;36mzmq.backend.cython.checkrc._check_rc\u001b[0;34m()\u001b[0m\n",
            "\u001b[0;31mKeyboardInterrupt\u001b[0m: ",
            "\nDuring handling of the above exception, another exception occurred:\n",
            "\u001b[0;31mKeyboardInterrupt\u001b[0m                         Traceback (most recent call last)",
            "\u001b[0;32m<ipython-input-1-4afb1d3d8e6c>\u001b[0m in \u001b[0;36m<module>\u001b[0;34m()\u001b[0m\n\u001b[1;32m     95\u001b[0m \u001b[0;31m#Llamamos a la función principal.\u001b[0m\u001b[0;34m\u001b[0m\u001b[0;34m\u001b[0m\u001b[0;34m\u001b[0m\u001b[0m\n\u001b[1;32m     96\u001b[0m \u001b[0;34m\u001b[0m\u001b[0m\n\u001b[0;32m---> 97\u001b[0;31m \u001b[0mprincipal\u001b[0m\u001b[0;34m(\u001b[0m\u001b[0;34m)\u001b[0m\u001b[0;34m\u001b[0m\u001b[0;34m\u001b[0m\u001b[0m\n\u001b[0m",
            "\u001b[0;32m<ipython-input-1-4afb1d3d8e6c>\u001b[0m in \u001b[0;36mprincipal\u001b[0;34m()\u001b[0m\n\u001b[1;32m     77\u001b[0m         \u001b[0mprint\u001b[0m\u001b[0;34m(\u001b[0m\u001b[0;34m\"Que deseas hacer?.\"\u001b[0m\u001b[0;34m)\u001b[0m\u001b[0;34m\u001b[0m\u001b[0;34m\u001b[0m\u001b[0m\n\u001b[1;32m     78\u001b[0m         \u001b[0;31m#Evaluando el valor de la opción.\u001b[0m\u001b[0;34m\u001b[0m\u001b[0;34m\u001b[0m\u001b[0;34m\u001b[0m\u001b[0m\n\u001b[0;32m---> 79\u001b[0;31m         \u001b[0mopcion\u001b[0m\u001b[0;34m=\u001b[0m\u001b[0minput\u001b[0m\u001b[0;34m(\u001b[0m\u001b[0;34m)\u001b[0m\u001b[0;34m\u001b[0m\u001b[0;34m\u001b[0m\u001b[0m\n\u001b[0m\u001b[1;32m     80\u001b[0m         \u001b[0;32mif\u001b[0m \u001b[0;34m(\u001b[0m\u001b[0mopcion\u001b[0m\u001b[0;34m==\u001b[0m\u001b[0;34m\"1\"\u001b[0m\u001b[0;34m)\u001b[0m\u001b[0;34m:\u001b[0m\u001b[0;34m\u001b[0m\u001b[0;34m\u001b[0m\u001b[0m\n\u001b[1;32m     81\u001b[0m             \u001b[0mcapturar\u001b[0m\u001b[0;34m(\u001b[0m\u001b[0;34m)\u001b[0m\u001b[0;34m\u001b[0m\u001b[0;34m\u001b[0m\u001b[0m\n",
            "\u001b[0;32m/usr/local/lib/python3.7/dist-packages/ipykernel/kernelbase.py\u001b[0m in \u001b[0;36mraw_input\u001b[0;34m(self, prompt)\u001b[0m\n\u001b[1;32m    702\u001b[0m             \u001b[0mself\u001b[0m\u001b[0;34m.\u001b[0m\u001b[0m_parent_ident\u001b[0m\u001b[0;34m,\u001b[0m\u001b[0;34m\u001b[0m\u001b[0;34m\u001b[0m\u001b[0m\n\u001b[1;32m    703\u001b[0m             \u001b[0mself\u001b[0m\u001b[0;34m.\u001b[0m\u001b[0m_parent_header\u001b[0m\u001b[0;34m,\u001b[0m\u001b[0;34m\u001b[0m\u001b[0;34m\u001b[0m\u001b[0m\n\u001b[0;32m--> 704\u001b[0;31m             \u001b[0mpassword\u001b[0m\u001b[0;34m=\u001b[0m\u001b[0;32mFalse\u001b[0m\u001b[0;34m,\u001b[0m\u001b[0;34m\u001b[0m\u001b[0;34m\u001b[0m\u001b[0m\n\u001b[0m\u001b[1;32m    705\u001b[0m         )\n\u001b[1;32m    706\u001b[0m \u001b[0;34m\u001b[0m\u001b[0m\n",
            "\u001b[0;32m/usr/local/lib/python3.7/dist-packages/ipykernel/kernelbase.py\u001b[0m in \u001b[0;36m_input_request\u001b[0;34m(self, prompt, ident, parent, password)\u001b[0m\n\u001b[1;32m    732\u001b[0m             \u001b[0;32mexcept\u001b[0m \u001b[0mKeyboardInterrupt\u001b[0m\u001b[0;34m:\u001b[0m\u001b[0;34m\u001b[0m\u001b[0;34m\u001b[0m\u001b[0m\n\u001b[1;32m    733\u001b[0m                 \u001b[0;31m# re-raise KeyboardInterrupt, to truncate traceback\u001b[0m\u001b[0;34m\u001b[0m\u001b[0;34m\u001b[0m\u001b[0;34m\u001b[0m\u001b[0m\n\u001b[0;32m--> 734\u001b[0;31m                 \u001b[0;32mraise\u001b[0m \u001b[0mKeyboardInterrupt\u001b[0m\u001b[0;34m\u001b[0m\u001b[0;34m\u001b[0m\u001b[0m\n\u001b[0m\u001b[1;32m    735\u001b[0m             \u001b[0;32melse\u001b[0m\u001b[0;34m:\u001b[0m\u001b[0;34m\u001b[0m\u001b[0;34m\u001b[0m\u001b[0m\n\u001b[1;32m    736\u001b[0m                 \u001b[0;32mbreak\u001b[0m\u001b[0;34m\u001b[0m\u001b[0;34m\u001b[0m\u001b[0m\n",
            "\u001b[0;31mKeyboardInterrupt\u001b[0m: "
          ]
        }
      ]
    },
    {
      "cell_type": "markdown",
      "metadata": {
        "id": "iLxtqiYnLtJ1"
      },
      "source": [
        "# Cadenas vs Estructuras de Datos (Listas vs Tuplas vs Diccionarios vs Conjuntos):\n",
        "\n",
        "- Cadenas: saludo=\"hi everybody\"\n",
        "\n",
        "- Listas: digitos_lista=[0,1,2,...,8,9]\n",
        "\n",
        "- Tuplas: digitos_tupla=(0,1,2,...,8,9)\n",
        "\n",
        "- Diccionarios: estudiantes_diccionario={2000:\"Andrés Escallón\", 2001:\"Berta Sánchez\", ... : ...,2009:\"Zulma Rey\"}\n",
        "\n",
        "- \"Diccionario = { clave1: valor1, clave2: valor2, clave3: valor3, ...., claveN: valorN }\"\n",
        "\n",
        "- Es un ejemplo de un conjunto (set) en Python:\n",
        " \n",
        "  figuras_geometricas = {'circulo', 'rectangulo', 'rombo' , 'triangulo'} \n",
        "\n",
        "**PARA MAYOR INFORMACIÓN (teoría/práctica) SOBRE CONJUNTOS, VISITAR:** https://recursospython.com/guias-y-manuales/conjuntos-sets/"
      ]
    },
    {
      "cell_type": "code",
      "metadata": {
        "colab": {
          "base_uri": "https://localhost:8080/"
        },
        "id": "0YMxNHwBRpkd",
        "outputId": "186b3819-5aaa-42b4-8cb6-219e7fb9fa84"
      },
      "source": [
        "saludo=\"hi everybody\"\n",
        "print(saludo)"
      ],
      "execution_count": null,
      "outputs": [
        {
          "output_type": "stream",
          "text": [
            "hi everybody\n"
          ],
          "name": "stdout"
        }
      ]
    },
    {
      "cell_type": "code",
      "metadata": {
        "colab": {
          "base_uri": "https://localhost:8080/",
          "height": 35
        },
        "id": "O8Za_PfcRtDI",
        "outputId": "f50b1f35-1fd7-4edd-ee7a-69ec507bdf95"
      },
      "source": [
        "saludo"
      ],
      "execution_count": null,
      "outputs": [
        {
          "output_type": "execute_result",
          "data": {
            "application/vnd.google.colaboratory.intrinsic+json": {
              "type": "string"
            },
            "text/plain": [
              "'hi everybody'"
            ]
          },
          "metadata": {
            "tags": []
          },
          "execution_count": 19
        }
      ]
    },
    {
      "cell_type": "code",
      "metadata": {
        "colab": {
          "base_uri": "https://localhost:8080/"
        },
        "id": "VaAKvYeILytf",
        "outputId": "9ef6f646-1c12-42b4-d405-9da3cb1e5b3e"
      },
      "source": [
        "digitos_lista=[0,1,2,...,8,9]\n",
        "print(digitos_lista)\n",
        "\n",
        "digitos_tupla=(0,1,2,...,8,9)\n",
        "print(digitos_tupla)\n",
        "\n",
        "estudiantes_diccionario={2000:\"Andrés Escallón\", 2001:\"Berta Sánchez\", ... : ... ,2009:\"Zulma Rey\"}\n",
        "print(estudiantes_diccionario)"
      ],
      "execution_count": null,
      "outputs": [
        {
          "output_type": "stream",
          "text": [
            "[0, 1, 2, Ellipsis, 8, 9]\n",
            "(0, 1, 2, Ellipsis, 8, 9)\n",
            "{2000: 'Andrés Escallón', 2001: 'Berta Sánchez', Ellipsis: Ellipsis, 2009: 'Zulma Rey'}\n"
          ],
          "name": "stdout"
        }
      ]
    },
    {
      "cell_type": "code",
      "metadata": {
        "id": "W2I6sxkV7THH"
      },
      "source": [
        "figuras_geometricas = {'circulo', 'rectangulo', 'rombo' , 'triangulo'} "
      ],
      "execution_count": null,
      "outputs": []
    },
    {
      "cell_type": "code",
      "metadata": {
        "colab": {
          "base_uri": "https://localhost:8080/"
        },
        "id": "65X2SWJQ7ZkN",
        "outputId": "0e81af6e-6cc2-4bb7-d674-bc0037b8d64c"
      },
      "source": [
        "figuras_geometricas"
      ],
      "execution_count": null,
      "outputs": [
        {
          "output_type": "execute_result",
          "data": {
            "text/plain": [
              "{'circulo', 'rectangulo', 'rombo', 'triangulo'}"
            ]
          },
          "metadata": {
            "tags": []
          },
          "execution_count": 2
        }
      ]
    },
    {
      "cell_type": "code",
      "metadata": {
        "colab": {
          "base_uri": "https://localhost:8080/"
        },
        "id": "AmaiMJyU740w",
        "outputId": "21e2ed8b-4eb1-4171-cdc4-5126400d43bc"
      },
      "source": [
        "figuras_geometricas"
      ],
      "execution_count": null,
      "outputs": [
        {
          "output_type": "execute_result",
          "data": {
            "text/plain": [
              "{'circulo', 'rectangulo', 'rombo', 'triangulo'}"
            ]
          },
          "metadata": {
            "tags": []
          },
          "execution_count": 4
        }
      ]
    },
    {
      "cell_type": "code",
      "metadata": {
        "colab": {
          "base_uri": "https://localhost:8080/"
        },
        "id": "YjvN9TIf7edd",
        "outputId": "4c3010ef-1f3b-48dc-8667-ead9883dfa58"
      },
      "source": [
        "print(figuras_geometricas)"
      ],
      "execution_count": null,
      "outputs": [
        {
          "output_type": "stream",
          "text": [
            "{'rombo', 'rectangulo', 'triangulo', 'circulo'}\n"
          ],
          "name": "stdout"
        }
      ]
    },
    {
      "cell_type": "code",
      "metadata": {
        "colab": {
          "base_uri": "https://localhost:8080/"
        },
        "id": "6S0_KKnZ78FD",
        "outputId": "56628c0b-2e07-483f-b3a7-d3b13d82ba48"
      },
      "source": [
        "print(figuras_geometricas)"
      ],
      "execution_count": null,
      "outputs": [
        {
          "output_type": "stream",
          "text": [
            "{'rombo', 'rectangulo', 'triangulo', 'circulo'}\n"
          ],
          "name": "stdout"
        }
      ]
    },
    {
      "cell_type": "code",
      "metadata": {
        "colab": {
          "base_uri": "https://localhost:8080/"
        },
        "id": "3lOiR6w47jns",
        "outputId": "038a1a83-8c45-4946-9287-58713db2fcc9"
      },
      "source": [
        "# EJEMPLO DE RECORRIDO DEL CONJUNTO ANTERIOR USANDO FOR:\n",
        "for figura_geometrica in figuras_geometricas:\n",
        "  print(\"Figura geométrica:\",figura_geometrica)"
      ],
      "execution_count": null,
      "outputs": [
        {
          "output_type": "stream",
          "text": [
            "Figura geométrica: rombo\n",
            "Figura geométrica: rectangulo\n",
            "Figura geométrica: triangulo\n",
            "Figura geométrica: circulo\n"
          ],
          "name": "stdout"
        }
      ]
    },
    {
      "cell_type": "markdown",
      "metadata": {
        "id": "JTSoM4mfFP3X"
      },
      "source": [
        "# CONJUNTOS (sets) EN PYTHON:\n"
      ]
    },
    {
      "cell_type": "code",
      "metadata": {
        "colab": {
          "base_uri": "https://localhost:8080/"
        },
        "id": "2TnwlUzHFU8J",
        "outputId": "dfb838ae-7eb7-4342-8191-2fffe68fe0dc"
      },
      "source": [
        "datos={2,3,4,5,6,1,2,3,4,4,5}                   \n",
        "print(type(datos))                              #Los sets son conjuntos de datos unicos. Si un dato se repite dentro de un set, el duplicado se elimina.\n",
        "print(datos)\n",
        "lista=['a','e','i','o','u','e','u']\n",
        "unicos=set(lista)                               #Asi se convierte una lista en set\n",
        "print(lista)\n",
        "print(unicos)\n",
        "vocales=set(\"aeiou\")\n",
        "print(vocales)                                  #No se garantiza orden.\n",
        "numeros=set(range(0,20,2))\n",
        "print(numeros)\n",
        "print()\n",
        "\n",
        "conjunto1={1,2,3,4,5}\n",
        "conjunto2={4,5,6,7,8}\n",
        "conjunto3=conjunto1.union(conjunto2)            #Juntar los dos sets en uno (tambien se usa |)\n",
        "print(conjunto3)\n",
        "conjunto4=conjunto1.difference(conjunto2)       #Solo muestra los exclusivos del conjunto1 (-)\n",
        "print(conjunto4)\n",
        "conjunto4=conjunto2.difference(conjunto1)       #Solo muestra los exclusivos del conjunto2 (-)\n",
        "print(conjunto4)\n",
        "conjunto5=conjunto1.intersection(conjunto2)     #Muestra la interseccion (los datos compartidos por ambos conjuntos) (&)\n",
        "print(conjunto5)\n",
        "conjunto6=conjunto1.symmetric_difference(conjunto2) #Solo muestra los exclusivos de cada conjunto, excluyendo los de la interseccion. (^)\n",
        "print(conjunto6)\n",
        "print()\n",
        "\n",
        "conjunto1.update([1,2,3,4,5,6,7,8,9])       #Agrega damos multiples dentro de una lista\n",
        "print(conjunto1)\n",
        "conjunto1.remove(7)                         #Elimina un dato. Si no esta, produce error.\n",
        "print(conjunto1)\n",
        "conjunto1.discard(7)                        #Elimina un dato. Si no esta, continua el programa.\n",
        "print(conjunto1)\n",
        "valor= conjunto1.pop()                      #Elimina un dato al azar. El valor de retorno es el dato eliminado.\n",
        "print(conjunto1)\n",
        "print(valor)\n",
        "print(len(conjunto1))                       #Len cuenta la cantidad de datos en el conjunto\n",
        "print(9 in conjunto1)                       #Booleano que verifica si el valor antes del in esta en el conjunto a la derecha del in\n",
        "print()\n",
        "\n",
        "\n",
        "datos={}                                    #Diccionarios son muy similares a los sets.\n",
        "datos['123']=321\n",
        "datos['789']=987                            #Los diccionarios tienen una clave, donde se almacenan valores.\n",
        "datos['456']=654                            \n",
        "print(datos)                                #La clave se divisa a la izquierda de los dos puntos. El valor a la derecha.\n",
        "for i in datos:\n",
        "    print(i,end=\" \")                        #Asi se imprimen los valores.\n",
        "    print(datos[i],end=\" \")                 #Asi se imprimen las claves"
      ],
      "execution_count": null,
      "outputs": [
        {
          "output_type": "stream",
          "text": [
            "<class 'set'>\n",
            "{1, 2, 3, 4, 5, 6}\n",
            "['a', 'e', 'i', 'o', 'u', 'e', 'u']\n",
            "{'i', 'o', 'u', 'e', 'a'}\n",
            "{'i', 'o', 'u', 'e', 'a'}\n",
            "{0, 2, 4, 6, 8, 10, 12, 14, 16, 18}\n",
            "\n",
            "{1, 2, 3, 4, 5, 6, 7, 8}\n",
            "{1, 2, 3}\n",
            "{8, 6, 7}\n",
            "{4, 5}\n",
            "{1, 2, 3, 6, 7, 8}\n",
            "\n",
            "{1, 2, 3, 4, 5, 6, 7, 8, 9}\n",
            "{1, 2, 3, 4, 5, 6, 8, 9}\n",
            "{1, 2, 3, 4, 5, 6, 8, 9}\n",
            "{2, 3, 4, 5, 6, 8, 9}\n",
            "1\n",
            "7\n",
            "True\n",
            "\n",
            "{'123': 321, '789': 987, '456': 654}\n",
            "123 321 789 987 456 654 "
          ],
          "name": "stdout"
        }
      ]
    },
    {
      "cell_type": "markdown",
      "metadata": {
        "id": "74ea6iG8bB2t"
      },
      "source": [
        "# MAS DE DICCIONARIOS EN PYTHON:"
      ]
    },
    {
      "cell_type": "code",
      "metadata": {
        "colab": {
          "base_uri": "https://localhost:8080/",
          "height": 273
        },
        "id": "d5UK5rE9a_tt",
        "outputId": "ee07b9af-5a8f-48ad-f4ab-4dbb148bbddd"
      },
      "source": [
        "#dict() --> me crea un diccionario sin elementos... ej:\n",
        "diccionario = dict()\n",
        "print(diccionario)\n",
        "#me imprime esto: \"{}\"\n",
        "\n",
        "#para agregar elementos a un dicionario se hace lo siguiente entre corchetes:\n",
        "#Esta línea crea un elemento asociando a la clave 'one' el valor “uno”. Si imprimimos el diccionario de nuevo, vamos a ver un par clave-valor con dos puntos entre la clave y el valor: \n",
        "diccionario['one'] = 'uno'\n",
        "print(diccionario)\n",
        "#si lo imprimo me muestra esto:\n",
        "#{'one': 'uno'}\n",
        "#asi se agregan varios elementos..y me imprime aleatorio\n",
        "diccionario = {'one' : 'uno', 'two' : 'dos', 'three' : 'tres'}\n",
        "print(diccionario)\n",
        "\"\"\"El orden de los pares clave-elemento no es el mismo. De hecho, si tu escribes este mismo ejemplo en tu computadora, \n",
        "podrías obtener un resultado diferente. En general, el orden de los elementos en un diccionario es impredecible. \n",
        "Pero ese no es un problema porque los elementos de un diccionario nunca son indexados con índices enteros. \n",
        "En vez de eso, utilizas las claves para encontrar los valores correspondientes: \n",
        "\"\"\"\n",
        "#los elementos de un diccionario nunca son indexados utilizando las claves para encontrar los valores correspondientes: \n",
        "print(diccionario['two'])\n",
        "#me imprime 'dos'\n",
        "#si imprimo un clave que no este en el dicionario me arroja 'keyerror'\n",
        "print(diccionario['four'])"
      ],
      "execution_count": null,
      "outputs": [
        {
          "output_type": "stream",
          "text": [
            "{}\n",
            "{'one': 'uno'}\n",
            "{'one': 'uno', 'two': 'dos', 'three': 'tres'}\n",
            "dos\n"
          ],
          "name": "stdout"
        },
        {
          "output_type": "error",
          "ename": "KeyError",
          "evalue": "ignored",
          "traceback": [
            "\u001b[0;31m---------------------------------------------------------------------------\u001b[0m",
            "\u001b[0;31mKeyError\u001b[0m                                  Traceback (most recent call last)",
            "\u001b[0;32m<ipython-input-8-bafadd41d730>\u001b[0m in \u001b[0;36m<module>\u001b[0;34m()\u001b[0m\n\u001b[1;32m     22\u001b[0m \u001b[0;31m#me imprime 'dos'\u001b[0m\u001b[0;34m\u001b[0m\u001b[0;34m\u001b[0m\u001b[0;34m\u001b[0m\u001b[0m\n\u001b[1;32m     23\u001b[0m \u001b[0;31m#si imprimo un clave que no este en el dicionario me arroja 'keyerror'\u001b[0m\u001b[0;34m\u001b[0m\u001b[0;34m\u001b[0m\u001b[0;34m\u001b[0m\u001b[0m\n\u001b[0;32m---> 24\u001b[0;31m \u001b[0mprint\u001b[0m\u001b[0;34m(\u001b[0m\u001b[0mdiccionario\u001b[0m\u001b[0;34m[\u001b[0m\u001b[0;34m'four'\u001b[0m\u001b[0;34m]\u001b[0m\u001b[0;34m)\u001b[0m\u001b[0;34m\u001b[0m\u001b[0;34m\u001b[0m\u001b[0m\n\u001b[0m",
            "\u001b[0;31mKeyError\u001b[0m: 'four'"
          ]
        }
      ]
    },
    {
      "cell_type": "code",
      "metadata": {
        "colab": {
          "base_uri": "https://localhost:8080/"
        },
        "id": "RqIvnPwfb4ZK",
        "outputId": "67b0d882-9406-48e2-f4c8-85e558932c45"
      },
      "source": [
        "contadores = {'chuck' : 1 , 'annie' : 42, 'jan' : 100}\n",
        "for clave in contadores:\n",
        "    print(clave, contadores[clave])\n",
        "\n",
        "print(\"\\n\")\n",
        "\n",
        "\n",
        "\n",
        "contadores = {'chuck' : 1 , 'annie' : 42, 'jan' : 100}\n",
        "for clave in contadores:\n",
        "    if contadores[clave] > 10:\n",
        "        print(clave, contadores[clave])\n",
        "\n",
        "\n",
        "\n",
        "print(\"\\n\")\n",
        "\n",
        "contadores = {'chuck' : 1 , 'annie' : 42, 'jan' : 100}\n",
        "lst = list(contadores.keys())\n",
        "print(lst) \n",
        "lst.sort()\n",
        "for clave in lst:\n",
        "    print(clave, contadores[clave])"
      ],
      "execution_count": null,
      "outputs": [
        {
          "output_type": "stream",
          "text": [
            "chuck 1\n",
            "annie 42\n",
            "jan 100\n",
            "\n",
            "\n",
            "annie 42\n",
            "jan 100\n",
            "\n",
            "\n",
            "['chuck', 'annie', 'jan']\n",
            "annie 42\n",
            "chuck 1\n",
            "jan 100\n"
          ],
          "name": "stdout"
        }
      ]
    },
    {
      "cell_type": "markdown",
      "metadata": {
        "id": "4PzF0xLPNegI"
      },
      "source": [
        "# Verificando Mutable vs Inmutable:"
      ]
    },
    {
      "cell_type": "code",
      "metadata": {
        "colab": {
          "base_uri": "https://localhost:8080/",
          "height": 273
        },
        "id": "1SmIqonRRw3c",
        "outputId": "e03df030-5281-424b-d227-2625997796cf"
      },
      "source": [
        "print(saludo)\n",
        "print(saludo[0])\n",
        "saludo[0]='p'\n",
        "print(saludo[0])\n",
        "print(saludo)"
      ],
      "execution_count": null,
      "outputs": [
        {
          "output_type": "stream",
          "text": [
            "hi everybody\n",
            "h\n"
          ],
          "name": "stdout"
        },
        {
          "output_type": "error",
          "ename": "TypeError",
          "evalue": "ignored",
          "traceback": [
            "\u001b[0;31m---------------------------------------------------------------------------\u001b[0m",
            "\u001b[0;31mTypeError\u001b[0m                                 Traceback (most recent call last)",
            "\u001b[0;32m<ipython-input-20-2a6d3c25bb82>\u001b[0m in \u001b[0;36m<module>\u001b[0;34m()\u001b[0m\n\u001b[1;32m      1\u001b[0m \u001b[0mprint\u001b[0m\u001b[0;34m(\u001b[0m\u001b[0msaludo\u001b[0m\u001b[0;34m)\u001b[0m\u001b[0;34m\u001b[0m\u001b[0;34m\u001b[0m\u001b[0m\n\u001b[1;32m      2\u001b[0m \u001b[0mprint\u001b[0m\u001b[0;34m(\u001b[0m\u001b[0msaludo\u001b[0m\u001b[0;34m[\u001b[0m\u001b[0;36m0\u001b[0m\u001b[0;34m]\u001b[0m\u001b[0;34m)\u001b[0m\u001b[0;34m\u001b[0m\u001b[0;34m\u001b[0m\u001b[0m\n\u001b[0;32m----> 3\u001b[0;31m \u001b[0msaludo\u001b[0m\u001b[0;34m[\u001b[0m\u001b[0;36m0\u001b[0m\u001b[0;34m]\u001b[0m\u001b[0;34m=\u001b[0m\u001b[0;34m'p'\u001b[0m\u001b[0;34m\u001b[0m\u001b[0;34m\u001b[0m\u001b[0m\n\u001b[0m\u001b[1;32m      4\u001b[0m \u001b[0mprint\u001b[0m\u001b[0;34m(\u001b[0m\u001b[0msaludo\u001b[0m\u001b[0;34m[\u001b[0m\u001b[0;36m0\u001b[0m\u001b[0;34m]\u001b[0m\u001b[0;34m)\u001b[0m\u001b[0;34m\u001b[0m\u001b[0;34m\u001b[0m\u001b[0m\n\u001b[1;32m      5\u001b[0m \u001b[0mprint\u001b[0m\u001b[0;34m(\u001b[0m\u001b[0msaludo\u001b[0m\u001b[0;34m)\u001b[0m\u001b[0;34m\u001b[0m\u001b[0;34m\u001b[0m\u001b[0m\n",
            "\u001b[0;31mTypeError\u001b[0m: 'str' object does not support item assignment"
          ]
        }
      ]
    },
    {
      "cell_type": "code",
      "metadata": {
        "colab": {
          "base_uri": "https://localhost:8080/"
        },
        "id": "WBEWMuv6MpSU",
        "outputId": "dcee335e-623c-4e86-d04f-020e71e50fec"
      },
      "source": [
        "print(digitos_lista)\n",
        "#digitos_lista[9]=99\n",
        "digitos_lista[-1]=99 # hace lo mismo que la linea anterior\n",
        "print(digitos_lista)"
      ],
      "execution_count": null,
      "outputs": [
        {
          "output_type": "stream",
          "text": [
            "[0, 1, 2, Ellipsis, 8, 9]\n",
            "[0, 1, 2, Ellipsis, 8, 99]\n"
          ],
          "name": "stdout"
        }
      ]
    },
    {
      "cell_type": "code",
      "metadata": {
        "colab": {
          "base_uri": "https://localhost:8080/",
          "height": 237
        },
        "id": "cROjLVhTOD78",
        "outputId": "8095a6f9-3c60-4f3e-a31e-c55b7917e151"
      },
      "source": [
        "print(digitos_tupla)\n",
        "#digitos_tupla[9]=99\n",
        "digitos_tupla[-1]=99 # hace lo mismo que la linea anterior\n",
        "print(digitos_tupla)"
      ],
      "execution_count": null,
      "outputs": [
        {
          "output_type": "stream",
          "text": [
            "(0, 1, 2, Ellipsis, 8, 9)\n"
          ],
          "name": "stdout"
        },
        {
          "output_type": "error",
          "ename": "TypeError",
          "evalue": "ignored",
          "traceback": [
            "\u001b[0;31m---------------------------------------------------------------------------\u001b[0m",
            "\u001b[0;31mTypeError\u001b[0m                                 Traceback (most recent call last)",
            "\u001b[0;32m<ipython-input-8-8129a2c339f5>\u001b[0m in \u001b[0;36m<module>\u001b[0;34m()\u001b[0m\n\u001b[1;32m      1\u001b[0m \u001b[0mprint\u001b[0m\u001b[0;34m(\u001b[0m\u001b[0mdigitos_tupla\u001b[0m\u001b[0;34m)\u001b[0m\u001b[0;34m\u001b[0m\u001b[0;34m\u001b[0m\u001b[0m\n\u001b[1;32m      2\u001b[0m \u001b[0;31m#digitos_tupla[9]=99\u001b[0m\u001b[0;34m\u001b[0m\u001b[0;34m\u001b[0m\u001b[0;34m\u001b[0m\u001b[0m\n\u001b[0;32m----> 3\u001b[0;31m \u001b[0mdigitos_tupla\u001b[0m\u001b[0;34m[\u001b[0m\u001b[0;34m-\u001b[0m\u001b[0;36m1\u001b[0m\u001b[0;34m]\u001b[0m\u001b[0;34m=\u001b[0m\u001b[0;36m99\u001b[0m \u001b[0;31m# hace lo mismo que la linea anterior\u001b[0m\u001b[0;34m\u001b[0m\u001b[0;34m\u001b[0m\u001b[0m\n\u001b[0m\u001b[1;32m      4\u001b[0m \u001b[0mprint\u001b[0m\u001b[0;34m(\u001b[0m\u001b[0mdigitos_tupla\u001b[0m\u001b[0;34m)\u001b[0m\u001b[0;34m\u001b[0m\u001b[0;34m\u001b[0m\u001b[0m\n",
            "\u001b[0;31mTypeError\u001b[0m: 'tuple' object does not support item assignment"
          ]
        }
      ]
    },
    {
      "cell_type": "code",
      "metadata": {
        "colab": {
          "base_uri": "https://localhost:8080/"
        },
        "id": "vDaM3bLHOiyK",
        "outputId": "ac55b250-3e42-409d-bce5-3abc58de743f"
      },
      "source": [
        "print(estudiantes_diccionario)\n",
        "estudiantes_diccionario[2009]=\"Vanessa Giraldo\"\n",
        "# ESTO FUNCIONA EN UN DICCIONARIO PORQUE SE CREA"
      ],
      "execution_count": null,
      "outputs": [
        {
          "output_type": "stream",
          "text": [
            "{2000: 'Andrés Escallón', 2001: 'Berta Sánchez', Ellipsis: Ellipsis, 2009: 'Zulma Rey'}\n",
            "{2000: 'Andrés Escallón', 2001: 'Berta Sánchez', Ellipsis: Ellipsis, 2009: 'Vanessa Giraldo'}\n"
          ],
          "name": "stdout"
        }
      ]
    },
    {
      "cell_type": "code",
      "metadata": {
        "colab": {
          "base_uri": "https://localhost:8080/",
          "height": 202
        },
        "id": "yXh9hJfXPgp_",
        "outputId": "e264e7de-f5af-4897-e612-c44e85f1b480"
      },
      "source": [
        "#ESTO NO FUNCIONA EN UN DICCIONARIO PORQUE NO ES SECUENCIAL EN LAS LLAVES COMO SI LO ES EN LOS INDICES DE: CADENAS, LISTAS, TUPLAS\n",
        "#No existe la llave -1 (por lo pronto)\n",
        "estudiantes_diccionario[-1]"
      ],
      "execution_count": null,
      "outputs": [
        {
          "output_type": "error",
          "ename": "KeyError",
          "evalue": "ignored",
          "traceback": [
            "\u001b[0;31m---------------------------------------------------------------------------\u001b[0m",
            "\u001b[0;31mKeyError\u001b[0m                                  Traceback (most recent call last)",
            "\u001b[0;32m<ipython-input-10-e87faa4bbe1f>\u001b[0m in \u001b[0;36m<module>\u001b[0;34m()\u001b[0m\n\u001b[1;32m      1\u001b[0m \u001b[0;31m#ESTO NO FUNCIONA EN UN DICCIONARIO PORQUE NO ES SECUENCIAL EN LAS LLAVES COMO SI LO ES EN LOS INDICES DE: CADENAS, LISTAS, TUPLAS\u001b[0m\u001b[0;34m\u001b[0m\u001b[0;34m\u001b[0m\u001b[0;34m\u001b[0m\u001b[0m\n\u001b[0;32m----> 2\u001b[0;31m \u001b[0mestudiantes_diccionario\u001b[0m\u001b[0;34m[\u001b[0m\u001b[0;34m-\u001b[0m\u001b[0;36m1\u001b[0m\u001b[0;34m]\u001b[0m\u001b[0;34m\u001b[0m\u001b[0;34m\u001b[0m\u001b[0m\n\u001b[0m",
            "\u001b[0;31mKeyError\u001b[0m: -1"
          ]
        }
      ]
    },
    {
      "cell_type": "code",
      "metadata": {
        "colab": {
          "base_uri": "https://localhost:8080/"
        },
        "id": "w81AH48uPusG",
        "outputId": "10f061cc-463a-412b-ee20-4b96ee29e5e7"
      },
      "source": [
        "print(estudiantes_diccionario)\n",
        "# ESTO SI FUNCIONA EN UN DICCIONARIO PORQUE SE CREA UNA NUEVA LLAVE:\n",
        "estudiantes_diccionario[\"-1\"]=\"No Name(NN)\" \n",
        "print(estudiantes_diccionario)"
      ],
      "execution_count": null,
      "outputs": [
        {
          "output_type": "stream",
          "text": [
            "{2000: 'Andrés Escallón', 2001: 'Berta Sánchez', Ellipsis: Ellipsis, 2009: 'Vanessa Giraldo'}\n",
            "{2000: 'Andrés Escallón', 2001: 'Berta Sánchez', Ellipsis: Ellipsis, 2009: 'Vanessa Giraldo', '-1': 'No Name(NN)'}\n"
          ],
          "name": "stdout"
        }
      ]
    },
    {
      "cell_type": "code",
      "metadata": {
        "colab": {
          "base_uri": "https://localhost:8080/",
          "height": 167
        },
        "id": "AB58ZXyPQj5t",
        "outputId": "af381e0e-27d8-4caa-d08a-762a83644a3e"
      },
      "source": [
        "estudiantes_diccionario[-1]"
      ],
      "execution_count": null,
      "outputs": [
        {
          "output_type": "error",
          "ename": "KeyError",
          "evalue": "ignored",
          "traceback": [
            "\u001b[0;31m---------------------------------------------------------------------------\u001b[0m",
            "\u001b[0;31mKeyError\u001b[0m                                  Traceback (most recent call last)",
            "\u001b[0;32m<ipython-input-12-c8c2f9b1966a>\u001b[0m in \u001b[0;36m<module>\u001b[0;34m()\u001b[0m\n\u001b[0;32m----> 1\u001b[0;31m \u001b[0mestudiantes_diccionario\u001b[0m\u001b[0;34m[\u001b[0m\u001b[0;34m-\u001b[0m\u001b[0;36m1\u001b[0m\u001b[0;34m]\u001b[0m\u001b[0;34m\u001b[0m\u001b[0;34m\u001b[0m\u001b[0m\n\u001b[0m",
            "\u001b[0;31mKeyError\u001b[0m: -1"
          ]
        }
      ]
    },
    {
      "cell_type": "code",
      "metadata": {
        "colab": {
          "base_uri": "https://localhost:8080/",
          "height": 35
        },
        "id": "fYSHS5GJQnN7",
        "outputId": "946e0f45-4758-410f-9a5a-6cb7e7388d75"
      },
      "source": [
        "estudiantes_diccionario['-1']"
      ],
      "execution_count": null,
      "outputs": [
        {
          "output_type": "execute_result",
          "data": {
            "application/vnd.google.colaboratory.intrinsic+json": {
              "type": "string"
            },
            "text/plain": [
              "'No Name(NN)'"
            ]
          },
          "metadata": {
            "tags": []
          },
          "execution_count": 13
        }
      ]
    },
    {
      "cell_type": "code",
      "metadata": {
        "colab": {
          "base_uri": "https://localhost:8080/"
        },
        "id": "FgRZ3BxQQzIz",
        "outputId": "678e5cb7-54a0-46f7-eeab-ad1cd81f3b54"
      },
      "source": [
        "print(estudiantes_diccionario['-1'])"
      ],
      "execution_count": null,
      "outputs": [
        {
          "output_type": "stream",
          "text": [
            "No Name(NN)\n"
          ],
          "name": "stdout"
        }
      ]
    },
    {
      "cell_type": "code",
      "metadata": {
        "colab": {
          "base_uri": "https://localhost:8080/"
        },
        "id": "gKPfNAvMRExu",
        "outputId": "922600ab-c669-42f7-d69a-8c2909c40a93"
      },
      "source": [
        "estudiantes_diccionario[Ellipsis]"
      ],
      "execution_count": null,
      "outputs": [
        {
          "output_type": "execute_result",
          "data": {
            "text/plain": [
              "Ellipsis"
            ]
          },
          "metadata": {
            "tags": []
          },
          "execution_count": 15
        }
      ]
    },
    {
      "cell_type": "code",
      "metadata": {
        "colab": {
          "base_uri": "https://localhost:8080/"
        },
        "id": "r8SYw1V1RS0b",
        "outputId": "2f75431b-1e60-48c5-bf60-906eb994cff1"
      },
      "source": [
        "Ellipsis # ES UNA CONSTANTE EN PYTHON (...)"
      ],
      "execution_count": null,
      "outputs": [
        {
          "output_type": "execute_result",
          "data": {
            "text/plain": [
              "Ellipsis"
            ]
          },
          "metadata": {
            "tags": []
          },
          "execution_count": 16
        }
      ]
    },
    {
      "cell_type": "code",
      "metadata": {
        "colab": {
          "base_uri": "https://localhost:8080/",
          "height": 166
        },
        "id": "fplPqe8fSXdP",
        "outputId": "e8b4a5ce-59f1-4e63-90e4-77807661d98d"
      },
      "source": [
        "estudiantes_diccionario['Andrés Escallón']"
      ],
      "execution_count": null,
      "outputs": [
        {
          "output_type": "error",
          "ename": "KeyError",
          "evalue": "ignored",
          "traceback": [
            "\u001b[0;31m---------------------------------------------------------------------------\u001b[0m",
            "\u001b[0;31mKeyError\u001b[0m                                  Traceback (most recent call last)",
            "\u001b[0;32m<ipython-input-21-dcb5a1097866>\u001b[0m in \u001b[0;36m<module>\u001b[0;34m()\u001b[0m\n\u001b[0;32m----> 1\u001b[0;31m \u001b[0mestudiantes_diccionario\u001b[0m\u001b[0;34m[\u001b[0m\u001b[0;34m'Andrés Escallón'\u001b[0m\u001b[0;34m]\u001b[0m\u001b[0;34m\u001b[0m\u001b[0;34m\u001b[0m\u001b[0m\n\u001b[0m",
            "\u001b[0;31mKeyError\u001b[0m: 'Andrés Escallón'"
          ]
        }
      ]
    },
    {
      "cell_type": "markdown",
      "metadata": {
        "id": "G-16t2QuSnPv"
      },
      "source": [
        "# Extrayendo los valores del diccionario por separado (llaves, valores):\n",
        "\n",
        "Debemos usar las funciones:\n",
        "\n",
        " - .keys()\n",
        " - .values()"
      ]
    },
    {
      "cell_type": "code",
      "metadata": {
        "colab": {
          "base_uri": "https://localhost:8080/"
        },
        "id": "JhnNkW2-S7c8",
        "outputId": "85e3cbc3-cbb3-419a-843a-f12485ffdbbe"
      },
      "source": [
        "estudiantes_diccionario.keys() # devuelve una lista de las llaves: [2000, 2001, Ellipsis, 2009, '-1']"
      ],
      "execution_count": null,
      "outputs": [
        {
          "output_type": "execute_result",
          "data": {
            "text/plain": [
              "dict_keys([2000, 2001, Ellipsis, 2009, '-1'])"
            ]
          },
          "metadata": {
            "tags": []
          },
          "execution_count": 22
        }
      ]
    },
    {
      "cell_type": "code",
      "metadata": {
        "colab": {
          "base_uri": "https://localhost:8080/"
        },
        "id": "vbg2I5m8TC6Q",
        "outputId": "cc9d16fb-7ef9-49c5-eab0-ec53418f6d6d"
      },
      "source": [
        "estudiantes_diccionario.values() # devuelve una lista de las llaves:['Andrés Escallón', 'Berta Sánchez', Ellipsis, 'Vanessa Giraldo', 'No Name(NN)']"
      ],
      "execution_count": null,
      "outputs": [
        {
          "output_type": "execute_result",
          "data": {
            "text/plain": [
              "dict_values(['Andrés Escallón', 'Berta Sánchez', Ellipsis, 'Vanessa Giraldo', 'No Name(NN)'])"
            ]
          },
          "metadata": {
            "tags": []
          },
          "execution_count": 23
        }
      ]
    },
    {
      "cell_type": "markdown",
      "metadata": {
        "id": "xAoFkIxPzR7X"
      },
      "source": [
        "# Ejemplo completo (con condicionales/ciclos/funciones, hasta tuplas y diccionarios):"
      ]
    },
    {
      "cell_type": "code",
      "metadata": {
        "colab": {
          "base_uri": "https://localhost:8080/"
        },
        "id": "pNM9hhOIzVHY",
        "outputId": "4959f8d9-3ee7-4c1d-a758-b6f5819d8d11"
      },
      "source": [
        "def cargar():\n",
        "    productos={}\n",
        "    continua=\"s\"\n",
        "    while continua==\"s\":\n",
        "        codigo=int(input(\"Ingrese el codigo del producto:\"))\n",
        "        descripcion=input(\"Ingrese la descripcion:\")\n",
        "        precio=float(input(\"Ingrese el precio:\"))\n",
        "        stock=int(input(\"Ingrese el stock actual:\"))\n",
        "        productos[codigo]=(descripcion,precio,stock)\n",
        "        print(productos)\n",
        "        continua=input(\"Desea cargar otro producto[s/n]?\")\n",
        "    return productos\n",
        "\n",
        "\n",
        "def imprimir(productos):\n",
        "    print(\"Listado completo de productos:\")\n",
        "    for codigo in productos:\n",
        "        print(codigo,productos[codigo][0],productos[codigo][1],productos[codigo][2])\n",
        "\n",
        "\n",
        "def consulta(productos):\n",
        "    codigo=int(input(\"Ingrese el codigo de articulo a consultar:\"))\n",
        "    if codigo in productos:\n",
        "        print(codigo,productos[codigo][0],productos[codigo][1],productos[codigo][2])\n",
        "    else:\n",
        "      print(\"No existe un producto con ese codigo\")    \n",
        "        \n",
        "\n",
        "def listado_stock_cero(productos):\n",
        "    print(\"Listado de articulos con stock en cero:\")\n",
        "    for codigo in productos:\n",
        "        if productos[codigo][2]==0:\n",
        "            print(codigo,productos[codigo][0],productos[codigo][1],productos[codigo][2])\n",
        "    else:   \n",
        "      print(\"No hay productos con stock 0\") \n",
        "\n",
        "\n",
        "\n",
        "# bloque principal\n",
        "\n",
        "productos=cargar()\n",
        "imprimir(productos)\n",
        "consulta(productos)\n",
        "listado_stock_cero(productos)\n"
      ],
      "execution_count": null,
      "outputs": [
        {
          "output_type": "stream",
          "text": [
            "Ingrese el codigo del producto:0\n",
            "Ingrese la descripcion:0\n",
            "Ingrese el precio:0\n",
            "Ingrese el stock actual:0\n",
            "{0: ('0', 0.0, 0)}\n",
            "Desea cargar otro producto[s/n]?s\n",
            "Ingrese el codigo del producto:1\n",
            "Ingrese la descripcion:2\n",
            "Ingrese el precio:3\n",
            "Ingrese el stock actual:4\n",
            "{0: ('0', 0.0, 0), 1: ('2', 3.0, 4)}\n",
            "Desea cargar otro producto[s/n]?n\n",
            "Listado completo de productos:\n",
            "0 0 0.0 0\n",
            "1 2 3.0 4\n",
            "Ingrese el codigo de articulo a consultar:1\n",
            "1 2 3.0 4\n",
            "Listado de articulos con stock en cero:\n",
            "0 0 0.0 0\n",
            "No hay productos con stock 0\n"
          ],
          "name": "stdout"
        }
      ]
    },
    {
      "cell_type": "markdown",
      "metadata": {
        "id": "lFkRJpH1G3Q7"
      },
      "source": [
        "# Ejemplo de namedtuple:"
      ]
    },
    {
      "cell_type": "code",
      "metadata": {
        "id": "NhAELuEwG2jG"
      },
      "source": [
        "from collections import namedtuple # pantilla para tuplas \n",
        "\n",
        "Rectangulo=namedtuple(\"Rectangulo\",['b','h']) # pantilla de Rectangulo (nuevo tipo de dato)"
      ],
      "execution_count": null,
      "outputs": []
    },
    {
      "cell_type": "code",
      "metadata": {
        "colab": {
          "base_uri": "https://localhost:8080/"
        },
        "id": "Py8TWjgfHiDN",
        "outputId": "4dfd6b17-48b2-4010-82ea-c7678a01ce92"
      },
      "source": [
        "type(Rectangulo)"
      ],
      "execution_count": null,
      "outputs": [
        {
          "output_type": "execute_result",
          "data": {
            "text/plain": [
              "type"
            ]
          },
          "metadata": {
            "tags": []
          },
          "execution_count": 6
        }
      ]
    },
    {
      "cell_type": "code",
      "metadata": {
        "id": "4Vx0At6AHUzz"
      },
      "source": [
        "# Materializando la plantilla(molde) para que sea una realidad:\n",
        "rectangulo1=Rectangulo(3,4)"
      ],
      "execution_count": null,
      "outputs": []
    },
    {
      "cell_type": "code",
      "metadata": {
        "colab": {
          "base_uri": "https://localhost:8080/"
        },
        "id": "x32_95GTH8WY",
        "outputId": "995deb14-4ae0-48f1-bc6b-412218e75ed3"
      },
      "source": [
        "type(rectangulo1)"
      ],
      "execution_count": null,
      "outputs": [
        {
          "output_type": "execute_result",
          "data": {
            "text/plain": [
              "__main__.Rectangulo"
            ]
          },
          "metadata": {
            "tags": []
          },
          "execution_count": 8
        }
      ]
    },
    {
      "cell_type": "code",
      "metadata": {
        "id": "tgZwL1UxIExQ"
      },
      "source": [
        "rectangulo2=(10,15)"
      ],
      "execution_count": null,
      "outputs": []
    },
    {
      "cell_type": "code",
      "metadata": {
        "id": "6TPczm70ILOq",
        "colab": {
          "base_uri": "https://localhost:8080/"
        },
        "outputId": "0036db88-c059-4694-b14a-81429fd7535f"
      },
      "source": [
        "type(rectangulo2)"
      ],
      "execution_count": null,
      "outputs": [
        {
          "output_type": "execute_result",
          "data": {
            "text/plain": [
              "tuple"
            ]
          },
          "metadata": {
            "tags": []
          },
          "execution_count": 10
        }
      ]
    },
    {
      "cell_type": "markdown",
      "metadata": {
        "id": "vtm_o3wJKMDZ"
      },
      "source": [
        "# Pilas vs Colas:"
      ]
    },
    {
      "cell_type": "markdown",
      "metadata": {
        "id": "iTVlP3Rc382D"
      },
      "source": [
        "\n",
        "mi_pila.pop() === mi_cola.Dequeue() # mi_cola[0].pop()\n",
        "\n",
        "\n",
        "mi_pila.push(x) === mi_cola.Enqueue(x)\n",
        "\n"
      ]
    },
    {
      "cell_type": "code",
      "metadata": {
        "id": "rLBe0l8Y36f_"
      },
      "source": [
        "# Cada beneficiario puede complementar esta información usando código en Python"
      ],
      "execution_count": null,
      "outputs": []
    },
    {
      "cell_type": "markdown",
      "metadata": {
        "id": "bEAO4zJFUgoJ"
      },
      "source": [
        "# JUEGO DE TRIQUI:"
      ]
    },
    {
      "cell_type": "code",
      "metadata": {
        "colab": {
          "base_uri": "https://localhost:8080/",
          "height": 902
        },
        "id": "MSSComBcUkz6",
        "outputId": "6b1cb095-5e09-498a-ea93-3dea10afe540"
      },
      "source": [
        "\"\"\"\n",
        "Para este juego vamos a usar un tablero de 3x3, en el cual el jugador,\n",
        "llámese \"X\" o \"O\" va a ingresar el número correspondiente al sitio en el cual\n",
        "desea poner su ficha. El tablero es el siguiente:\n",
        "\n",
        "| 1 | 2 | 3 |\n",
        "-------------\n",
        "| 4 | 5 | 6 |\n",
        "-------------\n",
        "| 7 | 8 | 9 |\n",
        "\"\"\"\n",
        "\n",
        "\n",
        "def formatear_tablero(juego) -> str:\n",
        "    formato_fila = '| {} | {} | {} |'  # formato de cada fila del tablero\n",
        "    bar = '-------------'  # línea divisoria\n",
        "    tablero = \"\\n\"  # inicializa el tablero en fin de linea (return)\n",
        "    tablero = tablero.join([bar, formato_fila.format(*juego[:3]), bar,\n",
        "                            formato_fila.format(*juego[3:6]), bar,\n",
        "                            formato_fila.format(*juego[6:]), bar])\n",
        "\n",
        "    # La funcion join concatena todos los elementos de la lista y los separa con el caracter \\n\n",
        "    return tablero\n",
        "\n",
        "\n",
        "def actualizar_movimiento(juego, jugada, jugador) -> str:\n",
        "    # Validación del tipo y el rango de la jugada\n",
        "    if not (jugada.isdigit() and int(jugada) in range(1, 10)):  # Condiciones que debe cumplir\n",
        "        print(f'Jugada no válida \"{jugada}\", Solo ingrese valores entre  1-9')\n",
        "        return juego  # El juego no cambia\n",
        "\n",
        "    # Validación de jugada permitida\n",
        "    numero_jugada = int(jugada)\n",
        "    if juego[numero_jugada - 1] in 'XO':  # Esta ocupada con otra jugada\n",
        "        print(f'La casilla \"{jugada}\" ya esta ocupada')\n",
        "        return juego  # El juego no cambia\n",
        "\n",
        "    # actualiza el juego con la nueva jugada\n",
        "    juego = juego[:numero_jugada - 1] + jugador + juego[numero_jugada:]\n",
        "    return juego\n",
        "\n",
        "\n",
        "def encontrar_ganador(juego) -> str:\n",
        "    # Opciones de ganar el juego representadas con tuplas\n",
        "    ganadores = ((0, 1, 2), (3, 4, 5), (6, 7, 8), (0, 3, 6), (1, 4, 7),\n",
        "                 (2, 5, 8), (0, 4, 8), (2, 4, 6))\n",
        "\n",
        "    for jugador in ('X', 'O'):  # Verificar por cada jugador\n",
        "        for i, j, k in ganadores:  # buscar por cada opción ganadora en la lista de ganadores\n",
        "            linea = (juego[i], juego[j], juego[k])  # obtiene una tupla de los simbolos en las posiciones\n",
        "            if linea == (jugador, jugador, jugador):  # compara si la tupla tiene el simbolo del jugador\n",
        "                return jugador\n",
        "    return None  # No hay ganador\n",
        "\n",
        "\n",
        "def jugar_triqui() -> None:\n",
        "    juego = \"123456789\"  # Inicia el tablero sin jugadas\n",
        "    jugador = 'X'  # Inicia el jugador X\n",
        "    while True:  # Ciclo infinito\n",
        "        print(formatear_tablero(juego))  # Dibuja el tablero\n",
        "        jugada = input(f'Jugador {jugador}, ¿Cual es la jugada? [q para terminar]: ')\n",
        "\n",
        "        if jugada == 'q':  # Se retira\n",
        "            print(\"Has perdido por W\")\n",
        "            break\n",
        "\n",
        "        juego = actualizar_movimiento(juego, jugada, jugador)  # actualiza el tablero\n",
        "        ganador = encontrar_ganador(juego)  # Busca al ganador\n",
        "\n",
        "        if ganador != None:  # hay un ganador\n",
        "            print(f\"{ganador} has ganado!\")\n",
        "            print(formatear_tablero(juego))\n",
        "            break\n",
        "\n",
        "        if jugador == 'X':  # Cambia el símbolo del jugador para la próxima jugada\n",
        "            jugador = 'O'\n",
        "        else:\n",
        "            jugador = 'X'\n",
        "\n",
        "# ====================================================================\n",
        "#   Algoritmo principal Punto de entrada a la aplicación\n",
        "# ===================================================================\n",
        "\n",
        "\n",
        "jugar_triqui()\n",
        "\"\"\"\n",
        "tupla = (0,1,2)\n",
        "print(type(tupla))\n",
        "i,j,k = tupla\n",
        "\n",
        "print(i)\n",
        "print(j)\n",
        "print(k)\n",
        "\n",
        "\n",
        "lista = [\"juan\",\"carlos\",\"miguel\",\"pedro\"]\n",
        "print(lista)\n",
        "lista = \"\\n\".join(lista)\n",
        "print(lista)\n",
        "\n",
        "\n",
        "\n",
        "formato_fila = \"| {} | {} | {} |\"\n",
        "linea = \"123456789\"\n",
        "bar = '-------------'\n",
        "print(bar)\n",
        "print(formato_fila.format(*linea[:3]))\n",
        "print(bar)\n",
        "print(formato_fila.format(*linea[3:6]))\n",
        "print(bar)\n",
        "print(formato_fila.format(*linea[6:]))\n",
        "print(bar)\n",
        "\"\"\""
      ],
      "execution_count": null,
      "outputs": [
        {
          "output_type": "stream",
          "text": [
            "-------------\n",
            "| 1 | 2 | 3 |\n",
            "-------------\n",
            "| 4 | 5 | 6 |\n",
            "-------------\n",
            "| 7 | 8 | 9 |\n",
            "-------------\n",
            "Jugador X, ¿Cual es la jugada? [q para terminar]: 1\n",
            "-------------\n",
            "| X | 2 | 3 |\n",
            "-------------\n",
            "| 4 | 5 | 6 |\n",
            "-------------\n",
            "| 7 | 8 | 9 |\n",
            "-------------\n",
            "Jugador O, ¿Cual es la jugada? [q para terminar]: 4\n",
            "-------------\n",
            "| X | 2 | 3 |\n",
            "-------------\n",
            "| O | 5 | 6 |\n",
            "-------------\n",
            "| 7 | 8 | 9 |\n",
            "-------------\n",
            "Jugador X, ¿Cual es la jugada? [q para terminar]: 2\n",
            "-------------\n",
            "| X | X | 3 |\n",
            "-------------\n",
            "| O | 5 | 6 |\n",
            "-------------\n",
            "| 7 | 8 | 9 |\n",
            "-------------\n",
            "Jugador O, ¿Cual es la jugada? [q para terminar]: 7\n",
            "-------------\n",
            "| X | X | 3 |\n",
            "-------------\n",
            "| O | 5 | 6 |\n",
            "-------------\n",
            "| O | 8 | 9 |\n",
            "-------------\n",
            "Jugador X, ¿Cual es la jugada? [q para terminar]: 3\n",
            "X has ganado!\n",
            "-------------\n",
            "| X | X | X |\n",
            "-------------\n",
            "| O | 5 | 6 |\n",
            "-------------\n",
            "| O | 8 | 9 |\n",
            "-------------\n"
          ],
          "name": "stdout"
        },
        {
          "output_type": "execute_result",
          "data": {
            "application/vnd.google.colaboratory.intrinsic+json": {
              "type": "string"
            },
            "text/plain": [
              "'\\ntupla = (0,1,2)\\nprint(type(tupla))\\ni,j,k = tupla\\n\\nprint(i)\\nprint(j)\\nprint(k)\\n\\n\\nlista = [\"juan\",\"carlos\",\"miguel\",\"pedro\"]\\nprint(lista)\\nlista = \"\\n\".join(lista)\\nprint(lista)\\n\\n\\n\\nformato_fila = \"| {} | {} | {} |\"\\nlinea = \"123456789\"\\nbar = \\'-------------\\'\\nprint(bar)\\nprint(formato_fila.format(*linea[:3]))\\nprint(bar)\\nprint(formato_fila.format(*linea[3:6]))\\nprint(bar)\\nprint(formato_fila.format(*linea[6:]))\\nprint(bar)\\n'"
            ]
          },
          "metadata": {
            "tags": []
          },
          "execution_count": 3
        }
      ]
    },
    {
      "cell_type": "markdown",
      "metadata": {
        "id": "NeoWhNe22lOx"
      },
      "source": [
        "# MATRICES EN PYTHON:\n",
        "\n",
        "Una matriz (M) es realmente una LISTA de listas, así:\n",
        "\n",
        "M = [ [ , , ... , ] , [ , , ... , ], ... , [ , , ... , ] ]\n",
        "\n",
        "Una **celda** (tipo Hoja de cálculo en Excel) es la *intersección* entre una fila(x) y una columna(y). \n",
        "\n",
        "Entonces: \n",
        "\n",
        "celda=M[fila][columna] = M[x][y] = M[i][j]"
      ]
    },
    {
      "cell_type": "markdown",
      "metadata": {
        "id": "4XpcBfMg3EDD"
      },
      "source": [
        "# Ejemplo de una matriz (recorrido por filas es el recorrido tradicional): "
      ]
    },
    {
      "cell_type": "code",
      "metadata": {
        "colab": {
          "base_uri": "https://localhost:8080/"
        },
        "id": "OsZ9YUN2NxWc",
        "outputId": "74d8dd7e-ad7b-4d22-9cb4-2ac24fcc7652"
      },
      "source": [
        "M=[[3,8,1],[-1,4,7],[3,2,0],[9,12,65]] \n",
        "for i in range(0,4): \n",
        "  for j in range(0,3): \n",
        "    print(M[i][j], end='\\t')    \n",
        "  print('\\n')"
      ],
      "execution_count": null,
      "outputs": [
        {
          "output_type": "stream",
          "text": [
            "3\t8\t1\t\n",
            "\n",
            "-1\t4\t7\t\n",
            "\n",
            "3\t2\t0\t\n",
            "\n",
            "9\t12\t65\t\n",
            "\n"
          ],
          "name": "stdout"
        }
      ]
    },
    {
      "cell_type": "code",
      "metadata": {
        "colab": {
          "base_uri": "https://localhost:8080/"
        },
        "id": "O-bRjbpy3N3m",
        "outputId": "a0c6fbde-8113-464d-efec-572dc8cdaff6"
      },
      "source": [
        "#M=[ [e1,e2,e3] , [ , , ] , [ , , ] ,..., [ , ,] ] # FORMATO GENERAL DE UNA MATRIZ\n",
        "# 4filas(horizontales_ejeX) x 3columnas(verticales_ejeY) = 12 elementos(valores) de la matriz\n",
        "M=[[3,8,1],[-1,4,7],[3,2,0],[9,12,65]] #M es una LISTA de listas: 4sublistas(filas) x 3elementos_de_cada_sublista(columnas) = 12\n",
        "for fila in range(0,4): #4 elementos (osea 4 filas):i==fila\n",
        "  for columna in range(0,3): # 3 elementos (osea 3 columnas):j==columna\n",
        "    print(M[fila][columna], end='\\t')# imprimo cada celda con tabulador para visualmente separar los números entre sí\n",
        "    #print(M[fila][columna],'\\t')# no coge el tabulador para separar los numeros\n",
        "    #print(M[fila][columna]) # lo que el print por defecto es imprimir con salto de línea (nueva lÍnea, es decir con \"enter\")\n",
        "  print('\\n')\n"
      ],
      "execution_count": null,
      "outputs": [
        {
          "output_type": "stream",
          "text": [
            "3\t8\t1\t\n",
            "\n",
            "-1\t4\t7\t\n",
            "\n",
            "3\t2\t0\t\n",
            "\n",
            "9\t12\t65\t\n",
            "\n"
          ],
          "name": "stdout"
        }
      ]
    },
    {
      "cell_type": "markdown",
      "metadata": {
        "id": "prvphJVqdfbN"
      },
      "source": [
        "# Tareas OPCIONALES de Matrices \n",
        "\n",
        "- Tarea 1 (accesando a los elementos de cada sublista, se obtienen las columnas): Pendiente solicitar a un estudiante el código para tal fin...\n",
        "\n",
        "- Tarea 2 (recorriendo la matriz de otras formas: diagonales, de abajo hacia arriba, de derecha a izquierda, al revpes, etc): Pendiente solicitar a un estudiante el/los código/s para tal fin..."
      ]
    },
    {
      "cell_type": "code",
      "metadata": {
        "id": "8JRU4hoQeLrB"
      },
      "source": [
        "'''\n",
        "PENDIENTE EL CÓDIGO: \n",
        "*Sugerencia Tarea 1: A medida que se va extrayendo la información de cada posición de las sublistas, \n",
        "entonces se va formando otra lista auxiliar que guarda la información de cada columna.\n",
        "\n",
        "*Sugerencia Tarea 2: usar su creatividad\n",
        "'''"
      ],
      "execution_count": null,
      "outputs": []
    },
    {
      "cell_type": "code",
      "metadata": {
        "colab": {
          "base_uri": "https://localhost:8080/"
        },
        "id": "9orxoFe8HIm2",
        "outputId": "bc04697f-062d-4deb-dbdc-1b2d5e3b1e8d"
      },
      "source": [
        "M #Python interpreta a la variable M como una LISTA de listas"
      ],
      "execution_count": null,
      "outputs": [
        {
          "output_type": "execute_result",
          "data": {
            "text/plain": [
              "[[3, 8, 1], [-1, 4, 7], [3, 2, 0], [9, 12, 65]]"
            ]
          },
          "metadata": {
            "tags": []
          },
          "execution_count": 17
        }
      ]
    },
    {
      "cell_type": "code",
      "metadata": {
        "colab": {
          "base_uri": "https://localhost:8080/"
        },
        "id": "YlryuNtGaECK",
        "outputId": "f8a8a6bf-7312-4a11-d681-8b75da831bf9"
      },
      "source": [
        "print(M) #Python muestra a M "
      ],
      "execution_count": null,
      "outputs": [
        {
          "output_type": "stream",
          "text": [
            "[[3, 8, 1], [-1, 4, 7], [3, 2, 0], [9, 12, 65]]\n"
          ],
          "name": "stdout"
        }
      ]
    },
    {
      "cell_type": "code",
      "metadata": {
        "colab": {
          "base_uri": "https://localhost:8080/"
        },
        "id": "Kt3QqT-ZaQ_M",
        "outputId": "378fba2c-7578-47fd-bd3a-395678d24226"
      },
      "source": [
        "M[1][1] # celda(1,1)"
      ],
      "execution_count": null,
      "outputs": [
        {
          "output_type": "execute_result",
          "data": {
            "text/plain": [
              "4"
            ]
          },
          "metadata": {
            "tags": []
          },
          "execution_count": 9
        }
      ]
    },
    {
      "cell_type": "code",
      "metadata": {
        "colab": {
          "base_uri": "https://localhost:8080/"
        },
        "id": "FP3JwJ_4aWZB",
        "outputId": "82f88bf0-f1a5-4d9b-904a-1bfce41d58b5"
      },
      "source": [
        "print(M[1][1]) # muestre la celda(1,1)"
      ],
      "execution_count": null,
      "outputs": [
        {
          "output_type": "stream",
          "text": [
            "4\n"
          ],
          "name": "stdout"
        }
      ]
    },
    {
      "cell_type": "code",
      "metadata": {
        "colab": {
          "base_uri": "https://localhost:8080/"
        },
        "id": "nJeUgFCbKgj1",
        "outputId": "cc1eb2b1-47bb-4aa7-e086-6193587b3c6f"
      },
      "source": [
        "M[1] # Retorna la lista (\"sublista\") en la posición 1 de la LISTA (de la externa): por defecto lo hace por filas (NO por columnas)"
      ],
      "execution_count": null,
      "outputs": [
        {
          "output_type": "execute_result",
          "data": {
            "text/plain": [
              "[-1, 4, 7]"
            ]
          },
          "metadata": {
            "tags": []
          },
          "execution_count": 3
        }
      ]
    },
    {
      "cell_type": "markdown",
      "metadata": {
        "id": "l41vO1hP3ORv"
      },
      "source": [
        "# Ejemplo de una matriz TRANSPUESTA (recorrido por columnas):\n",
        "\n",
        "Por definición de Algebra Lineal, una matriz transpuesta (MT) se obtiene intercambiando las filas por columnas de una matriz (M) conocida (ver ejemplo en el archivo de Excel que el Formador presentó en clase llamado:\"EJEMPLO DE MATRICES.xls\", disponible directamente aquí: https://drive.google.com/file/d/1f2ZcZaTjNddO2JYTlnZnZYULCiUX0DNI/view?usp=sharing)\n",
        "\n",
        "Pueden encontrar otros enlaces referentes a matrices en la lista de links opcionales:\n",
        "\n",
        "https://drive.google.com/drive/folders/1nEeSsvzoPKIYSMLeFeQ-CbTZ88zk1qov?usp=sharing\n",
        "\n"
      ]
    },
    {
      "cell_type": "code",
      "metadata": {
        "colab": {
          "base_uri": "https://localhost:8080/"
        },
        "id": "qFHgpIM8QPnu",
        "outputId": "b3993e12-b9c8-4544-bd8f-4b0271e2ffcf"
      },
      "source": [
        "# MATRIZ ORIGINAL:\n",
        "M #4*3"
      ],
      "execution_count": null,
      "outputs": [
        {
          "output_type": "execute_result",
          "data": {
            "text/plain": [
              "[[3, 8, 1], [-1, 4, 7], [3, 2, 0], [9, 12, 65]]"
            ]
          },
          "metadata": {
            "tags": []
          },
          "execution_count": 5
        }
      ]
    },
    {
      "cell_type": "code",
      "metadata": {
        "colab": {
          "base_uri": "https://localhost:8080/"
        },
        "id": "faIQrevXIP2T",
        "outputId": "0d506ec8-ee41-41d3-ac3c-17abdef90881"
      },
      "source": [
        "#DEJAR LOS FOR IGUALES PERO MODIFICAR EL NUMERO DE FILAS Y COLUMNAS RESULTADO DE \"INTERCAMBIARLAS\"\n",
        "for fila in range(0,3): #3 elemetos (osea 4 filas):i==fila\n",
        "  for columna in range(0,4): # 4 elementos (ose 3 columnas):j==columna\n",
        "    print(M[columna][fila], end='\\t') # Hago el intercambion en el print   \n",
        "  print('\\n')"
      ],
      "execution_count": null,
      "outputs": [
        {
          "output_type": "stream",
          "text": [
            "3\t-1\t3\t9\t\n",
            "\n",
            "8\t4\t2\t12\t\n",
            "\n",
            "1\t7\t0\t65\t\n",
            "\n"
          ],
          "name": "stdout"
        }
      ]
    },
    {
      "cell_type": "code",
      "metadata": {
        "colab": {
          "base_uri": "https://localhost:8080/"
        },
        "id": "fXB_rv4k3QJV",
        "outputId": "c016fea3-1367-420f-f4b5-d9670d09a7ce"
      },
      "source": [
        "#TRANSPUESTA (es verla \"al revés\", osea intercambiar filas por columnas)\n",
        "#PARTE DE LA ORIGINAL: M=[[3,8,1],[-1,4,7],[3,2,0],[9,12,65]] #4x3\n",
        "#PROCEDO A INTERCAMBIAR LOS CICLOS FOR\n",
        "for columna in range(0,3):\n",
        "  for fila in range(0,4):\n",
        "    print(M[fila][columna], end='\\t') # SE MUESTRA IGUAL PORQUE LA MATRIZ TIENE FILAS Y COLUMNAS EN ESE ORDEN\n",
        "  print('\\n')"
      ],
      "execution_count": null,
      "outputs": [
        {
          "output_type": "stream",
          "text": [
            "3\t-1\t3\t9\t\n",
            "\n",
            "8\t4\t2\t12\t\n",
            "\n",
            "1\t7\t0\t65\t\n",
            "\n"
          ],
          "name": "stdout"
        }
      ]
    },
    {
      "cell_type": "code",
      "metadata": {
        "colab": {
          "base_uri": "https://localhost:8080/"
        },
        "id": "pfFiZHXPGIH8",
        "outputId": "451097a2-c323-4614-ce9e-7c41739414fe"
      },
      "source": [
        "#Equivalente a la Matriz transpuerta MT:\n",
        "MT=[[3,-1,3,9],[8,4,2,12],[1,7,0,65]] #3x4(=4x3)= 12 valores\n",
        "print(MT)"
      ],
      "execution_count": null,
      "outputs": [
        {
          "output_type": "stream",
          "text": [
            "[[3, -1, 3, 9], [8, 4, 2, 12], [1, 7, 0, 65]]\n"
          ],
          "name": "stdout"
        }
      ]
    },
    {
      "cell_type": "code",
      "metadata": {
        "colab": {
          "base_uri": "https://localhost:8080/"
        },
        "id": "BaGMyqFfHfeE",
        "outputId": "a83fe47a-986b-4b88-d835-1efd022c499d"
      },
      "source": [
        "#COMPROBANDO EL RECORRIDO DE MT (por filas):3x4\n",
        "for i in range(0,3): #3 elemetos (osea 4 filas):i==fila\n",
        "  for j in range(0,4): # 4 elementos (ose 3 columnas):j==columna\n",
        "    print(MT[i][j], end='\\t') # mostrando MT    \n",
        "  print('\\n')"
      ],
      "execution_count": null,
      "outputs": [
        {
          "output_type": "stream",
          "text": [
            "3\t-1\t3\t9\t\n",
            "\n",
            "8\t4\t2\t12\t\n",
            "\n",
            "1\t7\t0\t65\t\n",
            "\n"
          ],
          "name": "stdout"
        }
      ]
    },
    {
      "cell_type": "code",
      "metadata": {
        "colab": {
          "base_uri": "https://localhost:8080/"
        },
        "id": "A5POcGMUIFrh",
        "outputId": "2f0a55d8-57e2-4339-bb90-800f0de4cc54"
      },
      "source": [
        "# TRANSPUESTA DE TRANSPUESTA (teniendo la MT, vuelvo a hacerle la operación transpuesta a MT, quedando MTT==M)\n",
        "for i in range(0,4): #3 elemetos (osea 4 filas):i==fila\n",
        "  for j in range(0,3): # 4 elementos (ose 3 columnas):j==columna\n",
        "    print(MT[j][i], end='\\t') # mostrando MT    \n",
        "  print('\\n')"
      ],
      "execution_count": null,
      "outputs": [
        {
          "output_type": "stream",
          "text": [
            "3\t8\t1\t\n",
            "\n",
            "-1\t4\t7\t\n",
            "\n",
            "3\t2\t0\t\n",
            "\n",
            "9\t12\t65\t\n",
            "\n"
          ],
          "name": "stdout"
        }
      ]
    },
    {
      "cell_type": "markdown",
      "metadata": {
        "id": "Qm88Q_3SCdaE"
      },
      "source": [
        "## Algunos otros ejemplos de matrices hechos por beneficiarios de Mision TIC 2022:"
      ]
    },
    {
      "cell_type": "markdown",
      "metadata": {
        "id": "_dHqc1PQCo0L"
      },
      "source": [
        "### Ejemplo matriz pedida al usuario y llenada de forma manual:"
      ]
    },
    {
      "cell_type": "code",
      "metadata": {
        "colab": {
          "base_uri": "https://localhost:8080/"
        },
        "id": "cvyWuTpQCoCc",
        "outputId": "75fac76a-efb4-4861-a487-111e55dba54f"
      },
      "source": [
        "filas = int(input(\"Ingrese el número de filas de la matriz: \"))\n",
        "columnas = int(input(\"Ingrese el número de columnas de la matriz: \"))\n",
        "matriz = []\n",
        "for m in range(filas):\n",
        "    matriz.append([])\n",
        "    for n in range(columnas):\n",
        "          \n",
        "        matriz[m].append(int(input(f\"Ingrese el valor de la columna {n} de la fila {m}: \")))\n",
        "print(matriz)"
      ],
      "execution_count": null,
      "outputs": [
        {
          "output_type": "stream",
          "text": [
            "Ingrese el número de filas de la matriz: 2\n",
            "Ingrese el número de columnas de la matriz: 2\n",
            "Ingrese el valor de la columna 0 de la fila 0: 1\n",
            "Ingrese el valor de la columna 1 de la fila 0: 2\n",
            "Ingrese el valor de la columna 0 de la fila 1: 3\n",
            "Ingrese el valor de la columna 1 de la fila 1: 4\n",
            "[[1, 2], [3, 4]]\n"
          ],
          "name": "stdout"
        }
      ]
    },
    {
      "cell_type": "markdown",
      "metadata": {
        "id": "B3TZSLUUCpuQ"
      },
      "source": [
        "### Ejemplo matriz pedida al usuario pero llenada de forma automática:"
      ]
    },
    {
      "cell_type": "code",
      "metadata": {
        "colab": {
          "base_uri": "https://localhost:8080/"
        },
        "id": "vtZQJY1NCnOY",
        "outputId": "acebab2c-bf34-4d36-e4dd-c08cf99ef385"
      },
      "source": [
        "from random import randint\n",
        "matriz = []             # se inicializa la lista matriz vacia\n",
        "numf = input(\"Ingresa numero de filas\\n-> \")\n",
        "numc = input(\"Ingresa numero de columnas\\n-> \")\n",
        "numf = int(numf)\n",
        "numc = int(numc)\n",
        "for fila in range(numf):   # se agregan 4 filas (elementos de la lista)\n",
        "    fila = []           # cada iteracion agraga una fila vacia\n",
        "    for columna in range(numc):    # se agregan 5 columnas por fila (posicion por fila)\n",
        "        fila.append(randint(1,100))     # se agregan numeros aleatorios a cada posicion\n",
        "    matriz.append(fila)         # se agregan todos los datos generados a la lista vacia \"matriz\"\n",
        "print(f\"Lista 'matriz' {matriz}\\n\")   # Imprime la lista de matriz\n",
        "print(\"Matriz multidimensional\")\n",
        "for i in matriz:\n",
        "    print(i)             # imprime la lista como matriz multidimensional\n",
        "print()"
      ],
      "execution_count": null,
      "outputs": [
        {
          "output_type": "stream",
          "text": [
            "Ingresa numero de filas\n",
            "-> 24\n",
            "Ingresa numero de columnas\n",
            "-> 8\n",
            "Lista 'matriz' [[51, 24, 14, 44, 49, 4, 91, 90], [35, 65, 92, 33, 25, 23, 3, 84], [100, 52, 77, 4, 38, 31, 40, 39], [75, 66, 99, 40, 86, 55, 17, 53], [70, 98, 50, 7, 50, 45, 30, 76], [99, 43, 23, 3, 88, 13, 59, 39], [22, 36, 53, 74, 21, 24, 89, 19], [98, 60, 1, 10, 40, 57, 47, 4], [70, 96, 30, 72, 88, 16, 1, 66], [70, 71, 34, 67, 84, 28, 76, 61], [70, 38, 73, 83, 74, 98, 29, 79], [67, 64, 63, 43, 13, 54, 75, 17], [16, 25, 6, 94, 74, 26, 75, 24], [71, 30, 84, 96, 94, 61, 95, 25], [85, 45, 63, 35, 97, 6, 25, 27], [32, 76, 59, 53, 16, 41, 2, 6], [64, 92, 99, 12, 36, 88, 61, 13], [28, 88, 31, 90, 22, 68, 77, 79], [18, 74, 75, 73, 74, 24, 44, 18], [65, 41, 23, 34, 6, 6, 80, 34], [89, 79, 82, 71, 30, 37, 59, 1], [82, 11, 80, 22, 72, 86, 28, 89], [30, 40, 58, 83, 14, 92, 76, 93], [55, 21, 50, 85, 83, 34, 52, 69]]\n",
            "\n",
            "Matriz multidimensional\n",
            "[51, 24, 14, 44, 49, 4, 91, 90]\n",
            "[35, 65, 92, 33, 25, 23, 3, 84]\n",
            "[100, 52, 77, 4, 38, 31, 40, 39]\n",
            "[75, 66, 99, 40, 86, 55, 17, 53]\n",
            "[70, 98, 50, 7, 50, 45, 30, 76]\n",
            "[99, 43, 23, 3, 88, 13, 59, 39]\n",
            "[22, 36, 53, 74, 21, 24, 89, 19]\n",
            "[98, 60, 1, 10, 40, 57, 47, 4]\n",
            "[70, 96, 30, 72, 88, 16, 1, 66]\n",
            "[70, 71, 34, 67, 84, 28, 76, 61]\n",
            "[70, 38, 73, 83, 74, 98, 29, 79]\n",
            "[67, 64, 63, 43, 13, 54, 75, 17]\n",
            "[16, 25, 6, 94, 74, 26, 75, 24]\n",
            "[71, 30, 84, 96, 94, 61, 95, 25]\n",
            "[85, 45, 63, 35, 97, 6, 25, 27]\n",
            "[32, 76, 59, 53, 16, 41, 2, 6]\n",
            "[64, 92, 99, 12, 36, 88, 61, 13]\n",
            "[28, 88, 31, 90, 22, 68, 77, 79]\n",
            "[18, 74, 75, 73, 74, 24, 44, 18]\n",
            "[65, 41, 23, 34, 6, 6, 80, 34]\n",
            "[89, 79, 82, 71, 30, 37, 59, 1]\n",
            "[82, 11, 80, 22, 72, 86, 28, 89]\n",
            "[30, 40, 58, 83, 14, 92, 76, 93]\n",
            "[55, 21, 50, 85, 83, 34, 52, 69]\n",
            "\n"
          ],
          "name": "stdout"
        }
      ]
    },
    {
      "cell_type": "markdown",
      "metadata": {
        "id": "J_hrmRcnKw75"
      },
      "source": [
        "# LISTAS (no usa numpy) VS ARREGLOS (de numpy):"
      ]
    },
    {
      "cell_type": "code",
      "metadata": {
        "colab": {
          "base_uri": "https://localhost:8080/"
        },
        "id": "QFlQaBp6K8aA",
        "outputId": "ef48a22f-d121-4905-e559-b8211bdd2a16"
      },
      "source": [
        "#listas(arreglo sin numpy) vs arreglos(con numpy)\n",
        "\n",
        "arreglo_sin_numpy = [2, 3, 5, 7, 11, 13, 7, 19, 23, 29, 31, 37, 41, 43, 47, 53, 59, 61, 67, 71, 73, 79, 83, 89, 97, 101]# ES UNA LISTA    \n",
        "print('arreglo_sin_numpy:',arreglo_sin_numpy)\n",
        "print('len=',len(arreglo_sin_numpy))\n",
        "print('sum=',sum(arreglo_sin_numpy))\n",
        "print('max=',max(arreglo_sin_numpy))\n",
        "print('min=',min(arreglo_sin_numpy))\n",
        "print('promedio (sin mean)=',sum(arreglo_sin_numpy)/len(arreglo_sin_numpy))\n",
        "#####################################################################\n",
        "print()\n",
        "#####################################################################\n",
        "\n",
        "import numpy as np # previamente en la terminal de VSC (pip install numpy) o directamente en Google Collab \n",
        "\n",
        "arreglo_con_numpy=np.array(arreglo_sin_numpy)\n",
        "print('arreglo_con_numpy:',arreglo_con_numpy)\n",
        "#print(arreglo_con_numpy.len()) #NO ESTÁ DEDIFINA DENTRO DE NUMPY, ENTONCES FUNCIONA PARA AMBOS CASOS (LISTAS Y ARREGLOS)\n",
        "print('len=',len(arreglo_con_numpy))\n",
        "print('sum=',arreglo_con_numpy.sum())\n",
        "print('max=',arreglo_con_numpy.max())\n",
        "print('min=',arreglo_con_numpy.min())\n",
        "print('promedio (con mean)=',arreglo_con_numpy.mean())\n"
      ],
      "execution_count": null,
      "outputs": [
        {
          "output_type": "stream",
          "text": [
            "arreglo_sin_numpy: [2, 3, 5, 7, 11, 13, 7, 19, 23, 29, 31, 37, 41, 43, 47, 53, 59, 61, 67, 71, 73, 79, 83, 89, 97, 101]\n",
            "len= 26\n",
            "sum= 1151\n",
            "max= 101\n",
            "min= 2\n",
            "promedio (sin mean)= 44.26923076923077\n",
            "\n",
            "arreglo_con_numpy: [  2   3   5   7  11  13   7  19  23  29  31  37  41  43  47  53  59  61\n",
            "  67  71  73  79  83  89  97 101]\n",
            "len= 26\n",
            "sum= 1151\n",
            "max= 101\n",
            "min= 2\n",
            "promedio (con mean)= 44.26923076923077\n"
          ],
          "name": "stdout"
        }
      ]
    },
    {
      "cell_type": "markdown",
      "metadata": {
        "id": "F5FKzTZJxxPi"
      },
      "source": [
        "## Ejemplo de operaciones con matrices usando numpy:"
      ]
    },
    {
      "cell_type": "code",
      "metadata": {
        "colab": {
          "base_uri": "https://localhost:8080/",
          "height": 70
        },
        "id": "Xz3Pg8Fvx7d4",
        "outputId": "fad5891b-f460-4cf1-d1de-d226f92aac7f"
      },
      "source": [
        "#SIN USAR NUMPY\n",
        "#import numpy as np\n",
        "matriz = [[2, 0, 5, 8], [1, 3, 7, 4], [6, 9, 0, 2]]\n",
        "print(matriz)\n",
        "print(matriz*(-2))# no arroja el resultado esperado\n",
        "#Sugerencias:\n",
        "#1. Hacerlo manualmente usando ciclos y verificando la operación por cada posición (opcional: estariamos REINVENTANDO LA RUEDA porque numpy YA LO HACE) \n",
        "#2. Usar numpy (deseado)\n",
        "\n",
        "'''\n",
        "#matriz_np = np.array(matriz)\n",
        "#print(matriz_np)\n",
        "#matriz_np_mult=matriz_np*(-2)\n",
        "#print(matriz_np_mult)\n",
        "'''"
      ],
      "execution_count": null,
      "outputs": [
        {
          "output_type": "stream",
          "text": [
            "[[2, 0, 5, 8], [1, 3, 7, 4], [6, 9, 0, 2]]\n",
            "[]\n"
          ],
          "name": "stdout"
        },
        {
          "output_type": "execute_result",
          "data": {
            "application/vnd.google.colaboratory.intrinsic+json": {
              "type": "string"
            },
            "text/plain": [
              "'\\n#matriz_np = np.array(matriz)\\n#print(matriz_np)\\n#matriz_np_mult=matriz_np*(-2)\\n#print(matriz_np_mult)\\n'"
            ]
          },
          "metadata": {
            "tags": []
          },
          "execution_count": 2
        }
      ]
    },
    {
      "cell_type": "code",
      "metadata": {
        "colab": {
          "base_uri": "https://localhost:8080/"
        },
        "id": "1X4ejwduyDQL",
        "outputId": "41d59fb9-490b-44b8-adee-c4b5dd87f8e2"
      },
      "source": [
        "#USANDO NUMPY\n",
        "import numpy as np\n",
        "matriz = [[2, 0, 5, 8], [1, 3, 7, 4], [6, 9, 0, 2]]\n",
        "print(matriz)\n",
        "print(matriz*(-2))# no arroja el resultado esperado\n",
        "#Sugerencias:\n",
        "#1. Hacerlo manualmente (opcional: estariamos REINVENTANDO LA RUEDA porque numpy YA LO HACE) \n",
        "#2. Usar numpy (deseado)\n",
        "matriz_np = np.array(matriz)\n",
        "print(matriz_np)\n",
        "matriz_np_mult=matriz_np*(-2)\n",
        "print(matriz_np_mult)"
      ],
      "execution_count": null,
      "outputs": [
        {
          "output_type": "stream",
          "text": [
            "[[2, 0, 5, 8], [1, 3, 7, 4], [6, 9, 0, 2]]\n",
            "[]\n",
            "[[2 0 5 8]\n",
            " [1 3 7 4]\n",
            " [6 9 0 2]]\n",
            "[[ -4   0 -10 -16]\n",
            " [ -2  -6 -14  -8]\n",
            " [-12 -18   0  -4]]\n"
          ],
          "name": "stdout"
        }
      ]
    },
    {
      "cell_type": "markdown",
      "metadata": {
        "id": "nbWA4LGfLAjw"
      },
      "source": [
        "# Multiplicación entre matrices (tradicional del Algebra Lineal) vs multiplicación entre matrices (posición por posición usando Numpy):\n",
        "\n",
        "*********************************************************\n",
        "- EJEMPLO DE INTERNET:\n",
        "\n",
        "Link:\n",
        "\n",
        "https://www.google.com/search?q=multiplicacion+entre+matrices&rlz=1C1SQJL_esCO916CO916&source=lnms&tbm=isch&sa=X&ved=2ahUKEwjIvtD65JTxAhVWRTABHWWfBJAQ_AUoAXoECAEQAw&biw=1024&bih=462&safe=active&ssui=on#imgrc=vL_agN3IqYQTcM\n",
        "\n",
        "- **Desde el punto de vista del Algebra Lineal (multiplicación entre matrices)**:\n",
        "\n",
        "(M_2x3)*(V_3x1)=R_2x1\n",
        "\n",
        "(ALGEBRA LINEAL:multiplicación tradicional de matrices):\n",
        "\n",
        "    1 2 3    1     1+4+9     14\n",
        "          *  2   =         =    \n",
        "    4 5 6    3     4+10+18   32\n",
        "\n",
        "\n",
        "********************************************************\n",
        "- EJEMPLO CON PYTHON USANDO LA LIBRERIA NUMPY:\n",
        "\n",
        "(NUMPY:multiplicación posición por posición):\n",
        "\n",
        "(M_2x3)*(V_1x3)=R_2x3\n",
        "\n",
        "    1 2 3            1   4   9\n",
        "          * 1 2 3 =            \n",
        "    4 5 6            4  10  18\n",
        "\n",
        "********************************************************\n",
        "\n",
        "**Para mayor info, visitar:**\n",
        "\n",
        "- https://programmerclick.com/article/3315718618/\n",
        "\n",
        "- https://towardsdatascience.com/how-do-you-use-numpy-scipy-and-sympy-to-solve-systems-of-linear-equations-9afed2c388af\n",
        "\n",
        "*Ver resultados, ejecutando el código python a continuación:*\n"
      ]
    },
    {
      "cell_type": "code",
      "metadata": {
        "colab": {
          "base_uri": "https://localhost:8080/"
        },
        "id": "sPQJP0dFN7Fr",
        "outputId": "a26a7756-82bd-4b4b-e85a-8cfaa65fbec9"
      },
      "source": [
        "#Usar np.matmul(M,V) para multiplicación tradicional entre matrices:\n",
        "M=np.array([[1,2,3],[4,5,6]])\n",
        "V=np.array([[1],[2],[3]])\n",
        "R=np.matmul(M,V)\n",
        "print(f\"{M}*{V}=\\n\\t{R}\")"
      ],
      "execution_count": null,
      "outputs": [
        {
          "output_type": "stream",
          "text": [
            "[[1 2 3]\n",
            " [4 5 6]]*[[1]\n",
            " [2]\n",
            " [3]]=\n",
            "\t[[14]\n",
            " [32]]\n"
          ],
          "name": "stdout"
        }
      ]
    },
    {
      "cell_type": "code",
      "metadata": {
        "colab": {
          "base_uri": "https://localhost:8080/"
        },
        "id": "uLDbWvp8MPvB",
        "outputId": "f43a0441-eae5-46d7-dbad-ad0abc334971"
      },
      "source": [
        "# Usar simplemente el operador * para hacer la multiplicación elemento a elemnto (M*V):\n",
        "M=np.array([[1,2,3],[4,5,6]])\n",
        "V=np.array([[1,2,3]])\n",
        "R=M*V\n",
        "print(f\"{M}*{V}=\\n\\t{R}\")"
      ],
      "execution_count": null,
      "outputs": [
        {
          "output_type": "stream",
          "text": [
            "[[1 2 3]\n",
            " [4 5 6]]*[[1 2 3]]=\n",
            "\t[[ 1  4  9]\n",
            " [ 4 10 18]]\n"
          ],
          "name": "stdout"
        }
      ]
    },
    {
      "cell_type": "markdown",
      "metadata": {
        "id": "jom7cDmBFHfy"
      },
      "source": [
        "# ARCHIVOS: "
      ]
    },
    {
      "cell_type": "markdown",
      "metadata": {
        "id": "H260Wqdp-5Kp"
      },
      "source": [
        "##### FORMAS PARA ABRIR('r'), SOBREESCRIBIR('w') Y MODIFICAR('a') ARCHIVOS (SIRVE PARA VSC, REPLIT Y GOOGLE COLLAB/DRIVE):"
      ]
    },
    {
      "cell_type": "code",
      "metadata": {
        "id": "EAH9E2H7FM5o",
        "colab": {
          "base_uri": "https://localhost:8080/"
        },
        "outputId": "247f3c35-a8f2-4d32-b4ab-2b0257f89a54"
      },
      "source": [
        "#FORMA 1:\n",
        "with open('./rostros.txt', 'r') as File:# función que abre el archivo y lo cierra automáticamente (está implícito la función close())\n",
        "  f = File.read()\n",
        "print(f)# imprimo el archivo línea a línea (sin usar el ciclo for)"
      ],
      "execution_count": null,
      "outputs": [
        {
          "output_type": "stream",
          "text": [
            "1 Este es el ejemplo del Formador para manejar archivos en Google Drive\n",
            "2 Este es el ejemplo del Formador para manejar archivos en Google Drive\n",
            "3 Este es el ejemplo del Formador para manejar archivos en Google Drive\n",
            ".\n",
            ".\n",
            ".\n",
            "\n"
          ],
          "name": "stdout"
        }
      ]
    },
    {
      "cell_type": "code",
      "metadata": {
        "colab": {
          "base_uri": "https://localhost:8080/"
        },
        "id": "fzkPpBjT-24B",
        "outputId": "c00a27db-00c7-45f1-fc18-c9fe79b57c0b"
      },
      "source": [
        "#FORMA 2:\n",
        "f=open(\"rostros.txt\")# por defecto está en modo lectura(\"r\"), aplica también para la forma 1 o si se desea se puede poner explícitamente cualquier modo. La ruta del archivo y el modo también pueden ir con comillas simples/dobles/tiples simples/triples dobles (como se aplica en cadenas)\n",
        "contenido=f.read()\n",
        "f.close()#open() solo lo abre, entonces hay que cerrarlo\n",
        "print(contenido)# imprimo el archivo línea a línea (sin usar el ciclo for)"
      ],
      "execution_count": null,
      "outputs": [
        {
          "output_type": "stream",
          "text": [
            "1 Este es el ejemplo del Formador para manejar archivos \n",
            "2 Este es el ejemplo del Formador para manejar archivos \n",
            "3 Este es el ejemplo del Formador para manejar archivos \n",
            ".\n",
            ".\n",
            ".\n",
            "\n"
          ],
          "name": "stdout"
        }
      ]
    },
    {
      "cell_type": "code",
      "metadata": {
        "colab": {
          "base_uri": "https://localhost:8080/"
        },
        "id": "fdr1crEQA_Iu",
        "outputId": "483768f0-c240-4a2e-c6d1-3d48d1c67c59"
      },
      "source": [
        "# Para poder cargar archivos desde Google Drive:\n",
        "#FORMA 1:\n",
        "\n",
        "#directamente en la unidad virtual y temporal(entorno de ejecución encendido)\n",
        "archivo_agregar = open('rostro.txt','a')# lo crea si no exite\n",
        "lista_palabras=['Andres0', 'Felipe1', 'Escallón2', 'Portilla3']\n",
        "for fila in lista_palabras:\n",
        "  archivo_agregar.write(fila+'\\n')\n",
        "archivo_agregar.close()\n",
        "\n",
        "f = open('rostro.txt', 'r')\n",
        "for linea in f:\n",
        "  print(linea)\n",
        "f.close()\n",
        "\n"
      ],
      "execution_count": null,
      "outputs": [
        {
          "output_type": "stream",
          "text": [
            "Andres0\n",
            "\n",
            "Felipe1\n",
            "\n",
            "Escallón2\n",
            "\n",
            "Portilla3\n",
            "\n"
          ],
          "name": "stdout"
        }
      ]
    },
    {
      "cell_type": "code",
      "metadata": {
        "id": "g1cSGN_DBpnI",
        "colab": {
          "base_uri": "https://localhost:8080/"
        },
        "outputId": "c8afd6c7-93b1-41a9-aa12-b93507beffdd"
      },
      "source": [
        "# Para poder cargar archivos desde Google Drive:\n",
        "#FORMA 2:\n",
        "#montando la unidad personal\n",
        "from google.colab import drive\n",
        "drive.mount('/content/drive', force_remount=True)\n",
        "\n",
        "f = open('/content/drive/MyDrive/sample_data/rostro.txt', 'r')\n",
        "for linea in f:\n",
        "  print(linea)\n",
        "f.close()  \n",
        "  \n",
        "archivo_agregar = open('/content/drive/MyDrive/sample_data/rostro.txt','a')\n",
        "lista_palabras=['Andres0', 'Felipe1', 'Escallón2', 'Portilla3']\n",
        "for fila in lista_palabras:\n",
        "  archivo_agregar.write(fila+'\\n')\n",
        "archivo_agregar.close()\n",
        "\n",
        "f = open('/content/drive/MyDrive/sample_data/rostro.txt', 'r')\n",
        "for linea in f:\n",
        "  print(linea)\n",
        "f.close()"
      ],
      "execution_count": null,
      "outputs": [
        {
          "output_type": "stream",
          "text": [
            "Mounted at /content/drive\n",
            "Andres\n",
            "\n",
            "Felipe\n",
            "\n",
            "Escallón\n",
            "\n",
            "Portilla\n",
            "\n",
            "1\n",
            "\n",
            "2\n",
            "\n",
            "3\n",
            "\n",
            "4\n",
            "\n",
            "Andres\n",
            "\n",
            "Felipe\n",
            "\n",
            "Escallón\n",
            "\n",
            "Portilla\n",
            "\n",
            "Andres0\n",
            "\n",
            "Felipe1\n",
            "\n",
            "Escallón2\n",
            "\n",
            "Portilla3\n",
            "\n",
            "Andres0\n",
            "\n",
            "Felipe1\n",
            "\n",
            "Escallón2\n",
            "\n",
            "Portilla3\n",
            "\n",
            "Andres0\n",
            "\n",
            "Felipe1\n",
            "\n",
            "Escallón2\n",
            "\n",
            "Portilla3\n",
            "\n",
            "Andres\n",
            "\n",
            "Felipe\n",
            "\n",
            "Escallón\n",
            "\n",
            "Portilla\n",
            "\n",
            "1\n",
            "\n",
            "2\n",
            "\n",
            "3\n",
            "\n",
            "4\n",
            "\n",
            "Andres\n",
            "\n",
            "Felipe\n",
            "\n",
            "Escallón\n",
            "\n",
            "Portilla\n",
            "\n",
            "Andres0\n",
            "\n",
            "Felipe1\n",
            "\n",
            "Escallón2\n",
            "\n",
            "Portilla3\n",
            "\n",
            "Andres0\n",
            "\n",
            "Felipe1\n",
            "\n",
            "Escallón2\n",
            "\n",
            "Portilla3\n",
            "\n",
            "Andres0\n",
            "\n",
            "Felipe1\n",
            "\n",
            "Escallón2\n",
            "\n",
            "Portilla3\n",
            "\n",
            "Andres0\n",
            "\n",
            "Felipe1\n",
            "\n",
            "Escallón2\n",
            "\n",
            "Portilla3\n",
            "\n"
          ],
          "name": "stdout"
        }
      ]
    },
    {
      "cell_type": "code",
      "metadata": {
        "colab": {
          "base_uri": "https://localhost:8080/"
        },
        "id": "UB2u3o_GGvJk",
        "outputId": "8adeaa28-d4a6-4d82-dd5b-ca63a16d1ec0"
      },
      "source": [
        "#FORMA 3:\n",
        "with open(\"ejemplo.txt\", \"w\") as File:\n",
        "  f = File.write(\"Este es un ejemplo de creación de un archivo de texto mensaje adicional\"+'\\n'+\"salto de linea\")\n",
        "\n",
        "with open('ejemplo.txt', 'r') as File:# función que abre el archivo y lo cierra automáticamente (está implícito la función close())\n",
        "  f = File.read()\n",
        "print(f)# imprimo el archivo línea a línea (sin usar el ciclo for)"
      ],
      "execution_count": null,
      "outputs": [
        {
          "output_type": "stream",
          "text": [
            "Este es un ejemplo de creación de un archivo de texto mensaje adicional\n",
            "salto de linea\n"
          ],
          "name": "stdout"
        }
      ]
    },
    {
      "cell_type": "markdown",
      "metadata": {
        "id": "jjiI5wkgFQIf"
      },
      "source": [
        "# BÚSQUEDA Y ORDENAMIENTO:\n",
        "\n",
        "Ver ejemplos de ordenamiento en: https://j2logo.com/python/ordenar-una-lista-en-python/"
      ]
    },
    {
      "cell_type": "code",
      "metadata": {
        "id": "j9jdoxBUFbYq",
        "colab": {
          "base_uri": "https://localhost:8080/"
        },
        "outputId": "24f4c081-0275-4676-c316-ae5a3ac751ae"
      },
      "source": [
        "#EJEMPLO SENCILLO DE BÚSQUEDA Y ORDENAMIENTO:\n",
        "\n",
        "animales=['perro', 'gato', 'foca','ternero']\n",
        "print(animales)\n",
        "\n",
        "animal1='pájaro'\n",
        "animal2='gato'\n",
        "\n",
        "mentira=animal1 in animales\n",
        "verdad=animal2 in animales\n",
        "\n",
        "print(mentira)\n",
        "print(verdad)\n",
        "\n",
        "animales.sort()\n",
        "\n",
        "print(animales)\n",
        "\n",
        "animales.sort(reverse=True)\n",
        "\n",
        "print(animales)"
      ],
      "execution_count": null,
      "outputs": [
        {
          "output_type": "stream",
          "text": [
            "['perro', 'gato', 'foca', 'ternero']\n",
            "False\n",
            "True\n",
            "['foca', 'gato', 'perro', 'ternero']\n",
            "['ternero', 'perro', 'gato', 'foca']\n"
          ],
          "name": "stdout"
        }
      ]
    },
    {
      "cell_type": "code",
      "metadata": {
        "colab": {
          "base_uri": "https://localhost:8080/"
        },
        "id": "GV8GgwMjEBeK",
        "outputId": "8bf3601c-7e95-4fb3-bd25-ad54852b9233"
      },
      "source": [
        "numeros = [16, 4, 9, 1, 3, 20, 8]\n",
        "\n",
        "pregunta1=9 in numeros\n",
        "print(pregunta1)\n",
        "pregunta2=-3 in numeros\n",
        "print(pregunta2)\n",
        "\n",
        "print(numeros)\n",
        "numeros.sort()\n",
        "print(numeros)\n",
        "numeros.sort(reverse=True)\n",
        "print(numeros)"
      ],
      "execution_count": null,
      "outputs": [
        {
          "output_type": "stream",
          "text": [
            "True\n",
            "False\n",
            "[16, 4, 9, 1, 3, 20, 8]\n",
            "[1, 3, 4, 8, 9, 16, 20]\n",
            "[20, 16, 9, 8, 4, 3, 1]\n"
          ],
          "name": "stdout"
        }
      ]
    },
    {
      "cell_type": "markdown",
      "metadata": {
        "id": "sYZHcnO2ekxs"
      },
      "source": [
        "# Aplicaciones y usos de Python en otros contextos (Ciencia de Datos):\n",
        "\n",
        "- Repositorio del Formador para ver proyectos de Ciencia de Datos: https://github.com/felipeescallon\n",
        "\n",
        "- Google Colab: Python y Machine Learning en la nube: https://www.adictosaltrabajo.com/2019/06/04/google-colab-python-y-machine-learning-en-la-nube/\n",
        "\n",
        "- Tutorial de Google Collab: https://colab.research.google.com/github/cs231n/cs231n.github.io/blob/master/python-colab.ipynb#scrollTo=1L4Am0QATgOc"
      ]
    },
    {
      "cell_type": "markdown",
      "metadata": {
        "id": "kT_zwVg_88P8"
      },
      "source": [
        "# Visualización: "
      ]
    },
    {
      "cell_type": "markdown",
      "metadata": {
        "id": "RkThoKSWFgrh"
      },
      "source": [
        "# MATPLOTLIB: "
      ]
    },
    {
      "cell_type": "code",
      "metadata": {
        "colab": {
          "base_uri": "https://localhost:8080/",
          "height": 297
        },
        "id": "4CzyrQmYEtY4",
        "outputId": "7038d47a-0ab4-468b-f58e-5e195909139f"
      },
      "source": [
        "'''\n",
        "Tomado y adaptado de: https://www.youtube.com/c/MrRuedaLibre/videos\n",
        "Xaca Rana - 12 Python 101: Matematicas\n",
        "'''\n",
        "\n",
        "import math\n",
        "import matplotlib.pyplot as plt\n",
        "\n",
        "lista_eje_x=[]\n",
        "lista_eje_y=[]\n",
        "\n",
        "for i in range(0,720,1): # angulo en grados\n",
        "    angulo=math.radians(i) # pasando el angulo a radianes\n",
        "    x=angulo\n",
        "    y=math.cos(x)\n",
        "    lista_eje_x.append(x)\n",
        "    lista_eje_y.append(y)\n",
        "\n",
        "plt.plot(lista_eje_x,lista_eje_y)\n",
        "\n",
        "plt.xlabel(\"Ángulo (radianes)\")\n",
        "plt.ylabel(\"Función Coseno: y=cos(x)\")\n",
        "plt.title(\"Gráfica de la función coseno\")\n",
        "plt.show()\n",
        "plt.savefig(\"grafica_coseno_x.png\")\n",
        "plt.close()"
      ],
      "execution_count": null,
      "outputs": [
        {
          "output_type": "display_data",
          "data": {
            "image/png": "[encoded data removed]",
            "text/plain": [
              "<Figure size 432x288 with 1 Axes>"
            ]
          },
          "metadata": {
            "tags": [],
            "needs_background": "light"
          }
        }
      ]
    },
    {
      "cell_type": "code",
      "metadata": {
        "id": "ocaA01FGFntT",
        "colab": {
          "base_uri": "https://localhost:8080/",
          "height": 295
        },
        "outputId": "6a129486-4b8c-49f2-bdb4-c86a753dd5db"
      },
      "source": [
        "import math as m\n",
        "import matplotlib\n",
        "import matplotlib.pyplot as plt\n",
        "import numpy as np\n",
        "x = np.linspace(0, 2, 100)\n",
        "#Generamos una grafica para una X lineal (recta)\n",
        "plt.plot(x, x, label='lineal') #y=x\n",
        "#Generamos otra grafica para una X cuadratica (parabola)\n",
        "plt.plot(x, x**2, label='cuadrática')#y=x*x \n",
        "#Generamos una grafica para una X Cubica (cubica)\n",
        "plt.plot(x, x**3, label='cúbica')#y=x*x*x \n",
        "#Generamos una grafica para una X raiz cuadrada (square root: sqrt)\n",
        "plt.plot(x, x**(1/2), label='raiz cuadrada')#y=x**(1/2)\n",
        "#Agregamos las etiquetas y añadimos una leyenda.\n",
        "plt.xlabel('Eje X')\n",
        "plt.ylabel('Eje Y')\n",
        "plt.title(\"Gráfica de funciones: lineal, cuadrática, cúbica, raiz cuadrada\")\n",
        "plt.legend()\n",
        "plt.savefig('grafica_funciones.png')\n",
        "plt.show()\n",
        "plt.close()\n"
      ],
      "execution_count": null,
      "outputs": [
        {
          "output_type": "display_data",
          "data": {
            "image/png": "[encoded data removed]",
            "text/plain": [
              "<Figure size 432x288 with 1 Axes>"
            ]
          },
          "metadata": {
            "tags": [],
            "needs_background": "light"
          }
        }
      ]
    },
    {
      "cell_type": "markdown",
      "metadata": {
        "id": "6s_DvsTRHXGv"
      },
      "source": [
        "# DATAFRAMES (PANDAS): "
      ]
    },
    {
      "cell_type": "markdown",
      "metadata": {
        "id": "2tR_qtBykPwR"
      },
      "source": [
        "##### Este es un ejemplo (tipo Reto):"
      ]
    },
    {
      "cell_type": "code",
      "metadata": {
        "colab": {
          "base_uri": "https://localhost:8080/"
        },
        "id": "YbfIDLMtHbD5",
        "outputId": "c86066da-90dc-4ae5-b6c1-c3a2bb99aa8b"
      },
      "source": [
        "import pandas as pd\n",
        "\n",
        "empresa_transp=input('empresa_transp=')\n",
        "id_camion=int(input('id_camion='))\n",
        "\n",
        "def leer_csv(archivo):\n",
        "  #df = pd.read_csv('./'+archivo, sep=',')\n",
        "  df = pd.read_csv(archivo, sep=',')\n",
        "  return df\n",
        "\n",
        "def control(empresa_transp, id_camion):\n",
        "  #print(empresa_transp)\n",
        "  #print(id_camion)\n",
        "\n",
        "  df_asignado=leer_csv('Valores_Asignados.csv')\n",
        "  #df_asignado=pd.read_csv('Valores_Asignados.csv',sep=',')\n",
        "  #print(df_asignado.head())\n",
        "  df_registrado=leer_csv('Valores_Registrados.csv')\n",
        "  #df_registrado=pd.read_csv('Valores_Registrados.csv',sep=',')\n",
        "  #print(df_registrado.tail(3))\n",
        "  return (df_asignado, df_registrado) #tupla\n",
        "\n",
        "(df_a, df_r)=control(empresa_transp, id_camion)\n",
        "print(df_a)\n",
        "print(df_r)\n"
      ],
      "execution_count": null,
      "outputs": [
        {
          "output_type": "stream",
          "text": [
            "empresa_transp=Transporte_Monky\n",
            "id_camion=3\n",
            "      Empresa_transp  Punto_dist  Id_camion  cajas_entrega  Tiempo_despacho\n",
            "0   Transporte_Norte           1          4           1492               31\n",
            "1   Transporte_Norte           2          1           1359               39\n",
            "2   Transporte_Norte           3          5           1289               54\n",
            "3   Transporte_Norte           4          4           1325               30\n",
            "4   Transporte_Norte           5          2           1368               55\n",
            "5   Transporte_Norte           6          4           1233               34\n",
            "6   Transporte_Norte           7          2           1450               38\n",
            "7   Transporte_Norte           8          1           1325               41\n",
            "8   Transporte_Norte           9          4           1279               55\n",
            "9   Transporte_Norte          10          5           1425               53\n",
            "10  Transporte_Norte          11          1           1362               39\n",
            "11  Transporte_Norte          12          5           1382               51\n",
            "12  Transporte_Norte          13          4           1213               39\n",
            "13  Transporte_Norte          14          1           1377               42\n",
            "14  Transporte_Norte          15          3           1378               47\n",
            "15  Transporte_Norte          16          4           1237               42\n",
            "16  Transporte_Norte          17          3           1344               51\n",
            "17  Transporte_Norte          18          1           1276               38\n",
            "18  Transporte_Norte          19          2           1446               35\n",
            "19  Transporte_Norte          20          4           1274               49\n",
            "20  Transporte_Norte          21          2           1397               39\n",
            "21  Transporte_Norte          22          3           1387               42\n",
            "22  Transporte_Norte          23          1           1480               34\n",
            "23  Transporte_Norte          24          4           1360               30\n",
            "24  Transporte_Norte          25          3           1472               50\n",
            "25  Transporte_Norte          26          1           1417               31\n",
            "26  Transporte_Norte          27          5           1359               47\n",
            "27  Transporte_Norte          28          2           1317               52\n",
            "28  Transporte_Norte          29          1           1360               35\n",
            "29  Transporte_Norte          30          2           1363               43\n",
            "30  Transporte_Monky           1          1             85               11\n",
            "31  Transporte_Monky           2          4             88               14\n",
            "32  Transporte_Monky           3          4             93               14\n",
            "33  Transporte_Monky           4          4             87               14\n",
            "34  Transporte_Monky           5          4             98               14\n",
            "35  Transporte_Monky           6          4            100               13\n",
            "36  Transporte_Monky           7          2             92               10\n",
            "37  Transporte_Monky           8          4             93               11\n",
            "38  Transporte_Monky           9          2             88               10\n",
            "39  Transporte_Monky          10          3             97               14\n",
            "40  Transporte_Monky          11          3             90               12\n",
            "41  Transporte_Monky          12          1             91               10\n",
            "42  Transporte_Monky          13          1             92               15\n",
            "43  Transporte_Monky          14          3             89               12\n",
            "44  Transporte_Monky          15          2             97               13\n",
            "45  Transporte_Monky          16          1             96               14\n",
            "46  Transporte_Monky          17          2             89               12\n",
            "47  Transporte_Monky          18          3            100               12\n",
            "48  Transporte_Monky          19          4             91               12\n",
            "49  Transporte_Monky          20          4             85               15\n",
            "      Empresa_transp  Punto_dist  Id_camion  cajas_entrega  Tiempo_despacho\n",
            "0   Transporte_Norte           1          4           1126               38\n",
            "1   Transporte_Norte           2          1           1241               48\n",
            "2   Transporte_Norte           3          5           1380               42\n",
            "3   Transporte_Norte           4          4           1382               34\n",
            "4   Transporte_Norte           5          2           1139               51\n",
            "5   Transporte_Norte           6          4           1264               37\n",
            "6   Transporte_Norte           7          2           1236               54\n",
            "7   Transporte_Norte           8          1           1416               35\n",
            "8   Transporte_Norte           9          4           1324               40\n",
            "9   Transporte_Norte          10          5           1390               42\n",
            "10  Transporte_Norte          11          1           1307               34\n",
            "11  Transporte_Norte          12          5           1415               35\n",
            "12  Transporte_Norte          13          4           1310               45\n",
            "13  Transporte_Norte          14          1           1168               35\n",
            "14  Transporte_Norte          15          3           1266               50\n",
            "15  Transporte_Norte          16          4           1169               34\n",
            "16  Transporte_Norte          17          3           1162               34\n",
            "17  Transporte_Norte          18          1           1376               38\n",
            "18  Transporte_Norte          19          2           1303               55\n",
            "19  Transporte_Norte          20          4           1162               50\n",
            "20  Transporte_Norte          21          2           1357               42\n",
            "21  Transporte_Norte          22          3           1427               41\n",
            "22  Transporte_Norte          23          1           1141               35\n",
            "23  Transporte_Norte          24          4           1180               32\n",
            "24  Transporte_Norte          25          3           1363               44\n",
            "25  Transporte_Norte          26          1           1172               43\n",
            "26  Transporte_Norte          27          5           1341               38\n",
            "27  Transporte_Norte          28          2           1296               54\n",
            "28  Transporte_Norte          29          1           1435               44\n",
            "29  Transporte_Norte          30          2           1177               37\n",
            "30  Transporte_Monky           1          1             83               11\n",
            "31  Transporte_Monky           2          4             86               10\n",
            "32  Transporte_Monky           3          4             93               15\n",
            "33  Transporte_Monky           4          4             81               11\n",
            "34  Transporte_Monky           5          4             85               11\n",
            "35  Transporte_Monky           6          4             95               14\n",
            "36  Transporte_Monky           7          2             93               11\n",
            "37  Transporte_Monky           8          4             83               15\n",
            "38  Transporte_Monky           9          2             83               12\n",
            "39  Transporte_Monky          10          3             87               13\n",
            "40  Transporte_Monky          11          3             95               14\n",
            "41  Transporte_Monky          12          1             82               12\n",
            "42  Transporte_Monky          13          1             85               12\n",
            "43  Transporte_Monky          14          3             82               10\n",
            "44  Transporte_Monky          15          2             85               10\n",
            "45  Transporte_Monky          16          1             92               11\n",
            "46  Transporte_Monky          17          2             81               14\n",
            "47  Transporte_Monky          18          3             86               13\n",
            "48  Transporte_Monky          19          4             86               15\n",
            "49  Transporte_Monky          20          4             91               13\n"
          ],
          "name": "stdout"
        }
      ]
    },
    {
      "cell_type": "code",
      "metadata": {
        "colab": {
          "base_uri": "https://localhost:8080/",
          "height": 1000
        },
        "id": "NQNNcu_Sumwg",
        "outputId": "08d27528-ce90-4c65-fed0-ef608d08426c"
      },
      "source": [
        "df_a"
      ],
      "execution_count": null,
      "outputs": [
        {
          "output_type": "execute_result",
          "data": {
            "text/html": [
              "<div>\n",
              "<style scoped>\n",
              "    .dataframe tbody tr th:only-of-type {\n",
              "        vertical-align: middle;\n",
              "    }\n",
              "\n",
              "    .dataframe tbody tr th {\n",
              "        vertical-align: top;\n",
              "    }\n",
              "\n",
              "    .dataframe thead th {\n",
              "        text-align: right;\n",
              "    }\n",
              "</style>\n",
              "<table border=\"1\" class=\"dataframe\">\n",
              "  <thead>\n",
              "    <tr style=\"text-align: right;\">\n",
              "      <th></th>\n",
              "      <th>Empresa_transp</th>\n",
              "      <th>Punto_dist</th>\n",
              "      <th>Id_camion</th>\n",
              "      <th>cajas_entrega</th>\n",
              "      <th>Tiempo_despacho</th>\n",
              "    </tr>\n",
              "  </thead>\n",
              "  <tbody>\n",
              "    <tr>\n",
              "      <th>0</th>\n",
              "      <td>Transporte_Norte</td>\n",
              "      <td>1</td>\n",
              "      <td>4</td>\n",
              "      <td>1492</td>\n",
              "      <td>31</td>\n",
              "    </tr>\n",
              "    <tr>\n",
              "      <th>1</th>\n",
              "      <td>Transporte_Norte</td>\n",
              "      <td>2</td>\n",
              "      <td>1</td>\n",
              "      <td>1359</td>\n",
              "      <td>39</td>\n",
              "    </tr>\n",
              "    <tr>\n",
              "      <th>2</th>\n",
              "      <td>Transporte_Norte</td>\n",
              "      <td>3</td>\n",
              "      <td>5</td>\n",
              "      <td>1289</td>\n",
              "      <td>54</td>\n",
              "    </tr>\n",
              "    <tr>\n",
              "      <th>3</th>\n",
              "      <td>Transporte_Norte</td>\n",
              "      <td>4</td>\n",
              "      <td>4</td>\n",
              "      <td>1325</td>\n",
              "      <td>30</td>\n",
              "    </tr>\n",
              "    <tr>\n",
              "      <th>4</th>\n",
              "      <td>Transporte_Norte</td>\n",
              "      <td>5</td>\n",
              "      <td>2</td>\n",
              "      <td>1368</td>\n",
              "      <td>55</td>\n",
              "    </tr>\n",
              "    <tr>\n",
              "      <th>5</th>\n",
              "      <td>Transporte_Norte</td>\n",
              "      <td>6</td>\n",
              "      <td>4</td>\n",
              "      <td>1233</td>\n",
              "      <td>34</td>\n",
              "    </tr>\n",
              "    <tr>\n",
              "      <th>6</th>\n",
              "      <td>Transporte_Norte</td>\n",
              "      <td>7</td>\n",
              "      <td>2</td>\n",
              "      <td>1450</td>\n",
              "      <td>38</td>\n",
              "    </tr>\n",
              "    <tr>\n",
              "      <th>7</th>\n",
              "      <td>Transporte_Norte</td>\n",
              "      <td>8</td>\n",
              "      <td>1</td>\n",
              "      <td>1325</td>\n",
              "      <td>41</td>\n",
              "    </tr>\n",
              "    <tr>\n",
              "      <th>8</th>\n",
              "      <td>Transporte_Norte</td>\n",
              "      <td>9</td>\n",
              "      <td>4</td>\n",
              "      <td>1279</td>\n",
              "      <td>55</td>\n",
              "    </tr>\n",
              "    <tr>\n",
              "      <th>9</th>\n",
              "      <td>Transporte_Norte</td>\n",
              "      <td>10</td>\n",
              "      <td>5</td>\n",
              "      <td>1425</td>\n",
              "      <td>53</td>\n",
              "    </tr>\n",
              "    <tr>\n",
              "      <th>10</th>\n",
              "      <td>Transporte_Norte</td>\n",
              "      <td>11</td>\n",
              "      <td>1</td>\n",
              "      <td>1362</td>\n",
              "      <td>39</td>\n",
              "    </tr>\n",
              "    <tr>\n",
              "      <th>11</th>\n",
              "      <td>Transporte_Norte</td>\n",
              "      <td>12</td>\n",
              "      <td>5</td>\n",
              "      <td>1382</td>\n",
              "      <td>51</td>\n",
              "    </tr>\n",
              "    <tr>\n",
              "      <th>12</th>\n",
              "      <td>Transporte_Norte</td>\n",
              "      <td>13</td>\n",
              "      <td>4</td>\n",
              "      <td>1213</td>\n",
              "      <td>39</td>\n",
              "    </tr>\n",
              "    <tr>\n",
              "      <th>13</th>\n",
              "      <td>Transporte_Norte</td>\n",
              "      <td>14</td>\n",
              "      <td>1</td>\n",
              "      <td>1377</td>\n",
              "      <td>42</td>\n",
              "    </tr>\n",
              "    <tr>\n",
              "      <th>14</th>\n",
              "      <td>Transporte_Norte</td>\n",
              "      <td>15</td>\n",
              "      <td>3</td>\n",
              "      <td>1378</td>\n",
              "      <td>47</td>\n",
              "    </tr>\n",
              "    <tr>\n",
              "      <th>15</th>\n",
              "      <td>Transporte_Norte</td>\n",
              "      <td>16</td>\n",
              "      <td>4</td>\n",
              "      <td>1237</td>\n",
              "      <td>42</td>\n",
              "    </tr>\n",
              "    <tr>\n",
              "      <th>16</th>\n",
              "      <td>Transporte_Norte</td>\n",
              "      <td>17</td>\n",
              "      <td>3</td>\n",
              "      <td>1344</td>\n",
              "      <td>51</td>\n",
              "    </tr>\n",
              "    <tr>\n",
              "      <th>17</th>\n",
              "      <td>Transporte_Norte</td>\n",
              "      <td>18</td>\n",
              "      <td>1</td>\n",
              "      <td>1276</td>\n",
              "      <td>38</td>\n",
              "    </tr>\n",
              "    <tr>\n",
              "      <th>18</th>\n",
              "      <td>Transporte_Norte</td>\n",
              "      <td>19</td>\n",
              "      <td>2</td>\n",
              "      <td>1446</td>\n",
              "      <td>35</td>\n",
              "    </tr>\n",
              "    <tr>\n",
              "      <th>19</th>\n",
              "      <td>Transporte_Norte</td>\n",
              "      <td>20</td>\n",
              "      <td>4</td>\n",
              "      <td>1274</td>\n",
              "      <td>49</td>\n",
              "    </tr>\n",
              "    <tr>\n",
              "      <th>20</th>\n",
              "      <td>Transporte_Norte</td>\n",
              "      <td>21</td>\n",
              "      <td>2</td>\n",
              "      <td>1397</td>\n",
              "      <td>39</td>\n",
              "    </tr>\n",
              "    <tr>\n",
              "      <th>21</th>\n",
              "      <td>Transporte_Norte</td>\n",
              "      <td>22</td>\n",
              "      <td>3</td>\n",
              "      <td>1387</td>\n",
              "      <td>42</td>\n",
              "    </tr>\n",
              "    <tr>\n",
              "      <th>22</th>\n",
              "      <td>Transporte_Norte</td>\n",
              "      <td>23</td>\n",
              "      <td>1</td>\n",
              "      <td>1480</td>\n",
              "      <td>34</td>\n",
              "    </tr>\n",
              "    <tr>\n",
              "      <th>23</th>\n",
              "      <td>Transporte_Norte</td>\n",
              "      <td>24</td>\n",
              "      <td>4</td>\n",
              "      <td>1360</td>\n",
              "      <td>30</td>\n",
              "    </tr>\n",
              "    <tr>\n",
              "      <th>24</th>\n",
              "      <td>Transporte_Norte</td>\n",
              "      <td>25</td>\n",
              "      <td>3</td>\n",
              "      <td>1472</td>\n",
              "      <td>50</td>\n",
              "    </tr>\n",
              "    <tr>\n",
              "      <th>25</th>\n",
              "      <td>Transporte_Norte</td>\n",
              "      <td>26</td>\n",
              "      <td>1</td>\n",
              "      <td>1417</td>\n",
              "      <td>31</td>\n",
              "    </tr>\n",
              "    <tr>\n",
              "      <th>26</th>\n",
              "      <td>Transporte_Norte</td>\n",
              "      <td>27</td>\n",
              "      <td>5</td>\n",
              "      <td>1359</td>\n",
              "      <td>47</td>\n",
              "    </tr>\n",
              "    <tr>\n",
              "      <th>27</th>\n",
              "      <td>Transporte_Norte</td>\n",
              "      <td>28</td>\n",
              "      <td>2</td>\n",
              "      <td>1317</td>\n",
              "      <td>52</td>\n",
              "    </tr>\n",
              "    <tr>\n",
              "      <th>28</th>\n",
              "      <td>Transporte_Norte</td>\n",
              "      <td>29</td>\n",
              "      <td>1</td>\n",
              "      <td>1360</td>\n",
              "      <td>35</td>\n",
              "    </tr>\n",
              "    <tr>\n",
              "      <th>29</th>\n",
              "      <td>Transporte_Norte</td>\n",
              "      <td>30</td>\n",
              "      <td>2</td>\n",
              "      <td>1363</td>\n",
              "      <td>43</td>\n",
              "    </tr>\n",
              "    <tr>\n",
              "      <th>30</th>\n",
              "      <td>Transporte_Monky</td>\n",
              "      <td>1</td>\n",
              "      <td>1</td>\n",
              "      <td>85</td>\n",
              "      <td>11</td>\n",
              "    </tr>\n",
              "    <tr>\n",
              "      <th>31</th>\n",
              "      <td>Transporte_Monky</td>\n",
              "      <td>2</td>\n",
              "      <td>4</td>\n",
              "      <td>88</td>\n",
              "      <td>14</td>\n",
              "    </tr>\n",
              "    <tr>\n",
              "      <th>32</th>\n",
              "      <td>Transporte_Monky</td>\n",
              "      <td>3</td>\n",
              "      <td>4</td>\n",
              "      <td>93</td>\n",
              "      <td>14</td>\n",
              "    </tr>\n",
              "    <tr>\n",
              "      <th>33</th>\n",
              "      <td>Transporte_Monky</td>\n",
              "      <td>4</td>\n",
              "      <td>4</td>\n",
              "      <td>87</td>\n",
              "      <td>14</td>\n",
              "    </tr>\n",
              "    <tr>\n",
              "      <th>34</th>\n",
              "      <td>Transporte_Monky</td>\n",
              "      <td>5</td>\n",
              "      <td>4</td>\n",
              "      <td>98</td>\n",
              "      <td>14</td>\n",
              "    </tr>\n",
              "    <tr>\n",
              "      <th>35</th>\n",
              "      <td>Transporte_Monky</td>\n",
              "      <td>6</td>\n",
              "      <td>4</td>\n",
              "      <td>100</td>\n",
              "      <td>13</td>\n",
              "    </tr>\n",
              "    <tr>\n",
              "      <th>36</th>\n",
              "      <td>Transporte_Monky</td>\n",
              "      <td>7</td>\n",
              "      <td>2</td>\n",
              "      <td>92</td>\n",
              "      <td>10</td>\n",
              "    </tr>\n",
              "    <tr>\n",
              "      <th>37</th>\n",
              "      <td>Transporte_Monky</td>\n",
              "      <td>8</td>\n",
              "      <td>4</td>\n",
              "      <td>93</td>\n",
              "      <td>11</td>\n",
              "    </tr>\n",
              "    <tr>\n",
              "      <th>38</th>\n",
              "      <td>Transporte_Monky</td>\n",
              "      <td>9</td>\n",
              "      <td>2</td>\n",
              "      <td>88</td>\n",
              "      <td>10</td>\n",
              "    </tr>\n",
              "    <tr>\n",
              "      <th>39</th>\n",
              "      <td>Transporte_Monky</td>\n",
              "      <td>10</td>\n",
              "      <td>3</td>\n",
              "      <td>97</td>\n",
              "      <td>14</td>\n",
              "    </tr>\n",
              "    <tr>\n",
              "      <th>40</th>\n",
              "      <td>Transporte_Monky</td>\n",
              "      <td>11</td>\n",
              "      <td>3</td>\n",
              "      <td>90</td>\n",
              "      <td>12</td>\n",
              "    </tr>\n",
              "    <tr>\n",
              "      <th>41</th>\n",
              "      <td>Transporte_Monky</td>\n",
              "      <td>12</td>\n",
              "      <td>1</td>\n",
              "      <td>91</td>\n",
              "      <td>10</td>\n",
              "    </tr>\n",
              "    <tr>\n",
              "      <th>42</th>\n",
              "      <td>Transporte_Monky</td>\n",
              "      <td>13</td>\n",
              "      <td>1</td>\n",
              "      <td>92</td>\n",
              "      <td>15</td>\n",
              "    </tr>\n",
              "    <tr>\n",
              "      <th>43</th>\n",
              "      <td>Transporte_Monky</td>\n",
              "      <td>14</td>\n",
              "      <td>3</td>\n",
              "      <td>89</td>\n",
              "      <td>12</td>\n",
              "    </tr>\n",
              "    <tr>\n",
              "      <th>44</th>\n",
              "      <td>Transporte_Monky</td>\n",
              "      <td>15</td>\n",
              "      <td>2</td>\n",
              "      <td>97</td>\n",
              "      <td>13</td>\n",
              "    </tr>\n",
              "    <tr>\n",
              "      <th>45</th>\n",
              "      <td>Transporte_Monky</td>\n",
              "      <td>16</td>\n",
              "      <td>1</td>\n",
              "      <td>96</td>\n",
              "      <td>14</td>\n",
              "    </tr>\n",
              "    <tr>\n",
              "      <th>46</th>\n",
              "      <td>Transporte_Monky</td>\n",
              "      <td>17</td>\n",
              "      <td>2</td>\n",
              "      <td>89</td>\n",
              "      <td>12</td>\n",
              "    </tr>\n",
              "    <tr>\n",
              "      <th>47</th>\n",
              "      <td>Transporte_Monky</td>\n",
              "      <td>18</td>\n",
              "      <td>3</td>\n",
              "      <td>100</td>\n",
              "      <td>12</td>\n",
              "    </tr>\n",
              "    <tr>\n",
              "      <th>48</th>\n",
              "      <td>Transporte_Monky</td>\n",
              "      <td>19</td>\n",
              "      <td>4</td>\n",
              "      <td>91</td>\n",
              "      <td>12</td>\n",
              "    </tr>\n",
              "    <tr>\n",
              "      <th>49</th>\n",
              "      <td>Transporte_Monky</td>\n",
              "      <td>20</td>\n",
              "      <td>4</td>\n",
              "      <td>85</td>\n",
              "      <td>15</td>\n",
              "    </tr>\n",
              "  </tbody>\n",
              "</table>\n",
              "</div>"
            ],
            "text/plain": [
              "      Empresa_transp  Punto_dist  Id_camion  cajas_entrega  Tiempo_despacho\n",
              "0   Transporte_Norte           1          4           1492               31\n",
              "1   Transporte_Norte           2          1           1359               39\n",
              "2   Transporte_Norte           3          5           1289               54\n",
              "3   Transporte_Norte           4          4           1325               30\n",
              "4   Transporte_Norte           5          2           1368               55\n",
              "5   Transporte_Norte           6          4           1233               34\n",
              "6   Transporte_Norte           7          2           1450               38\n",
              "7   Transporte_Norte           8          1           1325               41\n",
              "8   Transporte_Norte           9          4           1279               55\n",
              "9   Transporte_Norte          10          5           1425               53\n",
              "10  Transporte_Norte          11          1           1362               39\n",
              "11  Transporte_Norte          12          5           1382               51\n",
              "12  Transporte_Norte          13          4           1213               39\n",
              "13  Transporte_Norte          14          1           1377               42\n",
              "14  Transporte_Norte          15          3           1378               47\n",
              "15  Transporte_Norte          16          4           1237               42\n",
              "16  Transporte_Norte          17          3           1344               51\n",
              "17  Transporte_Norte          18          1           1276               38\n",
              "18  Transporte_Norte          19          2           1446               35\n",
              "19  Transporte_Norte          20          4           1274               49\n",
              "20  Transporte_Norte          21          2           1397               39\n",
              "21  Transporte_Norte          22          3           1387               42\n",
              "22  Transporte_Norte          23          1           1480               34\n",
              "23  Transporte_Norte          24          4           1360               30\n",
              "24  Transporte_Norte          25          3           1472               50\n",
              "25  Transporte_Norte          26          1           1417               31\n",
              "26  Transporte_Norte          27          5           1359               47\n",
              "27  Transporte_Norte          28          2           1317               52\n",
              "28  Transporte_Norte          29          1           1360               35\n",
              "29  Transporte_Norte          30          2           1363               43\n",
              "30  Transporte_Monky           1          1             85               11\n",
              "31  Transporte_Monky           2          4             88               14\n",
              "32  Transporte_Monky           3          4             93               14\n",
              "33  Transporte_Monky           4          4             87               14\n",
              "34  Transporte_Monky           5          4             98               14\n",
              "35  Transporte_Monky           6          4            100               13\n",
              "36  Transporte_Monky           7          2             92               10\n",
              "37  Transporte_Monky           8          4             93               11\n",
              "38  Transporte_Monky           9          2             88               10\n",
              "39  Transporte_Monky          10          3             97               14\n",
              "40  Transporte_Monky          11          3             90               12\n",
              "41  Transporte_Monky          12          1             91               10\n",
              "42  Transporte_Monky          13          1             92               15\n",
              "43  Transporte_Monky          14          3             89               12\n",
              "44  Transporte_Monky          15          2             97               13\n",
              "45  Transporte_Monky          16          1             96               14\n",
              "46  Transporte_Monky          17          2             89               12\n",
              "47  Transporte_Monky          18          3            100               12\n",
              "48  Transporte_Monky          19          4             91               12\n",
              "49  Transporte_Monky          20          4             85               15"
            ]
          },
          "metadata": {
            "tags": []
          },
          "execution_count": 10
        }
      ]
    },
    {
      "cell_type": "code",
      "metadata": {
        "colab": {
          "base_uri": "https://localhost:8080/",
          "height": 203
        },
        "id": "tYloYkegtuHo",
        "outputId": "150347b1-3381-4fe7-f98b-e59be19ad10b"
      },
      "source": [
        "df_a.head()"
      ],
      "execution_count": null,
      "outputs": [
        {
          "output_type": "execute_result",
          "data": {
            "text/html": [
              "<div>\n",
              "<style scoped>\n",
              "    .dataframe tbody tr th:only-of-type {\n",
              "        vertical-align: middle;\n",
              "    }\n",
              "\n",
              "    .dataframe tbody tr th {\n",
              "        vertical-align: top;\n",
              "    }\n",
              "\n",
              "    .dataframe thead th {\n",
              "        text-align: right;\n",
              "    }\n",
              "</style>\n",
              "<table border=\"1\" class=\"dataframe\">\n",
              "  <thead>\n",
              "    <tr style=\"text-align: right;\">\n",
              "      <th></th>\n",
              "      <th>Empresa_transp</th>\n",
              "      <th>Punto_dist</th>\n",
              "      <th>Id_camion</th>\n",
              "      <th>cajas_entrega</th>\n",
              "      <th>Tiempo_despacho</th>\n",
              "    </tr>\n",
              "  </thead>\n",
              "  <tbody>\n",
              "    <tr>\n",
              "      <th>0</th>\n",
              "      <td>Transporte_Norte</td>\n",
              "      <td>1</td>\n",
              "      <td>4</td>\n",
              "      <td>1492</td>\n",
              "      <td>31</td>\n",
              "    </tr>\n",
              "    <tr>\n",
              "      <th>1</th>\n",
              "      <td>Transporte_Norte</td>\n",
              "      <td>2</td>\n",
              "      <td>1</td>\n",
              "      <td>1359</td>\n",
              "      <td>39</td>\n",
              "    </tr>\n",
              "    <tr>\n",
              "      <th>2</th>\n",
              "      <td>Transporte_Norte</td>\n",
              "      <td>3</td>\n",
              "      <td>5</td>\n",
              "      <td>1289</td>\n",
              "      <td>54</td>\n",
              "    </tr>\n",
              "    <tr>\n",
              "      <th>3</th>\n",
              "      <td>Transporte_Norte</td>\n",
              "      <td>4</td>\n",
              "      <td>4</td>\n",
              "      <td>1325</td>\n",
              "      <td>30</td>\n",
              "    </tr>\n",
              "    <tr>\n",
              "      <th>4</th>\n",
              "      <td>Transporte_Norte</td>\n",
              "      <td>5</td>\n",
              "      <td>2</td>\n",
              "      <td>1368</td>\n",
              "      <td>55</td>\n",
              "    </tr>\n",
              "  </tbody>\n",
              "</table>\n",
              "</div>"
            ],
            "text/plain": [
              "     Empresa_transp  Punto_dist  Id_camion  cajas_entrega  Tiempo_despacho\n",
              "0  Transporte_Norte           1          4           1492               31\n",
              "1  Transporte_Norte           2          1           1359               39\n",
              "2  Transporte_Norte           3          5           1289               54\n",
              "3  Transporte_Norte           4          4           1325               30\n",
              "4  Transporte_Norte           5          2           1368               55"
            ]
          },
          "metadata": {
            "tags": []
          },
          "execution_count": 7
        }
      ]
    },
    {
      "cell_type": "code",
      "metadata": {
        "colab": {
          "base_uri": "https://localhost:8080/",
          "height": 142
        },
        "id": "6l21z7Y0t1b9",
        "outputId": "16f30e2c-ee39-4114-aad0-b9c909cc48b7"
      },
      "source": [
        "df_a.head(3)"
      ],
      "execution_count": null,
      "outputs": [
        {
          "output_type": "execute_result",
          "data": {
            "text/html": [
              "<div>\n",
              "<style scoped>\n",
              "    .dataframe tbody tr th:only-of-type {\n",
              "        vertical-align: middle;\n",
              "    }\n",
              "\n",
              "    .dataframe tbody tr th {\n",
              "        vertical-align: top;\n",
              "    }\n",
              "\n",
              "    .dataframe thead th {\n",
              "        text-align: right;\n",
              "    }\n",
              "</style>\n",
              "<table border=\"1\" class=\"dataframe\">\n",
              "  <thead>\n",
              "    <tr style=\"text-align: right;\">\n",
              "      <th></th>\n",
              "      <th>Empresa_transp</th>\n",
              "      <th>Punto_dist</th>\n",
              "      <th>Id_camion</th>\n",
              "      <th>cajas_entrega</th>\n",
              "      <th>Tiempo_despacho</th>\n",
              "    </tr>\n",
              "  </thead>\n",
              "  <tbody>\n",
              "    <tr>\n",
              "      <th>0</th>\n",
              "      <td>Transporte_Norte</td>\n",
              "      <td>1</td>\n",
              "      <td>4</td>\n",
              "      <td>1492</td>\n",
              "      <td>31</td>\n",
              "    </tr>\n",
              "    <tr>\n",
              "      <th>1</th>\n",
              "      <td>Transporte_Norte</td>\n",
              "      <td>2</td>\n",
              "      <td>1</td>\n",
              "      <td>1359</td>\n",
              "      <td>39</td>\n",
              "    </tr>\n",
              "    <tr>\n",
              "      <th>2</th>\n",
              "      <td>Transporte_Norte</td>\n",
              "      <td>3</td>\n",
              "      <td>5</td>\n",
              "      <td>1289</td>\n",
              "      <td>54</td>\n",
              "    </tr>\n",
              "  </tbody>\n",
              "</table>\n",
              "</div>"
            ],
            "text/plain": [
              "     Empresa_transp  Punto_dist  Id_camion  cajas_entrega  Tiempo_despacho\n",
              "0  Transporte_Norte           1          4           1492               31\n",
              "1  Transporte_Norte           2          1           1359               39\n",
              "2  Transporte_Norte           3          5           1289               54"
            ]
          },
          "metadata": {
            "tags": []
          },
          "execution_count": 8
        }
      ]
    },
    {
      "cell_type": "code",
      "metadata": {
        "colab": {
          "base_uri": "https://localhost:8080/",
          "height": 297
        },
        "id": "JPQdBGt9t3nq",
        "outputId": "cd6575b8-0bf1-49d1-9d67-563190c4862c"
      },
      "source": [
        "df_a.head(8)"
      ],
      "execution_count": null,
      "outputs": [
        {
          "output_type": "execute_result",
          "data": {
            "text/html": [
              "<div>\n",
              "<style scoped>\n",
              "    .dataframe tbody tr th:only-of-type {\n",
              "        vertical-align: middle;\n",
              "    }\n",
              "\n",
              "    .dataframe tbody tr th {\n",
              "        vertical-align: top;\n",
              "    }\n",
              "\n",
              "    .dataframe thead th {\n",
              "        text-align: right;\n",
              "    }\n",
              "</style>\n",
              "<table border=\"1\" class=\"dataframe\">\n",
              "  <thead>\n",
              "    <tr style=\"text-align: right;\">\n",
              "      <th></th>\n",
              "      <th>Empresa_transp</th>\n",
              "      <th>Punto_dist</th>\n",
              "      <th>Id_camion</th>\n",
              "      <th>cajas_entrega</th>\n",
              "      <th>Tiempo_despacho</th>\n",
              "    </tr>\n",
              "  </thead>\n",
              "  <tbody>\n",
              "    <tr>\n",
              "      <th>0</th>\n",
              "      <td>Transporte_Norte</td>\n",
              "      <td>1</td>\n",
              "      <td>4</td>\n",
              "      <td>1492</td>\n",
              "      <td>31</td>\n",
              "    </tr>\n",
              "    <tr>\n",
              "      <th>1</th>\n",
              "      <td>Transporte_Norte</td>\n",
              "      <td>2</td>\n",
              "      <td>1</td>\n",
              "      <td>1359</td>\n",
              "      <td>39</td>\n",
              "    </tr>\n",
              "    <tr>\n",
              "      <th>2</th>\n",
              "      <td>Transporte_Norte</td>\n",
              "      <td>3</td>\n",
              "      <td>5</td>\n",
              "      <td>1289</td>\n",
              "      <td>54</td>\n",
              "    </tr>\n",
              "    <tr>\n",
              "      <th>3</th>\n",
              "      <td>Transporte_Norte</td>\n",
              "      <td>4</td>\n",
              "      <td>4</td>\n",
              "      <td>1325</td>\n",
              "      <td>30</td>\n",
              "    </tr>\n",
              "    <tr>\n",
              "      <th>4</th>\n",
              "      <td>Transporte_Norte</td>\n",
              "      <td>5</td>\n",
              "      <td>2</td>\n",
              "      <td>1368</td>\n",
              "      <td>55</td>\n",
              "    </tr>\n",
              "    <tr>\n",
              "      <th>5</th>\n",
              "      <td>Transporte_Norte</td>\n",
              "      <td>6</td>\n",
              "      <td>4</td>\n",
              "      <td>1233</td>\n",
              "      <td>34</td>\n",
              "    </tr>\n",
              "    <tr>\n",
              "      <th>6</th>\n",
              "      <td>Transporte_Norte</td>\n",
              "      <td>7</td>\n",
              "      <td>2</td>\n",
              "      <td>1450</td>\n",
              "      <td>38</td>\n",
              "    </tr>\n",
              "    <tr>\n",
              "      <th>7</th>\n",
              "      <td>Transporte_Norte</td>\n",
              "      <td>8</td>\n",
              "      <td>1</td>\n",
              "      <td>1325</td>\n",
              "      <td>41</td>\n",
              "    </tr>\n",
              "  </tbody>\n",
              "</table>\n",
              "</div>"
            ],
            "text/plain": [
              "     Empresa_transp  Punto_dist  Id_camion  cajas_entrega  Tiempo_despacho\n",
              "0  Transporte_Norte           1          4           1492               31\n",
              "1  Transporte_Norte           2          1           1359               39\n",
              "2  Transporte_Norte           3          5           1289               54\n",
              "3  Transporte_Norte           4          4           1325               30\n",
              "4  Transporte_Norte           5          2           1368               55\n",
              "5  Transporte_Norte           6          4           1233               34\n",
              "6  Transporte_Norte           7          2           1450               38\n",
              "7  Transporte_Norte           8          1           1325               41"
            ]
          },
          "metadata": {
            "tags": []
          },
          "execution_count": 9
        }
      ]
    },
    {
      "cell_type": "code",
      "metadata": {
        "colab": {
          "base_uri": "https://localhost:8080/",
          "height": 203
        },
        "id": "ASuFlwFht7Pj",
        "outputId": "85725663-9388-4161-fa03-35411552b4ab"
      },
      "source": [
        "df_r.tail()"
      ],
      "execution_count": null,
      "outputs": [
        {
          "output_type": "execute_result",
          "data": {
            "text/html": [
              "<div>\n",
              "<style scoped>\n",
              "    .dataframe tbody tr th:only-of-type {\n",
              "        vertical-align: middle;\n",
              "    }\n",
              "\n",
              "    .dataframe tbody tr th {\n",
              "        vertical-align: top;\n",
              "    }\n",
              "\n",
              "    .dataframe thead th {\n",
              "        text-align: right;\n",
              "    }\n",
              "</style>\n",
              "<table border=\"1\" class=\"dataframe\">\n",
              "  <thead>\n",
              "    <tr style=\"text-align: right;\">\n",
              "      <th></th>\n",
              "      <th>Empresa_transp</th>\n",
              "      <th>Punto_dist</th>\n",
              "      <th>Id_camion</th>\n",
              "      <th>cajas_entrega</th>\n",
              "      <th>Tiempo_despacho</th>\n",
              "    </tr>\n",
              "  </thead>\n",
              "  <tbody>\n",
              "    <tr>\n",
              "      <th>45</th>\n",
              "      <td>Transporte_Monky</td>\n",
              "      <td>16</td>\n",
              "      <td>1</td>\n",
              "      <td>92</td>\n",
              "      <td>11</td>\n",
              "    </tr>\n",
              "    <tr>\n",
              "      <th>46</th>\n",
              "      <td>Transporte_Monky</td>\n",
              "      <td>17</td>\n",
              "      <td>2</td>\n",
              "      <td>81</td>\n",
              "      <td>14</td>\n",
              "    </tr>\n",
              "    <tr>\n",
              "      <th>47</th>\n",
              "      <td>Transporte_Monky</td>\n",
              "      <td>18</td>\n",
              "      <td>3</td>\n",
              "      <td>86</td>\n",
              "      <td>13</td>\n",
              "    </tr>\n",
              "    <tr>\n",
              "      <th>48</th>\n",
              "      <td>Transporte_Monky</td>\n",
              "      <td>19</td>\n",
              "      <td>4</td>\n",
              "      <td>86</td>\n",
              "      <td>15</td>\n",
              "    </tr>\n",
              "    <tr>\n",
              "      <th>49</th>\n",
              "      <td>Transporte_Monky</td>\n",
              "      <td>20</td>\n",
              "      <td>4</td>\n",
              "      <td>91</td>\n",
              "      <td>13</td>\n",
              "    </tr>\n",
              "  </tbody>\n",
              "</table>\n",
              "</div>"
            ],
            "text/plain": [
              "      Empresa_transp  Punto_dist  Id_camion  cajas_entrega  Tiempo_despacho\n",
              "45  Transporte_Monky          16          1             92               11\n",
              "46  Transporte_Monky          17          2             81               14\n",
              "47  Transporte_Monky          18          3             86               13\n",
              "48  Transporte_Monky          19          4             86               15\n",
              "49  Transporte_Monky          20          4             91               13"
            ]
          },
          "metadata": {
            "tags": []
          },
          "execution_count": 10
        }
      ]
    },
    {
      "cell_type": "code",
      "metadata": {
        "colab": {
          "base_uri": "https://localhost:8080/",
          "height": 451
        },
        "id": "UAQN9fS9uBFH",
        "outputId": "6e00f9c2-f0b4-4f57-cf94-8bea30d06066"
      },
      "source": [
        "df_r.tail(13)"
      ],
      "execution_count": null,
      "outputs": [
        {
          "output_type": "execute_result",
          "data": {
            "text/html": [
              "<div>\n",
              "<style scoped>\n",
              "    .dataframe tbody tr th:only-of-type {\n",
              "        vertical-align: middle;\n",
              "    }\n",
              "\n",
              "    .dataframe tbody tr th {\n",
              "        vertical-align: top;\n",
              "    }\n",
              "\n",
              "    .dataframe thead th {\n",
              "        text-align: right;\n",
              "    }\n",
              "</style>\n",
              "<table border=\"1\" class=\"dataframe\">\n",
              "  <thead>\n",
              "    <tr style=\"text-align: right;\">\n",
              "      <th></th>\n",
              "      <th>Empresa_transp</th>\n",
              "      <th>Punto_dist</th>\n",
              "      <th>Id_camion</th>\n",
              "      <th>cajas_entrega</th>\n",
              "      <th>Tiempo_despacho</th>\n",
              "    </tr>\n",
              "  </thead>\n",
              "  <tbody>\n",
              "    <tr>\n",
              "      <th>37</th>\n",
              "      <td>Transporte_Monky</td>\n",
              "      <td>8</td>\n",
              "      <td>4</td>\n",
              "      <td>83</td>\n",
              "      <td>15</td>\n",
              "    </tr>\n",
              "    <tr>\n",
              "      <th>38</th>\n",
              "      <td>Transporte_Monky</td>\n",
              "      <td>9</td>\n",
              "      <td>2</td>\n",
              "      <td>83</td>\n",
              "      <td>12</td>\n",
              "    </tr>\n",
              "    <tr>\n",
              "      <th>39</th>\n",
              "      <td>Transporte_Monky</td>\n",
              "      <td>10</td>\n",
              "      <td>3</td>\n",
              "      <td>87</td>\n",
              "      <td>13</td>\n",
              "    </tr>\n",
              "    <tr>\n",
              "      <th>40</th>\n",
              "      <td>Transporte_Monky</td>\n",
              "      <td>11</td>\n",
              "      <td>3</td>\n",
              "      <td>95</td>\n",
              "      <td>14</td>\n",
              "    </tr>\n",
              "    <tr>\n",
              "      <th>41</th>\n",
              "      <td>Transporte_Monky</td>\n",
              "      <td>12</td>\n",
              "      <td>1</td>\n",
              "      <td>82</td>\n",
              "      <td>12</td>\n",
              "    </tr>\n",
              "    <tr>\n",
              "      <th>42</th>\n",
              "      <td>Transporte_Monky</td>\n",
              "      <td>13</td>\n",
              "      <td>1</td>\n",
              "      <td>85</td>\n",
              "      <td>12</td>\n",
              "    </tr>\n",
              "    <tr>\n",
              "      <th>43</th>\n",
              "      <td>Transporte_Monky</td>\n",
              "      <td>14</td>\n",
              "      <td>3</td>\n",
              "      <td>82</td>\n",
              "      <td>10</td>\n",
              "    </tr>\n",
              "    <tr>\n",
              "      <th>44</th>\n",
              "      <td>Transporte_Monky</td>\n",
              "      <td>15</td>\n",
              "      <td>2</td>\n",
              "      <td>85</td>\n",
              "      <td>10</td>\n",
              "    </tr>\n",
              "    <tr>\n",
              "      <th>45</th>\n",
              "      <td>Transporte_Monky</td>\n",
              "      <td>16</td>\n",
              "      <td>1</td>\n",
              "      <td>92</td>\n",
              "      <td>11</td>\n",
              "    </tr>\n",
              "    <tr>\n",
              "      <th>46</th>\n",
              "      <td>Transporte_Monky</td>\n",
              "      <td>17</td>\n",
              "      <td>2</td>\n",
              "      <td>81</td>\n",
              "      <td>14</td>\n",
              "    </tr>\n",
              "    <tr>\n",
              "      <th>47</th>\n",
              "      <td>Transporte_Monky</td>\n",
              "      <td>18</td>\n",
              "      <td>3</td>\n",
              "      <td>86</td>\n",
              "      <td>13</td>\n",
              "    </tr>\n",
              "    <tr>\n",
              "      <th>48</th>\n",
              "      <td>Transporte_Monky</td>\n",
              "      <td>19</td>\n",
              "      <td>4</td>\n",
              "      <td>86</td>\n",
              "      <td>15</td>\n",
              "    </tr>\n",
              "    <tr>\n",
              "      <th>49</th>\n",
              "      <td>Transporte_Monky</td>\n",
              "      <td>20</td>\n",
              "      <td>4</td>\n",
              "      <td>91</td>\n",
              "      <td>13</td>\n",
              "    </tr>\n",
              "  </tbody>\n",
              "</table>\n",
              "</div>"
            ],
            "text/plain": [
              "      Empresa_transp  Punto_dist  Id_camion  cajas_entrega  Tiempo_despacho\n",
              "37  Transporte_Monky           8          4             83               15\n",
              "38  Transporte_Monky           9          2             83               12\n",
              "39  Transporte_Monky          10          3             87               13\n",
              "40  Transporte_Monky          11          3             95               14\n",
              "41  Transporte_Monky          12          1             82               12\n",
              "42  Transporte_Monky          13          1             85               12\n",
              "43  Transporte_Monky          14          3             82               10\n",
              "44  Transporte_Monky          15          2             85               10\n",
              "45  Transporte_Monky          16          1             92               11\n",
              "46  Transporte_Monky          17          2             81               14\n",
              "47  Transporte_Monky          18          3             86               13\n",
              "48  Transporte_Monky          19          4             86               15\n",
              "49  Transporte_Monky          20          4             91               13"
            ]
          },
          "metadata": {
            "tags": []
          },
          "execution_count": 11
        }
      ]
    },
    {
      "cell_type": "code",
      "metadata": {
        "colab": {
          "base_uri": "https://localhost:8080/",
          "height": 1000
        },
        "id": "DBNrrg62uENm",
        "outputId": "42836d1f-c08c-44a7-de59-3d5acb9b59ac"
      },
      "source": [
        "df_a"
      ],
      "execution_count": null,
      "outputs": [
        {
          "output_type": "execute_result",
          "data": {
            "text/html": [
              "<div>\n",
              "<style scoped>\n",
              "    .dataframe tbody tr th:only-of-type {\n",
              "        vertical-align: middle;\n",
              "    }\n",
              "\n",
              "    .dataframe tbody tr th {\n",
              "        vertical-align: top;\n",
              "    }\n",
              "\n",
              "    .dataframe thead th {\n",
              "        text-align: right;\n",
              "    }\n",
              "</style>\n",
              "<table border=\"1\" class=\"dataframe\">\n",
              "  <thead>\n",
              "    <tr style=\"text-align: right;\">\n",
              "      <th></th>\n",
              "      <th>Empresa_transp</th>\n",
              "      <th>Punto_dist</th>\n",
              "      <th>Id_camion</th>\n",
              "      <th>cajas_entrega</th>\n",
              "      <th>Tiempo_despacho</th>\n",
              "    </tr>\n",
              "  </thead>\n",
              "  <tbody>\n",
              "    <tr>\n",
              "      <th>0</th>\n",
              "      <td>Transporte_Norte</td>\n",
              "      <td>1</td>\n",
              "      <td>4</td>\n",
              "      <td>1492</td>\n",
              "      <td>31</td>\n",
              "    </tr>\n",
              "    <tr>\n",
              "      <th>1</th>\n",
              "      <td>Transporte_Norte</td>\n",
              "      <td>2</td>\n",
              "      <td>1</td>\n",
              "      <td>1359</td>\n",
              "      <td>39</td>\n",
              "    </tr>\n",
              "    <tr>\n",
              "      <th>2</th>\n",
              "      <td>Transporte_Norte</td>\n",
              "      <td>3</td>\n",
              "      <td>5</td>\n",
              "      <td>1289</td>\n",
              "      <td>54</td>\n",
              "    </tr>\n",
              "    <tr>\n",
              "      <th>3</th>\n",
              "      <td>Transporte_Norte</td>\n",
              "      <td>4</td>\n",
              "      <td>4</td>\n",
              "      <td>1325</td>\n",
              "      <td>30</td>\n",
              "    </tr>\n",
              "    <tr>\n",
              "      <th>4</th>\n",
              "      <td>Transporte_Norte</td>\n",
              "      <td>5</td>\n",
              "      <td>2</td>\n",
              "      <td>1368</td>\n",
              "      <td>55</td>\n",
              "    </tr>\n",
              "    <tr>\n",
              "      <th>5</th>\n",
              "      <td>Transporte_Norte</td>\n",
              "      <td>6</td>\n",
              "      <td>4</td>\n",
              "      <td>1233</td>\n",
              "      <td>34</td>\n",
              "    </tr>\n",
              "    <tr>\n",
              "      <th>6</th>\n",
              "      <td>Transporte_Norte</td>\n",
              "      <td>7</td>\n",
              "      <td>2</td>\n",
              "      <td>1450</td>\n",
              "      <td>38</td>\n",
              "    </tr>\n",
              "    <tr>\n",
              "      <th>7</th>\n",
              "      <td>Transporte_Norte</td>\n",
              "      <td>8</td>\n",
              "      <td>1</td>\n",
              "      <td>1325</td>\n",
              "      <td>41</td>\n",
              "    </tr>\n",
              "    <tr>\n",
              "      <th>8</th>\n",
              "      <td>Transporte_Norte</td>\n",
              "      <td>9</td>\n",
              "      <td>4</td>\n",
              "      <td>1279</td>\n",
              "      <td>55</td>\n",
              "    </tr>\n",
              "    <tr>\n",
              "      <th>9</th>\n",
              "      <td>Transporte_Norte</td>\n",
              "      <td>10</td>\n",
              "      <td>5</td>\n",
              "      <td>1425</td>\n",
              "      <td>53</td>\n",
              "    </tr>\n",
              "    <tr>\n",
              "      <th>10</th>\n",
              "      <td>Transporte_Norte</td>\n",
              "      <td>11</td>\n",
              "      <td>1</td>\n",
              "      <td>1362</td>\n",
              "      <td>39</td>\n",
              "    </tr>\n",
              "    <tr>\n",
              "      <th>11</th>\n",
              "      <td>Transporte_Norte</td>\n",
              "      <td>12</td>\n",
              "      <td>5</td>\n",
              "      <td>1382</td>\n",
              "      <td>51</td>\n",
              "    </tr>\n",
              "    <tr>\n",
              "      <th>12</th>\n",
              "      <td>Transporte_Norte</td>\n",
              "      <td>13</td>\n",
              "      <td>4</td>\n",
              "      <td>1213</td>\n",
              "      <td>39</td>\n",
              "    </tr>\n",
              "    <tr>\n",
              "      <th>13</th>\n",
              "      <td>Transporte_Norte</td>\n",
              "      <td>14</td>\n",
              "      <td>1</td>\n",
              "      <td>1377</td>\n",
              "      <td>42</td>\n",
              "    </tr>\n",
              "    <tr>\n",
              "      <th>14</th>\n",
              "      <td>Transporte_Norte</td>\n",
              "      <td>15</td>\n",
              "      <td>3</td>\n",
              "      <td>1378</td>\n",
              "      <td>47</td>\n",
              "    </tr>\n",
              "    <tr>\n",
              "      <th>15</th>\n",
              "      <td>Transporte_Norte</td>\n",
              "      <td>16</td>\n",
              "      <td>4</td>\n",
              "      <td>1237</td>\n",
              "      <td>42</td>\n",
              "    </tr>\n",
              "    <tr>\n",
              "      <th>16</th>\n",
              "      <td>Transporte_Norte</td>\n",
              "      <td>17</td>\n",
              "      <td>3</td>\n",
              "      <td>1344</td>\n",
              "      <td>51</td>\n",
              "    </tr>\n",
              "    <tr>\n",
              "      <th>17</th>\n",
              "      <td>Transporte_Norte</td>\n",
              "      <td>18</td>\n",
              "      <td>1</td>\n",
              "      <td>1276</td>\n",
              "      <td>38</td>\n",
              "    </tr>\n",
              "    <tr>\n",
              "      <th>18</th>\n",
              "      <td>Transporte_Norte</td>\n",
              "      <td>19</td>\n",
              "      <td>2</td>\n",
              "      <td>1446</td>\n",
              "      <td>35</td>\n",
              "    </tr>\n",
              "    <tr>\n",
              "      <th>19</th>\n",
              "      <td>Transporte_Norte</td>\n",
              "      <td>20</td>\n",
              "      <td>4</td>\n",
              "      <td>1274</td>\n",
              "      <td>49</td>\n",
              "    </tr>\n",
              "    <tr>\n",
              "      <th>20</th>\n",
              "      <td>Transporte_Norte</td>\n",
              "      <td>21</td>\n",
              "      <td>2</td>\n",
              "      <td>1397</td>\n",
              "      <td>39</td>\n",
              "    </tr>\n",
              "    <tr>\n",
              "      <th>21</th>\n",
              "      <td>Transporte_Norte</td>\n",
              "      <td>22</td>\n",
              "      <td>3</td>\n",
              "      <td>1387</td>\n",
              "      <td>42</td>\n",
              "    </tr>\n",
              "    <tr>\n",
              "      <th>22</th>\n",
              "      <td>Transporte_Norte</td>\n",
              "      <td>23</td>\n",
              "      <td>1</td>\n",
              "      <td>1480</td>\n",
              "      <td>34</td>\n",
              "    </tr>\n",
              "    <tr>\n",
              "      <th>23</th>\n",
              "      <td>Transporte_Norte</td>\n",
              "      <td>24</td>\n",
              "      <td>4</td>\n",
              "      <td>1360</td>\n",
              "      <td>30</td>\n",
              "    </tr>\n",
              "    <tr>\n",
              "      <th>24</th>\n",
              "      <td>Transporte_Norte</td>\n",
              "      <td>25</td>\n",
              "      <td>3</td>\n",
              "      <td>1472</td>\n",
              "      <td>50</td>\n",
              "    </tr>\n",
              "    <tr>\n",
              "      <th>25</th>\n",
              "      <td>Transporte_Norte</td>\n",
              "      <td>26</td>\n",
              "      <td>1</td>\n",
              "      <td>1417</td>\n",
              "      <td>31</td>\n",
              "    </tr>\n",
              "    <tr>\n",
              "      <th>26</th>\n",
              "      <td>Transporte_Norte</td>\n",
              "      <td>27</td>\n",
              "      <td>5</td>\n",
              "      <td>1359</td>\n",
              "      <td>47</td>\n",
              "    </tr>\n",
              "    <tr>\n",
              "      <th>27</th>\n",
              "      <td>Transporte_Norte</td>\n",
              "      <td>28</td>\n",
              "      <td>2</td>\n",
              "      <td>1317</td>\n",
              "      <td>52</td>\n",
              "    </tr>\n",
              "    <tr>\n",
              "      <th>28</th>\n",
              "      <td>Transporte_Norte</td>\n",
              "      <td>29</td>\n",
              "      <td>1</td>\n",
              "      <td>1360</td>\n",
              "      <td>35</td>\n",
              "    </tr>\n",
              "    <tr>\n",
              "      <th>29</th>\n",
              "      <td>Transporte_Norte</td>\n",
              "      <td>30</td>\n",
              "      <td>2</td>\n",
              "      <td>1363</td>\n",
              "      <td>43</td>\n",
              "    </tr>\n",
              "    <tr>\n",
              "      <th>30</th>\n",
              "      <td>Transporte_Monky</td>\n",
              "      <td>1</td>\n",
              "      <td>1</td>\n",
              "      <td>85</td>\n",
              "      <td>11</td>\n",
              "    </tr>\n",
              "    <tr>\n",
              "      <th>31</th>\n",
              "      <td>Transporte_Monky</td>\n",
              "      <td>2</td>\n",
              "      <td>4</td>\n",
              "      <td>88</td>\n",
              "      <td>14</td>\n",
              "    </tr>\n",
              "    <tr>\n",
              "      <th>32</th>\n",
              "      <td>Transporte_Monky</td>\n",
              "      <td>3</td>\n",
              "      <td>4</td>\n",
              "      <td>93</td>\n",
              "      <td>14</td>\n",
              "    </tr>\n",
              "    <tr>\n",
              "      <th>33</th>\n",
              "      <td>Transporte_Monky</td>\n",
              "      <td>4</td>\n",
              "      <td>4</td>\n",
              "      <td>87</td>\n",
              "      <td>14</td>\n",
              "    </tr>\n",
              "    <tr>\n",
              "      <th>34</th>\n",
              "      <td>Transporte_Monky</td>\n",
              "      <td>5</td>\n",
              "      <td>4</td>\n",
              "      <td>98</td>\n",
              "      <td>14</td>\n",
              "    </tr>\n",
              "    <tr>\n",
              "      <th>35</th>\n",
              "      <td>Transporte_Monky</td>\n",
              "      <td>6</td>\n",
              "      <td>4</td>\n",
              "      <td>100</td>\n",
              "      <td>13</td>\n",
              "    </tr>\n",
              "    <tr>\n",
              "      <th>36</th>\n",
              "      <td>Transporte_Monky</td>\n",
              "      <td>7</td>\n",
              "      <td>2</td>\n",
              "      <td>92</td>\n",
              "      <td>10</td>\n",
              "    </tr>\n",
              "    <tr>\n",
              "      <th>37</th>\n",
              "      <td>Transporte_Monky</td>\n",
              "      <td>8</td>\n",
              "      <td>4</td>\n",
              "      <td>93</td>\n",
              "      <td>11</td>\n",
              "    </tr>\n",
              "    <tr>\n",
              "      <th>38</th>\n",
              "      <td>Transporte_Monky</td>\n",
              "      <td>9</td>\n",
              "      <td>2</td>\n",
              "      <td>88</td>\n",
              "      <td>10</td>\n",
              "    </tr>\n",
              "    <tr>\n",
              "      <th>39</th>\n",
              "      <td>Transporte_Monky</td>\n",
              "      <td>10</td>\n",
              "      <td>3</td>\n",
              "      <td>97</td>\n",
              "      <td>14</td>\n",
              "    </tr>\n",
              "    <tr>\n",
              "      <th>40</th>\n",
              "      <td>Transporte_Monky</td>\n",
              "      <td>11</td>\n",
              "      <td>3</td>\n",
              "      <td>90</td>\n",
              "      <td>12</td>\n",
              "    </tr>\n",
              "    <tr>\n",
              "      <th>41</th>\n",
              "      <td>Transporte_Monky</td>\n",
              "      <td>12</td>\n",
              "      <td>1</td>\n",
              "      <td>91</td>\n",
              "      <td>10</td>\n",
              "    </tr>\n",
              "    <tr>\n",
              "      <th>42</th>\n",
              "      <td>Transporte_Monky</td>\n",
              "      <td>13</td>\n",
              "      <td>1</td>\n",
              "      <td>92</td>\n",
              "      <td>15</td>\n",
              "    </tr>\n",
              "    <tr>\n",
              "      <th>43</th>\n",
              "      <td>Transporte_Monky</td>\n",
              "      <td>14</td>\n",
              "      <td>3</td>\n",
              "      <td>89</td>\n",
              "      <td>12</td>\n",
              "    </tr>\n",
              "    <tr>\n",
              "      <th>44</th>\n",
              "      <td>Transporte_Monky</td>\n",
              "      <td>15</td>\n",
              "      <td>2</td>\n",
              "      <td>97</td>\n",
              "      <td>13</td>\n",
              "    </tr>\n",
              "    <tr>\n",
              "      <th>45</th>\n",
              "      <td>Transporte_Monky</td>\n",
              "      <td>16</td>\n",
              "      <td>1</td>\n",
              "      <td>96</td>\n",
              "      <td>14</td>\n",
              "    </tr>\n",
              "    <tr>\n",
              "      <th>46</th>\n",
              "      <td>Transporte_Monky</td>\n",
              "      <td>17</td>\n",
              "      <td>2</td>\n",
              "      <td>89</td>\n",
              "      <td>12</td>\n",
              "    </tr>\n",
              "    <tr>\n",
              "      <th>47</th>\n",
              "      <td>Transporte_Monky</td>\n",
              "      <td>18</td>\n",
              "      <td>3</td>\n",
              "      <td>100</td>\n",
              "      <td>12</td>\n",
              "    </tr>\n",
              "    <tr>\n",
              "      <th>48</th>\n",
              "      <td>Transporte_Monky</td>\n",
              "      <td>19</td>\n",
              "      <td>4</td>\n",
              "      <td>91</td>\n",
              "      <td>12</td>\n",
              "    </tr>\n",
              "    <tr>\n",
              "      <th>49</th>\n",
              "      <td>Transporte_Monky</td>\n",
              "      <td>20</td>\n",
              "      <td>4</td>\n",
              "      <td>85</td>\n",
              "      <td>15</td>\n",
              "    </tr>\n",
              "  </tbody>\n",
              "</table>\n",
              "</div>"
            ],
            "text/plain": [
              "      Empresa_transp  Punto_dist  Id_camion  cajas_entrega  Tiempo_despacho\n",
              "0   Transporte_Norte           1          4           1492               31\n",
              "1   Transporte_Norte           2          1           1359               39\n",
              "2   Transporte_Norte           3          5           1289               54\n",
              "3   Transporte_Norte           4          4           1325               30\n",
              "4   Transporte_Norte           5          2           1368               55\n",
              "5   Transporte_Norte           6          4           1233               34\n",
              "6   Transporte_Norte           7          2           1450               38\n",
              "7   Transporte_Norte           8          1           1325               41\n",
              "8   Transporte_Norte           9          4           1279               55\n",
              "9   Transporte_Norte          10          5           1425               53\n",
              "10  Transporte_Norte          11          1           1362               39\n",
              "11  Transporte_Norte          12          5           1382               51\n",
              "12  Transporte_Norte          13          4           1213               39\n",
              "13  Transporte_Norte          14          1           1377               42\n",
              "14  Transporte_Norte          15          3           1378               47\n",
              "15  Transporte_Norte          16          4           1237               42\n",
              "16  Transporte_Norte          17          3           1344               51\n",
              "17  Transporte_Norte          18          1           1276               38\n",
              "18  Transporte_Norte          19          2           1446               35\n",
              "19  Transporte_Norte          20          4           1274               49\n",
              "20  Transporte_Norte          21          2           1397               39\n",
              "21  Transporte_Norte          22          3           1387               42\n",
              "22  Transporte_Norte          23          1           1480               34\n",
              "23  Transporte_Norte          24          4           1360               30\n",
              "24  Transporte_Norte          25          3           1472               50\n",
              "25  Transporte_Norte          26          1           1417               31\n",
              "26  Transporte_Norte          27          5           1359               47\n",
              "27  Transporte_Norte          28          2           1317               52\n",
              "28  Transporte_Norte          29          1           1360               35\n",
              "29  Transporte_Norte          30          2           1363               43\n",
              "30  Transporte_Monky           1          1             85               11\n",
              "31  Transporte_Monky           2          4             88               14\n",
              "32  Transporte_Monky           3          4             93               14\n",
              "33  Transporte_Monky           4          4             87               14\n",
              "34  Transporte_Monky           5          4             98               14\n",
              "35  Transporte_Monky           6          4            100               13\n",
              "36  Transporte_Monky           7          2             92               10\n",
              "37  Transporte_Monky           8          4             93               11\n",
              "38  Transporte_Monky           9          2             88               10\n",
              "39  Transporte_Monky          10          3             97               14\n",
              "40  Transporte_Monky          11          3             90               12\n",
              "41  Transporte_Monky          12          1             91               10\n",
              "42  Transporte_Monky          13          1             92               15\n",
              "43  Transporte_Monky          14          3             89               12\n",
              "44  Transporte_Monky          15          2             97               13\n",
              "45  Transporte_Monky          16          1             96               14\n",
              "46  Transporte_Monky          17          2             89               12\n",
              "47  Transporte_Monky          18          3            100               12\n",
              "48  Transporte_Monky          19          4             91               12\n",
              "49  Transporte_Monky          20          4             85               15"
            ]
          },
          "metadata": {
            "tags": []
          },
          "execution_count": 12
        }
      ]
    },
    {
      "cell_type": "code",
      "metadata": {
        "colab": {
          "base_uri": "https://localhost:8080/"
        },
        "id": "uwkZUmVkuSgu",
        "outputId": "9279210a-83e1-4329-e8da-e5613208a5a1"
      },
      "source": [
        "print(df_r)"
      ],
      "execution_count": null,
      "outputs": [
        {
          "output_type": "stream",
          "text": [
            "      Empresa_transp  Punto_dist  Id_camion  cajas_entrega  Tiempo_despacho\n",
            "0   Transporte_Norte           1          4           1126               38\n",
            "1   Transporte_Norte           2          1           1241               48\n",
            "2   Transporte_Norte           3          5           1380               42\n",
            "3   Transporte_Norte           4          4           1382               34\n",
            "4   Transporte_Norte           5          2           1139               51\n",
            "5   Transporte_Norte           6          4           1264               37\n",
            "6   Transporte_Norte           7          2           1236               54\n",
            "7   Transporte_Norte           8          1           1416               35\n",
            "8   Transporte_Norte           9          4           1324               40\n",
            "9   Transporte_Norte          10          5           1390               42\n",
            "10  Transporte_Norte          11          1           1307               34\n",
            "11  Transporte_Norte          12          5           1415               35\n",
            "12  Transporte_Norte          13          4           1310               45\n",
            "13  Transporte_Norte          14          1           1168               35\n",
            "14  Transporte_Norte          15          3           1266               50\n",
            "15  Transporte_Norte          16          4           1169               34\n",
            "16  Transporte_Norte          17          3           1162               34\n",
            "17  Transporte_Norte          18          1           1376               38\n",
            "18  Transporte_Norte          19          2           1303               55\n",
            "19  Transporte_Norte          20          4           1162               50\n",
            "20  Transporte_Norte          21          2           1357               42\n",
            "21  Transporte_Norte          22          3           1427               41\n",
            "22  Transporte_Norte          23          1           1141               35\n",
            "23  Transporte_Norte          24          4           1180               32\n",
            "24  Transporte_Norte          25          3           1363               44\n",
            "25  Transporte_Norte          26          1           1172               43\n",
            "26  Transporte_Norte          27          5           1341               38\n",
            "27  Transporte_Norte          28          2           1296               54\n",
            "28  Transporte_Norte          29          1           1435               44\n",
            "29  Transporte_Norte          30          2           1177               37\n",
            "30  Transporte_Monky           1          1             83               11\n",
            "31  Transporte_Monky           2          4             86               10\n",
            "32  Transporte_Monky           3          4             93               15\n",
            "33  Transporte_Monky           4          4             81               11\n",
            "34  Transporte_Monky           5          4             85               11\n",
            "35  Transporte_Monky           6          4             95               14\n",
            "36  Transporte_Monky           7          2             93               11\n",
            "37  Transporte_Monky           8          4             83               15\n",
            "38  Transporte_Monky           9          2             83               12\n",
            "39  Transporte_Monky          10          3             87               13\n",
            "40  Transporte_Monky          11          3             95               14\n",
            "41  Transporte_Monky          12          1             82               12\n",
            "42  Transporte_Monky          13          1             85               12\n",
            "43  Transporte_Monky          14          3             82               10\n",
            "44  Transporte_Monky          15          2             85               10\n",
            "45  Transporte_Monky          16          1             92               11\n",
            "46  Transporte_Monky          17          2             81               14\n",
            "47  Transporte_Monky          18          3             86               13\n",
            "48  Transporte_Monky          19          4             86               15\n",
            "49  Transporte_Monky          20          4             91               13\n"
          ],
          "name": "stdout"
        }
      ]
    },
    {
      "cell_type": "code",
      "metadata": {
        "colab": {
          "base_uri": "https://localhost:8080/",
          "height": 266
        },
        "id": "BsEV3nf9FFU_",
        "outputId": "e6c12379-e09a-4551-b320-50b867de1c7d"
      },
      "source": [
        "df_a[df_a[\"cajas_entrega\"]>1400]"
      ],
      "execution_count": null,
      "outputs": [
        {
          "output_type": "execute_result",
          "data": {
            "text/html": [
              "<div>\n",
              "<style scoped>\n",
              "    .dataframe tbody tr th:only-of-type {\n",
              "        vertical-align: middle;\n",
              "    }\n",
              "\n",
              "    .dataframe tbody tr th {\n",
              "        vertical-align: top;\n",
              "    }\n",
              "\n",
              "    .dataframe thead th {\n",
              "        text-align: right;\n",
              "    }\n",
              "</style>\n",
              "<table border=\"1\" class=\"dataframe\">\n",
              "  <thead>\n",
              "    <tr style=\"text-align: right;\">\n",
              "      <th></th>\n",
              "      <th>Empresa_transp</th>\n",
              "      <th>Punto_dist</th>\n",
              "      <th>Id_camion</th>\n",
              "      <th>cajas_entrega</th>\n",
              "      <th>Tiempo_despacho</th>\n",
              "    </tr>\n",
              "  </thead>\n",
              "  <tbody>\n",
              "    <tr>\n",
              "      <th>0</th>\n",
              "      <td>Transporte_Norte</td>\n",
              "      <td>1</td>\n",
              "      <td>4</td>\n",
              "      <td>1492</td>\n",
              "      <td>31</td>\n",
              "    </tr>\n",
              "    <tr>\n",
              "      <th>6</th>\n",
              "      <td>Transporte_Norte</td>\n",
              "      <td>7</td>\n",
              "      <td>2</td>\n",
              "      <td>1450</td>\n",
              "      <td>38</td>\n",
              "    </tr>\n",
              "    <tr>\n",
              "      <th>9</th>\n",
              "      <td>Transporte_Norte</td>\n",
              "      <td>10</td>\n",
              "      <td>5</td>\n",
              "      <td>1425</td>\n",
              "      <td>53</td>\n",
              "    </tr>\n",
              "    <tr>\n",
              "      <th>18</th>\n",
              "      <td>Transporte_Norte</td>\n",
              "      <td>19</td>\n",
              "      <td>2</td>\n",
              "      <td>1446</td>\n",
              "      <td>35</td>\n",
              "    </tr>\n",
              "    <tr>\n",
              "      <th>22</th>\n",
              "      <td>Transporte_Norte</td>\n",
              "      <td>23</td>\n",
              "      <td>1</td>\n",
              "      <td>1480</td>\n",
              "      <td>34</td>\n",
              "    </tr>\n",
              "    <tr>\n",
              "      <th>24</th>\n",
              "      <td>Transporte_Norte</td>\n",
              "      <td>25</td>\n",
              "      <td>3</td>\n",
              "      <td>1472</td>\n",
              "      <td>50</td>\n",
              "    </tr>\n",
              "    <tr>\n",
              "      <th>25</th>\n",
              "      <td>Transporte_Norte</td>\n",
              "      <td>26</td>\n",
              "      <td>1</td>\n",
              "      <td>1417</td>\n",
              "      <td>31</td>\n",
              "    </tr>\n",
              "  </tbody>\n",
              "</table>\n",
              "</div>"
            ],
            "text/plain": [
              "      Empresa_transp  Punto_dist  Id_camion  cajas_entrega  Tiempo_despacho\n",
              "0   Transporte_Norte           1          4           1492               31\n",
              "6   Transporte_Norte           7          2           1450               38\n",
              "9   Transporte_Norte          10          5           1425               53\n",
              "18  Transporte_Norte          19          2           1446               35\n",
              "22  Transporte_Norte          23          1           1480               34\n",
              "24  Transporte_Norte          25          3           1472               50\n",
              "25  Transporte_Norte          26          1           1417               31"
            ]
          },
          "metadata": {
            "tags": []
          },
          "execution_count": 14
        }
      ]
    },
    {
      "cell_type": "code",
      "metadata": {
        "colab": {
          "base_uri": "https://localhost:8080/",
          "height": 173
        },
        "id": "jMdLAGk3u-Qi",
        "outputId": "4c61570c-c807-4036-eab7-bea2e867f959"
      },
      "source": [
        "df_r[df_r[\"cajas_entrega\"]>1400]"
      ],
      "execution_count": null,
      "outputs": [
        {
          "output_type": "execute_result",
          "data": {
            "text/html": [
              "<div>\n",
              "<style scoped>\n",
              "    .dataframe tbody tr th:only-of-type {\n",
              "        vertical-align: middle;\n",
              "    }\n",
              "\n",
              "    .dataframe tbody tr th {\n",
              "        vertical-align: top;\n",
              "    }\n",
              "\n",
              "    .dataframe thead th {\n",
              "        text-align: right;\n",
              "    }\n",
              "</style>\n",
              "<table border=\"1\" class=\"dataframe\">\n",
              "  <thead>\n",
              "    <tr style=\"text-align: right;\">\n",
              "      <th></th>\n",
              "      <th>Empresa_transp</th>\n",
              "      <th>Punto_dist</th>\n",
              "      <th>Id_camion</th>\n",
              "      <th>cajas_entrega</th>\n",
              "      <th>Tiempo_despacho</th>\n",
              "    </tr>\n",
              "  </thead>\n",
              "  <tbody>\n",
              "    <tr>\n",
              "      <th>7</th>\n",
              "      <td>Transporte_Norte</td>\n",
              "      <td>8</td>\n",
              "      <td>1</td>\n",
              "      <td>1416</td>\n",
              "      <td>35</td>\n",
              "    </tr>\n",
              "    <tr>\n",
              "      <th>11</th>\n",
              "      <td>Transporte_Norte</td>\n",
              "      <td>12</td>\n",
              "      <td>5</td>\n",
              "      <td>1415</td>\n",
              "      <td>35</td>\n",
              "    </tr>\n",
              "    <tr>\n",
              "      <th>21</th>\n",
              "      <td>Transporte_Norte</td>\n",
              "      <td>22</td>\n",
              "      <td>3</td>\n",
              "      <td>1427</td>\n",
              "      <td>41</td>\n",
              "    </tr>\n",
              "    <tr>\n",
              "      <th>28</th>\n",
              "      <td>Transporte_Norte</td>\n",
              "      <td>29</td>\n",
              "      <td>1</td>\n",
              "      <td>1435</td>\n",
              "      <td>44</td>\n",
              "    </tr>\n",
              "  </tbody>\n",
              "</table>\n",
              "</div>"
            ],
            "text/plain": [
              "      Empresa_transp  Punto_dist  Id_camion  cajas_entrega  Tiempo_despacho\n",
              "7   Transporte_Norte           8          1           1416               35\n",
              "11  Transporte_Norte          12          5           1415               35\n",
              "21  Transporte_Norte          22          3           1427               41\n",
              "28  Transporte_Norte          29          1           1435               44"
            ]
          },
          "metadata": {
            "tags": []
          },
          "execution_count": 15
        }
      ]
    },
    {
      "cell_type": "code",
      "metadata": {
        "colab": {
          "base_uri": "https://localhost:8080/",
          "height": 360
        },
        "id": "iFjMQ3WMvU_9",
        "outputId": "122c4dc4-b2d1-46d6-aee5-7c5f7ce4c234"
      },
      "source": [
        "df_a[df_a[\"Tiempo_despacho\"]<=12] "
      ],
      "execution_count": null,
      "outputs": [
        {
          "output_type": "execute_result",
          "data": {
            "text/html": [
              "<div>\n",
              "<style scoped>\n",
              "    .dataframe tbody tr th:only-of-type {\n",
              "        vertical-align: middle;\n",
              "    }\n",
              "\n",
              "    .dataframe tbody tr th {\n",
              "        vertical-align: top;\n",
              "    }\n",
              "\n",
              "    .dataframe thead th {\n",
              "        text-align: right;\n",
              "    }\n",
              "</style>\n",
              "<table border=\"1\" class=\"dataframe\">\n",
              "  <thead>\n",
              "    <tr style=\"text-align: right;\">\n",
              "      <th></th>\n",
              "      <th>Empresa_transp</th>\n",
              "      <th>Punto_dist</th>\n",
              "      <th>Id_camion</th>\n",
              "      <th>cajas_entrega</th>\n",
              "      <th>Tiempo_despacho</th>\n",
              "    </tr>\n",
              "  </thead>\n",
              "  <tbody>\n",
              "    <tr>\n",
              "      <th>30</th>\n",
              "      <td>Transporte_Monky</td>\n",
              "      <td>1</td>\n",
              "      <td>1</td>\n",
              "      <td>85</td>\n",
              "      <td>11</td>\n",
              "    </tr>\n",
              "    <tr>\n",
              "      <th>36</th>\n",
              "      <td>Transporte_Monky</td>\n",
              "      <td>7</td>\n",
              "      <td>2</td>\n",
              "      <td>92</td>\n",
              "      <td>10</td>\n",
              "    </tr>\n",
              "    <tr>\n",
              "      <th>37</th>\n",
              "      <td>Transporte_Monky</td>\n",
              "      <td>8</td>\n",
              "      <td>4</td>\n",
              "      <td>93</td>\n",
              "      <td>11</td>\n",
              "    </tr>\n",
              "    <tr>\n",
              "      <th>38</th>\n",
              "      <td>Transporte_Monky</td>\n",
              "      <td>9</td>\n",
              "      <td>2</td>\n",
              "      <td>88</td>\n",
              "      <td>10</td>\n",
              "    </tr>\n",
              "    <tr>\n",
              "      <th>40</th>\n",
              "      <td>Transporte_Monky</td>\n",
              "      <td>11</td>\n",
              "      <td>3</td>\n",
              "      <td>90</td>\n",
              "      <td>12</td>\n",
              "    </tr>\n",
              "    <tr>\n",
              "      <th>41</th>\n",
              "      <td>Transporte_Monky</td>\n",
              "      <td>12</td>\n",
              "      <td>1</td>\n",
              "      <td>91</td>\n",
              "      <td>10</td>\n",
              "    </tr>\n",
              "    <tr>\n",
              "      <th>43</th>\n",
              "      <td>Transporte_Monky</td>\n",
              "      <td>14</td>\n",
              "      <td>3</td>\n",
              "      <td>89</td>\n",
              "      <td>12</td>\n",
              "    </tr>\n",
              "    <tr>\n",
              "      <th>46</th>\n",
              "      <td>Transporte_Monky</td>\n",
              "      <td>17</td>\n",
              "      <td>2</td>\n",
              "      <td>89</td>\n",
              "      <td>12</td>\n",
              "    </tr>\n",
              "    <tr>\n",
              "      <th>47</th>\n",
              "      <td>Transporte_Monky</td>\n",
              "      <td>18</td>\n",
              "      <td>3</td>\n",
              "      <td>100</td>\n",
              "      <td>12</td>\n",
              "    </tr>\n",
              "    <tr>\n",
              "      <th>48</th>\n",
              "      <td>Transporte_Monky</td>\n",
              "      <td>19</td>\n",
              "      <td>4</td>\n",
              "      <td>91</td>\n",
              "      <td>12</td>\n",
              "    </tr>\n",
              "  </tbody>\n",
              "</table>\n",
              "</div>"
            ],
            "text/plain": [
              "      Empresa_transp  Punto_dist  Id_camion  cajas_entrega  Tiempo_despacho\n",
              "30  Transporte_Monky           1          1             85               11\n",
              "36  Transporte_Monky           7          2             92               10\n",
              "37  Transporte_Monky           8          4             93               11\n",
              "38  Transporte_Monky           9          2             88               10\n",
              "40  Transporte_Monky          11          3             90               12\n",
              "41  Transporte_Monky          12          1             91               10\n",
              "43  Transporte_Monky          14          3             89               12\n",
              "46  Transporte_Monky          17          2             89               12\n",
              "47  Transporte_Monky          18          3            100               12\n",
              "48  Transporte_Monky          19          4             91               12"
            ]
          },
          "metadata": {
            "tags": []
          },
          "execution_count": 16
        }
      ]
    },
    {
      "cell_type": "code",
      "metadata": {
        "colab": {
          "base_uri": "https://localhost:8080/",
          "height": 142
        },
        "id": "joSKmAYQFme9",
        "outputId": "f01cbf06-2e14-4930-a87f-f986cca48651"
      },
      "source": [
        "df_r[df_r[\"Tiempo_despacho\"]<=12] "
      ],
      "execution_count": null,
      "outputs": [
        {
          "output_type": "execute_result",
          "data": {
            "text/html": [
              "<div>\n",
              "<style scoped>\n",
              "    .dataframe tbody tr th:only-of-type {\n",
              "        vertical-align: middle;\n",
              "    }\n",
              "\n",
              "    .dataframe tbody tr th {\n",
              "        vertical-align: top;\n",
              "    }\n",
              "\n",
              "    .dataframe thead th {\n",
              "        text-align: right;\n",
              "    }\n",
              "</style>\n",
              "<table border=\"1\" class=\"dataframe\">\n",
              "  <thead>\n",
              "    <tr style=\"text-align: right;\">\n",
              "      <th></th>\n",
              "      <th>Empresa_transp</th>\n",
              "      <th>Punto_dist</th>\n",
              "      <th>Id_camion</th>\n",
              "      <th>cajas_entrega</th>\n",
              "      <th>Tiempo_despacho</th>\n",
              "    </tr>\n",
              "  </thead>\n",
              "  <tbody>\n",
              "    <tr>\n",
              "      <th>31</th>\n",
              "      <td>Transporte_Monky</td>\n",
              "      <td>2</td>\n",
              "      <td>4</td>\n",
              "      <td>86</td>\n",
              "      <td>10</td>\n",
              "    </tr>\n",
              "    <tr>\n",
              "      <th>43</th>\n",
              "      <td>Transporte_Monky</td>\n",
              "      <td>14</td>\n",
              "      <td>3</td>\n",
              "      <td>82</td>\n",
              "      <td>10</td>\n",
              "    </tr>\n",
              "    <tr>\n",
              "      <th>44</th>\n",
              "      <td>Transporte_Monky</td>\n",
              "      <td>15</td>\n",
              "      <td>2</td>\n",
              "      <td>85</td>\n",
              "      <td>10</td>\n",
              "    </tr>\n",
              "  </tbody>\n",
              "</table>\n",
              "</div>"
            ],
            "text/plain": [
              "      Empresa_transp  Punto_dist  Id_camion  cajas_entrega  Tiempo_despacho\n",
              "31  Transporte_Monky           2          4             86               10\n",
              "43  Transporte_Monky          14          3             82               10\n",
              "44  Transporte_Monky          15          2             85               10"
            ]
          },
          "metadata": {
            "tags": []
          },
          "execution_count": 18
        }
      ]
    },
    {
      "cell_type": "code",
      "metadata": {
        "colab": {
          "base_uri": "https://localhost:8080/",
          "height": 360
        },
        "id": "S7LH9DcEvjgi",
        "outputId": "9e60d7f4-34ce-4ea5-c52d-d5768ada5fff"
      },
      "source": [
        "df_a[(df_a[\"Tiempo_despacho\"]>=13)&(df_a[\"Tiempo_despacho\"]<=15)] #MOSTRAR UN RANG0: ENTRE 13 Y 15"
      ],
      "execution_count": null,
      "outputs": [
        {
          "output_type": "execute_result",
          "data": {
            "text/html": [
              "<div>\n",
              "<style scoped>\n",
              "    .dataframe tbody tr th:only-of-type {\n",
              "        vertical-align: middle;\n",
              "    }\n",
              "\n",
              "    .dataframe tbody tr th {\n",
              "        vertical-align: top;\n",
              "    }\n",
              "\n",
              "    .dataframe thead th {\n",
              "        text-align: right;\n",
              "    }\n",
              "</style>\n",
              "<table border=\"1\" class=\"dataframe\">\n",
              "  <thead>\n",
              "    <tr style=\"text-align: right;\">\n",
              "      <th></th>\n",
              "      <th>Empresa_transp</th>\n",
              "      <th>Punto_dist</th>\n",
              "      <th>Id_camion</th>\n",
              "      <th>cajas_entrega</th>\n",
              "      <th>Tiempo_despacho</th>\n",
              "    </tr>\n",
              "  </thead>\n",
              "  <tbody>\n",
              "    <tr>\n",
              "      <th>31</th>\n",
              "      <td>Transporte_Monky</td>\n",
              "      <td>2</td>\n",
              "      <td>4</td>\n",
              "      <td>88</td>\n",
              "      <td>14</td>\n",
              "    </tr>\n",
              "    <tr>\n",
              "      <th>32</th>\n",
              "      <td>Transporte_Monky</td>\n",
              "      <td>3</td>\n",
              "      <td>4</td>\n",
              "      <td>93</td>\n",
              "      <td>14</td>\n",
              "    </tr>\n",
              "    <tr>\n",
              "      <th>33</th>\n",
              "      <td>Transporte_Monky</td>\n",
              "      <td>4</td>\n",
              "      <td>4</td>\n",
              "      <td>87</td>\n",
              "      <td>14</td>\n",
              "    </tr>\n",
              "    <tr>\n",
              "      <th>34</th>\n",
              "      <td>Transporte_Monky</td>\n",
              "      <td>5</td>\n",
              "      <td>4</td>\n",
              "      <td>98</td>\n",
              "      <td>14</td>\n",
              "    </tr>\n",
              "    <tr>\n",
              "      <th>35</th>\n",
              "      <td>Transporte_Monky</td>\n",
              "      <td>6</td>\n",
              "      <td>4</td>\n",
              "      <td>100</td>\n",
              "      <td>13</td>\n",
              "    </tr>\n",
              "    <tr>\n",
              "      <th>39</th>\n",
              "      <td>Transporte_Monky</td>\n",
              "      <td>10</td>\n",
              "      <td>3</td>\n",
              "      <td>97</td>\n",
              "      <td>14</td>\n",
              "    </tr>\n",
              "    <tr>\n",
              "      <th>42</th>\n",
              "      <td>Transporte_Monky</td>\n",
              "      <td>13</td>\n",
              "      <td>1</td>\n",
              "      <td>92</td>\n",
              "      <td>15</td>\n",
              "    </tr>\n",
              "    <tr>\n",
              "      <th>44</th>\n",
              "      <td>Transporte_Monky</td>\n",
              "      <td>15</td>\n",
              "      <td>2</td>\n",
              "      <td>97</td>\n",
              "      <td>13</td>\n",
              "    </tr>\n",
              "    <tr>\n",
              "      <th>45</th>\n",
              "      <td>Transporte_Monky</td>\n",
              "      <td>16</td>\n",
              "      <td>1</td>\n",
              "      <td>96</td>\n",
              "      <td>14</td>\n",
              "    </tr>\n",
              "    <tr>\n",
              "      <th>49</th>\n",
              "      <td>Transporte_Monky</td>\n",
              "      <td>20</td>\n",
              "      <td>4</td>\n",
              "      <td>85</td>\n",
              "      <td>15</td>\n",
              "    </tr>\n",
              "  </tbody>\n",
              "</table>\n",
              "</div>"
            ],
            "text/plain": [
              "      Empresa_transp  Punto_dist  Id_camion  cajas_entrega  Tiempo_despacho\n",
              "31  Transporte_Monky           2          4             88               14\n",
              "32  Transporte_Monky           3          4             93               14\n",
              "33  Transporte_Monky           4          4             87               14\n",
              "34  Transporte_Monky           5          4             98               14\n",
              "35  Transporte_Monky           6          4            100               13\n",
              "39  Transporte_Monky          10          3             97               14\n",
              "42  Transporte_Monky          13          1             92               15\n",
              "44  Transporte_Monky          15          2             97               13\n",
              "45  Transporte_Monky          16          1             96               14\n",
              "49  Transporte_Monky          20          4             85               15"
            ]
          },
          "metadata": {
            "tags": []
          },
          "execution_count": 20
        }
      ]
    },
    {
      "cell_type": "code",
      "metadata": {
        "colab": {
          "base_uri": "https://localhost:8080/"
        },
        "id": "sESd9dIfv2Uk",
        "outputId": "9cf1f650-1b69-497d-9417-15b57ff0ae69"
      },
      "source": [
        "df_a[(df_a[\"Tiempo_despacho\"]>=13)&(df_a[\"Tiempo_despacho\"]<=15)].count() "
      ],
      "execution_count": null,
      "outputs": [
        {
          "output_type": "execute_result",
          "data": {
            "text/plain": [
              "Empresa_transp     10\n",
              "Punto_dist         10\n",
              "Id_camion          10\n",
              "cajas_entrega      10\n",
              "Tiempo_despacho    10\n",
              "dtype: int64"
            ]
          },
          "metadata": {
            "tags": []
          },
          "execution_count": 21
        }
      ]
    },
    {
      "cell_type": "code",
      "metadata": {
        "colab": {
          "base_uri": "https://localhost:8080/",
          "height": 328
        },
        "id": "FKLb8ZnTGc1E",
        "outputId": "9c23e05a-ea7c-4330-dcb1-cef0b23883ee"
      },
      "source": [
        "df_r[(df_r[\"Tiempo_despacho\"]>=13)&(df_r[\"Tiempo_despacho\"]<=15)] #MOSTRAR UN RANG0: ENTRE 13 Y 15 "
      ],
      "execution_count": null,
      "outputs": [
        {
          "output_type": "execute_result",
          "data": {
            "text/html": [
              "<div>\n",
              "<style scoped>\n",
              "    .dataframe tbody tr th:only-of-type {\n",
              "        vertical-align: middle;\n",
              "    }\n",
              "\n",
              "    .dataframe tbody tr th {\n",
              "        vertical-align: top;\n",
              "    }\n",
              "\n",
              "    .dataframe thead th {\n",
              "        text-align: right;\n",
              "    }\n",
              "</style>\n",
              "<table border=\"1\" class=\"dataframe\">\n",
              "  <thead>\n",
              "    <tr style=\"text-align: right;\">\n",
              "      <th></th>\n",
              "      <th>Empresa_transp</th>\n",
              "      <th>Punto_dist</th>\n",
              "      <th>Id_camion</th>\n",
              "      <th>cajas_entrega</th>\n",
              "      <th>Tiempo_despacho</th>\n",
              "    </tr>\n",
              "  </thead>\n",
              "  <tbody>\n",
              "    <tr>\n",
              "      <th>32</th>\n",
              "      <td>Transporte_Monky</td>\n",
              "      <td>3</td>\n",
              "      <td>4</td>\n",
              "      <td>93</td>\n",
              "      <td>15</td>\n",
              "    </tr>\n",
              "    <tr>\n",
              "      <th>35</th>\n",
              "      <td>Transporte_Monky</td>\n",
              "      <td>6</td>\n",
              "      <td>4</td>\n",
              "      <td>95</td>\n",
              "      <td>14</td>\n",
              "    </tr>\n",
              "    <tr>\n",
              "      <th>37</th>\n",
              "      <td>Transporte_Monky</td>\n",
              "      <td>8</td>\n",
              "      <td>4</td>\n",
              "      <td>83</td>\n",
              "      <td>15</td>\n",
              "    </tr>\n",
              "    <tr>\n",
              "      <th>39</th>\n",
              "      <td>Transporte_Monky</td>\n",
              "      <td>10</td>\n",
              "      <td>3</td>\n",
              "      <td>87</td>\n",
              "      <td>13</td>\n",
              "    </tr>\n",
              "    <tr>\n",
              "      <th>40</th>\n",
              "      <td>Transporte_Monky</td>\n",
              "      <td>11</td>\n",
              "      <td>3</td>\n",
              "      <td>95</td>\n",
              "      <td>14</td>\n",
              "    </tr>\n",
              "    <tr>\n",
              "      <th>46</th>\n",
              "      <td>Transporte_Monky</td>\n",
              "      <td>17</td>\n",
              "      <td>2</td>\n",
              "      <td>81</td>\n",
              "      <td>14</td>\n",
              "    </tr>\n",
              "    <tr>\n",
              "      <th>47</th>\n",
              "      <td>Transporte_Monky</td>\n",
              "      <td>18</td>\n",
              "      <td>3</td>\n",
              "      <td>86</td>\n",
              "      <td>13</td>\n",
              "    </tr>\n",
              "    <tr>\n",
              "      <th>48</th>\n",
              "      <td>Transporte_Monky</td>\n",
              "      <td>19</td>\n",
              "      <td>4</td>\n",
              "      <td>86</td>\n",
              "      <td>15</td>\n",
              "    </tr>\n",
              "    <tr>\n",
              "      <th>49</th>\n",
              "      <td>Transporte_Monky</td>\n",
              "      <td>20</td>\n",
              "      <td>4</td>\n",
              "      <td>91</td>\n",
              "      <td>13</td>\n",
              "    </tr>\n",
              "  </tbody>\n",
              "</table>\n",
              "</div>"
            ],
            "text/plain": [
              "      Empresa_transp  Punto_dist  Id_camion  cajas_entrega  Tiempo_despacho\n",
              "32  Transporte_Monky           3          4             93               15\n",
              "35  Transporte_Monky           6          4             95               14\n",
              "37  Transporte_Monky           8          4             83               15\n",
              "39  Transporte_Monky          10          3             87               13\n",
              "40  Transporte_Monky          11          3             95               14\n",
              "46  Transporte_Monky          17          2             81               14\n",
              "47  Transporte_Monky          18          3             86               13\n",
              "48  Transporte_Monky          19          4             86               15\n",
              "49  Transporte_Monky          20          4             91               13"
            ]
          },
          "metadata": {
            "tags": []
          },
          "execution_count": 22
        }
      ]
    },
    {
      "cell_type": "code",
      "metadata": {
        "colab": {
          "base_uri": "https://localhost:8080/"
        },
        "id": "kCIt8tz0wIrh",
        "outputId": "01d10b99-f008-4029-bfbd-2af317f9786d"
      },
      "source": [
        "df_r[(df_r[\"Tiempo_despacho\"]>=13)&(df_r[\"Tiempo_despacho\"]<=15)].count()"
      ],
      "execution_count": null,
      "outputs": [
        {
          "output_type": "execute_result",
          "data": {
            "text/plain": [
              "Empresa_transp     9\n",
              "Punto_dist         9\n",
              "Id_camion          9\n",
              "cajas_entrega      9\n",
              "Tiempo_despacho    9\n",
              "dtype: int64"
            ]
          },
          "metadata": {
            "tags": []
          },
          "execution_count": 23
        }
      ]
    },
    {
      "cell_type": "code",
      "metadata": {
        "colab": {
          "base_uri": "https://localhost:8080/"
        },
        "id": "92vwy8E4Q3vO",
        "outputId": "d71f292a-efc7-4571-a741-e243b60a2ad9"
      },
      "source": [
        "df_a.columns"
      ],
      "execution_count": null,
      "outputs": [
        {
          "output_type": "execute_result",
          "data": {
            "text/plain": [
              "Index(['Empresa_transp', 'Punto_dist', 'Id_camion', 'cajas_entrega',\n",
              "       'Tiempo_despacho'],\n",
              "      dtype='object')"
            ]
          },
          "metadata": {
            "tags": []
          },
          "execution_count": 25
        }
      ]
    },
    {
      "cell_type": "code",
      "metadata": {
        "colab": {
          "base_uri": "https://localhost:8080/"
        },
        "id": "_8sVSHH7Sdig",
        "outputId": "3c2d3a21-e057-49dd-b268-77103d613aaa"
      },
      "source": [
        "df_a.shape"
      ],
      "execution_count": null,
      "outputs": [
        {
          "output_type": "execute_result",
          "data": {
            "text/plain": [
              "(50, 5)"
            ]
          },
          "metadata": {
            "tags": []
          },
          "execution_count": 26
        }
      ]
    },
    {
      "cell_type": "code",
      "metadata": {
        "colab": {
          "base_uri": "https://localhost:8080/"
        },
        "id": "MWexZDBmTB7N",
        "outputId": "b7f00fcb-7a3c-47bb-df2b-40688cab655c"
      },
      "source": [
        "df_a.info()"
      ],
      "execution_count": null,
      "outputs": [
        {
          "output_type": "stream",
          "text": [
            "<class 'pandas.core.frame.DataFrame'>\n",
            "RangeIndex: 50 entries, 0 to 49\n",
            "Data columns (total 5 columns):\n",
            " #   Column           Non-Null Count  Dtype \n",
            "---  ------           --------------  ----- \n",
            " 0   Empresa_transp   50 non-null     object\n",
            " 1   Punto_dist       50 non-null     int64 \n",
            " 2   Id_camion        50 non-null     int64 \n",
            " 3   cajas_entrega    50 non-null     int64 \n",
            " 4   Tiempo_despacho  50 non-null     int64 \n",
            "dtypes: int64(4), object(1)\n",
            "memory usage: 2.1+ KB\n"
          ],
          "name": "stdout"
        }
      ]
    },
    {
      "cell_type": "code",
      "metadata": {
        "colab": {
          "base_uri": "https://localhost:8080/"
        },
        "id": "IZmj9gdQSak_",
        "outputId": "afe50ae8-3c68-431c-e58f-cb93bf99d0d4"
      },
      "source": [
        "df_r.columns"
      ],
      "execution_count": null,
      "outputs": [
        {
          "output_type": "execute_result",
          "data": {
            "text/plain": [
              "Index(['Empresa_transp', 'Punto_dist', 'Id_camion', 'cajas_entrega',\n",
              "       'Tiempo_despacho'],\n",
              "      dtype='object')"
            ]
          },
          "metadata": {
            "tags": []
          },
          "execution_count": 9
        }
      ]
    },
    {
      "cell_type": "code",
      "metadata": {
        "colab": {
          "base_uri": "https://localhost:8080/"
        },
        "id": "7GnjXnNFSoB3",
        "outputId": "347a3e97-a13b-476e-c177-04ac39926523"
      },
      "source": [
        "df_r.shape"
      ],
      "execution_count": null,
      "outputs": [
        {
          "output_type": "execute_result",
          "data": {
            "text/plain": [
              "(50, 5)"
            ]
          },
          "metadata": {
            "tags": []
          },
          "execution_count": 13
        }
      ]
    },
    {
      "cell_type": "code",
      "metadata": {
        "colab": {
          "base_uri": "https://localhost:8080/"
        },
        "id": "VNEv0NigTBC6",
        "outputId": "6221f823-ec39-45d8-a81f-0db36c16a971"
      },
      "source": [
        "df_r.info()"
      ],
      "execution_count": null,
      "outputs": [
        {
          "output_type": "stream",
          "text": [
            "<class 'pandas.core.frame.DataFrame'>\n",
            "RangeIndex: 50 entries, 0 to 49\n",
            "Data columns (total 5 columns):\n",
            " #   Column           Non-Null Count  Dtype \n",
            "---  ------           --------------  ----- \n",
            " 0   Empresa_transp   50 non-null     object\n",
            " 1   Punto_dist       50 non-null     int64 \n",
            " 2   Id_camion        50 non-null     int64 \n",
            " 3   cajas_entrega    50 non-null     int64 \n",
            " 4   Tiempo_despacho  50 non-null     int64 \n",
            "dtypes: int64(4), object(1)\n",
            "memory usage: 2.1+ KB\n"
          ],
          "name": "stdout"
        }
      ]
    },
    {
      "cell_type": "code",
      "metadata": {
        "colab": {
          "base_uri": "https://localhost:8080/",
          "height": 297
        },
        "id": "JkBQjo3xTz7w",
        "outputId": "a24217a3-1a50-4068-cc00-8e00a9cb4846"
      },
      "source": [
        "df_a.describe() # resumen de estadística descriptiva (columnas numéricas)"
      ],
      "execution_count": null,
      "outputs": [
        {
          "output_type": "execute_result",
          "data": {
            "text/html": [
              "<div>\n",
              "<style scoped>\n",
              "    .dataframe tbody tr th:only-of-type {\n",
              "        vertical-align: middle;\n",
              "    }\n",
              "\n",
              "    .dataframe tbody tr th {\n",
              "        vertical-align: top;\n",
              "    }\n",
              "\n",
              "    .dataframe thead th {\n",
              "        text-align: right;\n",
              "    }\n",
              "</style>\n",
              "<table border=\"1\" class=\"dataframe\">\n",
              "  <thead>\n",
              "    <tr style=\"text-align: right;\">\n",
              "      <th></th>\n",
              "      <th>Punto_dist</th>\n",
              "      <th>Id_camion</th>\n",
              "      <th>cajas_entrega</th>\n",
              "      <th>Tiempo_despacho</th>\n",
              "    </tr>\n",
              "  </thead>\n",
              "  <tbody>\n",
              "    <tr>\n",
              "      <th>count</th>\n",
              "      <td>50.000000</td>\n",
              "      <td>50.000000</td>\n",
              "      <td>50.000000</td>\n",
              "      <td>50.000000</td>\n",
              "    </tr>\n",
              "    <tr>\n",
              "      <th>mean</th>\n",
              "      <td>13.500000</td>\n",
              "      <td>2.800000</td>\n",
              "      <td>851.740000</td>\n",
              "      <td>30.360000</td>\n",
              "    </tr>\n",
              "    <tr>\n",
              "      <th>std</th>\n",
              "      <td>8.096989</td>\n",
              "      <td>1.340119</td>\n",
              "      <td>629.091207</td>\n",
              "      <td>15.919132</td>\n",
              "    </tr>\n",
              "    <tr>\n",
              "      <th>min</th>\n",
              "      <td>1.000000</td>\n",
              "      <td>1.000000</td>\n",
              "      <td>85.000000</td>\n",
              "      <td>10.000000</td>\n",
              "    </tr>\n",
              "    <tr>\n",
              "      <th>25%</th>\n",
              "      <td>7.000000</td>\n",
              "      <td>2.000000</td>\n",
              "      <td>93.000000</td>\n",
              "      <td>14.000000</td>\n",
              "    </tr>\n",
              "    <tr>\n",
              "      <th>50%</th>\n",
              "      <td>13.000000</td>\n",
              "      <td>3.000000</td>\n",
              "      <td>1277.500000</td>\n",
              "      <td>34.000000</td>\n",
              "    </tr>\n",
              "    <tr>\n",
              "      <th>75%</th>\n",
              "      <td>19.000000</td>\n",
              "      <td>4.000000</td>\n",
              "      <td>1366.750000</td>\n",
              "      <td>42.000000</td>\n",
              "    </tr>\n",
              "    <tr>\n",
              "      <th>max</th>\n",
              "      <td>30.000000</td>\n",
              "      <td>5.000000</td>\n",
              "      <td>1492.000000</td>\n",
              "      <td>55.000000</td>\n",
              "    </tr>\n",
              "  </tbody>\n",
              "</table>\n",
              "</div>"
            ],
            "text/plain": [
              "       Punto_dist  Id_camion  cajas_entrega  Tiempo_despacho\n",
              "count   50.000000  50.000000      50.000000        50.000000\n",
              "mean    13.500000   2.800000     851.740000        30.360000\n",
              "std      8.096989   1.340119     629.091207        15.919132\n",
              "min      1.000000   1.000000      85.000000        10.000000\n",
              "25%      7.000000   2.000000      93.000000        14.000000\n",
              "50%     13.000000   3.000000    1277.500000        34.000000\n",
              "75%     19.000000   4.000000    1366.750000        42.000000\n",
              "max     30.000000   5.000000    1492.000000        55.000000"
            ]
          },
          "metadata": {
            "tags": []
          },
          "execution_count": 17
        }
      ]
    },
    {
      "cell_type": "code",
      "metadata": {
        "colab": {
          "base_uri": "https://localhost:8080/",
          "height": 297
        },
        "id": "ymEOwdsnUFHI",
        "outputId": "b3bc62f0-6dff-4a6f-a156-5b37c1a4a797"
      },
      "source": [
        "df_r.describe()"
      ],
      "execution_count": null,
      "outputs": [
        {
          "output_type": "execute_result",
          "data": {
            "text/html": [
              "<div>\n",
              "<style scoped>\n",
              "    .dataframe tbody tr th:only-of-type {\n",
              "        vertical-align: middle;\n",
              "    }\n",
              "\n",
              "    .dataframe tbody tr th {\n",
              "        vertical-align: top;\n",
              "    }\n",
              "\n",
              "    .dataframe thead th {\n",
              "        text-align: right;\n",
              "    }\n",
              "</style>\n",
              "<table border=\"1\" class=\"dataframe\">\n",
              "  <thead>\n",
              "    <tr style=\"text-align: right;\">\n",
              "      <th></th>\n",
              "      <th>Punto_dist</th>\n",
              "      <th>Id_camion</th>\n",
              "      <th>cajas_entrega</th>\n",
              "      <th>Tiempo_despacho</th>\n",
              "    </tr>\n",
              "  </thead>\n",
              "  <tbody>\n",
              "    <tr>\n",
              "      <th>count</th>\n",
              "      <td>50.000000</td>\n",
              "      <td>50.000000</td>\n",
              "      <td>50.000000</td>\n",
              "      <td>50.000000</td>\n",
              "    </tr>\n",
              "    <tr>\n",
              "      <th>mean</th>\n",
              "      <td>13.500000</td>\n",
              "      <td>2.800000</td>\n",
              "      <td>803.180000</td>\n",
              "      <td>29.760000</td>\n",
              "    </tr>\n",
              "    <tr>\n",
              "      <th>std</th>\n",
              "      <td>8.096989</td>\n",
              "      <td>1.340119</td>\n",
              "      <td>596.052206</td>\n",
              "      <td>15.335114</td>\n",
              "    </tr>\n",
              "    <tr>\n",
              "      <th>min</th>\n",
              "      <td>1.000000</td>\n",
              "      <td>1.000000</td>\n",
              "      <td>81.000000</td>\n",
              "      <td>10.000000</td>\n",
              "    </tr>\n",
              "    <tr>\n",
              "      <th>25%</th>\n",
              "      <td>7.000000</td>\n",
              "      <td>2.000000</td>\n",
              "      <td>86.250000</td>\n",
              "      <td>13.000000</td>\n",
              "    </tr>\n",
              "    <tr>\n",
              "      <th>50%</th>\n",
              "      <td>13.000000</td>\n",
              "      <td>3.000000</td>\n",
              "      <td>1165.000000</td>\n",
              "      <td>34.500000</td>\n",
              "    </tr>\n",
              "    <tr>\n",
              "      <th>75%</th>\n",
              "      <td>19.000000</td>\n",
              "      <td>4.000000</td>\n",
              "      <td>1309.250000</td>\n",
              "      <td>42.000000</td>\n",
              "    </tr>\n",
              "    <tr>\n",
              "      <th>max</th>\n",
              "      <td>30.000000</td>\n",
              "      <td>5.000000</td>\n",
              "      <td>1435.000000</td>\n",
              "      <td>55.000000</td>\n",
              "    </tr>\n",
              "  </tbody>\n",
              "</table>\n",
              "</div>"
            ],
            "text/plain": [
              "       Punto_dist  Id_camion  cajas_entrega  Tiempo_despacho\n",
              "count   50.000000  50.000000      50.000000        50.000000\n",
              "mean    13.500000   2.800000     803.180000        29.760000\n",
              "std      8.096989   1.340119     596.052206        15.335114\n",
              "min      1.000000   1.000000      81.000000        10.000000\n",
              "25%      7.000000   2.000000      86.250000        13.000000\n",
              "50%     13.000000   3.000000    1165.000000        34.500000\n",
              "75%     19.000000   4.000000    1309.250000        42.000000\n",
              "max     30.000000   5.000000    1435.000000        55.000000"
            ]
          },
          "metadata": {
            "tags": []
          },
          "execution_count": 18
        }
      ]
    },
    {
      "cell_type": "code",
      "metadata": {
        "colab": {
          "base_uri": "https://localhost:8080/"
        },
        "id": "Ts0iIKAeUXGU",
        "outputId": "c852392b-72d4-44c8-d379-5617dd30e97c"
      },
      "source": [
        "df_r['Tiempo_despacho']"
      ],
      "execution_count": null,
      "outputs": [
        {
          "output_type": "execute_result",
          "data": {
            "text/plain": [
              "0     38\n",
              "1     48\n",
              "2     42\n",
              "3     34\n",
              "4     51\n",
              "5     37\n",
              "6     54\n",
              "7     35\n",
              "8     40\n",
              "9     42\n",
              "10    34\n",
              "11    35\n",
              "12    45\n",
              "13    35\n",
              "14    50\n",
              "15    34\n",
              "16    34\n",
              "17    38\n",
              "18    55\n",
              "19    50\n",
              "20    42\n",
              "21    41\n",
              "22    35\n",
              "23    32\n",
              "24    44\n",
              "25    43\n",
              "26    38\n",
              "27    54\n",
              "28    44\n",
              "29    37\n",
              "30    11\n",
              "31    10\n",
              "32    15\n",
              "33    11\n",
              "34    11\n",
              "35    14\n",
              "36    11\n",
              "37    15\n",
              "38    12\n",
              "39    13\n",
              "40    14\n",
              "41    12\n",
              "42    12\n",
              "43    10\n",
              "44    10\n",
              "45    11\n",
              "46    14\n",
              "47    13\n",
              "48    15\n",
              "49    13\n",
              "Name: Tiempo_despacho, dtype: int64"
            ]
          },
          "metadata": {
            "tags": []
          },
          "execution_count": 19
        }
      ]
    },
    {
      "cell_type": "code",
      "metadata": {
        "colab": {
          "base_uri": "https://localhost:8080/"
        },
        "id": "lA9PPd0uUyNk",
        "outputId": "1a762a5f-4d76-44f4-834d-30bde275c389"
      },
      "source": [
        "df_a.mean()"
      ],
      "execution_count": null,
      "outputs": [
        {
          "output_type": "execute_result",
          "data": {
            "text/plain": [
              "Punto_dist          13.50\n",
              "Id_camion            2.80\n",
              "cajas_entrega      851.74\n",
              "Tiempo_despacho     30.36\n",
              "dtype: float64"
            ]
          },
          "metadata": {
            "tags": []
          },
          "execution_count": 20
        }
      ]
    },
    {
      "cell_type": "code",
      "metadata": {
        "colab": {
          "base_uri": "https://localhost:8080/"
        },
        "id": "8MFxaroHx5_A",
        "outputId": "be7d3e7a-a88d-4806-808c-850fd622ad36"
      },
      "source": [
        "df_r.mean()"
      ],
      "execution_count": null,
      "outputs": [
        {
          "output_type": "execute_result",
          "data": {
            "text/plain": [
              "Punto_dist          13.50\n",
              "Id_camion            2.80\n",
              "cajas_entrega      803.18\n",
              "Tiempo_despacho     29.76\n",
              "dtype: float64"
            ]
          },
          "metadata": {
            "tags": []
          },
          "execution_count": 29
        }
      ]
    },
    {
      "cell_type": "code",
      "metadata": {
        "colab": {
          "base_uri": "https://localhost:8080/"
        },
        "id": "9lyLtww3x9g9",
        "outputId": "c9b3b05f-676b-44b8-9506-feb4c92f6934"
      },
      "source": [
        "df_a.std()"
      ],
      "execution_count": null,
      "outputs": [
        {
          "output_type": "execute_result",
          "data": {
            "text/plain": [
              "Punto_dist           8.096989\n",
              "Id_camion            1.340119\n",
              "cajas_entrega      629.091207\n",
              "Tiempo_despacho     15.919132\n",
              "dtype: float64"
            ]
          },
          "metadata": {
            "tags": []
          },
          "execution_count": 30
        }
      ]
    },
    {
      "cell_type": "code",
      "metadata": {
        "colab": {
          "base_uri": "https://localhost:8080/"
        },
        "id": "ALYUdqyWyCOM",
        "outputId": "89e4eb6e-441c-49dc-9777-b24c5983560d"
      },
      "source": [
        "df_r.std()"
      ],
      "execution_count": null,
      "outputs": [
        {
          "output_type": "execute_result",
          "data": {
            "text/plain": [
              "Punto_dist           8.096989\n",
              "Id_camion            1.340119\n",
              "cajas_entrega      596.052206\n",
              "Tiempo_despacho     15.335114\n",
              "dtype: float64"
            ]
          },
          "metadata": {
            "tags": []
          },
          "execution_count": 31
        }
      ]
    },
    {
      "cell_type": "code",
      "metadata": {
        "colab": {
          "base_uri": "https://localhost:8080/",
          "height": 282
        },
        "id": "4T2O6NRmVbu2",
        "outputId": "e86dec8f-35ba-4786-cef8-69db178ad560"
      },
      "source": [
        "df_r.plot()"
      ],
      "execution_count": null,
      "outputs": [
        {
          "output_type": "execute_result",
          "data": {
            "text/plain": [
              "<matplotlib.axes._subplots.AxesSubplot at 0x7fbf393f7290>"
            ]
          },
          "metadata": {
            "tags": []
          },
          "execution_count": 21
        },
        {
          "output_type": "display_data",
          "data": {
            "image/png": "[encoded data removed]",
            "text/plain": [
              "<Figure size 432x288 with 1 Axes>"
            ]
          },
          "metadata": {
            "tags": [],
            "needs_background": "light"
          }
        }
      ]
    },
    {
      "cell_type": "code",
      "metadata": {
        "colab": {
          "base_uri": "https://localhost:8080/",
          "height": 298
        },
        "id": "KyfNPZeedi2x",
        "outputId": "70b52854-1256-4101-8cd3-5ccaf4d48421"
      },
      "source": [
        "df_r.plot(x='Empresa_transp')"
      ],
      "execution_count": null,
      "outputs": [
        {
          "output_type": "execute_result",
          "data": {
            "text/plain": [
              "<matplotlib.axes._subplots.AxesSubplot at 0x7fbf392fb950>"
            ]
          },
          "metadata": {
            "tags": []
          },
          "execution_count": 22
        },
        {
          "output_type": "display_data",
          "data": {
            "image/png": "[encoded data removed]",
            "text/plain": [
              "<Figure size 432x288 with 1 Axes>"
            ]
          },
          "metadata": {
            "tags": [],
            "needs_background": "light"
          }
        }
      ]
    },
    {
      "cell_type": "code",
      "metadata": {
        "colab": {
          "base_uri": "https://localhost:8080/",
          "height": 297
        },
        "id": "J1otKvkBdtJO",
        "outputId": "37bd4c8c-dbfe-46d4-eb1e-b576e79e42ca"
      },
      "source": [
        "df_r.plot(x='Punto_dist')"
      ],
      "execution_count": null,
      "outputs": [
        {
          "output_type": "execute_result",
          "data": {
            "text/plain": [
              "<matplotlib.axes._subplots.AxesSubplot at 0x7fbf38deced0>"
            ]
          },
          "metadata": {
            "tags": []
          },
          "execution_count": 23
        },
        {
          "output_type": "display_data",
          "data": {
            "image/png": "[encoded data removed]",
            "text/plain": [
              "<Figure size 432x288 with 1 Axes>"
            ]
          },
          "metadata": {
            "tags": [],
            "needs_background": "light"
          }
        }
      ]
    },
    {
      "cell_type": "code",
      "metadata": {
        "colab": {
          "base_uri": "https://localhost:8080/",
          "height": 297
        },
        "id": "h7zPCAZ6d1sm",
        "outputId": "9f686acc-9540-4de6-b175-b3830feef809"
      },
      "source": [
        "df_a.plot(x='Punto_dist',y='cajas_entrega')"
      ],
      "execution_count": null,
      "outputs": [
        {
          "output_type": "execute_result",
          "data": {
            "text/plain": [
              "<matplotlib.axes._subplots.AxesSubplot at 0x7fbf38d11510>"
            ]
          },
          "metadata": {
            "tags": []
          },
          "execution_count": 24
        },
        {
          "output_type": "display_data",
          "data": {
            "image/png": "[encoded data removed]",
            "text/plain": [
              "<Figure size 432x288 with 1 Axes>"
            ]
          },
          "metadata": {
            "tags": [],
            "needs_background": "light"
          }
        }
      ]
    },
    {
      "cell_type": "code",
      "metadata": {
        "colab": {
          "base_uri": "https://localhost:8080/",
          "height": 297
        },
        "id": "fJh30Q2bd_U7",
        "outputId": "8da05e22-0e66-4963-ce2e-f9f52bb854fb"
      },
      "source": [
        "df_a.plot(x='Punto_dist',y='Tiempo_despacho')"
      ],
      "execution_count": null,
      "outputs": [
        {
          "output_type": "execute_result",
          "data": {
            "text/plain": [
              "<matplotlib.axes._subplots.AxesSubplot at 0x7fbf38cec6d0>"
            ]
          },
          "metadata": {
            "tags": []
          },
          "execution_count": 25
        },
        {
          "output_type": "display_data",
          "data": {
            "image/png": "[encoded data removed]",
            "text/plain": [
              "<Figure size 432x288 with 1 Axes>"
            ]
          },
          "metadata": {
            "tags": [],
            "needs_background": "light"
          }
        }
      ]
    },
    {
      "cell_type": "markdown",
      "metadata": {
        "id": "95tuzGWNzUib"
      },
      "source": [
        "# TAREA OPCIONAL:\n",
        "\n",
        "Seguir practicando con los archivos csv (base de datos) dados para afianzar los usos de Pandas."
      ]
    }
  ]
}
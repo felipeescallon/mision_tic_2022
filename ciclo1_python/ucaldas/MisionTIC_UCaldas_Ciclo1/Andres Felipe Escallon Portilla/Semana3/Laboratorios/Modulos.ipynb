{
  "nbformat": 4,
  "nbformat_minor": 0,
  "metadata": {
    "colab": {
      "name": "Modulos.ipynb",
      "provenance": [],
      "collapsed_sections": []
    },
    "kernelspec": {
      "name": "python3",
      "display_name": "Python 3"
    },
    "language_info": {
      "name": "python"
    }
  },
  "cells": [
    {
      "cell_type": "markdown",
      "metadata": {
        "id": "biub9nUgZOKu"
      },
      "source": [
        "# Laboratorio 3.1\n",
        "\n",
        "*Elaborado por Oscar Franco-Bedoya*\n",
        "\n",
        "*`Proyecto Mision TIC 2021*\n",
        "\n",
        "\n",
        "## Objetivo\n",
        "Aplicar el concepto de modulos mediante la impementación de programas que utilizan librerias de Python como math y random.\n",
        "\n",
        "## La calculadora de Trigo\n",
        "### Contexto\n",
        "El profesor de matemáticas del colegio de la esquina ha decidido desarrollar un programa en Python que realiza las operaciones trigonométricas y así,  ayudar a sus estudiantes olvidadizos que olvidan traer su Calculadora científica para la clase:\n",
        "\n",
        "Las operaciones que desea realizar son\n",
        "-  Seno(a)\n",
        "-  Coseno(a)\n",
        "-  Tangente(a)\n",
        "-  Cotangente(a)\n",
        "-  Arcoseno(a)\n",
        "-  Arcocoseno(x)\n",
        "-  Arcotangente(x)\n",
        "\n",
        "x es un angulo en grados\n",
        "\n",
        "Como el profesor sabe de funciones en programación y entiende la importancia de la programación modular, ha decidido implementar la aplicación utilizando funciones\n"
      ]
    },
    {
      "cell_type": "code",
      "metadata": {
        "id": "dWT7C-5kcxkp"
      },
      "source": [
        "\"\"\" Laboratorio 3.1 La calculadora de Trigo \n",
        "    Oscar Franco-Bedoya\n",
        "    Mayo 10-2021 \"\"\"\n",
        "\n",
        "# Importar modulos/librerias\n",
        "import math as m\n",
        "\n",
        "# Definición de Funciones (Dividir)\n",
        "def calcular_seno(angulo_grados):\n",
        "  \"\"\" \n",
        "  Parameters\n",
        "  ----------\n",
        "  nangulo_grados:float\n",
        "     un numero entre 0  y 360 que representa un ángulo en graados\n",
        "  -------\n",
        "  Return\n",
        "  seno:float\n",
        "    el seno del angulo_grados   \n",
        "  \"\"\"  \n",
        "  seno= m.sin(m.radians(angulo_grados))\n",
        "  return seno\n",
        "\n",
        "#TODO: Ayudar al profe con las demás funciones\n",
        "\"\"\"\n",
        "-  calcular_coseno(angulo_grados)\n",
        "-  calcular_tangente(angulo_grados)\n",
        "-  calcular_cotangente(angulo_grados)\n",
        "-  calcular_arcoseno(angulo_grados)\n",
        "-  calcular_arcocoseno(angulo_grados)\n",
        "-  calcular_arcotangente(angulo_grados)\n",
        "\"\"\"\n",
        "\n",
        "#======================================================================\n",
        "#   Algoritmo principal Punto de entrada a la aplicación (Conquistar)\n",
        "# =====================================================================\n",
        "\n",
        "#lectura angulo\n",
        "angulo_g=float(input(\"Ingresa un ángulo entre 0 y 360 \"))\n",
        "r_seno=calcular_seno(angulo_g)\n",
        "print(\"Seno(\",angulo_g,\")=\",r_seno)"
      ],
      "execution_count": null,
      "outputs": []
    },
    {
      "cell_type": "markdown",
      "metadata": {
        "id": "C5-azyvVjiuC"
      },
      "source": [
        "## La raiz 4\n",
        "Nos han pedido un pequeño programa que calcule la raíz cuarta de un número. No se diga más, ¡a escribirlo en la siguiente celda de código!\n",
        "\n",
        "<details>\n",
        "<summary>Dale a la flecha si necesitas una pista</summary>\n",
        "<pre><code>\n",
        "Afortunadamente tenemos la lista de funciones de math\n",
        "<a href=\"https://docs.python.org/3/library/math.html\">Modulo math</a>\n",
        "Solo sera buscar la funcion respectiva ¿O no?\n",
        "<code><pre>\n",
        "</details>\n",
        "\n",
        "<details>\n",
        "<summary>Dale a la flecha si necesitas AUN MAS AYUDA</summary>\n",
        "<pre><code>\n",
        "Por ahi dicen que la raiz cuarta es la raiz cuadrada de la raiz cuadrada :\n",
        "<code><pre>\n",
        "</details>"
      ]
    },
    {
      "cell_type": "code",
      "metadata": {
        "id": "MhlfmYAugTHo"
      },
      "source": [
        "import math as m\n",
        "\n",
        "valor=float(input(\"Ingresa un numero \"))\n",
        "#raiz_cuarta=m.sqrt(?()) #TODO: completar el código\n"
      ],
      "execution_count": null,
      "outputs": []
    },
    {
      "cell_type": "markdown",
      "metadata": {
        "id": "wG5zN6mtmie5"
      },
      "source": [
        "## La raiz n\n",
        "Debido al éxito arrollador del programa que calcula la raíz cuarta, nos han pedido un programa que calcule cualquier raíz n (n número entero) para un numero dado.\n",
        "\n",
        "<details>\n",
        "<summary>Dale a la flecha si necesitas una pista</summary>\n",
        "<pre><code>\n",
        "La raiz nesima de X es igual a X elevado a la 1/n \n",
        "<code><pre>\n",
        "</details>"
      ]
    },
    {
      "cell_type": "code",
      "metadata": {
        "id": "GeeWnltUndFN"
      },
      "source": [
        "import math as m\n",
        "\n",
        "valor=float(input(\"Ingresa un numero \"))\n",
        "raiz=int(input(\"Ingresa la raiz que quieres calcular \"))\n",
        "#raiz_n=  #TODO: completar el código"
      ],
      "execution_count": null,
      "outputs": []
    },
    {
      "cell_type": "markdown",
      "metadata": {
        "id": "4PRJiceFYp1l"
      },
      "source": [
        "## Juego de Dados\n",
        "Vamos a realizar una función que simula el lanzamiento de un dado de 6 caras. Para ello se debe utilizar un modulo de Python llamado [random.py](https://docs.python.org/3/library/random.html) Dale clic para ver sus funciones.\n",
        "\n",
        "  "
      ]
    },
    {
      "cell_type": "code",
      "metadata": {
        "id": "HCIyUc26ZRyQ"
      },
      "source": [
        "\"\"\" Laboratorio 3.1 Lanzamiento de dados \n",
        "    Oscar Franco-Bedoya\n",
        "    Mayo 10-2021 \"\"\"\n",
        "\n",
        "# Importar modulos/librerias\n",
        "\n",
        "#TODO: 1) Que debo importar aqui\n",
        "\n",
        "# Definición de Funciones (Dividir)\n",
        "def lanzar_dado():\n",
        "  #TODO: 2) Terminar la función\n",
        " \n",
        "#======================================================================\n",
        "#   Algoritmo principal Punto de entrada a la aplicación (Conquistar)\n",
        "# =====================================================================\n",
        "\n",
        "#TODO: 3) Programa principal\n"
      ],
      "execution_count": null,
      "outputs": []
    },
    {
      "cell_type": "markdown",
      "metadata": {
        "id": "0T7ocoqoanYe"
      },
      "source": [
        "<details>\n",
        "<summary>Dale a la flecha si necesitas una pista</summary>\n",
        "<pre><code>\n",
        "1) para importar un modulo se usa la palabra import seguida del  nombre del módulo\n",
        "2) la función que genera un numero aleatorio es random.randint(1, 6)\n",
        "3) Solo llama a la fución lanzar_dado()\n",
        "\n",
        "<code><pre>\n",
        "</details>"
      ]
    },
    {
      "cell_type": "markdown",
      "metadata": {
        "id": "oaQy_yQQbOEY"
      },
      "source": [
        "## Dos dados\n",
        "Para hacer el juego mas interesante modifique el programa para que simule el lanzamiento de dos dados\n",
        "### NOTA\n",
        "No deben definirse mas funciones, solo modifique el programa principal \n",
        "\n",
        "<details>\n",
        "<summary>Dale a la flecha si necesitas una pista</summary>\n",
        "<pre><code>\n",
        "Recuerda que una función puede llamarse varias veces\n",
        "<code><pre>\n",
        "</details>"
      ]
    },
    {
      "cell_type": "code",
      "metadata": {
        "id": "io_YkS6ddEp2"
      },
      "source": [
        "\"\"\" Laboratorio 3.1 Lanzamiento de DOS dados \n",
        "    Oscar Franco-Bedoya\n",
        "    Mayo 10-2021 \"\"\"\n",
        "#TODO: Copiar y pegar el anterior programa y cambiar el programa principal"
      ],
      "execution_count": null,
      "outputs": []
    },
    {
      "cell_type": "markdown",
      "metadata": {
        "id": "Ch_F5aGgeUFS"
      },
      "source": [
        "---\n",
        "\n",
        "FINAL LABORATORIO\n",
        "\n",
        "---"
      ]
    }
  ]
}
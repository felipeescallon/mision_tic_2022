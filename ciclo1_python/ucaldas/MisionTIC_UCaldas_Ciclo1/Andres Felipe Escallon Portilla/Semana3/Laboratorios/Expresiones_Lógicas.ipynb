{
  "nbformat": 4,
  "nbformat_minor": 0,
  "metadata": {
    "colab": {
      "name": "Expresiones Lógicas.ipynb",
      "provenance": [],
      "collapsed_sections": [
        "7MeapGWBcH00"
      ]
    },
    "kernelspec": {
      "name": "python3",
      "display_name": "Python 3"
    },
    "language_info": {
      "name": "python"
    }
  },
  "cells": [
    {
      "cell_type": "markdown",
      "metadata": {
        "id": "R-Jx3mmXXcj_"
      },
      "source": [
        "# Laboratorio 3.3\n",
        "\n",
        "*Elaborado por Oscar Franco-Bedoya*\n",
        "\n",
        "*`Proyecto Mision TIC 2021*\n",
        "\n",
        "\n",
        "## Objetivo\n",
        "Aplicar el concepto de condicionales en cascada ya que es una estructura de control de flujo bastante utilizada en programación.\n",
        "\n",
        "\n",
        "Sintaxis:\n",
        "\n",
        "    if <condition>:\n",
        "        <code block>\n",
        "    elif <condition>:\n",
        "        <code block>\n",
        "    elif <condition>:\n",
        "        <code block>\n",
        "    else:\n",
        "        <code block>\n",
        "\n",
        "+ `<condition>`: expresión lógica que puede ser evaluada Verdadera o Falsa.\n",
        "+ `<code block>`: secuencia de instrucciones.\n",
        "+  `elif` y `else` son opcionales y se pueden tener varios elif pero solo un else\n",
        "+ Parentheses se usan solo para clarificar la condición si es necesario\n",
        "\n",
        "## Sensor de temperatura\n",
        "Dados los cambios bruscos de temperatura que se registran, se desea una aplicación que dada la temperatura actual presente un mensaje de acuerdo a la siguiente escala\n",
        "+  entre -5 y 5 Congelados\n",
        "+  entre 6 y 13 Frios\n",
        "+  entre 16 y 24 Templados\n",
        "+  entre 25 y 35 Acalorados\n",
        "+  mayor a 35 Evaporados \n"
      ]
    },
    {
      "cell_type": "code",
      "metadata": {
        "id": "HzhgglzhZYsw"
      },
      "source": [
        "\"\"\" Laboratorio 3.3 Sensor de temperatura\n",
        "    Oscar Franco-Bedoya\n",
        "    Mayo 10-2021 \n",
        "\"\"\"\n",
        "\n",
        "\n",
        "# Definición de Funciones (Dividir)\n",
        "def clasificador_temperatura(temperatura):\n",
        "  \"\"\" \n",
        "  Parameters\n",
        "  ----------\n",
        "  temperatura:int\n",
        "     un numero entero con la temperatura a clasificar \n",
        "  -------\n",
        "  Return\n",
        "  -------\n",
        "     msg :str\n",
        "         retorna una cadena con el mensaje adecuado   \n",
        "  \"\"\"  \n",
        "  msg=\"\"\n",
        "\n",
        "  #TODO:  Codificar aqui\n",
        "\n",
        "  return msg\n",
        "\n",
        "#======================================================================\n",
        "#   Algoritmo principal Punto de entrada a la aplicación (Conquistar)\n",
        "# =====================================================================\n",
        "\n",
        "#lectura de la temperatura\n",
        "\n",
        "#TODO:  Codificar aqui\n"
      ],
      "execution_count": null,
      "outputs": []
    },
    {
      "cell_type": "markdown",
      "metadata": {
        "id": "OU5rnpZ5a2ov"
      },
      "source": [
        "<details>\n",
        "<summary>Dale a la flecha si necesitas una pista**</**summary>\n",
        "<pre><code>\n",
        "Recuerda la sintaxis de los condicionales en cascada\n",
        "    if <condition>:\n",
        "        codigo \n",
        "    elif <condition>:\n",
        "        codigo \n",
        "    elif <condition>:\n",
        "        codigo\n",
        "    else:\n",
        "        codigo  \n",
        "<code><pre>\n",
        "</details>"
      ]
    },
    {
      "cell_type": "markdown",
      "metadata": {
        "id": "CsKUfRHxnzQQ"
      },
      "source": [
        "<details>\n",
        "<summary>Dale a la flecha si necesitas una pista**</**summary>\n",
        "<pre><code>\n",
        "Recuerda validar que la hora este en el rango correcto  \n",
        "<code><pre>\n",
        "</details>\n",
        "\n"
      ]
    },
    {
      "cell_type": "markdown",
      "metadata": {
        "id": "7MeapGWBcH00"
      },
      "source": [
        "## Saludando \n",
        "No hay nada mejor que recibir un buen saludo a cualquier hora del día, vamos a realizar un programa saludador, al que le ingresemos la hora del día en formato militar, es decir desde la 1 hasta las 24 y retorne el saludo de acuerdo  la hora, es decir:\n",
        "+  de 24 a 11 el saludo es  **Buenos dias**\n",
        "+  de 12 a 17 el saludo es  **Buenas tardes**\n",
        "+  de 18 a 23 el saludo es  **Buenas noches**\n"
      ]
    },
    {
      "cell_type": "code",
      "metadata": {
        "id": "TKmA1YH_neeS"
      },
      "source": [
        "\"\"\" Laboratorio 3.3 Salulador\n",
        "    Oscar Franco-Bedoya\n",
        "    Mayo 10-2021 \n",
        "\"\"\"\n",
        "# Definición de Funciones (Dividir)\n",
        "#TODO: 1) Implementa la funcion aqui\n",
        "\n",
        "\n",
        "#======================================================================\n",
        "#   Algoritmo principal Punto de entrada a la aplicación (Conquistar)\n",
        "# =====================================================================\n",
        "\n",
        "#lectura de la hora\n",
        "\n",
        "#TODO:  Codificar aqui\n",
        "\n"
      ],
      "execution_count": null,
      "outputs": []
    },
    {
      "cell_type": "markdown",
      "metadata": {
        "id": "7FDRo59Io2Cf"
      },
      "source": [
        "## Otro error :-(\n",
        "  El siguiente código presenta un error, ¿Puedes detectarlo y corregirlo?"
      ]
    },
    {
      "cell_type": "code",
      "metadata": {
        "id": "3ZPR2BcSpDPJ"
      },
      "source": [
        "nombre_estudiante = input(\"Ingresa tu nombre: \").capitalize()\n",
        "if nombre_estudiante.startswith(\"F\"):\n",
        "    print(nombre_estudiante,\"Felicidades, los nombres que inician con 'F' salen mas temprano hoy!\")\n",
        "elif nombre_estudiante.startswith(\"G\")\n",
        "    print(nombre_estudiante,\"Felicidades, los nombres que inician con 'G' salen 15 minutos antes hoy!\")\n",
        "else:\n",
        "    print(nombre_estudiante, \"usted se queda hasta las 6pm.\")"
      ],
      "execution_count": null,
      "outputs": []
    },
    {
      "cell_type": "markdown",
      "metadata": {
        "id": "UqsoLyF7en_T"
      },
      "source": [
        "---\n",
        "FIN LABORATORIO\n",
        "---\n",
        "\n"
      ]
    }
  ]
}